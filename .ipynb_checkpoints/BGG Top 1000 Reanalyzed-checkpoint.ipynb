{
 "metadata": {
  "name": "",
  "signature": "sha256:d4b7cbe456f7166130268848269f449394bca856f8a5fb0e4bdc464249208db4"
 },
 "nbformat": 3,
 "nbformat_minor": 0,
 "worksheets": [
  {
   "cells": [
    {
     "cell_type": "heading",
     "level": 1,
     "metadata": {},
     "source": [
      "Dependecies:\n",
      "\n",
      "* Python 3.4\n",
      "* BeautifulSoup\n",
      "* requests\n",
      "* pandas\n",
      "* statsmodels"
     ]
    },
    {
     "cell_type": "code",
     "collapsed": false,
     "input": [
      "from bs4 import BeautifulSoup\n",
      "import requests\n",
      "import xml.etree.ElementTree as ElementTree\n",
      "import numpy as np\n",
      "import pandas as pd\n",
      "import statsmodels.api as sm"
     ],
     "language": "python",
     "metadata": {},
     "outputs": [],
     "prompt_number": 1
    },
    {
     "cell_type": "code",
     "collapsed": false,
     "input": [
      "N_GAMES = 1000\n",
      "N_GAMES_PER_PAGE = 100\n",
      "BROWSE_URL_BASE = 'http://www.boardgamegeek.com/browse/boardgame/page/'"
     ],
     "language": "python",
     "metadata": {},
     "outputs": [],
     "prompt_number": 4
    },
    {
     "cell_type": "code",
     "collapsed": false,
     "input": [
      "def get_top_games(ngames=N_GAMES):\n",
      "    \"\"\"Download the 'ngames' highest ranked games from BGG.\n",
      "    \"\"\"\n",
      "\n",
      "    # round to nearest 100\n",
      "    ngames = round(ngames, -2)\n",
      "    # number of pages to scrape\n",
      "    npages = ngames // N_GAMES_PER_PAGE\n",
      "\n",
      "    games = []\n",
      "    for pp in range(1, npages + 1):\n",
      "        print(\"Reading page {0} / {1}\".format(pp, npages))\n",
      "        url = BROWSE_URL_BASE + str(pp)\n",
      "        page = requests.get(url, timeout=60)\n",
      "        soup = BeautifulSoup(page.content)\n",
      "        # items are found by 'id=results_objectname*' attribute in 'div' tag\n",
      "        cntr = 1\n",
      "        for _ in range(N_GAMES_PER_PAGE):\n",
      "            item = soup.find('div', {'id': 'results_objectname' + str(cntr)})\n",
      "            if item:\n",
      "                title = item.a.contents[0]\n",
      "                try:\n",
      "                    year = item.span.contents[0][1:-1]\n",
      "                except AttributeError:\n",
      "                    year = np.NaN\n",
      "                games.append((title, year))\n",
      "                cntr += 1\n",
      "    return games\n",
      "\n",
      "topgames = get_top_games()\n",
      "print(\"{0} games found: {1}\".format(len(topgames), topgames))"
     ],
     "language": "python",
     "metadata": {},
     "outputs": [
      {
       "output_type": "stream",
       "stream": "stdout",
       "text": [
        "Reading page 1 / 10\n",
        "Reading page 2 / 10"
       ]
      },
      {
       "output_type": "stream",
       "stream": "stdout",
       "text": [
        "\n",
        "Reading page 3 / 10"
       ]
      },
      {
       "output_type": "stream",
       "stream": "stdout",
       "text": [
        "\n",
        "Reading page 4 / 10"
       ]
      },
      {
       "output_type": "stream",
       "stream": "stdout",
       "text": [
        "\n",
        "Reading page 5 / 10"
       ]
      },
      {
       "output_type": "stream",
       "stream": "stdout",
       "text": [
        "\n",
        "Reading page 6 / 10"
       ]
      },
      {
       "output_type": "stream",
       "stream": "stdout",
       "text": [
        "\n",
        "Reading page 7 / 10"
       ]
      },
      {
       "output_type": "stream",
       "stream": "stdout",
       "text": [
        "\n",
        "Reading page 8 / 10"
       ]
      },
      {
       "output_type": "stream",
       "stream": "stdout",
       "text": [
        "\n",
        "Reading page 9 / 10"
       ]
      },
      {
       "output_type": "stream",
       "stream": "stdout",
       "text": [
        "\n",
        "Reading page 10 / 10"
       ]
      },
      {
       "output_type": "stream",
       "stream": "stdout",
       "text": [
        "\n",
        "1000 games found: [('Twilight Struggle', '2005'), ('Through the Ages: A Story of Civilization', '2006'), ('Agricola', '2007'), ('Terra Mystica', '2012'), ('Puerto Rico', '2002'), ('Android: Netrunner', '2012'), ('Caverna: The Cave Farmers', '2013'), ('Eclipse', '2011'), ('Power Grid', '2004'), ('Mage Knight Board Game', '2011'), ('The Castles of Burgundy', '2011'), ('Le Havre', '2008'), ('Robinson Crusoe: Adventure on the Cursed Island', '2012'), ('Brass', '2007'), (\"Tzolk'in: The Mayan Calendar\", '2012'), ('War of the Ring (second edition)', '2012'), ('Caylus', '2005'), ('7 Wonders', '2010'), ('Dominion: Intrigue', '2009'), ('Dominant Species', '2010'), ('Dominion', '2008'), ('El Grande', '1995'), ('Star Wars: X-Wing Miniatures Game', '2012'), ('Race for the Galaxy', '2007'), ('Mage Wars', '2012'), ('Battlestar Galactica', '2008'), ('Lords of Waterdeep', '2012'), ('The Resistance: Avalon', '2012'), ('Twilight Imperium (Third Edition)', '2005'), ('Tigris & Euphrates', '1997'), ('Eldritch Horror', '2013'), ('War of the Ring (first edition)', '2004'), ('Descent: Journeys in the Dark (Second Edition)', '2012'), ('A Game of Thrones: The Board Game (Second Edition)', '2011'), ('Keyflower', '2012'), ('Ora et Labora', '2011'), ('Trajan', '2011'), ('Crokinole', '1867'), ('Commands & Colors: Ancients', '2006'), ('Nations', '2013'), ('Paths of Glory', '1999'), ('Steam', '2009'), ('Stone Age', '2008'), ('Pandemic', '2008'), ('Russian Railroads', '2013'), ('Goa', '2004'), ('Combat Commander: Europe', '2006'), ('Summoner Wars: Master Set', '2011'), ('Troyes', '2010'), ('Age of Steam', '2002'), ('Railways of the World', '2005'), ('The Princes of Florence', '2000'), ('Suburbia', '2012'), ('Pathfinder Adventure Card Game: Rise of the Runelords \u2013 Base Set', '2013'), ('Chaos in the Old World', '2009'), ('Tichu', '1991'), ('Hannibal: Rome vs. Carthage', '1996'), ('Go', '-2200'), ('Runewars', '2010'), ('Here I Stand', '2006'), ('Ticket to Ride: Europe', '2005'), ('Imperial', '2006'), ('Age of Empires III: The Age of Discovery', '2007'), ('Space Alert', '2008'), ('Village', '2011'), ('Hansa Teutonica', '2009'), ('Shogun', '2006'), ('The Lord of the Rings: The Card Game', '2011'), (\"Sid Meier's Civilization: The Board Game\", '2010'), ('Ticket to Ride: Nordic Countries', '2007'), ('Lewis & Clark', '2013'), ('Galaxy Trucker', '2007'), ('Cosmic Encounter', '2008'), ('Ticket to Ride', '2004'), ('Die Macher', '1986'), ('Kemet', '2012'), ('The Resistance', '2009'), ('Blood Bowl: Living Rulebook', '2004'), ('Glory to Rome', '2005'), (\"Memoir '44\", '2004'), ('Ra', '1999'), ('Imperial 2030', '2009'), ('Mice and Mystics', '2012'), ('Navegador', '2010'), ('King of Tokyo', '2011'), ('Claustrophobia', '2009'), ('Love Letter', '2012'), ('YINSH', '2003'), ('Earth Reborn', '2010'), ('Small World', '2009'), ('Bora Bora', '2013'), ('1960: The Making of the President', '2007'), ('Alien Frontiers', '2010'), ('1830: Railways & Robber Barons', '1986'), ('Dungeon Petz', '2011'), ('Dungeon Lords', '2009'), ('Sentinels of the Multiverse', '2011'), ('Space Hulk (third edition)', '2009'), ('Advanced Squad Leader', '1985'), ('Dixit Odyssey', '2011'), ('Risk Legacy', '2011'), ('Carcassonne', '2000'), ('Dixit', '2008'), ('Cyclades', '2009'), ('Agricola:  All Creatures Big and Small', '2012'), ('Jaipur', '2009'), ('Endeavor', '2009'), ('Legendary: A Marvel Deck Building Game', '2012'), ('Arkham Horror', '2005'), ('Samurai', '1998'), ('Seasons', '2012'), ('Dune', '1979'), ('Hanabi', '2010'), ('Antiquity', '2004'), ('Civilization', '1980'), ('A Few Acres of Snow', '2011'), ('Battle Line', '2000'), ('In the Year of the Dragon', '2007'), ('Concordia', '2013'), ('Magic: The Gathering', '1993'), ('BattleLore', '2006'), ('Zombicide', '2012'), ('Notre Dame', '2007'), ('Merchants & Marauders', '2010'), ('Letters from Whitechapel', '2011'), ('Acquire', '1964'), ('Hive', '2001'), ('Ghost Stories', '2008'), ('The Settlers of Catan', '1995'), ('Mansions of Madness', '2011'), ('Indonesia', '2005'), ('Flash Point: Fire Rescue', '2011'), ('Clash of Cultures', '2012'), ('Descent: Journeys in the Dark', '2005'), ('Macao', '2009'), ('Hammer of the Scots', '2002'), ('Tikal', '1999'), ('Blood Bowl (Third Edition)', '1994'), ('Wallenstein (first edition)', '2002'), ('London', '2010'), ('The Manhattan Project', '2012'), ('Splendor', '2014'), ('Saint Petersburg', '2004'), ('Amun-Re', '2003'), ('Thunderstone Advance: Towers of Ruin', '2012'), ('Blood Bowl: Team Manager \u2013 The Card Game', '2011'), ('Ticket to Ride: M\u00e4rklin', '2006'), ('Small World Underground', '2011'), (\"Napoleon's Triumph\", '2007'), ('Lancaster', '2011'), ('Forbidden Desert', '2013'), ('San Juan', '2004'), ('Maria', '2009'), ('Sekigahara: The Unification of Japan', '2011'), ('Struggle of Empires', '2004'), ('Fresco', '2010'), ('Bruges', '2013'), ('Egizia', '2009'), ('Roads & Boats', '1999'), ('Conflict of Heroes: Awakening the Bear! \u2013 Russia 1941-42', '2008'), ('Modern Art', '1992'), ('Up Front', '1983'), ('Combat Commander: Pacific', '2008'), ('Taj Mahal', '2000'), ('Neuroshima Hex!', '2006'), ('The Pillars of the Earth', '2006'), ('Survive: Escape from Atlantis!', '1982'), ('Takenoko', '2011'), ('A Game of Thrones (first edition)', '2003'), ('Automobile', '2009'), ('Star Wars: The Card Game', '2012'), ('Vinhos', '2010'), ('Summoner Wars', '2009'), ('Sherlock Holmes Consulting Detective', '1981'), ('At the Gates of Loyang', '2009'), ('Heroscape Master Set: Rise of the Valkyrie', '2004'), ('The Republic of Rome', '1990'), ('Glen More', '2010'), ('1989: Dawn of Freedom', '2012'), ('Commands & Colors: Napoleonics', '2010'), ('Innovation', '2010'), ('Labyrinth: The War on Terror, 2001-?', '2010'), ('Kingsburg', '2007'), ('Ingenious', '2004'), ('Citadels', '2000'), ('Star Realms', '2013'), ('Star Trek: Fleet Captains', '2011'), ('Airlines Europe', '2011'), ('Spartacus: A Game of Blood & Treachery', '2012'), ('Belfort', '2011'), ('RoboRally', '1994'), ('Telestrations', '2009'), ('Vikings', '2007'), ('Carson City', '2009'), ('Defenders of the Realm', '2010'), ('Advanced Squad Leader: Starter Kit #1', '2004'), ('Nexus Ops', '2005'), ('For Sale', '1997'), ('Summoner Wars: Guild Dwarves vs Cave Goblins', '2009'), (\"Time's Up!\", '1999'), ('DVONN', '2001'), (\"Washington's War\", '2010'), ('Trains', '2012'), ('Age of Industry', '2010'), ('StarCraft: The Board Game', '2007'), ('Summoner Wars: Phoenix Elves vs Tundra Orcs', '2009'), ('Warhammer: Invasion', '2009'), ('Coup', '2012'), ('Glass Road', '2013'), ('TZAAR', '2007'), ('Targi', '2012'), ('Gears of War: The Board Game', '2011'), ('Tales of the Arabian Nights', '2009'), ('Chicago Express', '2007'), ('Thunderstone: Dragonspire', '2011'), ('Space Hulk', '1989'), ('Last Will', '2011'), (\"Time's Up! Title Recall!\", '2008'), (\"Tinners' Trail\", '2008'), ('Conflict of Heroes: Storms of Steel! \u2013 Kursk 1943', '2009'), ('Marvel Dice Masters: Avengers vs. X-Men', '2014'), ('Cuba', '2007'), ('Friday', '2011'), ('Thurn and Taxis', '2006'), ('PitchCar', '1995'), ('Friedrich', '2004'), ('Archipelago', '2012'), ('Dungeons & Dragons: The Legend of Drizzt Board Game', '2011'), ('Escape: The Curse of the Temple', '2012'), ('Fury of Dracula', '2005'), ('Middle-Earth Quest', '2009'), ('Lord of the Rings: The Confrontation', '2002'), ('Thebes', '2007'), ('Vegas Showdown', '2005'), ('Vasco da Gama', '2009'), ('Homesteaders', '2009'), ('Ginkgopolis', '2012'), ('BattleLore (Second Edition)', '2013'), ('Shadows over Camelot', '2005'), ('Genoa', '2001'), ('Libertalia', '2012'), ('Lost Cities', '1999'), ('Euphoria: Build a Better Dystopia', '2013'), ('Bridge', '1925'), ('Union Pacific', '1999'), ('Dixit: Journey', '2012'), ('Yspahan', '2006'), ('Legends of Andor', '2012'), ('Smash Up: Awesome Level 9000', '2013'), ('Torres', '1999'), ('Mr. Jack', '2006'), ('Amerigo', '2013'), ('Ascension: Storm of Souls', '2011'), ('Tribune: Primus Inter Pares', '2007'), ('Stronghold', '2009'), ('Carcassonne: Hunters and Gatherers', '2002'), ('Heroscape Master Set: Swarm of the Marro', '2007'), ('Bohnanza', '1997'), ('Myrmes', '2012'), ('Luna', '2010'), ('Web of Power', '2000'), ('Reef Encounter', '2004'), ('Bruxelles 1893', '2013'), ('Formula D', '2008'), ('World Without End', '2009'), ('Snowdonia', '2012'), ('Squad Leader', '1977'), ('Colosseum', '2007'), ('Z\u00c8RTZ', '1999'), ('BattleCON: Devastation of Indines', '2013'), ('Ascension: Return of the Fallen', '2011'), ('Last Night on Earth: The Zombie Game', '2007'), ('Battles of Westeros', '2010'), ('Firefly: The Game', '2013'), ('Through the Desert', '1998'), ('K2', '2010'), ('Thunderstone', '2009'), ('Tobago', '2009'), (\"Star Wars: The Queen's Gambit\", '2000'), ('Eminent Domain', '2011'), ('Maharaja: The Game of Palace Building in India', '2004'), ('Virgin Queen', '2012'), ('Netrunner', '1996'), ('Jambo', '2004'), ('Spyrium', '2013'), ('Taluva', '2006'), ('San Marco', '2001'), ('Princes of the Renaissance', '2003'), ('Louis XIV', '2005'), ('Kingdom Builder', '2011'), ('Dungeons & Dragons: Wrath of Ashardalon Board Game', '2011'), ('Alhambra', '2003'), ('1775: Rebellion', '2013'), ('One Night Ultimate Werewolf', '2014'), ('D-Day at Omaha Beach', '2009'), ('The Downfall of Pompeii', '2004'), ('Chess', '1475'), ('Space Empires: 4X', '2011'), ('Britannia', '1986'), ('Carcassonne: The City', '2004'), ('Core Worlds', '2011'), ('Santiago', '2003'), ('Ascension: Chronicle of the Godslayer', '2010'), ('La Citt\u00e0', '2000'), ('Tide of Iron', '2007'), ('A Game of Thrones: The Card Game', '2008'), ('Ultimate Werewolf: Ultimate Edition', '2008'), ('Hawaii', '2011'), ('Wilderness War', '2001'), ('Antike', '2005'), ('Discworld: Ankh-Morpork', '2011'), ('Blokus', '2000'), ('Medici', '1995'), ('Mr. Jack in New York', '2009'), ('Chinatown', '1999'), ('Blue Moon City', '2006'), ('Dream Factory', '2000'), ('Diplomacy', '1959'), ('Vinci', '1999'), ('Shipyard', '2009'), ('Istanbul', '2014'), ('Biblios', '2007'), ('No Thanks!', '2004'), ('Wits & Wagers', '2005'), ('Carcassonne: The Castle', '2003'), ('Ninjato', '2011'), ('Schotten-Totten', '1999'), ('No Retreat! The Russian Front', '2011'), ('Francis Drake', '2013'), ('Coloretto', '2003'), ('Yedo', '2012'), ('Yomi', '2011'), ('Elder Sign', '2011'), ('Rex: Final Days of an Empire', '2012'), ('Betrayal at House on the Hill', '2004'), ('CO\u2082', '2012'), ('Rococo', '2013'), ('Merchant of Venus (second edition)', '2012'), ('Battle Cry', '2000'), ('Attika', '2003'), ('History of the World', '1991'), ('Roll Through the Ages: The Bronze Age', '2008'), ('Wiz-War (eighth edition)', '2012'), ('Manoeuvre', '2008'), ('Planet Steam', '2008'), ('Advanced Squad Leader: Starter Kit #2', '2005'), ('Zombicide Season 2: Prison Outbreak', '2013'), ('Finca', '2009'), ('Forbidden Island', '2010'), ('The Speicherstadt', '2010'), ('China', '2005'), ('Polis: Fight for the Hegemony', '2012'), ('Formula D\u00e9', '1991'), ('Madeira', '2013'), ('Rampage', '2013'), (\"Loopin' Louie\", '1992'), ('Freedom: The Underground Railroad', '2012'), ('Keythedral', '2002'), ('Legacy: The Testament of Duke de Crecy', '2013'), ('Lords of Vegas', '2010'), ('Vanuatu', '2011'), (\"The Werewolves of Miller's Hollow\", '2001'), ('Quarriors!', '2011'), ('1812: The Invasion of Canada', '2012'), (\"Liar's Dice\", '1987'), ('Quantum', '2013'), ('Eat Poop You Cat', '1984'), ('Dungeons & Dragons: Castle Ravenloft Board Game', '2010'), ('Merchant of Venus', '1988'), ('Container', '2007'), ('Smash Up', '2012'), ('Caylus Magna Carta', '2007'), ('Yggdrasil', '2011'), ('Catacombs', '2010'), ('Tammany Hall', '2007'), ('Domaine', '2003'), ('Haggis', '2010'), ('Primordial Soup', '1997'), ('Libert\u00e9', '2001'), ('Andean Abyss', '2012'), ('Julius Caesar', '2010'), ('Mahjong', '1850'), ('The New Era', '2011'), ('Morels', '2012'), ('Mr. Jack Pocket', '2010'), ('Space Hulk: Death Angel \u2013 The Card Game', '2010'), ('Warhammer Quest', '1995'), ('Zooloretto', '2007'), ('Hamburgum', '2007'), ('Metropolys', '2008'), ('Power Grid: Factory Manager', '2009'), ('Ascending Empires', '2011'), ('Europe Engulfed', '2003'), ('Ricochet Robots', '1999'), ('Cribbage', '1630'), ('Jamaica', '2007'), ('Peloponnes', '2009'), ('Star Trek: Attack Wing', '2013'), ('Snow Tails', '2008'), ('Advanced Squad Leader: Starter Kit #3', '2007'), ('Manila', '2005'), ('Ikusa', '1986'), ('Hacienda', '2005'), ('Guildhall', '2012'), ('Fauna', '2008'), (\"Hey, That's My Fish!\", '2003'), (\"Witch's Brew\", '2008'), ('Axis & Allies Anniversary Edition', '2008'), ('Java', '2000'), ('Pax Porfiriana', '2012'), ('Arkadia', '2006'), ('High Frontier', '2010'), ('Ambush!', '1983'), ('Strasbourg', '2011'), ('De Vulgari Eloquentia', '2010'), ('The Rivals for Catan', '2010'), ('Zendo', '1997'), ('Runebound (Second Edition)', '2005'), ('Warmachine Prime Mk II', '2010'), ('Category 5', '1994'), ('A Study in Emerald', '2013'), ('Hansa', '2004'), ('L\u00f6wenherz', '1997'), ('Lord of the Rings', '2000'), ('Tumblin-Dice', '2004'), ('Coal Baron', '2013'), (\"Can't Stop\", '1980'), ('M\u00fc & More', '1995'), ('Rise of Empires', '2009'), ('Tash-Kalar: Arena of Legends', '2013'), ('Medina', '2001'), ('1856', '1995'), ('Meuterer', '2000'), ('Successors (third edition)', '2008'), ('Evo', '2001'), ('Blokus Duo', '2005'), ('Fleet', '2012'), ('Wars of the Roses: Lancaster vs. York', '2010'), ('The Scepter of Zavandor', '2004'), ('Shadow Hunters', '2005'), ('Rallyman', '2009'), ('For the People', '1998'), ('Among the Stars', '2012'), (\"Winner's Circle\", '2001'), ('GIPF', '1997'), ('The Great Zimbabwe', '2012'), ('Amyitis', '2007'), ('Steam Park', '2013'), ('Ingenious: Travel Edition', '2006'), ('In the Shadow of the Emperor', '2004'), ('A Touch of Evil: The Supernatural Game', '2008'), ('Mexica', '2002'), ('Aquaretto', '2008'), ('Bang! The Dice Game', '2013'), ('Power Struggle', '2009'), ('Catan Card Game', '1996'), ('Mykerinos', '2006'), ('Qwirkle', '2006'), ('Titan', '1980'), ('Fortune and Glory: The Cliffhanger Game', '2011'), ('Breakout: Normandy', '1992'), ('HeroQuest', '1989'), ('Fire & Axe: A Viking Saga', '2004'), ('Mission: Red Planet', '2005'), ('The Palaces of Carrara', '2012'), ('Wallenstein (second edition)', '2012'), ('Dungeon Twister', '2004'), ('Sword of Rome', '2004'), ('Colossal Arena', '1997'), ('Rialto', '2013'), ('Call of Cthulhu: The Card Game', '2008'), ('Krosmaster: Arena', '2012'), ('Factory Fun', '2006'), ('Wings of War: Famous Aces', '2004'), ('The Duke', '2013'), ('Cosmic Encounter', '1977'), ('Doom: The Boardgame', '2004'), ('Rattus', '2010'), ('Aton', '2005'), ('Olympos', '2011'), ('Duel of Ages II', '2013'), ('A Victory Lost', '2006'), ('Incan Gold', '2006'), ('Kremlin', '1986'), ('Sticheln', '1993'), ('The Civil War', '1983'), ('Firenze', '2010'), ('Say Anything', '2008'), ('Age of Renaissance', '1996'), (\"Aladdin's Dragons\", '2000'), ('Himalaya', '2002'), ('Mystery Rummy: Jack the Ripper', '1998'), ('D-Day Dice', '2012'), ('Puzzle Strike (Third Edition)', '2012'), ('Wizard', '1984'), ('Roma', '2005'), ('Cuba Libre', '2013'), ('Tournay', '2011'), ('Ys', '2004'), ('Power Grid: The First Sparks', '2011'), ('Cleopatra and the Society of Architects', '2006'), ('Dice Town', '2009'), ('Rune Age', '2011'), ('BattleCON: War of Indines', '2010'), ('Fairy Tale', '2004'), ('Augustus', '2013'), ('We the People', '1994'), ('Rommel in the Desert', '1982'), ('Asara', '2010'), ('Ascension: Immortal Heroes', '2012'), ('Las Vegas', '2012'), ('Santiago de Cuba', '2011'), ('Starship Catan', '2001'), ('Empires in Arms', '1983'), ('Ubongo', '2003'), ('Blokus Trigon', '2006'), ('Blokus 3D', '2003'), ('Steel Driver', '2008'), ('Giants', '2008'), ('Thunderbolt Apache Leader', '2012'), ('Dungeon Twister 2: Prison', '2009'), ('Carolus Magnus', '2000'), ('Warrior Knights', '2006'), ('Blue Moon', '2004'), ('Ad Astra', '2009'), ('Elfenland', '1998'), ('World in Flames', '1985'), ('Diamonds Club', '2008'), ('Le Havre: The Inland Port', '2012'), ('Tokaido', '2012'), ('A House Divided', '1981'), ('Bausack', '1987'), ('Leonardo da Vinci', '2006'), ('Castaways', '2013'), ('51st State', '2010'), ('Ground Floor', '2012'), ('Cards Against Humanity', '2009'), ('Castle Panic', '2009'), ('Viticulture', '2013'), (\"Ca$h 'n Gun$\", '2005'), ('Wyatt Earp', '2001'), ('Spot it!', '2009'), ('Bonaparte at Marengo', '2005'), ('Necromunda', '1995'), ('Junta', '1978'), ('Gulo Gulo', '2003'), ('High Society', '1995'), ('Animal Upon Animal', '2005'), ('DC Comics Deck-Building Game', '2012'), (\"I'm the Boss!\", '1994'), ('Level 7 [Omega Protocol]', '2013'), ('On the Underground', '2006'), ('Show Manager', '1996'), ('Conflict of Heroes: Awakening the Bear! (second edition)', '2012'), ('Star Wars: Epic Duels', '2002'), ('Confusion:  Espionage and Deception in the Cold War', '1992'), ('Space Cadets: Dice Duel', '2013'), ('Starfarers of Catan', '1999'), ('Inca Empire', '2010'), ('Merkator', '2010'), ('Super Dungeon Explore', '2011'), ('Havana', '2009'), ('Axis & Allies Europe 1940', '2010'), ('Nefertiti', '2008'), ('Xiangqi', '762'), ('Napoleon: The Waterloo Campaign, 1815', '1974'), ('Helvetia', '2011'), ('Wings of War: Burning Drachens', '2005'), ('Heroscape Master Set:  Battle for the Underdark', '2010'), ('Perikles', '2006'), ('Evo (second edition)', '2011'), ('Mascarade', '2013'), ('Neuroshima Hex! Duel', '2009'), ('Eight-Minute Empire', '2012'), ('BattleTech', '1985'), ('Big City', '1999'), ('Saboteur', '2004'), ('Magic Realm', '1979'), ('Dungeon Fighter', '2011'), ('Warriors of God', '2008'), ('Cartagena', '2000'), ('Arena: Roma II', '2009'), ('Founding Fathers', '2010'), ('Pergamon', '2011'), ('Nothing Personal', '2013'), ('2 de Mayo', '2008'), ('Stephensons Rocket', '1999'), ('Hab & Gut', '2008'), ('Empire Builder', '1982'), ('Battle Cry: 150th Civil War Anniversary Edition', '2010'), ('The Magic Labyrinth', '2009'), ('Middle-Earth', '1995'), ('Wings of War: Deluxe Set', '2007'), ('Wings of War: Watch Your Back!', '2005'), ('Balloon Cup', '2003'), ('Pr\u00eat-\u00e0-Porter', '2010'), ('Werewolf', '1986'), ('Tsuro', '2004'), ('Sushi Go!', '2013'), ('K\u00f6nig von Siam', '2007'), ('Hornet Leader: Carrier Air Operations', '2010'), ('City of Iron', '2013'), ('Fighting Formations: Grossdeutschland Motorized Infantry Division', '2011'), ('Vampire: The Eternal Struggle', '1994'), ('Timeline: Inventions', '2010'), ('Ogre', '1977'), ('Bang!', '2002'), ('Turn the Tide', '1997'), ('PitchCar Mini', '2003'), ('Shogi', '1000'), ('Condottiere', '1995'), ('Poker', '1810'), ('Funkenschlag', '2001'), ('Hermagor', '2006'), ('EastFront', '1991'), ('Mordheim: City of the Damned', '1999'), ('Royal Palace', '2008'), ('Lost Cities: The Board Game', '2008'), ('Oregon', '2007'), ('Eurorails', '1990'), ('Zing!', '2003'), ('Diamant', '2005'), ('Star Trek: Catan', '2012'), ('Revolution: The Dutch Revolt 1568-1648', '2004'), ('Fearsome Floors', '2003'), ('1870', '1992'), ('Parade', '2007'), ('Qu\u00e9bec', '2011'), ('Antike Duellum', '2012'), ('Ghost Blitz', '2010'), ('Skull & Roses', '2011'), ('EastFront II', '2006'), ('Legend of the Five Rings', '1995'), ('Android', '2008'), ('The Russian Campaign', '1974'), ('A Castle for All Seasons', '2008'), ('Onirim', '2010'), ('Axis & Allies', '2004'), (\"Time's Up! Deluxe\", '2008'), ('The Princes of Machu Picchu', '2008'), ('Serenissima (first edition)', '1996'), ('Ch\u00e2teau Roquefort', '2007'), ('Space Cadets', '2012'), ('Last Train to Wensleydale', '2009'), ('Richard III: The Wars of the Roses', '2009'), ('Drum Roll', '2011'), ('TransAmerica', '2001'), ('Crusader Rex', '2005'), ('Atlantic Star', '2001'), ('Conquest of the Empire', '2005'), ('Horus Heresy', '2010'), ('Empire of the Sun', '2005'), ('Pueblo', '2002'), ('Jungle Speed', '1997'), ('Unhappy King Charles!\\t', '2008'), ('Risk 2210 A.D.', '2001'), ('Wealth of Nations', '2008'), ('A Distant Plain', '2013'), ('The Ark of the Covenant', '2003'), ('Quarto!', '1991'), ('SPQR (Deluxe Edition)', '2008'), ('Settlers of America: Trails to Rails', '2010'), ('Edel, Stein & Reich', '2003'), ('Mare Nostrum', '2003'), ('Magnum Sal', '2010'), ('Eight-Minute Empire: Legends', '2013'), ('The Red Dragon Inn 2', '2008'), ('20th Century', '2010'), ('Wooden Ships & Iron Men', '1974'), ('Conquest of Planet Earth: The Space Alien Game', '2011'), ('Kahuna', '1998'), ('Last Night on Earth: Timber Peak', '2012'), ('Um Reifenbreite', '1979'), ('Elasund: The First City', '2005'), ('Talisman (Revised 4th Edition)', '2007'), ('League of Six', '2007'), ('Manhattan', '1994'), ('Daytona 500', '1990'), (\"God's Playground\", '2009'), ('Warmachine', '2003'), ('RAF: The Battle of Britain 1940', '2009'), ('Quoridor', '1997'), ('Copycat', '2012'), ('Urban Sprawl', '2011'), ('Concept', '2013'), ('Walnut Grove', '2011'), (\"Pirate's Cove\", '2002'), ('Sylla', '2008'), ('Cold War: CIA vs KGB', '2007'), (\"Odin's Ravens\", '2002'), ('Campaign Manager 2008', '2009'), ('Sleuth', '1971'), ('Omen: A Reign of War', '2011'), ('The Bottle Imp', '1995'), ('Razzia!', '2004'), ('Revolution!', '2009'), ('Strike of the Eagle', '2011'), ('Ta Y\u00fc', '1999'), ('Valdora', '2009'), ('Traders of Carthage', '2006'), ('Axis & Allies Pacific 1940', '2009'), ('Relic', '2013'), ('Heroscape Marvel: The Conflict Begins', '2007'), ('World War II: Barbarossa to Berlin', '2002'), ('Blueprints', '2013'), ('Pastiche', '2011'), ('Assyria', '2009'), ('Edo', '2012'), ('Samarkand: Routes to Riches', '2010'), ('Monsterpocalypse', '2008'), ('Cutthroat Caverns', '2007'), ('Oltre Mare', '2004'), ('Lost Valley', '2004'), ('Theseus: The Dark Orbit', '2013'), ('El Capit\u00e1n', '2007'), ('Ra: The Dice Game', '2009'), ('The Napoleonic Wars (Second Edition)', '2008'), ('New Amsterdam', '2012'), ('Smash Up: Science Fiction Double Feature', '2014'), ('Timeline: Historical Events', '2011'), ('Babel', '2000'), ('The Bridges of Shangri-La', '2003'), ('Room 25', '2013'), ('FAB: The Bulge', '2008'), ('City of Horror', '2012'), ('Mall of Horror', '2005'), ('The Boss', '2010'), ('Puzzle Strike', '2010'), ('Warhammer: Diskwars', '2013'), ('Pixel Tactics', '2012'), ('Kingdoms', '1994'), ('Hare & Tortoise', '1973'), ('The End of the Triumvirate', '2005'), ('Key Market', '2010'), ('Oasis', '2004'), ('Felix: The Cat in the Sack', '2007'), ('Rosenk\u00f6nig', '1997'), ('Ave Caesar', '1989'), ('Strat-O-Matic Baseball', '1962'), ('Ubongo 3D', '2009'), ('Nightfall', '2011'), ('Bootleggers', '2004'), ('Canal Mania', '2006'), ('Wiz-War', '1983'), ('Capitol', '2001'), ('The Great Battles of Alexander: Deluxe Edition', '1995'), ('Battletech Introductory Box Set', '2002'), ('Isla Dorada', '2010'), ('Victory in the Pacific', '1977'), ('The Adventurers: The Temple of Chac', '2009'), ('DungeonQuest (third edition)', '2010'), ('Qwixx', '2012'), ('Dreamblade', '2006'), ('Battlestations', '2004'), ('Archaeology: The Card Game', '2007'), ('Agents of SMERSH', '2012'), ('Guillotine', '1998'), ('Fjords', '2005'), ('Niagara', '2004'), ('Hamsterrolle', '2000'), ('Poseidon', '2010'), ('Arctic Scavengers', '2009'), ('The Hanging Gardens', '2008'), ('Space Crusade', '1990'), ('The Little Prince: Make Me a Planet', '2013'), ('Smash Up: The Obligatory Cthulhu Set', '2013'), ('Machi Koro', '2012'), ('Infiltration', '2012'), ('Subbuteo', '1947'), ('Kreta', '2005'), ('Dungeons & Dragons: Conquest of Nerath Board Game', '2011'), ('Long Shot', '2009'), ('Horse Fever', '2009'), ('Carrom', nan), ('FITS', '2009'), ('Iron Dragon', '1994'), ('Verr\u00e4ter', '1998'), ('Kamisado', '2008'), ('Puzzle Strike Shadows', '2012'), ('Wasabi!', '2008'), ('Kings of Air and Steam', '2013'), ('Tower of Babel', '2005'), ('Trans Europa', '2005'), (\"You're Bluffing!\", '1985'), ('Pantheon', '2011'), ('1860: Railways on the Isle of Wight', '2004'), ('Mystery of the Abbey', '1995'), ('Constantinopolis', '2010'), ('Nuns on the Run', '2010'), ('Scotland Yard', '1983'), ('Key Harvest', '2007'), ('Silverton', '1991'), ('GOSU', '2010'), ('Ascension: Rise of Vigil', '2013'), (\"Ardennes '44\", '2003'), ('First Train to Nuremberg', '2010'), ('TurfMaster', '1998'), ('Merchants of the Middle Ages', '1999'), ('Perry Rhodan: The Cosmic League', '2007'), ('Beyond Balderdash', '1993'), ('Spades', '1938'), ('Field Commander: Napoleon', '2011'), ('Hoity Toity', '1990'), ('Basari', '1998'), ('Identik', '2005'), ('Clans', '2002'), ('Lifeboats', '1993'), ('Powerboats', '2008'), ('World at War: Eisenbach Gap', '2007'), ('Mondo', '2011'), ('Industrial Waste', '2001'), ('Nightfall: Martial Law', '2011'), ('Kupferkessel Co.', '2001'), ('Fortress America', '1986'), (\"Frank's Zoo\", '1999'), ('DungeonQuest', '1985'), ('Cosmic Encounter', '1991'), ('The Red Dragon Inn', '2007'), ('Timeline: Diversity', '2012'), ('La Boca', '2013'), ('Palastgefl\u00fcster', '2007'), ('P\u00dcNCT', '2005'), ('Olympus', '2010'), ('Pyramid', '2008'), ('Full Metal Planete', '1988'), ('Revolver', '2011'), ('Alea Iacta Est', '2009'), (\"Lock 'n Load: Band of Heroes\", '2005'), (\"The Devil's Cauldron: The Battles for Arnhem and Nijmegen\", '2008'), ('Invasion from Outer Space: The Martian Game', '2010'), ('Pickomino', '2005'), ('Illuminati:  Deluxe Edition', '1987'), ('Wings of War: The Dawn of World War II', '2007'), ('Fields of Fire', '2008'), ('Flying Colors', '2005'), ('The Great Dalmuti', '1995'), ('O Zoo le Mio', '2002'), ('Once Upon a Time: The Storytelling Card Game', '1993'), ('Backgammon', '-3000'), ('The Hunters: German U-Boats at War, 1939-43', '2013'), ('Galaxy Defenders', '2014'), ('Botswana', '1994'), ('The Settlers of Catan: Travel Edition', '2002'), ('Tikal II: The Lost Temple', '2010'), ('7 Ages', '2004'), ('Boss Monster: The Dungeon Building Card Game', '2013'), ('World of Warcraft: The Boardgame', '2005'), ('Noblemen', '2012'), ('Giganten', '1999'), ('Carcassonne: South Seas', '2013'), ('Age of Conan: The Strategy Board Game', '2009'), ('Pursuit of Glory', '2008'), ('Famiglia', '2010'), ('Prophecy', '2002'), ('Dungeon Command: Heart of Cormyr', '2012'), ('Dragonheart', '2010'), ('Blockers!', '2007'), ('Kolejka', '2011'), ('Timbuktu', '1993'), ('Il Vecchio', '2012'), ('Euchre', '1848'), ('R-Eco', '2003'), ('Dead of Winter: A Crossroads Game', '2014'), ('Warhammer', '1983'), ('Marrakech', '2007'), ('Drako', '2011'), ('A Gamut of Games', '1969'), ('Boomtown', '2004'), ('American Rails', '2009'), ('Ace of Aces: Handy Rotary Series', '1980'), ('Blue Max', '1983'), ('Carcassonne: Winter Edition', '2012'), ('B-17: Queen of the Skies', '1981'), ('The Kids of Carcassonne', '2009'), ('The Adventurers: The Pyramid of Horus', '2011'), ('DreadBall: The Futuristic Sports Game', '2012'), ('Byzantium', '2005'), ('Deadlands: Doomtown', '1998'), ('Mamma Mia!', '1999'), ('Around the World in 80 Days', '2004'), ('The Fury of Dracula', '1987'), ('Expedition', '1996'), ('Machiavelli', '1977'), ('City of Remnants', '2013'), ('Code 777', '1985'), ('Dungeon Command: Sting of Lolth', '2012'), ('Pictomania', '2011'), ('Outpost', '1991'), ('Ubongo Extreme', '2007'), ('Merchants of Amsterdam', '2000'), ('The Settlers of the Stone Age', '2002'), ('Masons', '2006'), ('CV', '2013'), ('Tales of the Arabian Nights', '1985'), ('SET', '1988'), ('Ubongo: Duel', '2008'), ('Khet: The Laser Game', '2005'), ('Sobek', '2010'), ('Tempus', '2006'), ('Timeline: Discoveries', '2011'), ('VivaJava: The Coffee Game', '2012'), ('Paris Connection', '2010'), ('The Battle for Hill 218', '2007'), ('Phoenicia', '2007'), ('Axis & Allies', '1981'), ('Gunslinger', '1982'), ('Leader 1', '2008'), ('Money!', '1999'), ('Grand Cru', '2010'), ('Battleground: Fantasy Warfare', '2005'), ('Liberty Roads', '2009'), ('Storm over Arnhem', '1981'), ('Die Siedler von N\u00fcrnberg', '1999'), ('Drakon (third edition)', '2006'), ('Sorry! Sliders', '2008'), ('TAMSK', '1998'), (\"Colonial: Europe's Empires Overseas\", '2011'), ('Greed Incorporated', '2009'), ('Espa\u00f1a 1936', '2007'), ('Flat Top', '1977'), ('Norenberc', '2010'), ('Keltis', '2008'), ('Where There Is Discord: War in the South Atlantic', '2009'), ('Chicken Cha Cha Cha', '1997'), ('Pick Picknic', '2001'), ('Before the Wind', '2007'), ('Dust Tactics', '2010'), ('Hera and Zeus', '2000'), ('The Red Dragon Inn 3', '2011'), ('18AL', '1999'), ('Villa Paletti', '2001'), ('Navajo Wars', '2013'), ('Legacy: Gears of Time', '2012'), ('Samurai Sword', '2012'), ('Take it Easy!', '1983'), ('Infinity: A Skirmish Game', '2005'), ('Mystery Express', '2010'), ('Florenza', '2010'), ('Rise and Decline of the Third Reich', '1974'), ('Galactic Emperor', '2008'), ('Ribbit', '2004'), ('Dawn of the Zeds (Second edition)', '2013'), ('Palazzo', '2005'), ('After the Flood', '2008'), ('To Court the King', '2006'), ('Red Winter: The Soviet Attack at Tolvaj\u00e4rvi, Finland \u2013 8-12 December 1939', '2012'), ('Wits & Wagers Family', '2010'), ('WildLife', '2002'), ('The Golden City', '2009'), ('Riff Raff', '2012'), ('Guildhall: Job Faire', '2013'), ('Medieval Merchant', '1998'), ('Gemblo', '2005'), ('Battleship Galaxies: The Saturn Offensive Game Set', '2011'), ('Skat', '1810'), ('Word on the Street', '2009'), ('Caesar & Cleopatra', '1997'), ('Pente', '1977'), ('Axis & Allies: 1942', '2009'), (\"Normandy '44\", '2010'), ('Thunder Alley', '2014'), ('RAF', '1986'), ('The Climbers', '2008'), ('Compounded', '2013'), ('Age of Napoleon', '2003'), ('1861: The Railways of the Russian Empire', '2006'), ('Cathedral', '1978'), ('Duel in the Dark', '2007'), (\"Man O' War\", '1993'), ('The Castle of the Devil', '2006'), ('Federation Commander: Klingon Border', '2005'), ('Space Dealer', '2006'), ('Cavum', '2008'), ('World of Warcraft Trading Card Game', '2006'), ('Phantom Leader', '2010'), ('Inkognito', '1988'), ('Witch of Salem', '2008'), ('Star Wars Miniatures', '2004'), ('Police Precinct', '2013'), ('A Brief History of the World', '2009'), ('Mus', '1745'), ('Silent War', '2005'), ('The Lord of the Rings Trading Card Game', '2001'), ('Scrabble', '1948'), ('Top Race', '1996'), ('Divinare', '2012'), ('Flames of War: The World War II Miniatures Game', '2002'), ('Entdecker: Exploring New Horizons', '2001'), ('The World Cup Game', '2006'), ('StreetSoccer', '2002'), ('Pit', '1903'), ('Priests of Ra', '2009'), ('Duel of Ages Set 1: Worldspanner', '2003'), ('Goldland', '2002'), ('Gloom', '2005'), ('Speed Circuit', '1971'), ('Mutant Chronicles: Siege of the Citadel', '1993'), ('Gang of Four', '1990'), ('A la carte', '1989'), ('Carcassonne: Wheel of Fortune', '2009')]"
       ]
      },
      {
       "output_type": "stream",
       "stream": "stdout",
       "text": [
        "\n"
       ]
      }
     ],
     "prompt_number": 12
    },
    {
     "cell_type": "code",
     "collapsed": false,
     "input": [
      "def get_games_id(games):\n",
      "    games = pd.DataFrame.from_records(games, columns=['title', 'year'])\n",
      "\n",
      "    def get_game_id(x):\n",
      "        # for Ca$h 'n Gun$'\n",
      "        title = x.title.replace('$', 's')\n",
      "        url = \"http://www.boardgamegeek.com/xmlapi/search?search={0}&exact=1\".format(title)\n",
      "        result = requests.get(url, timeout=60)\n",
      "        result = ElementTree.fromstring(result.text)\n",
      "        if len(result) == 1:\n",
      "            x['id'] = result[0].attrib['objectid']\n",
      "        # nothing found? then do inexact search and match manually afterwards\n",
      "        elif len(result) == 0:\n",
      "            url = \"http://www.boardgamegeek.com/xmlapi/search?search={0}\".format(x.title)\n",
      "            result = requests.get(url, timeout=60)\n",
      "            result = ElementTree.fromstring(result.text)\n",
      "            for found in result:\n",
      "                if found[0].text == x.title:\n",
      "                    x['id'] = found.attrib['objectid']\n",
      "                    break\n",
      "        # multiple results found? then try to match on year\n",
      "        else:\n",
      "            for found in result:\n",
      "                if found[0].text == x.title:\n",
      "                    if len(found) > 1 and found[1].text == x.year:\n",
      "                        x['id'] = found.attrib['objectid']\n",
      "                        break\n",
      "        print(\"id {0} found for {1}\".format(x.id, x.title))\n",
      "        return x\n",
      "\n",
      "    games = games.apply(get_game_id, axis=1)\n",
      "    print(\"id found for {0} games\".format(success))\n",
      "    \n",
      "    return games\n",
      "\n",
      "gamedata = get_games_id(topgames)"
     ],
     "language": "python",
     "metadata": {},
     "outputs": [
      {
       "output_type": "stream",
       "stream": "stdout",
       "text": [
        "                                               title  year\n",
        "0                                  Twilight Struggle  2005\n",
        "1          Through the Ages: A Story of Civilization  2006\n",
        "2                                           Agricola  2007\n",
        "3                                      Terra Mystica  2012\n",
        "4                                        Puerto Rico  2002\n",
        "5                                 Android: Netrunner  2012\n",
        "6                          Caverna: The Cave Farmers  2013\n",
        "7                                            Eclipse  2011\n",
        "8                                         Power Grid  2004\n",
        "9                             Mage Knight Board Game  2011\n",
        "10                           The Castles of Burgundy  2011\n",
        "11                                          Le Havre  2008\n",
        "12   Robinson Crusoe: Adventure on the Cursed Island  2012\n",
        "13                                             Brass  2007\n",
        "14                      Tzolk'in: The Mayan Calendar  2012\n",
        "15                  War of the Ring (second edition)  2012\n",
        "16                                            Caylus  2005\n",
        "17                                         7 Wonders  2010\n",
        "18                                Dominion: Intrigue  2009\n",
        "19                                  Dominant Species  2010\n",
        "20                                          Dominion  2008\n",
        "21                                         El Grande  1995\n",
        "22                 Star Wars: X-Wing Miniatures Game  2012\n",
        "23                               Race for the Galaxy  2007\n",
        "24                                         Mage Wars  2012\n",
        "25                              Battlestar Galactica  2008\n",
        "26                                Lords of Waterdeep  2012\n",
        "27                            The Resistance: Avalon  2012\n",
        "28                 Twilight Imperium (Third Edition)  2005\n",
        "29                                Tigris & Euphrates  1997\n",
        "..                                               ...   ...\n",
        "970             Federation Commander: Klingon Border  2005\n",
        "971                                     Space Dealer  2006\n",
        "972                                            Cavum  2008\n",
        "973              World of Warcraft Trading Card Game  2006\n",
        "974                                   Phantom Leader  2010\n",
        "975                                        Inkognito  1988\n",
        "976                                   Witch of Salem  2008\n",
        "977                             Star Wars Miniatures  2004\n",
        "978                                  Police Precinct  2013\n",
        "979                     A Brief History of the World  2009\n",
        "980                                              Mus  1745\n",
        "981                                       Silent War  2005\n",
        "982          The Lord of the Rings Trading Card Game  2001\n",
        "983                                         Scrabble  1948\n",
        "984                                         Top Race  1996\n",
        "985                                         Divinare  2012\n",
        "986  Flames of War: The World War II Miniatures Game  2002\n",
        "987                Entdecker: Exploring New Horizons  2001\n",
        "988                               The World Cup Game  2006\n",
        "989                                     StreetSoccer  2002\n",
        "990                                              Pit  1903\n",
        "991                                    Priests of Ra  2009\n",
        "992                 Duel of Ages Set 1: Worldspanner  2003\n",
        "993                                         Goldland  2002\n",
        "994                                            Gloom  2005\n",
        "995                                    Speed Circuit  1971\n",
        "996          Mutant Chronicles: Siege of the Citadel  1993\n",
        "997                                     Gang of Four  1990\n",
        "998                                       A la carte  1989\n",
        "999                    Carcassonne: Wheel of Fortune  2009\n",
        "\n",
        "[1000 rows x 2 columns]\n",
        "id 12333 found for Twilight Struggle"
       ]
      },
      {
       "output_type": "stream",
       "stream": "stdout",
       "text": [
        "\n",
        "id 12333 found for Twilight Struggle"
       ]
      },
      {
       "output_type": "stream",
       "stream": "stdout",
       "text": [
        "\n",
        "id 25613 found for Through the Ages: A Story of Civilization"
       ]
      },
      {
       "output_type": "stream",
       "stream": "stdout",
       "text": [
        "\n",
        "id 31260 found for Agricola"
       ]
      },
      {
       "output_type": "stream",
       "stream": "stdout",
       "text": [
        "\n",
        "id 120677 found for Terra Mystica"
       ]
      },
      {
       "output_type": "stream",
       "stream": "stdout",
       "text": [
        "\n",
        "id 3076 found for Puerto Rico"
       ]
      },
      {
       "output_type": "stream",
       "stream": "stdout",
       "text": [
        "\n",
        "id 124742 found for Android: Netrunner"
       ]
      },
      {
       "output_type": "stream",
       "stream": "stdout",
       "text": [
        "\n",
        "id 102794 found for Caverna: The Cave Farmers"
       ]
      },
      {
       "output_type": "stream",
       "stream": "stdout",
       "text": [
        "\n",
        "id 72125 found for Eclipse"
       ]
      },
      {
       "output_type": "stream",
       "stream": "stdout",
       "text": [
        "\n",
        "id 2651 found for Power Grid"
       ]
      },
      {
       "output_type": "stream",
       "stream": "stdout",
       "text": [
        "\n",
        "id 96848 found for Mage Knight Board Game"
       ]
      },
      {
       "output_type": "stream",
       "stream": "stdout",
       "text": [
        "\n",
        "id 84876 found for The Castles of Burgundy"
       ]
      },
      {
       "output_type": "stream",
       "stream": "stdout",
       "text": [
        "\n",
        "id 35677 found for Le Havre"
       ]
      },
      {
       "output_type": "stream",
       "stream": "stdout",
       "text": [
        "\n",
        "id 121921 found for Robinson Crusoe: Adventure on the Cursed Island"
       ]
      },
      {
       "output_type": "stream",
       "stream": "stdout",
       "text": [
        "\n",
        "id 28720 found for Brass"
       ]
      },
      {
       "output_type": "stream",
       "stream": "stdout",
       "text": [
        "\n",
        "id 126163 found for Tzolk'in: The Mayan Calendar"
       ]
      },
      {
       "output_type": "stream",
       "stream": "stdout",
       "text": [
        "\n",
        "id 115746 found for War of the Ring (second edition)"
       ]
      },
      {
       "output_type": "stream",
       "stream": "stdout",
       "text": [
        "\n",
        "id 18602 found for Caylus"
       ]
      },
      {
       "output_type": "stream",
       "stream": "stdout",
       "text": [
        "\n",
        "id 68448 found for 7 Wonders"
       ]
      },
      {
       "output_type": "stream",
       "stream": "stdout",
       "text": [
        "\n",
        "id 40834 found for Dominion: Intrigue"
       ]
      },
      {
       "output_type": "stream",
       "stream": "stdout",
       "text": [
        "\n",
        "id 62219 found for Dominant Species"
       ]
      },
      {
       "output_type": "stream",
       "stream": "stdout",
       "text": [
        "\n",
        "id 36218 found for Dominion"
       ]
      },
      {
       "output_type": "stream",
       "stream": "stdout",
       "text": [
        "\n",
        "id 93 found for El Grande"
       ]
      },
      {
       "output_type": "stream",
       "stream": "stdout",
       "text": [
        "\n",
        "id 103885 found for Star Wars: X-Wing Miniatures Game"
       ]
      },
      {
       "output_type": "stream",
       "stream": "stdout",
       "text": [
        "\n",
        "id 28143 found for Race for the Galaxy"
       ]
      },
      {
       "output_type": "stream",
       "stream": "stdout",
       "text": [
        "\n",
        "id 101721 found for Mage Wars"
       ]
      },
      {
       "output_type": "stream",
       "stream": "stdout",
       "text": [
        "\n",
        "id 37111 found for Battlestar Galactica"
       ]
      },
      {
       "output_type": "stream",
       "stream": "stdout",
       "text": [
        "\n",
        "id 110327 found for Lords of Waterdeep"
       ]
      },
      {
       "output_type": "stream",
       "stream": "stdout",
       "text": [
        "\n",
        "id 128882 found for The Resistance: Avalon"
       ]
      },
      {
       "output_type": "stream",
       "stream": "stdout",
       "text": [
        "\n",
        "id 12493 found for Twilight Imperium (Third Edition)"
       ]
      },
      {
       "output_type": "stream",
       "stream": "stdout",
       "text": [
        "\n"
       ]
      },
      {
       "ename": "KeyboardInterrupt",
       "evalue": "",
       "output_type": "pyerr",
       "traceback": [
        "\u001b[1;31m---------------------------------------------------------------------------\u001b[0m\n\u001b[1;31mKeyboardInterrupt\u001b[0m                         Traceback (most recent call last)",
        "\u001b[1;32m<ipython-input-14-083c52be1064>\u001b[0m in \u001b[0;36m<module>\u001b[1;34m()\u001b[0m\n\u001b[0;32m     34\u001b[0m     \u001b[1;32mreturn\u001b[0m \u001b[0mgames\u001b[0m\u001b[1;33m\u001b[0m\u001b[0m\n\u001b[0;32m     35\u001b[0m \u001b[1;33m\u001b[0m\u001b[0m\n\u001b[1;32m---> 36\u001b[1;33m \u001b[0mgamedata\u001b[0m \u001b[1;33m=\u001b[0m \u001b[0mget_games_id\u001b[0m\u001b[1;33m(\u001b[0m\u001b[0mtopgames\u001b[0m\u001b[1;33m)\u001b[0m\u001b[1;33m\u001b[0m\u001b[0m\n\u001b[0m",
        "\u001b[1;32m<ipython-input-14-083c52be1064>\u001b[0m in \u001b[0;36mget_games_id\u001b[1;34m(games)\u001b[0m\n\u001b[0;32m     29\u001b[0m         \u001b[1;32mreturn\u001b[0m \u001b[0mx\u001b[0m\u001b[1;33m\u001b[0m\u001b[0m\n\u001b[0;32m     30\u001b[0m \u001b[1;33m\u001b[0m\u001b[0m\n\u001b[1;32m---> 31\u001b[1;33m     \u001b[0mgames\u001b[0m \u001b[1;33m=\u001b[0m \u001b[0mgames\u001b[0m\u001b[1;33m.\u001b[0m\u001b[0mapply\u001b[0m\u001b[1;33m(\u001b[0m\u001b[0mget_game_id\u001b[0m\u001b[1;33m,\u001b[0m \u001b[0maxis\u001b[0m\u001b[1;33m=\u001b[0m\u001b[1;36m1\u001b[0m\u001b[1;33m)\u001b[0m\u001b[1;33m\u001b[0m\u001b[0m\n\u001b[0m\u001b[0;32m     32\u001b[0m     \u001b[0mprint\u001b[0m\u001b[1;33m(\u001b[0m\u001b[1;34m\"id found for {0} games\"\u001b[0m\u001b[1;33m.\u001b[0m\u001b[0mformat\u001b[0m\u001b[1;33m(\u001b[0m\u001b[0msuccess\u001b[0m\u001b[1;33m)\u001b[0m\u001b[1;33m)\u001b[0m\u001b[1;33m\u001b[0m\u001b[0m\n\u001b[0;32m     33\u001b[0m \u001b[1;33m\u001b[0m\u001b[0m\n",
        "\u001b[1;32m/usr/local/lib/python3.4/dist-packages/pandas/core/frame.py\u001b[0m in \u001b[0;36mapply\u001b[1;34m(self, func, axis, broadcast, raw, reduce, args, **kwds)\u001b[0m\n\u001b[0;32m   3469\u001b[0m                     \u001b[1;32mif\u001b[0m \u001b[0mreduce\u001b[0m \u001b[1;32mis\u001b[0m \u001b[1;32mNone\u001b[0m\u001b[1;33m:\u001b[0m\u001b[1;33m\u001b[0m\u001b[0m\n\u001b[0;32m   3470\u001b[0m                         \u001b[0mreduce\u001b[0m \u001b[1;33m=\u001b[0m \u001b[1;32mTrue\u001b[0m\u001b[1;33m\u001b[0m\u001b[0m\n\u001b[1;32m-> 3471\u001b[1;33m                     \u001b[1;32mreturn\u001b[0m \u001b[0mself\u001b[0m\u001b[1;33m.\u001b[0m\u001b[0m_apply_standard\u001b[0m\u001b[1;33m(\u001b[0m\u001b[0mf\u001b[0m\u001b[1;33m,\u001b[0m \u001b[0maxis\u001b[0m\u001b[1;33m,\u001b[0m \u001b[0mreduce\u001b[0m\u001b[1;33m=\u001b[0m\u001b[0mreduce\u001b[0m\u001b[1;33m)\u001b[0m\u001b[1;33m\u001b[0m\u001b[0m\n\u001b[0m\u001b[0;32m   3472\u001b[0m             \u001b[1;32melse\u001b[0m\u001b[1;33m:\u001b[0m\u001b[1;33m\u001b[0m\u001b[0m\n\u001b[0;32m   3473\u001b[0m                 \u001b[1;32mreturn\u001b[0m \u001b[0mself\u001b[0m\u001b[1;33m.\u001b[0m\u001b[0m_apply_broadcast\u001b[0m\u001b[1;33m(\u001b[0m\u001b[0mf\u001b[0m\u001b[1;33m,\u001b[0m \u001b[0maxis\u001b[0m\u001b[1;33m)\u001b[0m\u001b[1;33m\u001b[0m\u001b[0m\n",
        "\u001b[1;32m/usr/local/lib/python3.4/dist-packages/pandas/core/frame.py\u001b[0m in \u001b[0;36m_apply_standard\u001b[1;34m(self, func, axis, ignore_failures, reduce)\u001b[0m\n\u001b[0;32m   3558\u001b[0m             \u001b[1;32mtry\u001b[0m\u001b[1;33m:\u001b[0m\u001b[1;33m\u001b[0m\u001b[0m\n\u001b[0;32m   3559\u001b[0m                 \u001b[1;32mfor\u001b[0m \u001b[0mi\u001b[0m\u001b[1;33m,\u001b[0m \u001b[0mv\u001b[0m \u001b[1;32min\u001b[0m \u001b[0menumerate\u001b[0m\u001b[1;33m(\u001b[0m\u001b[0mseries_gen\u001b[0m\u001b[1;33m)\u001b[0m\u001b[1;33m:\u001b[0m\u001b[1;33m\u001b[0m\u001b[0m\n\u001b[1;32m-> 3560\u001b[1;33m                     \u001b[0mresults\u001b[0m\u001b[1;33m[\u001b[0m\u001b[0mi\u001b[0m\u001b[1;33m]\u001b[0m \u001b[1;33m=\u001b[0m \u001b[0mfunc\u001b[0m\u001b[1;33m(\u001b[0m\u001b[0mv\u001b[0m\u001b[1;33m)\u001b[0m\u001b[1;33m\u001b[0m\u001b[0m\n\u001b[0m\u001b[0;32m   3561\u001b[0m                     \u001b[0mkeys\u001b[0m\u001b[1;33m.\u001b[0m\u001b[0mappend\u001b[0m\u001b[1;33m(\u001b[0m\u001b[0mv\u001b[0m\u001b[1;33m.\u001b[0m\u001b[0mname\u001b[0m\u001b[1;33m)\u001b[0m\u001b[1;33m\u001b[0m\u001b[0m\n\u001b[0;32m   3562\u001b[0m             \u001b[1;32mexcept\u001b[0m \u001b[0mException\u001b[0m \u001b[1;32mas\u001b[0m \u001b[0me\u001b[0m\u001b[1;33m:\u001b[0m\u001b[1;33m\u001b[0m\u001b[0m\n",
        "\u001b[1;32m<ipython-input-14-083c52be1064>\u001b[0m in \u001b[0;36mget_game_id\u001b[1;34m(x)\u001b[0m\n\u001b[0;32m     13\u001b[0m         \u001b[1;32melif\u001b[0m \u001b[0mlen\u001b[0m\u001b[1;33m(\u001b[0m\u001b[0mresult\u001b[0m\u001b[1;33m)\u001b[0m \u001b[1;33m==\u001b[0m \u001b[1;36m0\u001b[0m\u001b[1;33m:\u001b[0m\u001b[1;33m\u001b[0m\u001b[0m\n\u001b[0;32m     14\u001b[0m             \u001b[0murl\u001b[0m \u001b[1;33m=\u001b[0m \u001b[1;34m\"http://www.boardgamegeek.com/xmlapi/search?search={0}\"\u001b[0m\u001b[1;33m.\u001b[0m\u001b[0mformat\u001b[0m\u001b[1;33m(\u001b[0m\u001b[0mx\u001b[0m\u001b[1;33m.\u001b[0m\u001b[0mtitle\u001b[0m\u001b[1;33m)\u001b[0m\u001b[1;33m\u001b[0m\u001b[0m\n\u001b[1;32m---> 15\u001b[1;33m             \u001b[0mresult\u001b[0m \u001b[1;33m=\u001b[0m \u001b[0mrequests\u001b[0m\u001b[1;33m.\u001b[0m\u001b[0mget\u001b[0m\u001b[1;33m(\u001b[0m\u001b[0murl\u001b[0m\u001b[1;33m,\u001b[0m \u001b[0mtimeout\u001b[0m\u001b[1;33m=\u001b[0m\u001b[1;36m60\u001b[0m\u001b[1;33m)\u001b[0m\u001b[1;33m\u001b[0m\u001b[0m\n\u001b[0m\u001b[0;32m     16\u001b[0m             \u001b[0mresult\u001b[0m \u001b[1;33m=\u001b[0m \u001b[0mElementTree\u001b[0m\u001b[1;33m.\u001b[0m\u001b[0mfromstring\u001b[0m\u001b[1;33m(\u001b[0m\u001b[0mresult\u001b[0m\u001b[1;33m.\u001b[0m\u001b[0mtext\u001b[0m\u001b[1;33m)\u001b[0m\u001b[1;33m\u001b[0m\u001b[0m\n\u001b[0;32m     17\u001b[0m             \u001b[1;32mfor\u001b[0m \u001b[0mfound\u001b[0m \u001b[1;32min\u001b[0m \u001b[0mresult\u001b[0m\u001b[1;33m:\u001b[0m\u001b[1;33m\u001b[0m\u001b[0m\n",
        "\u001b[1;32m/usr/local/lib/python3.4/dist-packages/requests/api.py\u001b[0m in \u001b[0;36mget\u001b[1;34m(url, **kwargs)\u001b[0m\n\u001b[0;32m     53\u001b[0m \u001b[1;33m\u001b[0m\u001b[0m\n\u001b[0;32m     54\u001b[0m     \u001b[0mkwargs\u001b[0m\u001b[1;33m.\u001b[0m\u001b[0msetdefault\u001b[0m\u001b[1;33m(\u001b[0m\u001b[1;34m'allow_redirects'\u001b[0m\u001b[1;33m,\u001b[0m \u001b[1;32mTrue\u001b[0m\u001b[1;33m)\u001b[0m\u001b[1;33m\u001b[0m\u001b[0m\n\u001b[1;32m---> 55\u001b[1;33m     \u001b[1;32mreturn\u001b[0m \u001b[0mrequest\u001b[0m\u001b[1;33m(\u001b[0m\u001b[1;34m'get'\u001b[0m\u001b[1;33m,\u001b[0m \u001b[0murl\u001b[0m\u001b[1;33m,\u001b[0m \u001b[1;33m**\u001b[0m\u001b[0mkwargs\u001b[0m\u001b[1;33m)\u001b[0m\u001b[1;33m\u001b[0m\u001b[0m\n\u001b[0m\u001b[0;32m     56\u001b[0m \u001b[1;33m\u001b[0m\u001b[0m\n\u001b[0;32m     57\u001b[0m \u001b[1;33m\u001b[0m\u001b[0m\n",
        "\u001b[1;32m/usr/local/lib/python3.4/dist-packages/requests/api.py\u001b[0m in \u001b[0;36mrequest\u001b[1;34m(method, url, **kwargs)\u001b[0m\n\u001b[0;32m     42\u001b[0m \u001b[1;33m\u001b[0m\u001b[0m\n\u001b[0;32m     43\u001b[0m     \u001b[0msession\u001b[0m \u001b[1;33m=\u001b[0m \u001b[0msessions\u001b[0m\u001b[1;33m.\u001b[0m\u001b[0mSession\u001b[0m\u001b[1;33m(\u001b[0m\u001b[1;33m)\u001b[0m\u001b[1;33m\u001b[0m\u001b[0m\n\u001b[1;32m---> 44\u001b[1;33m     \u001b[1;32mreturn\u001b[0m \u001b[0msession\u001b[0m\u001b[1;33m.\u001b[0m\u001b[0mrequest\u001b[0m\u001b[1;33m(\u001b[0m\u001b[0mmethod\u001b[0m\u001b[1;33m=\u001b[0m\u001b[0mmethod\u001b[0m\u001b[1;33m,\u001b[0m \u001b[0murl\u001b[0m\u001b[1;33m=\u001b[0m\u001b[0murl\u001b[0m\u001b[1;33m,\u001b[0m \u001b[1;33m**\u001b[0m\u001b[0mkwargs\u001b[0m\u001b[1;33m)\u001b[0m\u001b[1;33m\u001b[0m\u001b[0m\n\u001b[0m\u001b[0;32m     45\u001b[0m \u001b[1;33m\u001b[0m\u001b[0m\n\u001b[0;32m     46\u001b[0m \u001b[1;33m\u001b[0m\u001b[0m\n",
        "\u001b[1;32m/usr/local/lib/python3.4/dist-packages/requests/sessions.py\u001b[0m in \u001b[0;36mrequest\u001b[1;34m(self, method, url, params, data, headers, cookies, files, auth, timeout, allow_redirects, proxies, hooks, stream, verify, cert)\u001b[0m\n\u001b[0;32m    454\u001b[0m             \u001b[1;34m'allow_redirects'\u001b[0m\u001b[1;33m:\u001b[0m \u001b[0mallow_redirects\u001b[0m\u001b[1;33m,\u001b[0m\u001b[1;33m\u001b[0m\u001b[0m\n\u001b[0;32m    455\u001b[0m         }\n\u001b[1;32m--> 456\u001b[1;33m         \u001b[0mresp\u001b[0m \u001b[1;33m=\u001b[0m \u001b[0mself\u001b[0m\u001b[1;33m.\u001b[0m\u001b[0msend\u001b[0m\u001b[1;33m(\u001b[0m\u001b[0mprep\u001b[0m\u001b[1;33m,\u001b[0m \u001b[1;33m**\u001b[0m\u001b[0msend_kwargs\u001b[0m\u001b[1;33m)\u001b[0m\u001b[1;33m\u001b[0m\u001b[0m\n\u001b[0m\u001b[0;32m    457\u001b[0m \u001b[1;33m\u001b[0m\u001b[0m\n\u001b[0;32m    458\u001b[0m         \u001b[1;32mreturn\u001b[0m \u001b[0mresp\u001b[0m\u001b[1;33m\u001b[0m\u001b[0m\n",
        "\u001b[1;32m/usr/local/lib/python3.4/dist-packages/requests/sessions.py\u001b[0m in \u001b[0;36msend\u001b[1;34m(self, request, **kwargs)\u001b[0m\n\u001b[0;32m    557\u001b[0m \u001b[1;33m\u001b[0m\u001b[0m\n\u001b[0;32m    558\u001b[0m         \u001b[1;31m# Send the request\u001b[0m\u001b[1;33m\u001b[0m\u001b[1;33m\u001b[0m\u001b[0m\n\u001b[1;32m--> 559\u001b[1;33m         \u001b[0mr\u001b[0m \u001b[1;33m=\u001b[0m \u001b[0madapter\u001b[0m\u001b[1;33m.\u001b[0m\u001b[0msend\u001b[0m\u001b[1;33m(\u001b[0m\u001b[0mrequest\u001b[0m\u001b[1;33m,\u001b[0m \u001b[1;33m**\u001b[0m\u001b[0mkwargs\u001b[0m\u001b[1;33m)\u001b[0m\u001b[1;33m\u001b[0m\u001b[0m\n\u001b[0m\u001b[0;32m    560\u001b[0m \u001b[1;33m\u001b[0m\u001b[0m\n\u001b[0;32m    561\u001b[0m         \u001b[1;31m# Total elapsed time of the request (approximately)\u001b[0m\u001b[1;33m\u001b[0m\u001b[1;33m\u001b[0m\u001b[0m\n",
        "\u001b[1;32m/usr/local/lib/python3.4/dist-packages/requests/adapters.py\u001b[0m in \u001b[0;36msend\u001b[1;34m(self, request, stream, timeout, verify, cert, proxies)\u001b[0m\n\u001b[0;32m    325\u001b[0m                     \u001b[0mdecode_content\u001b[0m\u001b[1;33m=\u001b[0m\u001b[1;32mFalse\u001b[0m\u001b[1;33m,\u001b[0m\u001b[1;33m\u001b[0m\u001b[0m\n\u001b[0;32m    326\u001b[0m                     \u001b[0mretries\u001b[0m\u001b[1;33m=\u001b[0m\u001b[0mself\u001b[0m\u001b[1;33m.\u001b[0m\u001b[0mmax_retries\u001b[0m\u001b[1;33m,\u001b[0m\u001b[1;33m\u001b[0m\u001b[0m\n\u001b[1;32m--> 327\u001b[1;33m                     \u001b[0mtimeout\u001b[0m\u001b[1;33m=\u001b[0m\u001b[0mtimeout\u001b[0m\u001b[1;33m\u001b[0m\u001b[0m\n\u001b[0m\u001b[0;32m    328\u001b[0m                 )\n\u001b[0;32m    329\u001b[0m \u001b[1;33m\u001b[0m\u001b[0m\n",
        "\u001b[1;32m/usr/local/lib/python3.4/dist-packages/requests/packages/urllib3/connectionpool.py\u001b[0m in \u001b[0;36murlopen\u001b[1;34m(self, method, url, body, headers, retries, redirect, assert_same_host, timeout, pool_timeout, release_conn, **response_kw)\u001b[0m\n\u001b[0;32m    491\u001b[0m             httplib_response = self._make_request(conn, method, url,\n\u001b[0;32m    492\u001b[0m                                                   \u001b[0mtimeout\u001b[0m\u001b[1;33m=\u001b[0m\u001b[0mtimeout\u001b[0m\u001b[1;33m,\u001b[0m\u001b[1;33m\u001b[0m\u001b[0m\n\u001b[1;32m--> 493\u001b[1;33m                                                   body=body, headers=headers)\n\u001b[0m\u001b[0;32m    494\u001b[0m \u001b[1;33m\u001b[0m\u001b[0m\n\u001b[0;32m    495\u001b[0m             \u001b[1;31m# If we're going to release the connection in ``finally:``, then\u001b[0m\u001b[1;33m\u001b[0m\u001b[1;33m\u001b[0m\u001b[0m\n",
        "\u001b[1;32m/usr/local/lib/python3.4/dist-packages/requests/packages/urllib3/connectionpool.py\u001b[0m in \u001b[0;36m_make_request\u001b[1;34m(self, conn, method, url, timeout, **httplib_request_kw)\u001b[0m\n\u001b[0;32m    319\u001b[0m                 \u001b[0mhttplib_response\u001b[0m \u001b[1;33m=\u001b[0m \u001b[0mconn\u001b[0m\u001b[1;33m.\u001b[0m\u001b[0mgetresponse\u001b[0m\u001b[1;33m(\u001b[0m\u001b[0mbuffering\u001b[0m\u001b[1;33m=\u001b[0m\u001b[1;32mTrue\u001b[0m\u001b[1;33m)\u001b[0m\u001b[1;33m\u001b[0m\u001b[0m\n\u001b[0;32m    320\u001b[0m             \u001b[1;32mexcept\u001b[0m \u001b[0mTypeError\u001b[0m\u001b[1;33m:\u001b[0m \u001b[1;31m# Python 2.6 and older\u001b[0m\u001b[1;33m\u001b[0m\u001b[0m\n\u001b[1;32m--> 321\u001b[1;33m                 \u001b[0mhttplib_response\u001b[0m \u001b[1;33m=\u001b[0m \u001b[0mconn\u001b[0m\u001b[1;33m.\u001b[0m\u001b[0mgetresponse\u001b[0m\u001b[1;33m(\u001b[0m\u001b[1;33m)\u001b[0m\u001b[1;33m\u001b[0m\u001b[0m\n\u001b[0m\u001b[0;32m    322\u001b[0m         \u001b[1;32mexcept\u001b[0m \u001b[0mSocketTimeout\u001b[0m\u001b[1;33m:\u001b[0m\u001b[1;33m\u001b[0m\u001b[0m\n\u001b[0;32m    323\u001b[0m             raise ReadTimeoutError(\n",
        "\u001b[1;32m/usr/lib/python3.4/http/client.py\u001b[0m in \u001b[0;36mgetresponse\u001b[1;34m(self)\u001b[0m\n\u001b[0;32m   1145\u001b[0m             \u001b[0mresponse\u001b[0m \u001b[1;33m=\u001b[0m \u001b[0mself\u001b[0m\u001b[1;33m.\u001b[0m\u001b[0mresponse_class\u001b[0m\u001b[1;33m(\u001b[0m\u001b[0mself\u001b[0m\u001b[1;33m.\u001b[0m\u001b[0msock\u001b[0m\u001b[1;33m,\u001b[0m \u001b[0mmethod\u001b[0m\u001b[1;33m=\u001b[0m\u001b[0mself\u001b[0m\u001b[1;33m.\u001b[0m\u001b[0m_method\u001b[0m\u001b[1;33m)\u001b[0m\u001b[1;33m\u001b[0m\u001b[0m\n\u001b[0;32m   1146\u001b[0m \u001b[1;33m\u001b[0m\u001b[0m\n\u001b[1;32m-> 1147\u001b[1;33m         \u001b[0mresponse\u001b[0m\u001b[1;33m.\u001b[0m\u001b[0mbegin\u001b[0m\u001b[1;33m(\u001b[0m\u001b[1;33m)\u001b[0m\u001b[1;33m\u001b[0m\u001b[0m\n\u001b[0m\u001b[0;32m   1148\u001b[0m         \u001b[1;32massert\u001b[0m \u001b[0mresponse\u001b[0m\u001b[1;33m.\u001b[0m\u001b[0mwill_close\u001b[0m \u001b[1;33m!=\u001b[0m \u001b[0m_UNKNOWN\u001b[0m\u001b[1;33m\u001b[0m\u001b[0m\n\u001b[0;32m   1149\u001b[0m         \u001b[0mself\u001b[0m\u001b[1;33m.\u001b[0m\u001b[0m__state\u001b[0m \u001b[1;33m=\u001b[0m \u001b[0m_CS_IDLE\u001b[0m\u001b[1;33m\u001b[0m\u001b[0m\n",
        "\u001b[1;32m/usr/lib/python3.4/http/client.py\u001b[0m in \u001b[0;36mbegin\u001b[1;34m(self)\u001b[0m\n\u001b[0;32m    349\u001b[0m         \u001b[1;31m# read until we get a non-100 response\u001b[0m\u001b[1;33m\u001b[0m\u001b[1;33m\u001b[0m\u001b[0m\n\u001b[0;32m    350\u001b[0m         \u001b[1;32mwhile\u001b[0m \u001b[1;32mTrue\u001b[0m\u001b[1;33m:\u001b[0m\u001b[1;33m\u001b[0m\u001b[0m\n\u001b[1;32m--> 351\u001b[1;33m             \u001b[0mversion\u001b[0m\u001b[1;33m,\u001b[0m \u001b[0mstatus\u001b[0m\u001b[1;33m,\u001b[0m \u001b[0mreason\u001b[0m \u001b[1;33m=\u001b[0m \u001b[0mself\u001b[0m\u001b[1;33m.\u001b[0m\u001b[0m_read_status\u001b[0m\u001b[1;33m(\u001b[0m\u001b[1;33m)\u001b[0m\u001b[1;33m\u001b[0m\u001b[0m\n\u001b[0m\u001b[0;32m    352\u001b[0m             \u001b[1;32mif\u001b[0m \u001b[0mstatus\u001b[0m \u001b[1;33m!=\u001b[0m \u001b[0mCONTINUE\u001b[0m\u001b[1;33m:\u001b[0m\u001b[1;33m\u001b[0m\u001b[0m\n\u001b[0;32m    353\u001b[0m                 \u001b[1;32mbreak\u001b[0m\u001b[1;33m\u001b[0m\u001b[0m\n",
        "\u001b[1;32m/usr/lib/python3.4/http/client.py\u001b[0m in \u001b[0;36m_read_status\u001b[1;34m(self)\u001b[0m\n\u001b[0;32m    311\u001b[0m \u001b[1;33m\u001b[0m\u001b[0m\n\u001b[0;32m    312\u001b[0m     \u001b[1;32mdef\u001b[0m \u001b[0m_read_status\u001b[0m\u001b[1;33m(\u001b[0m\u001b[0mself\u001b[0m\u001b[1;33m)\u001b[0m\u001b[1;33m:\u001b[0m\u001b[1;33m\u001b[0m\u001b[0m\n\u001b[1;32m--> 313\u001b[1;33m         \u001b[0mline\u001b[0m \u001b[1;33m=\u001b[0m \u001b[0mstr\u001b[0m\u001b[1;33m(\u001b[0m\u001b[0mself\u001b[0m\u001b[1;33m.\u001b[0m\u001b[0mfp\u001b[0m\u001b[1;33m.\u001b[0m\u001b[0mreadline\u001b[0m\u001b[1;33m(\u001b[0m\u001b[0m_MAXLINE\u001b[0m \u001b[1;33m+\u001b[0m \u001b[1;36m1\u001b[0m\u001b[1;33m)\u001b[0m\u001b[1;33m,\u001b[0m \u001b[1;34m\"iso-8859-1\"\u001b[0m\u001b[1;33m)\u001b[0m\u001b[1;33m\u001b[0m\u001b[0m\n\u001b[0m\u001b[0;32m    314\u001b[0m         \u001b[1;32mif\u001b[0m \u001b[0mlen\u001b[0m\u001b[1;33m(\u001b[0m\u001b[0mline\u001b[0m\u001b[1;33m)\u001b[0m \u001b[1;33m>\u001b[0m \u001b[0m_MAXLINE\u001b[0m\u001b[1;33m:\u001b[0m\u001b[1;33m\u001b[0m\u001b[0m\n\u001b[0;32m    315\u001b[0m             \u001b[1;32mraise\u001b[0m \u001b[0mLineTooLong\u001b[0m\u001b[1;33m(\u001b[0m\u001b[1;34m\"status line\"\u001b[0m\u001b[1;33m)\u001b[0m\u001b[1;33m\u001b[0m\u001b[0m\n",
        "\u001b[1;32m/usr/lib/python3.4/socket.py\u001b[0m in \u001b[0;36mreadinto\u001b[1;34m(self, b)\u001b[0m\n\u001b[0;32m    369\u001b[0m         \u001b[1;32mwhile\u001b[0m \u001b[1;32mTrue\u001b[0m\u001b[1;33m:\u001b[0m\u001b[1;33m\u001b[0m\u001b[0m\n\u001b[0;32m    370\u001b[0m             \u001b[1;32mtry\u001b[0m\u001b[1;33m:\u001b[0m\u001b[1;33m\u001b[0m\u001b[0m\n\u001b[1;32m--> 371\u001b[1;33m                 \u001b[1;32mreturn\u001b[0m \u001b[0mself\u001b[0m\u001b[1;33m.\u001b[0m\u001b[0m_sock\u001b[0m\u001b[1;33m.\u001b[0m\u001b[0mrecv_into\u001b[0m\u001b[1;33m(\u001b[0m\u001b[0mb\u001b[0m\u001b[1;33m)\u001b[0m\u001b[1;33m\u001b[0m\u001b[0m\n\u001b[0m\u001b[0;32m    372\u001b[0m             \u001b[1;32mexcept\u001b[0m \u001b[0mtimeout\u001b[0m\u001b[1;33m:\u001b[0m\u001b[1;33m\u001b[0m\u001b[0m\n\u001b[0;32m    373\u001b[0m                 \u001b[0mself\u001b[0m\u001b[1;33m.\u001b[0m\u001b[0m_timeout_occurred\u001b[0m \u001b[1;33m=\u001b[0m \u001b[1;32mTrue\u001b[0m\u001b[1;33m\u001b[0m\u001b[0m\n",
        "\u001b[1;31mKeyboardInterrupt\u001b[0m: "
       ]
      }
     ],
     "prompt_number": 14
    },
    {
     "cell_type": "code",
     "collapsed": false,
     "input": [
      "def get_games_stats(games):\n",
      "\n",
      "    chunksize = 100\n",
      "\n",
      "    for ii in range(N_GAMES // chunksize):\n",
      "        idstr = ','.join(gamedata.id.ix[ii * chunksize:(ii + 1) * chunksize])\n",
      "        url = \"http://www.boardgamegeek.com/xmlapi/boardgame/{0}&stats=1\".format(idstr)\n",
      "        result = requests.get(url, timeout=60)\n",
      "        result = ElementTree.fromstring(result.text)\n",
      "\n",
      "        numowned = [float(gm.find('statistics').find('ratings').find('owned').text)\n",
      "                    for gm in result]\n",
      "        avgrating = [float(gm.find('statistics').find('ratings').find('average').text)\n",
      "                     for gm in result]\n",
      "        bavgrating = [float(gm.find('statistics').find('ratings').find('bayesaverage').text)\n",
      "                      for gm in result]\n",
      "        stdrating = [float(gm.find('statistics').find('ratings').find('stddev').text)\n",
      "                     for gm in result]\n",
      "        avgweight = [float(gm.find('statistics').find('ratings').find('averageweight').text)\n",
      "                     for gm in result]\n",
      "\n",
      "        games.ix[ii * chunksize:(ii + 1) * chunksize, 'numowned'] = numowned\n",
      "        games.ix[ii * chunksize:(ii + 1) * chunksize, 'avgrating'] = avgrating\n",
      "        games.ix[ii * chunksize:(ii + 1) * chunksize, 'bayesavgrating'] = bavgrating\n",
      "        games.ix[ii * chunksize:(ii + 1) * chunksize, 'stdrating'] = stdrating\n",
      "        games.ix[ii * chunksize:(ii + 1) * chunksize, 'avgweight'] = avgweight\n",
      "\n",
      "    return games\n",
      "\n",
      "gamedata = get_games_stats(gamedata)"
     ],
     "language": "python",
     "metadata": {},
     "outputs": []
    },
    {
     "cell_type": "code",
     "collapsed": false,
     "input": [
      "def perform_analysis(data):\n",
      "    y = data.bayesavgrating\n",
      "    x = data.avgweight\n",
      "    x['intercept'] = 1.\n",
      "\n",
      "    regress = sm.OLS(y, x).fit()\n",
      "    regress.summary()\n",
      "\n",
      "perform_analysis(gamedata)"
     ],
     "language": "python",
     "metadata": {},
     "outputs": []
    }
   ],
   "metadata": {}
  }
 ]
}