{
 "metadata": {
  "name": "",
  "signature": "sha256:1a7328ea24c81014fac4c8c89e138073bb7bebe996b9a767399640db92cb8aa8"
 },
 "nbformat": 3,
 "nbformat_minor": 0,
 "worksheets": [
  {
   "cells": [
    {
     "cell_type": "heading",
     "level": 1,
     "metadata": {},
     "source": [
      "Dependecies:\n",
      "\n",
      "* Python 3.4\n",
      "* BeautifulSoup\n",
      "* requests\n",
      "* pandas\n",
      "* statsmodels"
     ]
    },
    {
     "cell_type": "code",
     "collapsed": false,
     "input": [
      "from bs4 import BeautifulSoup\n",
      "import requests\n",
      "import xml.etree.ElementTree as ElementTree\n",
      "import numpy as np\n",
      "import pandas as pd\n",
      "import statsmodels.api as sm"
     ],
     "language": "python",
     "metadata": {},
     "outputs": [],
     "prompt_number": 1
    },
    {
     "cell_type": "code",
     "collapsed": false,
     "input": [
      "N_GAMES = 1000\n",
      "N_GAMES_PER_PAGE = 100\n",
      "BROWSE_URL_BASE = 'http://www.boardgamegeek.com/browse/boardgame/page/'"
     ],
     "language": "python",
     "metadata": {},
     "outputs": [],
     "prompt_number": 4
    },
    {
     "cell_type": "code",
     "collapsed": false,
     "input": [
      "def get_top_games(ngames=N_GAMES):\n",
      "    \"\"\"Download the 'ngames' highest ranked games from BGG.\n",
      "    \"\"\"\n",
      "\n",
      "    # round to nearest 100\n",
      "    ngames = round(ngames, -2)\n",
      "    # number of pages to scrape\n",
      "    npages = ngames // N_GAMES_PER_PAGE\n",
      "\n",
      "    games = []\n",
      "    for pp in range(1, npages + 1):\n",
      "        print(\"Reading page {0} / {1}\".format(pp, npages))\n",
      "        url = BROWSE_URL_BASE + str(pp)\n",
      "        page = requests.get(url, timeout=60)\n",
      "        soup = BeautifulSoup(page.content)\n",
      "        # items are found by 'id=results_objectname*' attribute in 'div' tag\n",
      "        cntr = 1\n",
      "        for _ in range(N_GAMES_PER_PAGE):\n",
      "            item = soup.find('div', {'id': 'results_objectname' + str(cntr)})\n",
      "            if item:\n",
      "                title = item.a.contents[0]\n",
      "                try:\n",
      "                    year = item.span.contents[0][1:-1]\n",
      "                except AttributeError:\n",
      "                    year = np.NaN\n",
      "                games.append((title, year))\n",
      "                cntr += 1\n",
      "    return games\n",
      "\n",
      "topgames = get_top_games()\n",
      "print(\"{0} games found: {1}\".format(len(topgames), topgames))"
     ],
     "language": "python",
     "metadata": {},
     "outputs": [
      {
       "output_type": "stream",
       "stream": "stdout",
       "text": [
        "Reading page 1 / 10\n",
        "Reading page 2 / 10"
       ]
      },
      {
       "output_type": "stream",
       "stream": "stdout",
       "text": [
        "\n",
        "Reading page 3 / 10"
       ]
      },
      {
       "output_type": "stream",
       "stream": "stdout",
       "text": [
        "\n",
        "Reading page 4 / 10"
       ]
      },
      {
       "output_type": "stream",
       "stream": "stdout",
       "text": [
        "\n",
        "Reading page 5 / 10"
       ]
      },
      {
       "output_type": "stream",
       "stream": "stdout",
       "text": [
        "\n",
        "Reading page 6 / 10"
       ]
      },
      {
       "output_type": "stream",
       "stream": "stdout",
       "text": [
        "\n",
        "Reading page 7 / 10"
       ]
      },
      {
       "output_type": "stream",
       "stream": "stdout",
       "text": [
        "\n",
        "Reading page 8 / 10"
       ]
      },
      {
       "output_type": "stream",
       "stream": "stdout",
       "text": [
        "\n",
        "Reading page 9 / 10"
       ]
      },
      {
       "output_type": "stream",
       "stream": "stdout",
       "text": [
        "\n",
        "Reading page 10 / 10"
       ]
      },
      {
       "output_type": "stream",
       "stream": "stdout",
       "text": [
        "\n",
        "1000 games found: [('Twilight Struggle', '2005'), ('Through the Ages: A Story of Civilization', '2006'), ('Agricola', '2007'), ('Terra Mystica', '2012'), ('Puerto Rico', '2002'), ('Android: Netrunner', '2012'), ('Caverna: The Cave Farmers', '2013'), ('Eclipse', '2011'), ('Power Grid', '2004'), ('Mage Knight Board Game', '2011'), ('The Castles of Burgundy', '2011'), ('Le Havre', '2008'), ('Robinson Crusoe: Adventure on the Cursed Island', '2012'), ('Brass', '2007'), (\"Tzolk'in: The Mayan Calendar\", '2012'), ('War of the Ring (second edition)', '2012'), ('Caylus', '2005'), ('7 Wonders', '2010'), ('Dominion: Intrigue', '2009'), ('Dominant Species', '2010'), ('Dominion', '2008'), ('El Grande', '1995'), ('Star Wars: X-Wing Miniatures Game', '2012'), ('Race for the Galaxy', '2007'), ('Mage Wars', '2012'), ('Battlestar Galactica', '2008'), ('Lords of Waterdeep', '2012'), ('The Resistance: Avalon', '2012'), ('Twilight Imperium (Third Edition)', '2005'), ('Tigris & Euphrates', '1997'), ('Eldritch Horror', '2013'), ('War of the Ring (first edition)', '2004'), ('Descent: Journeys in the Dark (Second Edition)', '2012'), ('A Game of Thrones: The Board Game (Second Edition)', '2011'), ('Keyflower', '2012'), ('Ora et Labora', '2011'), ('Trajan', '2011'), ('Crokinole', '1867'), ('Commands & Colors: Ancients', '2006'), ('Nations', '2013'), ('Paths of Glory', '1999'), ('Steam', '2009'), ('Stone Age', '2008'), ('Pandemic', '2008'), ('Russian Railroads', '2013'), ('Goa', '2004'), ('Combat Commander: Europe', '2006'), ('Summoner Wars: Master Set', '2011'), ('Troyes', '2010'), ('Age of Steam', '2002'), ('Railways of the World', '2005'), ('The Princes of Florence', '2000'), ('Suburbia', '2012'), ('Pathfinder Adventure Card Game: Rise of the Runelords \u2013 Base Set', '2013'), ('Chaos in the Old World', '2009'), ('Tichu', '1991'), ('Hannibal: Rome vs. Carthage', '1996'), ('Go', '-2200'), ('Runewars', '2010'), ('Here I Stand', '2006'), ('Ticket to Ride: Europe', '2005'), ('Imperial', '2006'), ('Age of Empires III: The Age of Discovery', '2007'), ('Space Alert', '2008'), ('Village', '2011'), ('Hansa Teutonica', '2009'), ('Shogun', '2006'), ('The Lord of the Rings: The Card Game', '2011'), (\"Sid Meier's Civilization: The Board Game\", '2010'), ('Ticket to Ride: Nordic Countries', '2007'), ('Lewis & Clark', '2013'), ('Galaxy Trucker', '2007'), ('Cosmic Encounter', '2008'), ('Ticket to Ride', '2004'), ('Die Macher', '1986'), ('Kemet', '2012'), ('The Resistance', '2009'), ('Blood Bowl: Living Rulebook', '2004'), ('Glory to Rome', '2005'), (\"Memoir '44\", '2004'), ('Ra', '1999'), ('Imperial 2030', '2009'), ('Mice and Mystics', '2012'), ('Navegador', '2010'), ('King of Tokyo', '2011'), ('Claustrophobia', '2009'), ('Love Letter', '2012'), ('YINSH', '2003'), ('Earth Reborn', '2010'), ('Small World', '2009'), ('Bora Bora', '2013'), ('1960: The Making of the President', '2007'), ('Alien Frontiers', '2010'), ('1830: Railways & Robber Barons', '1986'), ('Dungeon Petz', '2011'), ('Dungeon Lords', '2009'), ('Sentinels of the Multiverse', '2011'), ('Space Hulk (third edition)', '2009'), ('Advanced Squad Leader', '1985'), ('Dixit Odyssey', '2011'), ('Risk Legacy', '2011'), ('Carcassonne', '2000'), ('Dixit', '2008'), ('Cyclades', '2009'), ('Agricola:  All Creatures Big and Small', '2012'), ('Jaipur', '2009'), ('Endeavor', '2009'), ('Legendary: A Marvel Deck Building Game', '2012'), ('Arkham Horror', '2005'), ('Samurai', '1998'), ('Seasons', '2012'), ('Dune', '1979'), ('Hanabi', '2010'), ('Antiquity', '2004'), ('Civilization', '1980'), ('A Few Acres of Snow', '2011'), ('Battle Line', '2000'), ('In the Year of the Dragon', '2007'), ('Concordia', '2013'), ('Magic: The Gathering', '1993'), ('BattleLore', '2006'), ('Zombicide', '2012'), ('Notre Dame', '2007'), ('Merchants & Marauders', '2010'), ('Letters from Whitechapel', '2011'), ('Acquire', '1964'), ('Hive', '2001'), ('Ghost Stories', '2008'), ('The Settlers of Catan', '1995'), ('Mansions of Madness', '2011'), ('Indonesia', '2005'), ('Flash Point: Fire Rescue', '2011'), ('Clash of Cultures', '2012'), ('Descent: Journeys in the Dark', '2005'), ('Macao', '2009'), ('Hammer of the Scots', '2002'), ('Tikal', '1999'), ('Blood Bowl (Third Edition)', '1994'), ('Wallenstein (first edition)', '2002'), ('London', '2010'), ('The Manhattan Project', '2012'), ('Splendor', '2014'), ('Saint Petersburg', '2004'), ('Amun-Re', '2003'), ('Thunderstone Advance: Towers of Ruin', '2012'), ('Blood Bowl: Team Manager \u2013 The Card Game', '2011'), ('Ticket to Ride: M\u00e4rklin', '2006'), ('Small World Underground', '2011'), (\"Napoleon's Triumph\", '2007'), ('Lancaster', '2011'), ('Forbidden Desert', '2013'), ('San Juan', '2004'), ('Maria', '2009'), ('Sekigahara: The Unification of Japan', '2011'), ('Struggle of Empires', '2004'), ('Fresco', '2010'), ('Bruges', '2013'), ('Egizia', '2009'), ('Roads & Boats', '1999'), ('Conflict of Heroes: Awakening the Bear! \u2013 Russia 1941-42', '2008'), ('Modern Art', '1992'), ('Up Front', '1983'), ('Combat Commander: Pacific', '2008'), ('Taj Mahal', '2000'), ('Neuroshima Hex!', '2006'), ('The Pillars of the Earth', '2006'), ('Survive: Escape from Atlantis!', '1982'), ('Takenoko', '2011'), ('A Game of Thrones (first edition)', '2003'), ('Automobile', '2009'), ('Star Wars: The Card Game', '2012'), ('Vinhos', '2010'), ('Summoner Wars', '2009'), ('Sherlock Holmes Consulting Detective', '1981'), ('At the Gates of Loyang', '2009'), ('Heroscape Master Set: Rise of the Valkyrie', '2004'), ('The Republic of Rome', '1990'), ('Glen More', '2010'), ('1989: Dawn of Freedom', '2012'), ('Commands & Colors: Napoleonics', '2010'), ('Innovation', '2010'), ('Labyrinth: The War on Terror, 2001-?', '2010'), ('Kingsburg', '2007'), ('Ingenious', '2004'), ('Citadels', '2000'), ('Star Realms', '2013'), ('Star Trek: Fleet Captains', '2011'), ('Airlines Europe', '2011'), ('Spartacus: A Game of Blood & Treachery', '2012'), ('Belfort', '2011'), ('RoboRally', '1994'), ('Telestrations', '2009'), ('Vikings', '2007'), ('Carson City', '2009'), ('Defenders of the Realm', '2010'), ('Advanced Squad Leader: Starter Kit #1', '2004'), ('Nexus Ops', '2005'), ('For Sale', '1997'), ('Summoner Wars: Guild Dwarves vs Cave Goblins', '2009'), (\"Time's Up!\", '1999'), ('DVONN', '2001'), (\"Washington's War\", '2010'), ('Trains', '2012'), ('Age of Industry', '2010'), ('StarCraft: The Board Game', '2007'), ('Summoner Wars: Phoenix Elves vs Tundra Orcs', '2009'), ('Warhammer: Invasion', '2009'), ('Coup', '2012'), ('Glass Road', '2013'), ('TZAAR', '2007'), ('Targi', '2012'), ('Gears of War: The Board Game', '2011'), ('Tales of the Arabian Nights', '2009'), ('Chicago Express', '2007'), ('Thunderstone: Dragonspire', '2011'), ('Space Hulk', '1989'), ('Last Will', '2011'), (\"Time's Up! Title Recall!\", '2008'), (\"Tinners' Trail\", '2008'), ('Conflict of Heroes: Storms of Steel! \u2013 Kursk 1943', '2009'), ('Marvel Dice Masters: Avengers vs. X-Men', '2014'), ('Cuba', '2007'), ('Friday', '2011'), ('Thurn and Taxis', '2006'), ('PitchCar', '1995'), ('Friedrich', '2004'), ('Archipelago', '2012'), ('Dungeons & Dragons: The Legend of Drizzt Board Game', '2011'), ('Escape: The Curse of the Temple', '2012'), ('Fury of Dracula', '2005'), ('Middle-Earth Quest', '2009'), ('Lord of the Rings: The Confrontation', '2002'), ('Thebes', '2007'), ('Vegas Showdown', '2005'), ('Vasco da Gama', '2009'), ('Homesteaders', '2009'), ('Ginkgopolis', '2012'), ('BattleLore (Second Edition)', '2013'), ('Shadows over Camelot', '2005'), ('Genoa', '2001'), ('Libertalia', '2012'), ('Lost Cities', '1999'), ('Euphoria: Build a Better Dystopia', '2013'), ('Bridge', '1925'), ('Union Pacific', '1999'), ('Dixit: Journey', '2012'), ('Yspahan', '2006'), ('Legends of Andor', '2012'), ('Smash Up: Awesome Level 9000', '2013'), ('Torres', '1999'), ('Mr. Jack', '2006'), ('Amerigo', '2013'), ('Ascension: Storm of Souls', '2011'), ('Tribune: Primus Inter Pares', '2007'), ('Stronghold', '2009'), ('Carcassonne: Hunters and Gatherers', '2002'), ('Heroscape Master Set: Swarm of the Marro', '2007'), ('Bohnanza', '1997'), ('Myrmes', '2012'), ('Luna', '2010'), ('Web of Power', '2000'), ('Reef Encounter', '2004'), ('Bruxelles 1893', '2013'), ('Formula D', '2008'), ('World Without End', '2009'), ('Snowdonia', '2012'), ('Squad Leader', '1977'), ('Colosseum', '2007'), ('Z\u00c8RTZ', '1999'), ('BattleCON: Devastation of Indines', '2013'), ('Ascension: Return of the Fallen', '2011'), ('Last Night on Earth: The Zombie Game', '2007'), ('Battles of Westeros', '2010'), ('Firefly: The Game', '2013'), ('Through the Desert', '1998'), ('K2', '2010'), ('Thunderstone', '2009'), ('Tobago', '2009'), (\"Star Wars: The Queen's Gambit\", '2000'), ('Eminent Domain', '2011'), ('Maharaja: The Game of Palace Building in India', '2004'), ('Virgin Queen', '2012'), ('Netrunner', '1996'), ('Jambo', '2004'), ('Spyrium', '2013'), ('Taluva', '2006'), ('San Marco', '2001'), ('Princes of the Renaissance', '2003'), ('Louis XIV', '2005'), ('Kingdom Builder', '2011'), ('Dungeons & Dragons: Wrath of Ashardalon Board Game', '2011'), ('Alhambra', '2003'), ('1775: Rebellion', '2013'), ('One Night Ultimate Werewolf', '2014'), ('D-Day at Omaha Beach', '2009'), ('The Downfall of Pompeii', '2004'), ('Chess', '1475'), ('Space Empires: 4X', '2011'), ('Britannia', '1986'), ('Carcassonne: The City', '2004'), ('Core Worlds', '2011'), ('Santiago', '2003'), ('Ascension: Chronicle of the Godslayer', '2010'), ('La Citt\u00e0', '2000'), ('Tide of Iron', '2007'), ('A Game of Thrones: The Card Game', '2008'), ('Ultimate Werewolf: Ultimate Edition', '2008'), ('Hawaii', '2011'), ('Wilderness War', '2001'), ('Antike', '2005'), ('Discworld: Ankh-Morpork', '2011'), ('Blokus', '2000'), ('Medici', '1995'), ('Mr. Jack in New York', '2009'), ('Chinatown', '1999'), ('Blue Moon City', '2006'), ('Dream Factory', '2000'), ('Diplomacy', '1959'), ('Vinci', '1999'), ('Shipyard', '2009'), ('Istanbul', '2014'), ('Biblios', '2007'), ('No Thanks!', '2004'), ('Wits & Wagers', '2005'), ('Carcassonne: The Castle', '2003'), ('Ninjato', '2011'), ('Schotten-Totten', '1999'), ('No Retreat! The Russian Front', '2011'), ('Francis Drake', '2013'), ('Coloretto', '2003'), ('Yedo', '2012'), ('Yomi', '2011'), ('Elder Sign', '2011'), ('Rex: Final Days of an Empire', '2012'), ('Betrayal at House on the Hill', '2004'), ('CO\u2082', '2012'), ('Rococo', '2013'), ('Merchant of Venus (second edition)', '2012'), ('Battle Cry', '2000'), ('Attika', '2003'), ('History of the World', '1991'), ('Roll Through the Ages: The Bronze Age', '2008'), ('Wiz-War (eighth edition)', '2012'), ('Manoeuvre', '2008'), ('Planet Steam', '2008'), ('Advanced Squad Leader: Starter Kit #2', '2005'), ('Zombicide Season 2: Prison Outbreak', '2013'), ('Finca', '2009'), ('Forbidden Island', '2010'), ('The Speicherstadt', '2010'), ('China', '2005'), ('Polis: Fight for the Hegemony', '2012'), ('Formula D\u00e9', '1991'), ('Madeira', '2013'), ('Rampage', '2013'), (\"Loopin' Louie\", '1992'), ('Freedom: The Underground Railroad', '2012'), ('Keythedral', '2002'), ('Legacy: The Testament of Duke de Crecy', '2013'), ('Lords of Vegas', '2010'), ('Vanuatu', '2011'), (\"The Werewolves of Miller's Hollow\", '2001'), ('Quarriors!', '2011'), ('1812: The Invasion of Canada', '2012'), (\"Liar's Dice\", '1987'), ('Quantum', '2013'), ('Eat Poop You Cat', '1984'), ('Dungeons & Dragons: Castle Ravenloft Board Game', '2010'), ('Merchant of Venus', '1988'), ('Container', '2007'), ('Smash Up', '2012'), ('Caylus Magna Carta', '2007'), ('Yggdrasil', '2011'), ('Catacombs', '2010'), ('Tammany Hall', '2007'), ('Domaine', '2003'), ('Haggis', '2010'), ('Primordial Soup', '1997'), ('Libert\u00e9', '2001'), ('Andean Abyss', '2012'), ('Julius Caesar', '2010'), ('Mahjong', '1850'), ('The New Era', '2011'), ('Morels', '2012'), ('Mr. Jack Pocket', '2010'), ('Space Hulk: Death Angel \u2013 The Card Game', '2010'), ('Warhammer Quest', '1995'), ('Zooloretto', '2007'), ('Hamburgum', '2007'), ('Metropolys', '2008'), ('Power Grid: Factory Manager', '2009'), ('Ascending Empires', '2011'), ('Europe Engulfed', '2003'), ('Ricochet Robots', '1999'), ('Cribbage', '1630'), ('Jamaica', '2007'), ('Peloponnes', '2009'), ('Star Trek: Attack Wing', '2013'), ('Snow Tails', '2008'), ('Advanced Squad Leader: Starter Kit #3', '2007'), ('Manila', '2005'), ('Ikusa', '1986'), ('Hacienda', '2005'), ('Guildhall', '2012'), ('Fauna', '2008'), (\"Hey, That's My Fish!\", '2003'), (\"Witch's Brew\", '2008'), ('Axis & Allies Anniversary Edition', '2008'), ('Java', '2000'), ('Pax Porfiriana', '2012'), ('Arkadia', '2006'), ('High Frontier', '2010'), ('Ambush!', '1983'), ('Strasbourg', '2011'), ('De Vulgari Eloquentia', '2010'), ('The Rivals for Catan', '2010'), ('Zendo', '1997'), ('Runebound (Second Edition)', '2005'), ('Warmachine Prime Mk II', '2010'), ('Category 5', '1994'), ('A Study in Emerald', '2013'), ('Hansa', '2004'), ('L\u00f6wenherz', '1997'), ('Lord of the Rings', '2000'), ('Tumblin-Dice', '2004'), ('Coal Baron', '2013'), (\"Can't Stop\", '1980'), ('M\u00fc & More', '1995'), ('Rise of Empires', '2009'), ('Tash-Kalar: Arena of Legends', '2013'), ('Medina', '2001'), ('1856', '1995'), ('Meuterer', '2000'), ('Successors (third edition)', '2008'), ('Evo', '2001'), ('Blokus Duo', '2005'), ('Fleet', '2012'), ('Wars of the Roses: Lancaster vs. York', '2010'), ('The Scepter of Zavandor', '2004'), ('Shadow Hunters', '2005'), ('Rallyman', '2009'), ('For the People', '1998'), ('Among the Stars', '2012'), (\"Winner's Circle\", '2001'), ('GIPF', '1997'), ('The Great Zimbabwe', '2012'), ('Amyitis', '2007'), ('Steam Park', '2013'), ('Ingenious: Travel Edition', '2006'), ('In the Shadow of the Emperor', '2004'), ('A Touch of Evil: The Supernatural Game', '2008'), ('Mexica', '2002'), ('Aquaretto', '2008'), ('Bang! The Dice Game', '2013'), ('Power Struggle', '2009'), ('Catan Card Game', '1996'), ('Mykerinos', '2006'), ('Qwirkle', '2006'), ('Titan', '1980'), ('Fortune and Glory: The Cliffhanger Game', '2011'), ('Breakout: Normandy', '1992'), ('HeroQuest', '1989'), ('Fire & Axe: A Viking Saga', '2004'), ('Mission: Red Planet', '2005'), ('The Palaces of Carrara', '2012'), ('Wallenstein (second edition)', '2012'), ('Dungeon Twister', '2004'), ('Sword of Rome', '2004'), ('Colossal Arena', '1997'), ('Rialto', '2013'), ('Call of Cthulhu: The Card Game', '2008'), ('Krosmaster: Arena', '2012'), ('Factory Fun', '2006'), ('Wings of War: Famous Aces', '2004'), ('The Duke', '2013'), ('Cosmic Encounter', '1977'), ('Doom: The Boardgame', '2004'), ('Rattus', '2010'), ('Aton', '2005'), ('Olympos', '2011'), ('Duel of Ages II', '2013'), ('A Victory Lost', '2006'), ('Incan Gold', '2006'), ('Kremlin', '1986'), ('Sticheln', '1993'), ('The Civil War', '1983'), ('Firenze', '2010'), ('Say Anything', '2008'), ('Age of Renaissance', '1996'), (\"Aladdin's Dragons\", '2000'), ('Himalaya', '2002'), ('Mystery Rummy: Jack the Ripper', '1998'), ('D-Day Dice', '2012'), ('Puzzle Strike (Third Edition)', '2012'), ('Wizard', '1984'), ('Roma', '2005'), ('Cuba Libre', '2013'), ('Tournay', '2011'), ('Ys', '2004'), ('Power Grid: The First Sparks', '2011'), ('Cleopatra and the Society of Architects', '2006'), ('Dice Town', '2009'), ('Rune Age', '2011'), ('BattleCON: War of Indines', '2010'), ('Fairy Tale', '2004'), ('Augustus', '2013'), ('We the People', '1994'), ('Rommel in the Desert', '1982'), ('Asara', '2010'), ('Ascension: Immortal Heroes', '2012'), ('Las Vegas', '2012'), ('Santiago de Cuba', '2011'), ('Starship Catan', '2001'), ('Empires in Arms', '1983'), ('Ubongo', '2003'), ('Blokus Trigon', '2006'), ('Blokus 3D', '2003'), ('Steel Driver', '2008'), ('Giants', '2008'), ('Thunderbolt Apache Leader', '2012'), ('Dungeon Twister 2: Prison', '2009'), ('Carolus Magnus', '2000'), ('Warrior Knights', '2006'), ('Blue Moon', '2004'), ('Ad Astra', '2009'), ('Elfenland', '1998'), ('World in Flames', '1985'), ('Diamonds Club', '2008'), ('Le Havre: The Inland Port', '2012'), ('Tokaido', '2012'), ('A House Divided', '1981'), ('Bausack', '1987'), ('Leonardo da Vinci', '2006'), ('Castaways', '2013'), ('51st State', '2010'), ('Ground Floor', '2012'), ('Cards Against Humanity', '2009'), ('Castle Panic', '2009'), ('Viticulture', '2013'), (\"Ca$h 'n Gun$\", '2005'), ('Wyatt Earp', '2001'), ('Spot it!', '2009'), ('Bonaparte at Marengo', '2005'), ('Necromunda', '1995'), ('Junta', '1978'), ('Gulo Gulo', '2003'), ('High Society', '1995'), ('Animal Upon Animal', '2005'), ('DC Comics Deck-Building Game', '2012'), (\"I'm the Boss!\", '1994'), ('Level 7 [Omega Protocol]', '2013'), ('On the Underground', '2006'), ('Show Manager', '1996'), ('Conflict of Heroes: Awakening the Bear! (second edition)', '2012'), ('Star Wars: Epic Duels', '2002'), ('Confusion:  Espionage and Deception in the Cold War', '1992'), ('Space Cadets: Dice Duel', '2013'), ('Starfarers of Catan', '1999'), ('Inca Empire', '2010'), ('Merkator', '2010'), ('Super Dungeon Explore', '2011'), ('Havana', '2009'), ('Axis & Allies Europe 1940', '2010'), ('Nefertiti', '2008'), ('Xiangqi', '762'), ('Napoleon: The Waterloo Campaign, 1815', '1974'), ('Helvetia', '2011'), ('Wings of War: Burning Drachens', '2005'), ('Heroscape Master Set:  Battle for the Underdark', '2010'), ('Perikles', '2006'), ('Evo (second edition)', '2011'), ('Mascarade', '2013'), ('Neuroshima Hex! Duel', '2009'), ('Eight-Minute Empire', '2012'), ('BattleTech', '1985'), ('Big City', '1999'), ('Saboteur', '2004'), ('Magic Realm', '1979'), ('Dungeon Fighter', '2011'), ('Warriors of God', '2008'), ('Cartagena', '2000'), ('Arena: Roma II', '2009'), ('Founding Fathers', '2010'), ('Pergamon', '2011'), ('Nothing Personal', '2013'), ('2 de Mayo', '2008'), ('Stephensons Rocket', '1999'), ('Hab & Gut', '2008'), ('Empire Builder', '1982'), ('Battle Cry: 150th Civil War Anniversary Edition', '2010'), ('The Magic Labyrinth', '2009'), ('Middle-Earth', '1995'), ('Wings of War: Deluxe Set', '2007'), ('Wings of War: Watch Your Back!', '2005'), ('Balloon Cup', '2003'), ('Pr\u00eat-\u00e0-Porter', '2010'), ('Werewolf', '1986'), ('Tsuro', '2004'), ('Sushi Go!', '2013'), ('K\u00f6nig von Siam', '2007'), ('Hornet Leader: Carrier Air Operations', '2010'), ('City of Iron', '2013'), ('Fighting Formations: Grossdeutschland Motorized Infantry Division', '2011'), ('Vampire: The Eternal Struggle', '1994'), ('Timeline: Inventions', '2010'), ('Ogre', '1977'), ('Bang!', '2002'), ('Turn the Tide', '1997'), ('PitchCar Mini', '2003'), ('Shogi', '1000'), ('Condottiere', '1995'), ('Poker', '1810'), ('Funkenschlag', '2001'), ('Hermagor', '2006'), ('EastFront', '1991'), ('Mordheim: City of the Damned', '1999'), ('Royal Palace', '2008'), ('Lost Cities: The Board Game', '2008'), ('Oregon', '2007'), ('Eurorails', '1990'), ('Zing!', '2003'), ('Diamant', '2005'), ('Star Trek: Catan', '2012'), ('Revolution: The Dutch Revolt 1568-1648', '2004'), ('Fearsome Floors', '2003'), ('1870', '1992'), ('Parade', '2007'), ('Qu\u00e9bec', '2011'), ('Antike Duellum', '2012'), ('Ghost Blitz', '2010'), ('Skull & Roses', '2011'), ('EastFront II', '2006'), ('Legend of the Five Rings', '1995'), ('Android', '2008'), ('The Russian Campaign', '1974'), ('A Castle for All Seasons', '2008'), ('Onirim', '2010'), ('Axis & Allies', '2004'), (\"Time's Up! Deluxe\", '2008'), ('The Princes of Machu Picchu', '2008'), ('Serenissima (first edition)', '1996'), ('Ch\u00e2teau Roquefort', '2007'), ('Space Cadets', '2012'), ('Last Train to Wensleydale', '2009'), ('Richard III: The Wars of the Roses', '2009'), ('Drum Roll', '2011'), ('TransAmerica', '2001'), ('Crusader Rex', '2005'), ('Atlantic Star', '2001'), ('Conquest of the Empire', '2005'), ('Horus Heresy', '2010'), ('Empire of the Sun', '2005'), ('Pueblo', '2002'), ('Jungle Speed', '1997'), ('Unhappy King Charles!\\t', '2008'), ('Risk 2210 A.D.', '2001'), ('Wealth of Nations', '2008'), ('A Distant Plain', '2013'), ('The Ark of the Covenant', '2003'), ('Quarto!', '1991'), ('SPQR (Deluxe Edition)', '2008'), ('Settlers of America: Trails to Rails', '2010'), ('Edel, Stein & Reich', '2003'), ('Mare Nostrum', '2003'), ('Magnum Sal', '2010'), ('Eight-Minute Empire: Legends', '2013'), ('The Red Dragon Inn 2', '2008'), ('20th Century', '2010'), ('Wooden Ships & Iron Men', '1974'), ('Conquest of Planet Earth: The Space Alien Game', '2011'), ('Kahuna', '1998'), ('Last Night on Earth: Timber Peak', '2012'), ('Um Reifenbreite', '1979'), ('Elasund: The First City', '2005'), ('Talisman (Revised 4th Edition)', '2007'), ('League of Six', '2007'), ('Manhattan', '1994'), ('Daytona 500', '1990'), (\"God's Playground\", '2009'), ('Warmachine', '2003'), ('RAF: The Battle of Britain 1940', '2009'), ('Quoridor', '1997'), ('Copycat', '2012'), ('Urban Sprawl', '2011'), ('Concept', '2013'), ('Walnut Grove', '2011'), (\"Pirate's Cove\", '2002'), ('Sylla', '2008'), ('Cold War: CIA vs KGB', '2007'), (\"Odin's Ravens\", '2002'), ('Campaign Manager 2008', '2009'), ('Sleuth', '1971'), ('Omen: A Reign of War', '2011'), ('The Bottle Imp', '1995'), ('Razzia!', '2004'), ('Revolution!', '2009'), ('Strike of the Eagle', '2011'), ('Ta Y\u00fc', '1999'), ('Valdora', '2009'), ('Traders of Carthage', '2006'), ('Axis & Allies Pacific 1940', '2009'), ('Relic', '2013'), ('Heroscape Marvel: The Conflict Begins', '2007'), ('World War II: Barbarossa to Berlin', '2002'), ('Blueprints', '2013'), ('Pastiche', '2011'), ('Assyria', '2009'), ('Edo', '2012'), ('Samarkand: Routes to Riches', '2010'), ('Monsterpocalypse', '2008'), ('Cutthroat Caverns', '2007'), ('Oltre Mare', '2004'), ('Lost Valley', '2004'), ('Theseus: The Dark Orbit', '2013'), ('El Capit\u00e1n', '2007'), ('Ra: The Dice Game', '2009'), ('The Napoleonic Wars (Second Edition)', '2008'), ('New Amsterdam', '2012'), ('Smash Up: Science Fiction Double Feature', '2014'), ('Timeline: Historical Events', '2011'), ('Babel', '2000'), ('The Bridges of Shangri-La', '2003'), ('Room 25', '2013'), ('FAB: The Bulge', '2008'), ('City of Horror', '2012'), ('Mall of Horror', '2005'), ('The Boss', '2010'), ('Puzzle Strike', '2010'), ('Warhammer: Diskwars', '2013'), ('Pixel Tactics', '2012'), ('Kingdoms', '1994'), ('Hare & Tortoise', '1973'), ('The End of the Triumvirate', '2005'), ('Key Market', '2010'), ('Oasis', '2004'), ('Felix: The Cat in the Sack', '2007'), ('Rosenk\u00f6nig', '1997'), ('Ave Caesar', '1989'), ('Strat-O-Matic Baseball', '1962'), ('Ubongo 3D', '2009'), ('Nightfall', '2011'), ('Bootleggers', '2004'), ('Canal Mania', '2006'), ('Wiz-War', '1983'), ('Capitol', '2001'), ('The Great Battles of Alexander: Deluxe Edition', '1995'), ('Battletech Introductory Box Set', '2002'), ('Isla Dorada', '2010'), ('Victory in the Pacific', '1977'), ('The Adventurers: The Temple of Chac', '2009'), ('DungeonQuest (third edition)', '2010'), ('Qwixx', '2012'), ('Dreamblade', '2006'), ('Battlestations', '2004'), ('Archaeology: The Card Game', '2007'), ('Agents of SMERSH', '2012'), ('Guillotine', '1998'), ('Fjords', '2005'), ('Niagara', '2004'), ('Hamsterrolle', '2000'), ('Poseidon', '2010'), ('Arctic Scavengers', '2009'), ('The Hanging Gardens', '2008'), ('Space Crusade', '1990'), ('The Little Prince: Make Me a Planet', '2013'), ('Smash Up: The Obligatory Cthulhu Set', '2013'), ('Machi Koro', '2012'), ('Infiltration', '2012'), ('Subbuteo', '1947'), ('Kreta', '2005'), ('Dungeons & Dragons: Conquest of Nerath Board Game', '2011'), ('Long Shot', '2009'), ('Horse Fever', '2009'), ('Carrom', nan), ('FITS', '2009'), ('Iron Dragon', '1994'), ('Verr\u00e4ter', '1998'), ('Kamisado', '2008'), ('Puzzle Strike Shadows', '2012'), ('Wasabi!', '2008'), ('Kings of Air and Steam', '2013'), ('Tower of Babel', '2005'), ('Trans Europa', '2005'), (\"You're Bluffing!\", '1985'), ('Pantheon', '2011'), ('1860: Railways on the Isle of Wight', '2004'), ('Mystery of the Abbey', '1995'), ('Constantinopolis', '2010'), ('Nuns on the Run', '2010'), ('Scotland Yard', '1983'), ('Key Harvest', '2007'), ('Silverton', '1991'), ('GOSU', '2010'), ('Ascension: Rise of Vigil', '2013'), (\"Ardennes '44\", '2003'), ('First Train to Nuremberg', '2010'), ('TurfMaster', '1998'), ('Merchants of the Middle Ages', '1999'), ('Perry Rhodan: The Cosmic League', '2007'), ('Beyond Balderdash', '1993'), ('Spades', '1938'), ('Field Commander: Napoleon', '2011'), ('Hoity Toity', '1990'), ('Basari', '1998'), ('Identik', '2005'), ('Clans', '2002'), ('Lifeboats', '1993'), ('Powerboats', '2008'), ('World at War: Eisenbach Gap', '2007'), ('Mondo', '2011'), ('Industrial Waste', '2001'), ('Nightfall: Martial Law', '2011'), ('Kupferkessel Co.', '2001'), ('Fortress America', '1986'), (\"Frank's Zoo\", '1999'), ('DungeonQuest', '1985'), ('Cosmic Encounter', '1991'), ('The Red Dragon Inn', '2007'), ('Timeline: Diversity', '2012'), ('La Boca', '2013'), ('Palastgefl\u00fcster', '2007'), ('P\u00dcNCT', '2005'), ('Olympus', '2010'), ('Pyramid', '2008'), ('Full Metal Planete', '1988'), ('Revolver', '2011'), ('Alea Iacta Est', '2009'), (\"Lock 'n Load: Band of Heroes\", '2005'), (\"The Devil's Cauldron: The Battles for Arnhem and Nijmegen\", '2008'), ('Invasion from Outer Space: The Martian Game', '2010'), ('Pickomino', '2005'), ('Illuminati:  Deluxe Edition', '1987'), ('Wings of War: The Dawn of World War II', '2007'), ('Fields of Fire', '2008'), ('Flying Colors', '2005'), ('The Great Dalmuti', '1995'), ('O Zoo le Mio', '2002'), ('Once Upon a Time: The Storytelling Card Game', '1993'), ('Backgammon', '-3000'), ('The Hunters: German U-Boats at War, 1939-43', '2013'), ('Galaxy Defenders', '2014'), ('Botswana', '1994'), ('The Settlers of Catan: Travel Edition', '2002'), ('Tikal II: The Lost Temple', '2010'), ('7 Ages', '2004'), ('Boss Monster: The Dungeon Building Card Game', '2013'), ('World of Warcraft: The Boardgame', '2005'), ('Noblemen', '2012'), ('Giganten', '1999'), ('Carcassonne: South Seas', '2013'), ('Age of Conan: The Strategy Board Game', '2009'), ('Pursuit of Glory', '2008'), ('Famiglia', '2010'), ('Prophecy', '2002'), ('Dungeon Command: Heart of Cormyr', '2012'), ('Dragonheart', '2010'), ('Blockers!', '2007'), ('Kolejka', '2011'), ('Timbuktu', '1993'), ('Il Vecchio', '2012'), ('Euchre', '1848'), ('R-Eco', '2003'), ('Dead of Winter: A Crossroads Game', '2014'), ('Warhammer', '1983'), ('Marrakech', '2007'), ('Drako', '2011'), ('A Gamut of Games', '1969'), ('Boomtown', '2004'), ('American Rails', '2009'), ('Ace of Aces: Handy Rotary Series', '1980'), ('Blue Max', '1983'), ('Carcassonne: Winter Edition', '2012'), ('B-17: Queen of the Skies', '1981'), ('The Kids of Carcassonne', '2009'), ('The Adventurers: The Pyramid of Horus', '2011'), ('DreadBall: The Futuristic Sports Game', '2012'), ('Byzantium', '2005'), ('Deadlands: Doomtown', '1998'), ('Mamma Mia!', '1999'), ('Around the World in 80 Days', '2004'), ('The Fury of Dracula', '1987'), ('Expedition', '1996'), ('Machiavelli', '1977'), ('City of Remnants', '2013'), ('Code 777', '1985'), ('Dungeon Command: Sting of Lolth', '2012'), ('Pictomania', '2011'), ('Outpost', '1991'), ('Ubongo Extreme', '2007'), ('Merchants of Amsterdam', '2000'), ('The Settlers of the Stone Age', '2002'), ('Masons', '2006'), ('CV', '2013'), ('Tales of the Arabian Nights', '1985'), ('SET', '1988'), ('Ubongo: Duel', '2008'), ('Khet: The Laser Game', '2005'), ('Sobek', '2010'), ('Tempus', '2006'), ('Timeline: Discoveries', '2011'), ('VivaJava: The Coffee Game', '2012'), ('Paris Connection', '2010'), ('The Battle for Hill 218', '2007'), ('Phoenicia', '2007'), ('Axis & Allies', '1981'), ('Gunslinger', '1982'), ('Leader 1', '2008'), ('Money!', '1999'), ('Grand Cru', '2010'), ('Battleground: Fantasy Warfare', '2005'), ('Liberty Roads', '2009'), ('Storm over Arnhem', '1981'), ('Die Siedler von N\u00fcrnberg', '1999'), ('Drakon (third edition)', '2006'), ('Sorry! Sliders', '2008'), ('TAMSK', '1998'), (\"Colonial: Europe's Empires Overseas\", '2011'), ('Greed Incorporated', '2009'), ('Espa\u00f1a 1936', '2007'), ('Flat Top', '1977'), ('Norenberc', '2010'), ('Keltis', '2008'), ('Where There Is Discord: War in the South Atlantic', '2009'), ('Chicken Cha Cha Cha', '1997'), ('Pick Picknic', '2001'), ('Before the Wind', '2007'), ('Dust Tactics', '2010'), ('Hera and Zeus', '2000'), ('The Red Dragon Inn 3', '2011'), ('18AL', '1999'), ('Villa Paletti', '2001'), ('Navajo Wars', '2013'), ('Legacy: Gears of Time', '2012'), ('Samurai Sword', '2012'), ('Take it Easy!', '1983'), ('Infinity: A Skirmish Game', '2005'), ('Mystery Express', '2010'), ('Florenza', '2010'), ('Rise and Decline of the Third Reich', '1974'), ('Galactic Emperor', '2008'), ('Ribbit', '2004'), ('Dawn of the Zeds (Second edition)', '2013'), ('Palazzo', '2005'), ('After the Flood', '2008'), ('To Court the King', '2006'), ('Red Winter: The Soviet Attack at Tolvaj\u00e4rvi, Finland \u2013 8-12 December 1939', '2012'), ('Wits & Wagers Family', '2010'), ('WildLife', '2002'), ('The Golden City', '2009'), ('Riff Raff', '2012'), ('Guildhall: Job Faire', '2013'), ('Medieval Merchant', '1998'), ('Gemblo', '2005'), ('Battleship Galaxies: The Saturn Offensive Game Set', '2011'), ('Skat', '1810'), ('Word on the Street', '2009'), ('Caesar & Cleopatra', '1997'), ('Pente', '1977'), ('Axis & Allies: 1942', '2009'), (\"Normandy '44\", '2010'), ('Thunder Alley', '2014'), ('RAF', '1986'), ('The Climbers', '2008'), ('Compounded', '2013'), ('Age of Napoleon', '2003'), ('1861: The Railways of the Russian Empire', '2006'), ('Cathedral', '1978'), ('Duel in the Dark', '2007'), (\"Man O' War\", '1993'), ('The Castle of the Devil', '2006'), ('Federation Commander: Klingon Border', '2005'), ('Space Dealer', '2006'), ('Cavum', '2008'), ('World of Warcraft Trading Card Game', '2006'), ('Phantom Leader', '2010'), ('Inkognito', '1988'), ('Witch of Salem', '2008'), ('Star Wars Miniatures', '2004'), ('Police Precinct', '2013'), ('A Brief History of the World', '2009'), ('Mus', '1745'), ('Silent War', '2005'), ('The Lord of the Rings Trading Card Game', '2001'), ('Scrabble', '1948'), ('Top Race', '1996'), ('Divinare', '2012'), ('Flames of War: The World War II Miniatures Game', '2002'), ('Entdecker: Exploring New Horizons', '2001'), ('The World Cup Game', '2006'), ('StreetSoccer', '2002'), ('Pit', '1903'), ('Priests of Ra', '2009'), ('Duel of Ages Set 1: Worldspanner', '2003'), ('Goldland', '2002'), ('Gloom', '2005'), ('Speed Circuit', '1971'), ('Mutant Chronicles: Siege of the Citadel', '1993'), ('Gang of Four', '1990'), ('A la carte', '1989'), ('Carcassonne: Wheel of Fortune', '2009')]"
       ]
      },
      {
       "output_type": "stream",
       "stream": "stdout",
       "text": [
        "\n"
       ]
      }
     ],
     "prompt_number": 12
    },
    {
     "cell_type": "code",
     "collapsed": false,
     "input": [
      "def get_games_id(games):\n",
      "    games = pd.DataFrame.from_records(games, columns=['title', 'year'])\n",
      "\n",
      "    def get_game_id(x):\n",
      "        # for Ca$h 'n Gun$'\n",
      "        title = x.title.replace('$', 's')\n",
      "        url = \"http://www.boardgamegeek.com/xmlapi/search?search={0}&exact=1\".format(title)\n",
      "        result = requests.get(url, timeout=60)\n",
      "        result = ElementTree.fromstring(result.text)\n",
      "        if len(result) == 1:\n",
      "            x['id'] = result[0].attrib['objectid']\n",
      "        # nothing found? then do inexact search and match manually afterwards\n",
      "        elif len(result) == 0:\n",
      "            url = \"http://www.boardgamegeek.com/xmlapi/search?search={0}\".format(x.title)\n",
      "            result = requests.get(url, timeout=60)\n",
      "            result = ElementTree.fromstring(result.text)\n",
      "            for found in result:\n",
      "                if found[0].text == x.title:\n",
      "                    x['id'] = found.attrib['objectid']\n",
      "                    break\n",
      "        # multiple results found? then try to match on year\n",
      "        else:\n",
      "            for found in result:\n",
      "                if found[0].text == x.title:\n",
      "                    if len(found) > 1 and found[1].text == x.year:\n",
      "                        x['id'] = found.attrib['objectid']\n",
      "                        break\n",
      "        print(\"id {0} found for {1}\".format(x.id, x.title))\n",
      "        return x\n",
      "\n",
      "    games = games.apply(get_game_id, axis=1)\n",
      "    print(\"id found for {0} games\".format(success))\n",
      "    \n",
      "    return games\n",
      "\n",
      "gamedata = get_games_id(topgames)"
     ],
     "language": "python",
     "metadata": {},
     "outputs": [
      {
       "output_type": "stream",
       "stream": "stdout",
       "text": [
        "id 12333 found for Twilight Struggle\n",
        "id 12333 found for Twilight Struggle"
       ]
      },
      {
       "output_type": "stream",
       "stream": "stdout",
       "text": [
        "\n",
        "id 25613 found for Through the Ages: A Story of Civilization"
       ]
      },
      {
       "output_type": "stream",
       "stream": "stdout",
       "text": [
        "\n",
        "id 31260 found for Agricola"
       ]
      },
      {
       "output_type": "stream",
       "stream": "stdout",
       "text": [
        "\n",
        "id 120677 found for Terra Mystica"
       ]
      },
      {
       "output_type": "stream",
       "stream": "stdout",
       "text": [
        "\n",
        "id 3076 found for Puerto Rico"
       ]
      },
      {
       "output_type": "stream",
       "stream": "stdout",
       "text": [
        "\n",
        "id 124742 found for Android: Netrunner"
       ]
      },
      {
       "output_type": "stream",
       "stream": "stdout",
       "text": [
        "\n",
        "id 102794 found for Caverna: The Cave Farmers"
       ]
      },
      {
       "output_type": "stream",
       "stream": "stdout",
       "text": [
        "\n",
        "id 72125 found for Eclipse"
       ]
      },
      {
       "output_type": "stream",
       "stream": "stdout",
       "text": [
        "\n",
        "id 2651 found for Power Grid"
       ]
      },
      {
       "output_type": "stream",
       "stream": "stdout",
       "text": [
        "\n",
        "id 96848 found for Mage Knight Board Game"
       ]
      },
      {
       "output_type": "stream",
       "stream": "stdout",
       "text": [
        "\n",
        "id 84876 found for The Castles of Burgundy"
       ]
      },
      {
       "output_type": "stream",
       "stream": "stdout",
       "text": [
        "\n",
        "id 35677 found for Le Havre"
       ]
      },
      {
       "output_type": "stream",
       "stream": "stdout",
       "text": [
        "\n",
        "id 121921 found for Robinson Crusoe: Adventure on the Cursed Island"
       ]
      },
      {
       "output_type": "stream",
       "stream": "stdout",
       "text": [
        "\n",
        "id 28720 found for Brass"
       ]
      },
      {
       "output_type": "stream",
       "stream": "stdout",
       "text": [
        "\n",
        "id 126163 found for Tzolk'in: The Mayan Calendar"
       ]
      },
      {
       "output_type": "stream",
       "stream": "stdout",
       "text": [
        "\n",
        "id 115746 found for War of the Ring (second edition)"
       ]
      },
      {
       "output_type": "stream",
       "stream": "stdout",
       "text": [
        "\n",
        "id 18602 found for Caylus"
       ]
      },
      {
       "output_type": "stream",
       "stream": "stdout",
       "text": [
        "\n",
        "id 68448 found for 7 Wonders"
       ]
      },
      {
       "output_type": "stream",
       "stream": "stdout",
       "text": [
        "\n",
        "id 40834 found for Dominion: Intrigue"
       ]
      },
      {
       "output_type": "stream",
       "stream": "stdout",
       "text": [
        "\n",
        "id 62219 found for Dominant Species"
       ]
      },
      {
       "output_type": "stream",
       "stream": "stdout",
       "text": [
        "\n",
        "id 36218 found for Dominion"
       ]
      },
      {
       "output_type": "stream",
       "stream": "stdout",
       "text": [
        "\n",
        "id 93 found for El Grande"
       ]
      },
      {
       "output_type": "stream",
       "stream": "stdout",
       "text": [
        "\n",
        "id 103885 found for Star Wars: X-Wing Miniatures Game"
       ]
      },
      {
       "output_type": "stream",
       "stream": "stdout",
       "text": [
        "\n",
        "id 28143 found for Race for the Galaxy"
       ]
      },
      {
       "output_type": "stream",
       "stream": "stdout",
       "text": [
        "\n",
        "id 101721 found for Mage Wars"
       ]
      },
      {
       "output_type": "stream",
       "stream": "stdout",
       "text": [
        "\n",
        "id 37111 found for Battlestar Galactica"
       ]
      },
      {
       "output_type": "stream",
       "stream": "stdout",
       "text": [
        "\n",
        "id 110327 found for Lords of Waterdeep"
       ]
      },
      {
       "output_type": "stream",
       "stream": "stdout",
       "text": [
        "\n",
        "id 128882 found for The Resistance: Avalon"
       ]
      },
      {
       "output_type": "stream",
       "stream": "stdout",
       "text": [
        "\n",
        "id 12493 found for Twilight Imperium (Third Edition)"
       ]
      },
      {
       "output_type": "stream",
       "stream": "stdout",
       "text": [
        "\n",
        "id 42 found for Tigris & Euphrates"
       ]
      },
      {
       "output_type": "stream",
       "stream": "stdout",
       "text": [
        "\n",
        "id 146021 found for Eldritch Horror"
       ]
      },
      {
       "output_type": "stream",
       "stream": "stdout",
       "text": [
        "\n",
        "id 9609 found for War of the Ring (first edition)"
       ]
      },
      {
       "output_type": "stream",
       "stream": "stdout",
       "text": [
        "\n",
        "id 104162 found for Descent: Journeys in the Dark (Second Edition)"
       ]
      },
      {
       "output_type": "stream",
       "stream": "stdout",
       "text": [
        "\n",
        "id 103343 found for A Game of Thrones: The Board Game (Second Edition)"
       ]
      },
      {
       "output_type": "stream",
       "stream": "stdout",
       "text": [
        "\n",
        "id 122515 found for Keyflower"
       ]
      },
      {
       "output_type": "stream",
       "stream": "stdout",
       "text": [
        "\n",
        "id 70149 found for Ora et Labora"
       ]
      },
      {
       "output_type": "stream",
       "stream": "stdout",
       "text": [
        "\n",
        "id 102680 found for Trajan"
       ]
      },
      {
       "output_type": "stream",
       "stream": "stdout",
       "text": [
        "\n",
        "id 521 found for Crokinole"
       ]
      },
      {
       "output_type": "stream",
       "stream": "stdout",
       "text": [
        "\n",
        "id 14105 found for Commands & Colors: Ancients"
       ]
      },
      {
       "output_type": "stream",
       "stream": "stdout",
       "text": [
        "\n",
        "id 126042 found for Nations"
       ]
      },
      {
       "output_type": "stream",
       "stream": "stdout",
       "text": [
        "\n",
        "id 91 found for Paths of Glory"
       ]
      },
      {
       "output_type": "stream",
       "stream": "stdout",
       "text": [
        "\n",
        "id 27833 found for Steam"
       ]
      },
      {
       "output_type": "stream",
       "stream": "stdout",
       "text": [
        "\n",
        "id 34635 found for Stone Age"
       ]
      },
      {
       "output_type": "stream",
       "stream": "stdout",
       "text": [
        "\n",
        "id 30549 found for Pandemic"
       ]
      },
      {
       "output_type": "stream",
       "stream": "stdout",
       "text": [
        "\n",
        "id 144733 found for Russian Railroads"
       ]
      },
      {
       "output_type": "stream",
       "stream": "stdout",
       "text": [
        "\n",
        "id 9216 found for Goa"
       ]
      },
      {
       "output_type": "stream",
       "stream": "stdout",
       "text": [
        "\n",
        "id 21050 found for Combat Commander: Europe"
       ]
      },
      {
       "output_type": "stream",
       "stream": "stdout",
       "text": [
        "\n",
        "id 93260 found for Summoner Wars: Master Set"
       ]
      },
      {
       "output_type": "stream",
       "stream": "stdout",
       "text": [
        "\n",
        "id 73439 found for Troyes"
       ]
      },
      {
       "output_type": "stream",
       "stream": "stdout",
       "text": [
        "\n",
        "id 4098 found for Age of Steam"
       ]
      },
      {
       "output_type": "stream",
       "stream": "stdout",
       "text": [
        "\n",
        "id 17133 found for Railways of the World"
       ]
      },
      {
       "output_type": "stream",
       "stream": "stdout",
       "text": [
        "\n",
        "id 555 found for The Princes of Florence"
       ]
      },
      {
       "output_type": "stream",
       "stream": "stdout",
       "text": [
        "\n",
        "id 123260 found for Suburbia"
       ]
      },
      {
       "output_type": "stream",
       "stream": "stdout",
       "text": [
        "\n",
        "id 133038 found for Pathfinder Adventure Card Game: Rise of the Runelords \u2013 Base Set"
       ]
      },
      {
       "output_type": "stream",
       "stream": "stdout",
       "text": [
        "\n",
        "id 43111 found for Chaos in the Old World"
       ]
      },
      {
       "output_type": "stream",
       "stream": "stdout",
       "text": [
        "\n",
        "id 215 found for Tichu"
       ]
      },
      {
       "output_type": "stream",
       "stream": "stdout",
       "text": [
        "\n",
        "id 234 found for Hannibal: Rome vs. Carthage"
       ]
      },
      {
       "output_type": "stream",
       "stream": "stdout",
       "text": [
        "\n",
        "id 188 found for Go"
       ]
      },
      {
       "output_type": "stream",
       "stream": "stdout",
       "text": [
        "\n",
        "id 59294 found for Runewars"
       ]
      },
      {
       "output_type": "stream",
       "stream": "stdout",
       "text": [
        "\n",
        "id 17392 found for Here I Stand"
       ]
      },
      {
       "output_type": "stream",
       "stream": "stdout",
       "text": [
        "\n",
        "id 14996 found for Ticket to Ride: Europe"
       ]
      },
      {
       "output_type": "stream",
       "stream": "stdout",
       "text": [
        "\n",
        "id 24181 found for Imperial"
       ]
      },
      {
       "output_type": "stream",
       "stream": "stdout",
       "text": [
        "\n",
        "id 22545 found for Age of Empires III: The Age of Discovery"
       ]
      },
      {
       "output_type": "stream",
       "stream": "stdout",
       "text": [
        "\n",
        "id 38453 found for Space Alert"
       ]
      },
      {
       "output_type": "stream",
       "stream": "stdout",
       "text": [
        "\n",
        "id 104006 found for Village"
       ]
      },
      {
       "output_type": "stream",
       "stream": "stdout",
       "text": [
        "\n",
        "id 43015 found for Hansa Teutonica"
       ]
      },
      {
       "output_type": "stream",
       "stream": "stdout",
       "text": [
        "\n",
        "id 20551 found for Shogun"
       ]
      },
      {
       "output_type": "stream",
       "stream": "stdout",
       "text": [
        "\n",
        "id 77423 found for The Lord of the Rings: The Card Game"
       ]
      },
      {
       "output_type": "stream",
       "stream": "stdout",
       "text": [
        "\n",
        "id 77130 found for Sid Meier's Civilization: The Board Game"
       ]
      },
      {
       "output_type": "stream",
       "stream": "stdout",
       "text": [
        "\n",
        "id 31627 found for Ticket to Ride: Nordic Countries"
       ]
      },
      {
       "output_type": "stream",
       "stream": "stdout",
       "text": [
        "\n",
        "id 140620 found for Lewis & Clark"
       ]
      },
      {
       "output_type": "stream",
       "stream": "stdout",
       "text": [
        "\n",
        "id 31481 found for Galaxy Trucker"
       ]
      },
      {
       "output_type": "stream",
       "stream": "stdout",
       "text": [
        "\n",
        "id 39463 found for Cosmic Encounter"
       ]
      },
      {
       "output_type": "stream",
       "stream": "stdout",
       "text": [
        "\n",
        "id 9209 found for Ticket to Ride"
       ]
      },
      {
       "output_type": "stream",
       "stream": "stdout",
       "text": [
        "\n",
        "id 1 found for Die Macher"
       ]
      },
      {
       "output_type": "stream",
       "stream": "stdout",
       "text": [
        "\n",
        "id 127023 found for Kemet"
       ]
      },
      {
       "output_type": "stream",
       "stream": "stdout",
       "text": [
        "\n",
        "id 41114 found for The Resistance"
       ]
      },
      {
       "output_type": "stream",
       "stream": "stdout",
       "text": [
        "\n",
        "id 15985 found for Blood Bowl: Living Rulebook"
       ]
      },
      {
       "output_type": "stream",
       "stream": "stdout",
       "text": [
        "\n",
        "id 19857 found for Glory to Rome"
       ]
      },
      {
       "output_type": "stream",
       "stream": "stdout",
       "text": [
        "\n",
        "id 10630 found for Memoir '44"
       ]
      },
      {
       "output_type": "stream",
       "stream": "stdout",
       "text": [
        "\n",
        "id 12 found for Ra"
       ]
      },
      {
       "output_type": "stream",
       "stream": "stdout",
       "text": [
        "\n",
        "id 54138 found for Imperial 2030"
       ]
      },
      {
       "output_type": "stream",
       "stream": "stdout",
       "text": [
        "\n",
        "id 124708 found for Mice and Mystics"
       ]
      },
      {
       "output_type": "stream",
       "stream": "stdout",
       "text": [
        "\n",
        "id 66589 found for Navegador"
       ]
      },
      {
       "output_type": "stream",
       "stream": "stdout",
       "text": [
        "\n",
        "id 70323 found for King of Tokyo"
       ]
      },
      {
       "output_type": "stream",
       "stream": "stdout",
       "text": [
        "\n",
        "id 36932 found for Claustrophobia"
       ]
      },
      {
       "output_type": "stream",
       "stream": "stdout",
       "text": [
        "\n",
        "id 129622 found for Love Letter"
       ]
      },
      {
       "output_type": "stream",
       "stream": "stdout",
       "text": [
        "\n",
        "id 7854 found for YINSH"
       ]
      },
      {
       "output_type": "stream",
       "stream": "stdout",
       "text": [
        "\n",
        "id 73171 found for Earth Reborn"
       ]
      },
      {
       "output_type": "stream",
       "stream": "stdout",
       "text": [
        "\n",
        "id 40692 found for Small World"
       ]
      },
      {
       "output_type": "stream",
       "stream": "stdout",
       "text": [
        "\n",
        "id 127060 found for Bora Bora"
       ]
      },
      {
       "output_type": "stream",
       "stream": "stdout",
       "text": [
        "\n",
        "id 27708 found for 1960: The Making of the President"
       ]
      },
      {
       "output_type": "stream",
       "stream": "stdout",
       "text": [
        "\n",
        "id 48726 found for Alien Frontiers"
       ]
      },
      {
       "output_type": "stream",
       "stream": "stdout",
       "text": [
        "\n",
        "id 421 found for 1830: Railways & Robber Barons"
       ]
      },
      {
       "output_type": "stream",
       "stream": "stdout",
       "text": [
        "\n",
        "id 97207 found for Dungeon Petz"
       ]
      },
      {
       "output_type": "stream",
       "stream": "stdout",
       "text": [
        "\n",
        "id 45315 found for Dungeon Lords"
       ]
      },
      {
       "output_type": "stream",
       "stream": "stdout",
       "text": [
        "\n",
        "id 102652 found for Sentinels of the Multiverse"
       ]
      },
      {
       "output_type": "stream",
       "stream": "stdout",
       "text": [
        "\n",
        "id 54625 found for Space Hulk (third edition)"
       ]
      },
      {
       "output_type": "stream",
       "stream": "stdout",
       "text": [
        "\n",
        "id 243 found for Advanced Squad Leader"
       ]
      },
      {
       "output_type": "stream",
       "stream": "stdout",
       "text": [
        "\n",
        "id 92828 found for Dixit Odyssey"
       ]
      },
      {
       "output_type": "stream",
       "stream": "stdout",
       "text": [
        "\n",
        "id 105134 found for Risk Legacy"
       ]
      },
      {
       "output_type": "stream",
       "stream": "stdout",
       "text": [
        "\n",
        "id 822 found for Carcassonne"
       ]
      },
      {
       "output_type": "stream",
       "stream": "stdout",
       "text": [
        "\n",
        "id 39856 found for Dixit"
       ]
      },
      {
       "output_type": "stream",
       "stream": "stdout",
       "text": [
        "\n",
        "id 54998 found for Cyclades"
       ]
      },
      {
       "output_type": "stream",
       "stream": "stdout",
       "text": [
        "\n",
        "id 119890 found for Agricola:  All Creatures Big and Small"
       ]
      },
      {
       "output_type": "stream",
       "stream": "stdout",
       "text": [
        "\n",
        "id 54043 found for Jaipur"
       ]
      },
      {
       "output_type": "stream",
       "stream": "stdout",
       "text": [
        "\n",
        "id 33160 found for Endeavor"
       ]
      },
      {
       "output_type": "stream",
       "stream": "stdout",
       "text": [
        "\n",
        "id 129437 found for Legendary: A Marvel Deck Building Game"
       ]
      },
      {
       "output_type": "stream",
       "stream": "stdout",
       "text": [
        "\n",
        "id 15987 found for Arkham Horror"
       ]
      },
      {
       "output_type": "stream",
       "stream": "stdout",
       "text": [
        "\n",
        "id 3 found for Samurai"
       ]
      },
      {
       "output_type": "stream",
       "stream": "stdout",
       "text": [
        "\n",
        "id 108745 found for Seasons"
       ]
      },
      {
       "output_type": "stream",
       "stream": "stdout",
       "text": [
        "\n",
        "id 121 found for Dune"
       ]
      },
      {
       "output_type": "stream",
       "stream": "stdout",
       "text": [
        "\n",
        "id 98778 found for Hanabi"
       ]
      },
      {
       "output_type": "stream",
       "stream": "stdout",
       "text": [
        "\n",
        "id 13122 found for Antiquity"
       ]
      },
      {
       "output_type": "stream",
       "stream": "stdout",
       "text": [
        "\n",
        "id 71 found for Civilization"
       ]
      },
      {
       "output_type": "stream",
       "stream": "stdout",
       "text": [
        "\n",
        "id 79828 found for A Few Acres of Snow"
       ]
      },
      {
       "output_type": "stream",
       "stream": "stdout",
       "text": [
        "\n",
        "id 760 found for Battle Line"
       ]
      },
      {
       "output_type": "stream",
       "stream": "stdout",
       "text": [
        "\n",
        "id 31594 found for In the Year of the Dragon"
       ]
      },
      {
       "output_type": "stream",
       "stream": "stdout",
       "text": [
        "\n",
        "id 124361 found for Concordia"
       ]
      },
      {
       "output_type": "stream",
       "stream": "stdout",
       "text": [
        "\n",
        "id 463 found for Magic: The Gathering"
       ]
      },
      {
       "output_type": "stream",
       "stream": "stdout",
       "text": [
        "\n",
        "id 25417 found for BattleLore"
       ]
      },
      {
       "output_type": "stream",
       "stream": "stdout",
       "text": [
        "\n",
        "id 113924 found for Zombicide"
       ]
      },
      {
       "output_type": "stream",
       "stream": "stdout",
       "text": [
        "\n",
        "id 25554 found for Notre Dame"
       ]
      },
      {
       "output_type": "stream",
       "stream": "stdout",
       "text": [
        "\n",
        "id 25292 found for Merchants & Marauders"
       ]
      },
      {
       "output_type": "stream",
       "stream": "stdout",
       "text": [
        "\n",
        "id 59959 found for Letters from Whitechapel"
       ]
      },
      {
       "output_type": "stream",
       "stream": "stdout",
       "text": [
        "\n",
        "id 5 found for Acquire"
       ]
      },
      {
       "output_type": "stream",
       "stream": "stdout",
       "text": [
        "\n",
        "id 2655 found for Hive"
       ]
      },
      {
       "output_type": "stream",
       "stream": "stdout",
       "text": [
        "\n",
        "id 37046 found for Ghost Stories"
       ]
      },
      {
       "output_type": "stream",
       "stream": "stdout",
       "text": [
        "\n",
        "id 13 found for The Settlers of Catan"
       ]
      },
      {
       "output_type": "stream",
       "stream": "stdout",
       "text": [
        "\n",
        "id 83330 found for Mansions of Madness"
       ]
      },
      {
       "output_type": "stream",
       "stream": "stdout",
       "text": [
        "\n",
        "id 19777 found for Indonesia"
       ]
      },
      {
       "output_type": "stream",
       "stream": "stdout",
       "text": [
        "\n",
        "id 100901 found for Flash Point: Fire Rescue"
       ]
      },
      {
       "output_type": "stream",
       "stream": "stdout",
       "text": [
        "\n",
        "id 40765 found for Clash of Cultures"
       ]
      },
      {
       "output_type": "stream",
       "stream": "stdout",
       "text": [
        "\n",
        "id 17226 found for Descent: Journeys in the Dark"
       ]
      },
      {
       "output_type": "stream",
       "stream": "stdout",
       "text": [
        "\n",
        "id 55670 found for Macao"
       ]
      },
      {
       "output_type": "stream",
       "stream": "stdout",
       "text": [
        "\n",
        "id 3685 found for Hammer of the Scots"
       ]
      },
      {
       "output_type": "stream",
       "stream": "stdout",
       "text": [
        "\n",
        "id 54 found for Tikal"
       ]
      },
      {
       "output_type": "stream",
       "stream": "stdout",
       "text": [
        "\n",
        "id 712 found for Blood Bowl (Third Edition)"
       ]
      },
      {
       "output_type": "stream",
       "stream": "stdout",
       "text": [
        "\n",
        "id 3307 found for Wallenstein (first edition)"
       ]
      },
      {
       "output_type": "stream",
       "stream": "stdout",
       "text": [
        "\n",
        "id 65781 found for London"
       ]
      },
      {
       "output_type": "stream",
       "stream": "stdout",
       "text": [
        "\n",
        "id 63628 found for The Manhattan Project"
       ]
      },
      {
       "output_type": "stream",
       "stream": "stdout",
       "text": [
        "\n",
        "id 148228 found for Splendor"
       ]
      },
      {
       "output_type": "stream",
       "stream": "stdout",
       "text": [
        "\n",
        "id 9217 found for Saint Petersburg"
       ]
      },
      {
       "output_type": "stream",
       "stream": "stdout",
       "text": [
        "\n",
        "id 5404 found for Amun-Re"
       ]
      },
      {
       "output_type": "stream",
       "stream": "stdout",
       "text": [
        "\n",
        "id 116998 found for Thunderstone Advance: Towers of Ruin"
       ]
      },
      {
       "output_type": "stream",
       "stream": "stdout",
       "text": [
        "\n",
        "id 90137 found for Blood Bowl: Team Manager \u2013 The Card Game"
       ]
      },
      {
       "output_type": "stream",
       "stream": "stdout",
       "text": [
        "\n",
        "id 21348 found for Ticket to Ride: M\u00e4rklin"
       ]
      },
      {
       "output_type": "stream",
       "stream": "stdout",
       "text": [
        "\n",
        "id 97786 found for Small World Underground"
       ]
      },
      {
       "output_type": "stream",
       "stream": "stdout",
       "text": [
        "\n",
        "id 18098 found for Napoleon's Triumph"
       ]
      },
      {
       "output_type": "stream",
       "stream": "stdout",
       "text": [
        "\n",
        "id 96913 found for Lancaster"
       ]
      },
      {
       "output_type": "stream",
       "stream": "stdout",
       "text": [
        "\n",
        "id 136063 found for Forbidden Desert"
       ]
      },
      {
       "output_type": "stream",
       "stream": "stdout",
       "text": [
        "\n",
        "id 8217 found for San Juan"
       ]
      },
      {
       "output_type": "stream",
       "stream": "stdout",
       "text": [
        "\n",
        "id 40354 found for Maria"
       ]
      },
      {
       "output_type": "stream",
       "stream": "stdout",
       "text": [
        "\n",
        "id 25021 found for Sekigahara: The Unification of Japan"
       ]
      },
      {
       "output_type": "stream",
       "stream": "stdout",
       "text": [
        "\n",
        "id 9625 found for Struggle of Empires"
       ]
      },
      {
       "output_type": "stream",
       "stream": "stdout",
       "text": [
        "\n",
        "id 66188 found for Fresco"
       ]
      },
      {
       "output_type": "stream",
       "stream": "stdout",
       "text": [
        "\n",
        "id 136888 found for Bruges"
       ]
      },
      {
       "output_type": "stream",
       "stream": "stdout",
       "text": [
        "\n",
        "id 58421 found for Egizia"
       ]
      },
      {
       "output_type": "stream",
       "stream": "stdout",
       "text": [
        "\n",
        "id 875 found for Roads & Boats"
       ]
      },
      {
       "output_type": "stream",
       "stream": "stdout",
       "text": [
        "\n",
        "id 24800 found for Conflict of Heroes: Awakening the Bear! \u2013 Russia 1941-42"
       ]
      },
      {
       "output_type": "stream",
       "stream": "stdout",
       "text": [
        "\n",
        "id 118 found for Modern Art"
       ]
      },
      {
       "output_type": "stream",
       "stream": "stdout",
       "text": [
        "\n",
        "id 586 found for Up Front"
       ]
      },
      {
       "output_type": "stream",
       "stream": "stdout",
       "text": [
        "\n",
        "id 28181 found for Combat Commander: Pacific"
       ]
      },
      {
       "output_type": "stream",
       "stream": "stdout",
       "text": [
        "\n",
        "id 475 found for Taj Mahal"
       ]
      },
      {
       "output_type": "stream",
       "stream": "stdout",
       "text": [
        "\n",
        "id 21241 found for Neuroshima Hex!"
       ]
      },
      {
       "output_type": "stream",
       "stream": "stdout",
       "text": [
        "\n",
        "id 24480 found for The Pillars of the Earth"
       ]
      },
      {
       "output_type": "stream",
       "stream": "stdout",
       "text": [
        "\n",
        "id 2653 found for Survive: Escape from Atlantis!"
       ]
      },
      {
       "output_type": "stream",
       "stream": "stdout",
       "text": [
        "\n",
        "id 70919 found for Takenoko"
       ]
      },
      {
       "output_type": "stream",
       "stream": "stdout",
       "text": [
        "\n",
        "id 6472 found for A Game of Thrones (first edition)"
       ]
      },
      {
       "output_type": "stream",
       "stream": "stdout",
       "text": [
        "\n",
        "id 39351 found for Automobile"
       ]
      },
      {
       "output_type": "stream",
       "stream": "stdout",
       "text": [
        "\n",
        "id 103886 found for Star Wars: The Card Game"
       ]
      },
      {
       "output_type": "stream",
       "stream": "stdout",
       "text": [
        "\n",
        "id 42052 found for Vinhos"
       ]
      },
      {
       "output_type": "stream",
       "stream": "stdout",
       "text": [
        "\n",
        "id 58281 found for Summoner Wars"
       ]
      },
      {
       "output_type": "stream",
       "stream": "stdout",
       "text": [
        "\n",
        "id 2511 found for Sherlock Holmes Consulting Detective"
       ]
      },
      {
       "output_type": "stream",
       "stream": "stdout",
       "text": [
        "\n",
        "id 39683 found for At the Gates of Loyang"
       ]
      },
      {
       "output_type": "stream",
       "stream": "stdout",
       "text": [
        "\n",
        "id 11170 found for Heroscape Master Set: Rise of the Valkyrie"
       ]
      },
      {
       "output_type": "stream",
       "stream": "stdout",
       "text": [
        "\n",
        "id 1513 found for The Republic of Rome"
       ]
      },
      {
       "output_type": "stream",
       "stream": "stdout",
       "text": [
        "\n",
        "id 66362 found for Glen More"
       ]
      },
      {
       "output_type": "stream",
       "stream": "stdout",
       "text": [
        "\n",
        "id 26997 found for 1989: Dawn of Freedom"
       ]
      },
      {
       "output_type": "stream",
       "stream": "stdout",
       "text": [
        "\n",
        "id 62222 found for Commands & Colors: Napoleonics"
       ]
      },
      {
       "output_type": "stream",
       "stream": "stdout",
       "text": [
        "\n",
        "id 63888 found for Innovation"
       ]
      },
      {
       "output_type": "stream",
       "stream": "stdout",
       "text": [
        "\n",
        "id 62227 found for Labyrinth: The War on Terror, 2001-?"
       ]
      },
      {
       "output_type": "stream",
       "stream": "stdout",
       "text": [
        "\n",
        "id 27162 found for Kingsburg"
       ]
      },
      {
       "output_type": "stream",
       "stream": "stdout",
       "text": [
        "\n",
        "id 9674 found for Ingenious"
       ]
      },
      {
       "output_type": "stream",
       "stream": "stdout",
       "text": [
        "\n",
        "id 478 found for Citadels"
       ]
      },
      {
       "output_type": "stream",
       "stream": "stdout",
       "text": [
        "\n",
        "id 147020 found for Star Realms"
       ]
      },
      {
       "output_type": "stream",
       "stream": "stdout",
       "text": [
        "\n",
        "id 79127 found for Star Trek: Fleet Captains"
       ]
      },
      {
       "output_type": "stream",
       "stream": "stdout",
       "text": [
        "\n",
        "id 90419 found for Airlines Europe"
       ]
      },
      {
       "output_type": "stream",
       "stream": "stdout",
       "text": [
        "\n",
        "id 128671 found for Spartacus: A Game of Blood & Treachery"
       ]
      },
      {
       "output_type": "stream",
       "stream": "stdout",
       "text": [
        "\n",
        "id 50750 found for Belfort"
       ]
      },
      {
       "output_type": "stream",
       "stream": "stdout",
       "text": [
        "\n",
        "id 18 found for RoboRally"
       ]
      },
      {
       "output_type": "stream",
       "stream": "stdout",
       "text": [
        "\n",
        "id 46213 found for Telestrations"
       ]
      },
      {
       "output_type": "stream",
       "stream": "stdout",
       "text": [
        "\n",
        "id 27173 found for Vikings"
       ]
      },
      {
       "output_type": "stream",
       "stream": "stdout",
       "text": [
        "\n",
        "id 39938 found for Carson City"
       ]
      },
      {
       "output_type": "stream",
       "stream": "stdout",
       "text": [
        "\n",
        "id 65532 found for Defenders of the Realm"
       ]
      },
      {
       "output_type": "stream",
       "stream": "stdout",
       "text": [
        "\n",
        "id 9823 found for Advanced Squad Leader: Starter Kit #1"
       ]
      },
      {
       "output_type": "stream",
       "stream": "stdout",
       "text": [
        "\n",
        "id 15363 found for Nexus Ops"
       ]
      },
      {
       "output_type": "stream",
       "stream": "stdout",
       "text": [
        "\n",
        "id 172 found for For Sale"
       ]
      },
      {
       "output_type": "stream",
       "stream": "stdout",
       "text": [
        "\n",
        "id 82420 found for Summoner Wars: Guild Dwarves vs Cave Goblins"
       ]
      }
     ]
    },
    {
     "cell_type": "code",
     "collapsed": false,
     "input": [
      "def get_games_stats(games):\n",
      "\n",
      "    chunksize = 100\n",
      "\n",
      "    for ii in range(N_GAMES // chunksize):\n",
      "        idstr = ','.join(gamedata.id.ix[ii * chunksize:(ii + 1) * chunksize])\n",
      "        url = \"http://www.boardgamegeek.com/xmlapi/boardgame/{0}&stats=1\".format(idstr)\n",
      "        result = requests.get(url, timeout=60)\n",
      "        result = ElementTree.fromstring(result.text)\n",
      "\n",
      "        numowned = [float(gm.find('statistics').find('ratings').find('owned').text)\n",
      "                    for gm in result]\n",
      "        avgrating = [float(gm.find('statistics').find('ratings').find('average').text)\n",
      "                     for gm in result]\n",
      "        bavgrating = [float(gm.find('statistics').find('ratings').find('bayesaverage').text)\n",
      "                      for gm in result]\n",
      "        stdrating = [float(gm.find('statistics').find('ratings').find('stddev').text)\n",
      "                     for gm in result]\n",
      "        avgweight = [float(gm.find('statistics').find('ratings').find('averageweight').text)\n",
      "                     for gm in result]\n",
      "\n",
      "        games.ix[ii * chunksize:(ii + 1) * chunksize, 'numowned'] = numowned\n",
      "        games.ix[ii * chunksize:(ii + 1) * chunksize, 'avgrating'] = avgrating\n",
      "        games.ix[ii * chunksize:(ii + 1) * chunksize, 'bayesavgrating'] = bavgrating\n",
      "        games.ix[ii * chunksize:(ii + 1) * chunksize, 'stdrating'] = stdrating\n",
      "        games.ix[ii * chunksize:(ii + 1) * chunksize, 'avgweight'] = avgweight\n",
      "\n",
      "    return games\n",
      "\n",
      "gamedata = get_games_stats(gamedata)"
     ],
     "language": "python",
     "metadata": {},
     "outputs": []
    },
    {
     "cell_type": "code",
     "collapsed": false,
     "input": [
      "def perform_analysis(data):\n",
      "    y = data.bayesavgrating\n",
      "    x = data.avgweight\n",
      "    x['intercept'] = 1.\n",
      "\n",
      "    regress = sm.OLS(y, x).fit()\n",
      "    regress.summary()\n",
      "\n",
      "perform_analysis(gamedata)"
     ],
     "language": "python",
     "metadata": {},
     "outputs": []
    }
   ],
   "metadata": {}
  }
 ]
}