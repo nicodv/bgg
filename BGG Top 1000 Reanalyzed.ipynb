{
 "metadata": {
  "name": "",
  "signature": "sha256:9ef13c9e80ed11a8e0145ad005acd43f2606d33a5ad08c8e4cfe672008b5e665"
 },
 "nbformat": 3,
 "nbformat_minor": 0,
 "worksheets": [
  {
   "cells": [
    {
     "cell_type": "markdown",
     "metadata": {},
     "source": [
      "BGG Top Games Reanalyzed\n",
      "========================\n",
      "\n",
      "This notebook looks at the top games on BoardGameGeek and investigates the commonly held notion that games with a high weight are overvalued in the rankings. A new ranking that compensates for some of this 'heavy game' bias in presented.\n",
      "\n",
      "Dependecies\n",
      "-----------\n",
      "\n",
      "* `Python 3.3+`\n",
      "* `BeautifulSoup`\n",
      "* `requests`\n",
      "* `pandas`\n",
      "* `statsmodels`"
     ]
    },
    {
     "cell_type": "code",
     "collapsed": false,
     "input": [
      "# imports and some settings\n",
      "from bs4 import BeautifulSoup\n",
      "import requests\n",
      "import xml.etree.ElementTree as ElementTree\n",
      "import numpy as np\n",
      "import pandas as pd\n",
      "import statsmodels.api as sm\n",
      "import matplotlib.pyplot as plt\n",
      "\n",
      "N_GAMES = 1000\n",
      "N_GAMES_PER_PAGE = 100\n",
      "BROWSE_URL_BASE = 'http://www.boardgamegeek.com/browse/boardgame/page/'\n",
      "\n",
      "%matplotlib inline"
     ],
     "language": "python",
     "metadata": {},
     "outputs": [],
     "prompt_number": 94
    },
    {
     "cell_type": "markdown",
     "metadata": {},
     "source": [
      "BGG scraping\n",
      "------------\n",
      "First, we scrape the BGG 'Browse games' pages to get the names and years of the top `N_GAMES` games using the `requests` and `BeautifulSoup` libraries."
     ]
    },
    {
     "cell_type": "code",
     "collapsed": false,
     "input": [
      "def get_top_games(ngames=N_GAMES):\n",
      "    \"\"\"Download the 'ngames' highest ranked games from BGG.\n",
      "    \"\"\"\n",
      "\n",
      "    # round to nearest 100\n",
      "    ngames = round(ngames, -2)\n",
      "    # number of pages to scrape\n",
      "    npages = ngames // N_GAMES_PER_PAGE\n",
      "\n",
      "    games = []\n",
      "    for pp in range(1, npages + 1):\n",
      "        print(\"Reading page {0} / {1}\".format(pp, npages))\n",
      "        url = BROWSE_URL_BASE + str(pp)\n",
      "        page = requests.get(url, timeout=60)\n",
      "        soup = BeautifulSoup(page.content)\n",
      "        # items are found by 'id=results_objectname*' attribute in 'div' tag\n",
      "        cntr = 1\n",
      "        for _ in range(N_GAMES_PER_PAGE):\n",
      "            item = soup.find('div', {'id': 'results_objectname' + str(cntr)})\n",
      "            if item:\n",
      "                title = item.a.contents[0]\n",
      "                # some games don't have a publishing year\n",
      "                try:\n",
      "                    year = item.span.contents[0][1:-1]\n",
      "                except AttributeError:\n",
      "                    year = np.NaN\n",
      "                games.append((title, year))\n",
      "                cntr += 1\n",
      "    return games\n",
      "\n",
      "topgames = get_top_games()\n",
      "print(\"{0} games found: {1}\".format(len(topgames), topgames))"
     ],
     "language": "python",
     "metadata": {},
     "outputs": [
      {
       "output_type": "stream",
       "stream": "stdout",
       "text": [
        "Reading page 1 / 10\n",
        "Reading page 2 / 10"
       ]
      },
      {
       "output_type": "stream",
       "stream": "stdout",
       "text": [
        "\n",
        "Reading page 3 / 10"
       ]
      },
      {
       "output_type": "stream",
       "stream": "stdout",
       "text": [
        "\n",
        "Reading page 4 / 10"
       ]
      },
      {
       "output_type": "stream",
       "stream": "stdout",
       "text": [
        "\n",
        "Reading page 5 / 10"
       ]
      },
      {
       "output_type": "stream",
       "stream": "stdout",
       "text": [
        "\n",
        "Reading page 6 / 10"
       ]
      },
      {
       "output_type": "stream",
       "stream": "stdout",
       "text": [
        "\n",
        "Reading page 7 / 10"
       ]
      },
      {
       "output_type": "stream",
       "stream": "stdout",
       "text": [
        "\n",
        "Reading page 8 / 10"
       ]
      },
      {
       "output_type": "stream",
       "stream": "stdout",
       "text": [
        "\n",
        "Reading page 9 / 10"
       ]
      },
      {
       "output_type": "stream",
       "stream": "stdout",
       "text": [
        "\n",
        "Reading page 10 / 10"
       ]
      },
      {
       "output_type": "stream",
       "stream": "stdout",
       "text": [
        "\n",
        "1000 games found: [('Twilight Struggle', '2005'), ('Through the Ages: A Story of Civilization', '2006'), ('Agricola', '2007'), ('Terra Mystica', '2012'), ('Puerto Rico', '2002'), ('Android: Netrunner', '2012'), ('Caverna: The Cave Farmers', '2013'), ('Eclipse', '2011'), ('Power Grid', '2004'), ('Mage Knight Board Game', '2011'), ('The Castles of Burgundy', '2011'), ('Le Havre', '2008'), ('Robinson Crusoe: Adventure on the Cursed Island', '2012'), ('Brass', '2007'), (\"Tzolk'in: The Mayan Calendar\", '2012'), ('War of the Ring (second edition)', '2012'), ('Caylus', '2005'), ('7 Wonders', '2010'), ('Dominion: Intrigue', '2009'), ('Dominant Species', '2010'), ('Dominion', '2008'), ('El Grande', '1995'), ('Star Wars: X-Wing Miniatures Game', '2012'), ('Race for the Galaxy', '2007'), ('Mage Wars', '2012'), ('Battlestar Galactica', '2008'), ('Lords of Waterdeep', '2012'), ('The Resistance: Avalon', '2012'), ('Twilight Imperium (Third Edition)', '2005'), ('Tigris & Euphrates', '1997'), ('Eldritch Horror', '2013'), ('War of the Ring (first edition)', '2004'), ('Descent: Journeys in the Dark (Second Edition)', '2012'), ('A Game of Thrones: The Board Game (Second Edition)', '2011'), ('Keyflower', '2012'), ('Ora et Labora', '2011'), ('Trajan', '2011'), ('Crokinole', '1867'), ('Commands & Colors: Ancients', '2006'), ('Nations', '2013'), ('Paths of Glory', '1999'), ('Steam', '2009'), ('Stone Age', '2008'), ('Pandemic', '2008'), ('Russian Railroads', '2013'), ('Goa', '2004'), ('Combat Commander: Europe', '2006'), ('Summoner Wars: Master Set', '2011'), ('Troyes', '2010'), ('Age of Steam', '2002'), ('Railways of the World', '2005'), ('The Princes of Florence', '2000'), ('Suburbia', '2012'), ('Pathfinder Adventure Card Game: Rise of the Runelords \u2013 Base Set', '2013'), ('Chaos in the Old World', '2009'), ('Tichu', '1991'), ('Hannibal: Rome vs. Carthage', '1996'), ('Go', '-2200'), ('Runewars', '2010'), ('Here I Stand', '2006'), ('Ticket to Ride: Europe', '2005'), ('Imperial', '2006'), ('Age of Empires III: The Age of Discovery', '2007'), ('Space Alert', '2008'), ('Village', '2011'), ('Hansa Teutonica', '2009'), ('Shogun', '2006'), ('The Lord of the Rings: The Card Game', '2011'), (\"Sid Meier's Civilization: The Board Game\", '2010'), ('Ticket to Ride: Nordic Countries', '2007'), ('Lewis & Clark', '2013'), ('Galaxy Trucker', '2007'), ('Cosmic Encounter', '2008'), ('Ticket to Ride', '2004'), ('Die Macher', '1986'), ('Kemet', '2012'), ('The Resistance', '2009'), ('Blood Bowl: Living Rulebook', '2004'), ('Glory to Rome', '2005'), (\"Memoir '44\", '2004'), ('Ra', '1999'), ('Imperial 2030', '2009'), ('Mice and Mystics', '2012'), ('Navegador', '2010'), ('King of Tokyo', '2011'), ('Claustrophobia', '2009'), ('Love Letter', '2012'), ('YINSH', '2003'), ('Earth Reborn', '2010'), ('Small World', '2009'), ('Bora Bora', '2013'), ('1960: The Making of the President', '2007'), ('Alien Frontiers', '2010'), ('1830: Railways & Robber Barons', '1986'), ('Dungeon Petz', '2011'), ('Dungeon Lords', '2009'), ('Sentinels of the Multiverse', '2011'), ('Space Hulk (third edition)', '2009'), ('Advanced Squad Leader', '1985'), ('Dixit Odyssey', '2011'), ('Risk Legacy', '2011'), ('Carcassonne', '2000'), ('Dixit', '2008'), ('Cyclades', '2009'), ('Agricola:  All Creatures Big and Small', '2012'), ('Jaipur', '2009'), ('Endeavor', '2009'), ('Legendary: A Marvel Deck Building Game', '2012'), ('Arkham Horror', '2005'), ('Samurai', '1998'), ('Seasons', '2012'), ('Dune', '1979'), ('Hanabi', '2010'), ('Antiquity', '2004'), ('Civilization', '1980'), ('A Few Acres of Snow', '2011'), ('Battle Line', '2000'), ('In the Year of the Dragon', '2007'), ('Concordia', '2013'), ('Magic: The Gathering', '1993'), ('BattleLore', '2006'), ('Zombicide', '2012'), ('Notre Dame', '2007'), ('Merchants & Marauders', '2010'), ('Letters from Whitechapel', '2011'), ('Acquire', '1964'), ('Hive', '2001'), ('Ghost Stories', '2008'), ('The Settlers of Catan', '1995'), ('Mansions of Madness', '2011'), ('Indonesia', '2005'), ('Flash Point: Fire Rescue', '2011'), ('Clash of Cultures', '2012'), ('Descent: Journeys in the Dark', '2005'), ('Macao', '2009'), ('Hammer of the Scots', '2002'), ('Tikal', '1999'), ('Blood Bowl (Third Edition)', '1994'), ('Wallenstein (first edition)', '2002'), ('London', '2010'), ('The Manhattan Project', '2012'), ('Splendor', '2014'), ('Saint Petersburg', '2004'), ('Amun-Re', '2003'), ('Thunderstone Advance: Towers of Ruin', '2012'), ('Blood Bowl: Team Manager \u2013 The Card Game', '2011'), ('Ticket to Ride: M\u00e4rklin', '2006'), ('Small World Underground', '2011'), (\"Napoleon's Triumph\", '2007'), ('Lancaster', '2011'), ('Forbidden Desert', '2013'), ('San Juan', '2004'), ('Maria', '2009'), ('Sekigahara: The Unification of Japan', '2011'), ('Struggle of Empires', '2004'), ('Fresco', '2010'), ('Bruges', '2013'), ('Egizia', '2009'), ('Roads & Boats', '1999'), ('Conflict of Heroes: Awakening the Bear! \u2013 Russia 1941-42', '2008'), ('Modern Art', '1992'), ('Up Front', '1983'), ('Combat Commander: Pacific', '2008'), ('Taj Mahal', '2000'), ('Neuroshima Hex!', '2006'), ('The Pillars of the Earth', '2006'), ('Survive: Escape from Atlantis!', '1982'), ('Takenoko', '2011'), ('A Game of Thrones (first edition)', '2003'), ('Automobile', '2009'), ('Star Wars: The Card Game', '2012'), ('Vinhos', '2010'), ('Summoner Wars', '2009'), ('Sherlock Holmes Consulting Detective', '1981'), ('At the Gates of Loyang', '2009'), ('Heroscape Master Set: Rise of the Valkyrie', '2004'), ('The Republic of Rome', '1990'), ('Glen More', '2010'), ('1989: Dawn of Freedom', '2012'), ('Commands & Colors: Napoleonics', '2010'), ('Innovation', '2010'), ('Labyrinth: The War on Terror, 2001-?', '2010'), ('Kingsburg', '2007'), ('Ingenious', '2004'), ('Citadels', '2000'), ('Star Realms', '2013'), ('Star Trek: Fleet Captains', '2011'), ('Airlines Europe', '2011'), ('Spartacus: A Game of Blood & Treachery', '2012'), ('Belfort', '2011'), ('RoboRally', '1994'), ('Telestrations', '2009'), ('Vikings', '2007'), ('Carson City', '2009'), ('Defenders of the Realm', '2010'), ('Advanced Squad Leader: Starter Kit #1', '2004'), ('Nexus Ops', '2005'), ('For Sale', '1997'), ('Summoner Wars: Guild Dwarves vs Cave Goblins', '2009'), (\"Time's Up!\", '1999'), ('DVONN', '2001'), (\"Washington's War\", '2010'), ('Trains', '2012'), ('Age of Industry', '2010'), ('StarCraft: The Board Game', '2007'), ('Summoner Wars: Phoenix Elves vs Tundra Orcs', '2009'), ('Warhammer: Invasion', '2009'), ('Coup', '2012'), ('Glass Road', '2013'), ('TZAAR', '2007'), ('Targi', '2012'), ('Gears of War: The Board Game', '2011'), ('Tales of the Arabian Nights', '2009'), ('Chicago Express', '2007'), ('Thunderstone: Dragonspire', '2011'), ('Space Hulk', '1989'), ('Last Will', '2011'), (\"Time's Up! Title Recall!\", '2008'), (\"Tinners' Trail\", '2008'), ('Conflict of Heroes: Storms of Steel! \u2013 Kursk 1943', '2009'), ('Marvel Dice Masters: Avengers vs. X-Men', '2014'), ('Cuba', '2007'), ('Friday', '2011'), ('Thurn and Taxis', '2006'), ('PitchCar', '1995'), ('Friedrich', '2004'), ('Archipelago', '2012'), ('Dungeons & Dragons: The Legend of Drizzt Board Game', '2011'), ('Escape: The Curse of the Temple', '2012'), ('Fury of Dracula', '2005'), ('Middle-Earth Quest', '2009'), ('Lord of the Rings: The Confrontation', '2002'), ('Thebes', '2007'), ('Vegas Showdown', '2005'), ('Vasco da Gama', '2009'), ('Homesteaders', '2009'), ('Ginkgopolis', '2012'), ('BattleLore (Second Edition)', '2013'), ('Shadows over Camelot', '2005'), ('Genoa', '2001'), ('Libertalia', '2012'), ('Lost Cities', '1999'), ('Euphoria: Build a Better Dystopia', '2013'), ('Bridge', '1925'), ('Union Pacific', '1999'), ('Dixit: Journey', '2012'), ('Yspahan', '2006'), ('Legends of Andor', '2012'), ('Smash Up: Awesome Level 9000', '2013'), ('Torres', '1999'), ('Mr. Jack', '2006'), ('Amerigo', '2013'), ('Ascension: Storm of Souls', '2011'), ('Tribune: Primus Inter Pares', '2007'), ('Stronghold', '2009'), ('Carcassonne: Hunters and Gatherers', '2002'), ('Heroscape Master Set: Swarm of the Marro', '2007'), ('Bohnanza', '1997'), ('Myrmes', '2012'), ('Luna', '2010'), ('Web of Power', '2000'), ('Reef Encounter', '2004'), ('Bruxelles 1893', '2013'), ('Formula D', '2008'), ('World Without End', '2009'), ('Snowdonia', '2012'), ('Squad Leader', '1977'), ('Colosseum', '2007'), ('Z\u00c8RTZ', '1999'), ('BattleCON: Devastation of Indines', '2013'), ('Ascension: Return of the Fallen', '2011'), ('Last Night on Earth: The Zombie Game', '2007'), ('Battles of Westeros', '2010'), ('Firefly: The Game', '2013'), ('Through the Desert', '1998'), ('K2', '2010'), ('Thunderstone', '2009'), ('Tobago', '2009'), (\"Star Wars: The Queen's Gambit\", '2000'), ('Eminent Domain', '2011'), ('Maharaja: The Game of Palace Building in India', '2004'), ('Virgin Queen', '2012'), ('Netrunner', '1996'), ('Jambo', '2004'), ('Spyrium', '2013'), ('Taluva', '2006'), ('San Marco', '2001'), ('Princes of the Renaissance', '2003'), ('Louis XIV', '2005'), ('Kingdom Builder', '2011'), ('Dungeons & Dragons: Wrath of Ashardalon Board Game', '2011'), ('Alhambra', '2003'), ('1775: Rebellion', '2013'), ('One Night Ultimate Werewolf', '2014'), ('D-Day at Omaha Beach', '2009'), ('The Downfall of Pompeii', '2004'), ('Chess', '1475'), ('Space Empires: 4X', '2011'), ('Britannia', '1986'), ('Carcassonne: The City', '2004'), ('Core Worlds', '2011'), ('Santiago', '2003'), ('Ascension: Chronicle of the Godslayer', '2010'), ('La Citt\u00e0', '2000'), ('Tide of Iron', '2007'), ('A Game of Thrones: The Card Game', '2008'), ('Ultimate Werewolf: Ultimate Edition', '2008'), ('Hawaii', '2011'), ('Wilderness War', '2001'), ('Antike', '2005'), ('Discworld: Ankh-Morpork', '2011'), ('Blokus', '2000'), ('Medici', '1995'), ('Mr. Jack in New York', '2009'), ('Chinatown', '1999'), ('Blue Moon City', '2006'), ('Dream Factory', '2000'), ('Diplomacy', '1959'), ('Vinci', '1999'), ('Shipyard', '2009'), ('Istanbul', '2014'), ('Biblios', '2007'), ('No Thanks!', '2004'), ('Wits & Wagers', '2005'), ('Carcassonne: The Castle', '2003'), ('Ninjato', '2011'), ('Schotten-Totten', '1999'), ('No Retreat! The Russian Front', '2011'), ('Francis Drake', '2013'), ('Coloretto', '2003'), ('Yedo', '2012'), ('Yomi', '2011'), ('Elder Sign', '2011'), ('Rex: Final Days of an Empire', '2012'), ('Betrayal at House on the Hill', '2004'), ('CO\u2082', '2012'), ('Rococo', '2013'), ('Merchant of Venus (second edition)', '2012'), ('Battle Cry', '2000'), ('Attika', '2003'), ('History of the World', '1991'), ('Roll Through the Ages: The Bronze Age', '2008'), ('Wiz-War (eighth edition)', '2012'), ('Manoeuvre', '2008'), ('Planet Steam', '2008'), ('Advanced Squad Leader: Starter Kit #2', '2005'), ('Zombicide Season 2: Prison Outbreak', '2013'), ('Finca', '2009'), ('Forbidden Island', '2010'), ('The Speicherstadt', '2010'), ('China', '2005'), ('Polis: Fight for the Hegemony', '2012'), ('Formula D\u00e9', '1991'), ('Madeira', '2013'), ('Rampage', '2013'), (\"Loopin' Louie\", '1992'), ('Freedom: The Underground Railroad', '2012'), ('Keythedral', '2002'), ('Legacy: The Testament of Duke de Crecy', '2013'), ('Lords of Vegas', '2010'), ('Vanuatu', '2011'), (\"The Werewolves of Miller's Hollow\", '2001'), ('Quarriors!', '2011'), ('1812: The Invasion of Canada', '2012'), (\"Liar's Dice\", '1987'), ('Quantum', '2013'), ('Eat Poop You Cat', '1984'), ('Dungeons & Dragons: Castle Ravenloft Board Game', '2010'), ('Merchant of Venus', '1988'), ('Container', '2007'), ('Smash Up', '2012'), ('Caylus Magna Carta', '2007'), ('Yggdrasil', '2011'), ('Catacombs', '2010'), ('Tammany Hall', '2007'), ('Domaine', '2003'), ('Haggis', '2010'), ('Primordial Soup', '1997'), ('Libert\u00e9', '2001'), ('Andean Abyss', '2012'), ('Julius Caesar', '2010'), ('Mahjong', '1850'), ('The New Era', '2011'), ('Morels', '2012'), ('Mr. Jack Pocket', '2010'), ('Space Hulk: Death Angel \u2013 The Card Game', '2010'), ('Warhammer Quest', '1995'), ('Zooloretto', '2007'), ('Hamburgum', '2007'), ('Metropolys', '2008'), ('Power Grid: Factory Manager', '2009'), ('Ascending Empires', '2011'), ('Europe Engulfed', '2003'), ('Ricochet Robots', '1999'), ('Cribbage', '1630'), ('Jamaica', '2007'), ('Peloponnes', '2009'), ('Star Trek: Attack Wing', '2013'), ('Snow Tails', '2008'), ('Advanced Squad Leader: Starter Kit #3', '2007'), ('Manila', '2005'), ('Ikusa', '1986'), ('Hacienda', '2005'), ('Guildhall', '2012'), ('Fauna', '2008'), (\"Hey, That's My Fish!\", '2003'), (\"Witch's Brew\", '2008'), ('Axis & Allies Anniversary Edition', '2008'), ('Java', '2000'), ('Pax Porfiriana', '2012'), ('Arkadia', '2006'), ('High Frontier', '2010'), ('Ambush!', '1983'), ('Strasbourg', '2011'), ('De Vulgari Eloquentia', '2010'), ('The Rivals for Catan', '2010'), ('Zendo', '1997'), ('Runebound (Second Edition)', '2005'), ('Warmachine Prime Mk II', '2010'), ('Category 5', '1994'), ('A Study in Emerald', '2013'), ('Hansa', '2004'), ('L\u00f6wenherz', '1997'), ('Lord of the Rings', '2000'), ('Tumblin-Dice', '2004'), ('Coal Baron', '2013'), (\"Can't Stop\", '1980'), ('M\u00fc & More', '1995'), ('Rise of Empires', '2009'), ('Tash-Kalar: Arena of Legends', '2013'), ('Medina', '2001'), ('1856', '1995'), ('Meuterer', '2000'), ('Successors (third edition)', '2008'), ('Evo', '2001'), ('Blokus Duo', '2005'), ('Fleet', '2012'), ('Wars of the Roses: Lancaster vs. York', '2010'), ('The Scepter of Zavandor', '2004'), ('Shadow Hunters', '2005'), ('Rallyman', '2009'), ('For the People', '1998'), ('Among the Stars', '2012'), (\"Winner's Circle\", '2001'), ('GIPF', '1997'), ('The Great Zimbabwe', '2012'), ('Amyitis', '2007'), ('Steam Park', '2013'), ('Ingenious: Travel Edition', '2006'), ('In the Shadow of the Emperor', '2004'), ('A Touch of Evil: The Supernatural Game', '2008'), ('Mexica', '2002'), ('Aquaretto', '2008'), ('Bang! The Dice Game', '2013'), ('Power Struggle', '2009'), ('Catan Card Game', '1996'), ('Mykerinos', '2006'), ('Qwirkle', '2006'), ('Titan', '1980'), ('Fortune and Glory: The Cliffhanger Game', '2011'), ('Breakout: Normandy', '1992'), ('HeroQuest', '1989'), ('Fire & Axe: A Viking Saga', '2004'), ('Mission: Red Planet', '2005'), ('The Palaces of Carrara', '2012'), ('Wallenstein (second edition)', '2012'), ('Dungeon Twister', '2004'), ('Sword of Rome', '2004'), ('Colossal Arena', '1997'), ('Rialto', '2013'), ('Call of Cthulhu: The Card Game', '2008'), ('Krosmaster: Arena', '2012'), ('Factory Fun', '2006'), ('Wings of War: Famous Aces', '2004'), ('The Duke', '2013'), ('Cosmic Encounter', '1977'), ('Doom: The Boardgame', '2004'), ('Rattus', '2010'), ('Aton', '2005'), ('Olympos', '2011'), ('Duel of Ages II', '2013'), ('A Victory Lost', '2006'), ('Incan Gold', '2006'), ('Kremlin', '1986'), ('Sticheln', '1993'), ('The Civil War', '1983'), ('Firenze', '2010'), ('Say Anything', '2008'), ('Age of Renaissance', '1996'), (\"Aladdin's Dragons\", '2000'), ('Himalaya', '2002'), ('Mystery Rummy: Jack the Ripper', '1998'), ('D-Day Dice', '2012'), ('Puzzle Strike (Third Edition)', '2012'), ('Wizard', '1984'), ('Roma', '2005'), ('Cuba Libre', '2013'), ('Tournay', '2011'), ('Ys', '2004'), ('Power Grid: The First Sparks', '2011'), ('Cleopatra and the Society of Architects', '2006'), ('Dice Town', '2009'), ('Rune Age', '2011'), ('BattleCON: War of Indines', '2010'), ('Fairy Tale', '2004'), ('Augustus', '2013'), ('We the People', '1994'), ('Rommel in the Desert', '1982'), ('Asara', '2010'), ('Ascension: Immortal Heroes', '2012'), ('Las Vegas', '2012'), ('Santiago de Cuba', '2011'), ('Starship Catan', '2001'), ('Empires in Arms', '1983'), ('Ubongo', '2003'), ('Blokus Trigon', '2006'), ('Blokus 3D', '2003'), ('Steel Driver', '2008'), ('Giants', '2008'), ('Thunderbolt Apache Leader', '2012'), ('Dungeon Twister 2: Prison', '2009'), ('Carolus Magnus', '2000'), ('Warrior Knights', '2006'), ('Blue Moon', '2004'), ('Ad Astra', '2009'), ('Elfenland', '1998'), ('World in Flames', '1985'), ('Diamonds Club', '2008'), ('Le Havre: The Inland Port', '2012'), ('Tokaido', '2012'), ('A House Divided', '1981'), ('Bausack', '1987'), ('Leonardo da Vinci', '2006'), ('Castaways', '2013'), ('51st State', '2010'), ('Ground Floor', '2012'), ('Cards Against Humanity', '2009'), ('Castle Panic', '2009'), ('Viticulture', '2013'), (\"Ca$h 'n Gun$\", '2005'), ('Wyatt Earp', '2001'), ('Spot it!', '2009'), ('Bonaparte at Marengo', '2005'), ('Necromunda', '1995'), ('Junta', '1978'), ('Gulo Gulo', '2003'), ('High Society', '1995'), ('Animal Upon Animal', '2005'), ('DC Comics Deck-Building Game', '2012'), (\"I'm the Boss!\", '1994'), ('Level 7 [Omega Protocol]', '2013'), ('On the Underground', '2006'), ('Show Manager', '1996'), ('Conflict of Heroes: Awakening the Bear! (second edition)', '2012'), ('Star Wars: Epic Duels', '2002'), ('Confusion:  Espionage and Deception in the Cold War', '1992'), ('Space Cadets: Dice Duel', '2013'), ('Starfarers of Catan', '1999'), ('Inca Empire', '2010'), ('Merkator', '2010'), ('Super Dungeon Explore', '2011'), ('Havana', '2009'), ('Axis & Allies Europe 1940', '2010'), ('Nefertiti', '2008'), ('Xiangqi', '762'), ('Napoleon: The Waterloo Campaign, 1815', '1974'), ('Helvetia', '2011'), ('Wings of War: Burning Drachens', '2005'), ('Heroscape Master Set:  Battle for the Underdark', '2010'), ('Perikles', '2006'), ('Evo (second edition)', '2011'), ('Mascarade', '2013'), ('Neuroshima Hex! Duel', '2009'), ('Eight-Minute Empire', '2012'), ('BattleTech', '1985'), ('Big City', '1999'), ('Saboteur', '2004'), ('Magic Realm', '1979'), ('Dungeon Fighter', '2011'), ('Warriors of God', '2008'), ('Cartagena', '2000'), ('Arena: Roma II', '2009'), ('Founding Fathers', '2010'), ('Pergamon', '2011'), ('Nothing Personal', '2013'), ('2 de Mayo', '2008'), ('Stephensons Rocket', '1999'), ('Hab & Gut', '2008'), ('Empire Builder', '1982'), ('Battle Cry: 150th Civil War Anniversary Edition', '2010'), ('The Magic Labyrinth', '2009'), ('Middle-Earth', '1995'), ('Wings of War: Deluxe Set', '2007'), ('Wings of War: Watch Your Back!', '2005'), ('Balloon Cup', '2003'), ('Pr\u00eat-\u00e0-Porter', '2010'), ('Werewolf', '1986'), ('Tsuro', '2004'), ('Sushi Go!', '2013'), ('K\u00f6nig von Siam', '2007'), ('Hornet Leader: Carrier Air Operations', '2010'), ('City of Iron', '2013'), ('Fighting Formations: Grossdeutschland Motorized Infantry Division', '2011'), ('Vampire: The Eternal Struggle', '1994'), ('Timeline: Inventions', '2010'), ('Ogre', '1977'), ('Bang!', '2002'), ('Turn the Tide', '1997'), ('PitchCar Mini', '2003'), ('Shogi', '1000'), ('Condottiere', '1995'), ('Poker', '1810'), ('Funkenschlag', '2001'), ('Hermagor', '2006'), ('EastFront', '1991'), ('Mordheim: City of the Damned', '1999'), ('Royal Palace', '2008'), ('Lost Cities: The Board Game', '2008'), ('Oregon', '2007'), ('Eurorails', '1990'), ('Zing!', '2003'), ('Diamant', '2005'), ('Star Trek: Catan', '2012'), ('Revolution: The Dutch Revolt 1568-1648', '2004'), ('Fearsome Floors', '2003'), ('1870', '1992'), ('Parade', '2007'), ('Qu\u00e9bec', '2011'), ('Antike Duellum', '2012'), ('Ghost Blitz', '2010'), ('Skull & Roses', '2011'), ('EastFront II', '2006'), ('Legend of the Five Rings', '1995'), ('Android', '2008'), ('The Russian Campaign', '1974'), ('A Castle for All Seasons', '2008'), ('Onirim', '2010'), ('Axis & Allies', '2004'), (\"Time's Up! Deluxe\", '2008'), ('The Princes of Machu Picchu', '2008'), ('Serenissima (first edition)', '1996'), ('Ch\u00e2teau Roquefort', '2007'), ('Space Cadets', '2012'), ('Last Train to Wensleydale', '2009'), ('Richard III: The Wars of the Roses', '2009'), ('Drum Roll', '2011'), ('TransAmerica', '2001'), ('Crusader Rex', '2005'), ('Atlantic Star', '2001'), ('Conquest of the Empire', '2005'), ('Horus Heresy', '2010'), ('Empire of the Sun', '2005'), ('Pueblo', '2002'), ('Jungle Speed', '1997'), ('Unhappy King Charles!\\t', '2008'), ('Risk 2210 A.D.', '2001'), ('Wealth of Nations', '2008'), ('A Distant Plain', '2013'), ('The Ark of the Covenant', '2003'), ('Quarto!', '1991'), ('SPQR (Deluxe Edition)', '2008'), ('Settlers of America: Trails to Rails', '2010'), ('Edel, Stein & Reich', '2003'), ('Mare Nostrum', '2003'), ('Magnum Sal', '2010'), ('Eight-Minute Empire: Legends', '2013'), ('The Red Dragon Inn 2', '2008'), ('20th Century', '2010'), ('Wooden Ships & Iron Men', '1974'), ('Conquest of Planet Earth: The Space Alien Game', '2011'), ('Kahuna', '1998'), ('Last Night on Earth: Timber Peak', '2012'), ('Um Reifenbreite', '1979'), ('Elasund: The First City', '2005'), ('Talisman (Revised 4th Edition)', '2007'), ('League of Six', '2007'), ('Manhattan', '1994'), ('Daytona 500', '1990'), (\"God's Playground\", '2009'), ('Warmachine', '2003'), ('RAF: The Battle of Britain 1940', '2009'), ('Quoridor', '1997'), ('Copycat', '2012'), ('Urban Sprawl', '2011'), ('Concept', '2013'), ('Walnut Grove', '2011'), (\"Pirate's Cove\", '2002'), ('Sylla', '2008'), ('Cold War: CIA vs KGB', '2007'), (\"Odin's Ravens\", '2002'), ('Campaign Manager 2008', '2009'), ('Sleuth', '1971'), ('Omen: A Reign of War', '2011'), ('The Bottle Imp', '1995'), ('Razzia!', '2004'), ('Revolution!', '2009'), ('Strike of the Eagle', '2011'), ('Ta Y\u00fc', '1999'), ('Valdora', '2009'), ('Traders of Carthage', '2006'), ('Axis & Allies Pacific 1940', '2009'), ('Relic', '2013'), ('Heroscape Marvel: The Conflict Begins', '2007'), ('World War II: Barbarossa to Berlin', '2002'), ('Blueprints', '2013'), ('Pastiche', '2011'), ('Assyria', '2009'), ('Edo', '2012'), ('Samarkand: Routes to Riches', '2010'), ('Monsterpocalypse', '2008'), ('Cutthroat Caverns', '2007'), ('Oltre Mare', '2004'), ('Lost Valley', '2004'), ('Theseus: The Dark Orbit', '2013'), ('El Capit\u00e1n', '2007'), ('Ra: The Dice Game', '2009'), ('The Napoleonic Wars (Second Edition)', '2008'), ('New Amsterdam', '2012'), ('Smash Up: Science Fiction Double Feature', '2014'), ('Timeline: Historical Events', '2011'), ('Babel', '2000'), ('The Bridges of Shangri-La', '2003'), ('Room 25', '2013'), ('FAB: The Bulge', '2008'), ('City of Horror', '2012'), ('Mall of Horror', '2005'), ('The Boss', '2010'), ('Puzzle Strike', '2010'), ('Warhammer: Diskwars', '2013'), ('Pixel Tactics', '2012'), ('Kingdoms', '1994'), ('Hare & Tortoise', '1973'), ('The End of the Triumvirate', '2005'), ('Key Market', '2010'), ('Oasis', '2004'), ('Felix: The Cat in the Sack', '2007'), ('Rosenk\u00f6nig', '1997'), ('Ave Caesar', '1989'), ('Strat-O-Matic Baseball', '1962'), ('Ubongo 3D', '2009'), ('Nightfall', '2011'), ('Bootleggers', '2004'), ('Canal Mania', '2006'), ('Wiz-War', '1983'), ('Capitol', '2001'), ('The Great Battles of Alexander: Deluxe Edition', '1995'), ('Battletech Introductory Box Set', '2002'), ('Isla Dorada', '2010'), ('Victory in the Pacific', '1977'), ('The Adventurers: The Temple of Chac', '2009'), ('DungeonQuest (third edition)', '2010'), ('Qwixx', '2012'), ('Dreamblade', '2006'), ('Battlestations', '2004'), ('Archaeology: The Card Game', '2007'), ('Agents of SMERSH', '2012'), ('Guillotine', '1998'), ('Fjords', '2005'), ('Niagara', '2004'), ('Hamsterrolle', '2000'), ('Poseidon', '2010'), ('Arctic Scavengers', '2009'), ('The Hanging Gardens', '2008'), ('Space Crusade', '1990'), ('The Little Prince: Make Me a Planet', '2013'), ('Smash Up: The Obligatory Cthulhu Set', '2013'), ('Machi Koro', '2012'), ('Infiltration', '2012'), ('Subbuteo', '1947'), ('Kreta', '2005'), ('Dungeons & Dragons: Conquest of Nerath Board Game', '2011'), ('Long Shot', '2009'), ('Horse Fever', '2009'), ('Carrom', nan), ('FITS', '2009'), ('Iron Dragon', '1994'), ('Verr\u00e4ter', '1998'), ('Kamisado', '2008'), ('Puzzle Strike Shadows', '2012'), ('Wasabi!', '2008'), ('Kings of Air and Steam', '2013'), ('Tower of Babel', '2005'), ('Trans Europa', '2005'), (\"You're Bluffing!\", '1985'), ('Pantheon', '2011'), ('1860: Railways on the Isle of Wight', '2004'), ('Mystery of the Abbey', '1995'), ('Constantinopolis', '2010'), ('Nuns on the Run', '2010'), ('Scotland Yard', '1983'), ('Key Harvest', '2007'), ('Silverton', '1991'), ('GOSU', '2010'), ('Ascension: Rise of Vigil', '2013'), (\"Ardennes '44\", '2003'), ('First Train to Nuremberg', '2010'), ('TurfMaster', '1998'), ('Merchants of the Middle Ages', '1999'), ('Perry Rhodan: The Cosmic League', '2007'), ('Beyond Balderdash', '1993'), ('Spades', '1938'), ('Field Commander: Napoleon', '2011'), ('Hoity Toity', '1990'), ('Basari', '1998'), ('Identik', '2005'), ('Clans', '2002'), ('Lifeboats', '1993'), ('Powerboats', '2008'), ('World at War: Eisenbach Gap', '2007'), ('Mondo', '2011'), ('Industrial Waste', '2001'), ('Nightfall: Martial Law', '2011'), ('Kupferkessel Co.', '2001'), ('Fortress America', '1986'), (\"Frank's Zoo\", '1999'), ('DungeonQuest', '1985'), ('Cosmic Encounter', '1991'), ('The Red Dragon Inn', '2007'), ('Timeline: Diversity', '2012'), ('La Boca', '2013'), ('Palastgefl\u00fcster', '2007'), ('P\u00dcNCT', '2005'), ('Olympus', '2010'), ('Pyramid', '2008'), ('Full Metal Planete', '1988'), ('Revolver', '2011'), ('Alea Iacta Est', '2009'), (\"Lock 'n Load: Band of Heroes\", '2005'), (\"The Devil's Cauldron: The Battles for Arnhem and Nijmegen\", '2008'), ('Invasion from Outer Space: The Martian Game', '2010'), ('Pickomino', '2005'), ('Illuminati:  Deluxe Edition', '1987'), ('Wings of War: The Dawn of World War II', '2007'), ('Fields of Fire', '2008'), ('Flying Colors', '2005'), ('The Great Dalmuti', '1995'), ('O Zoo le Mio', '2002'), ('Once Upon a Time: The Storytelling Card Game', '1993'), ('Backgammon', '-3000'), ('The Hunters: German U-Boats at War, 1939-43', '2013'), ('Galaxy Defenders', '2014'), ('Botswana', '1994'), ('The Settlers of Catan: Travel Edition', '2002'), ('Tikal II: The Lost Temple', '2010'), ('7 Ages', '2004'), ('Boss Monster: The Dungeon Building Card Game', '2013'), ('World of Warcraft: The Boardgame', '2005'), ('Noblemen', '2012'), ('Giganten', '1999'), ('Carcassonne: South Seas', '2013'), ('Age of Conan: The Strategy Board Game', '2009'), ('Pursuit of Glory', '2008'), ('Famiglia', '2010'), ('Prophecy', '2002'), ('Dungeon Command: Heart of Cormyr', '2012'), ('Dragonheart', '2010'), ('Blockers!', '2007'), ('Kolejka', '2011'), ('Timbuktu', '1993'), ('Il Vecchio', '2012'), ('Euchre', '1848'), ('R-Eco', '2003'), ('Dead of Winter: A Crossroads Game', '2014'), ('Warhammer', '1983'), ('Marrakech', '2007'), ('Drako', '2011'), ('A Gamut of Games', '1969'), ('Boomtown', '2004'), ('American Rails', '2009'), ('Ace of Aces: Handy Rotary Series', '1980'), ('Blue Max', '1983'), ('Carcassonne: Winter Edition', '2012'), ('B-17: Queen of the Skies', '1981'), ('The Kids of Carcassonne', '2009'), ('The Adventurers: The Pyramid of Horus', '2011'), ('DreadBall: The Futuristic Sports Game', '2012'), ('Byzantium', '2005'), ('Deadlands: Doomtown', '1998'), ('Mamma Mia!', '1999'), ('Around the World in 80 Days', '2004'), ('The Fury of Dracula', '1987'), ('Expedition', '1996'), ('Machiavelli', '1977'), ('City of Remnants', '2013'), ('Code 777', '1985'), ('Dungeon Command: Sting of Lolth', '2012'), ('Pictomania', '2011'), ('Outpost', '1991'), ('Ubongo Extreme', '2007'), ('Merchants of Amsterdam', '2000'), ('The Settlers of the Stone Age', '2002'), ('Masons', '2006'), ('CV', '2013'), ('Tales of the Arabian Nights', '1985'), ('SET', '1988'), ('Ubongo: Duel', '2008'), ('Khet: The Laser Game', '2005'), ('Sobek', '2010'), ('Tempus', '2006'), ('Timeline: Discoveries', '2011'), ('VivaJava: The Coffee Game', '2012'), ('Paris Connection', '2010'), ('The Battle for Hill 218', '2007'), ('Phoenicia', '2007'), ('Axis & Allies', '1981'), ('Gunslinger', '1982'), ('Leader 1', '2008'), ('Money!', '1999'), ('Grand Cru', '2010'), ('Battleground: Fantasy Warfare', '2005'), ('Liberty Roads', '2009'), ('Storm over Arnhem', '1981'), ('Die Siedler von N\u00fcrnberg', '1999'), ('Drakon (third edition)', '2006'), ('Sorry! Sliders', '2008'), ('TAMSK', '1998'), (\"Colonial: Europe's Empires Overseas\", '2011'), ('Greed Incorporated', '2009'), ('Espa\u00f1a 1936', '2007'), ('Flat Top', '1977'), ('Norenberc', '2010'), ('Keltis', '2008'), ('Where There Is Discord: War in the South Atlantic', '2009'), ('Chicken Cha Cha Cha', '1997'), ('Pick Picknic', '2001'), ('Before the Wind', '2007'), ('Dust Tactics', '2010'), ('Hera and Zeus', '2000'), ('The Red Dragon Inn 3', '2011'), ('18AL', '1999'), ('Villa Paletti', '2001'), ('Navajo Wars', '2013'), ('Legacy: Gears of Time', '2012'), ('Samurai Sword', '2012'), ('Take it Easy!', '1983'), ('Infinity: A Skirmish Game', '2005'), ('Mystery Express', '2010'), ('Florenza', '2010'), ('Rise and Decline of the Third Reich', '1974'), ('Galactic Emperor', '2008'), ('Ribbit', '2004'), ('Dawn of the Zeds (Second edition)', '2013'), ('Palazzo', '2005'), ('After the Flood', '2008'), ('To Court the King', '2006'), ('Red Winter: The Soviet Attack at Tolvaj\u00e4rvi, Finland \u2013 8-12 December 1939', '2012'), ('Wits & Wagers Family', '2010'), ('WildLife', '2002'), ('The Golden City', '2009'), ('Riff Raff', '2012'), ('Guildhall: Job Faire', '2013'), ('Medieval Merchant', '1998'), ('Gemblo', '2005'), ('Battleship Galaxies: The Saturn Offensive Game Set', '2011'), ('Skat', '1810'), ('Word on the Street', '2009'), ('Caesar & Cleopatra', '1997'), ('Pente', '1977'), ('Axis & Allies: 1942', '2009'), (\"Normandy '44\", '2010'), ('Thunder Alley', '2014'), ('RAF', '1986'), ('The Climbers', '2008'), ('Compounded', '2013'), ('Age of Napoleon', '2003'), ('1861: The Railways of the Russian Empire', '2006'), ('Cathedral', '1978'), ('Duel in the Dark', '2007'), (\"Man O' War\", '1993'), ('The Castle of the Devil', '2006'), ('Federation Commander: Klingon Border', '2005'), ('Space Dealer', '2006'), ('Cavum', '2008'), ('World of Warcraft Trading Card Game', '2006'), ('Phantom Leader', '2010'), ('Inkognito', '1988'), ('Witch of Salem', '2008'), ('Star Wars Miniatures', '2004'), ('Police Precinct', '2013'), ('A Brief History of the World', '2009'), ('Mus', '1745'), ('Silent War', '2005'), ('The Lord of the Rings Trading Card Game', '2001'), ('Scrabble', '1948'), ('Top Race', '1996'), ('Divinare', '2012'), ('Flames of War: The World War II Miniatures Game', '2002'), ('Entdecker: Exploring New Horizons', '2001'), ('The World Cup Game', '2006'), ('StreetSoccer', '2002'), ('Pit', '1903'), ('Priests of Ra', '2009'), ('Duel of Ages Set 1: Worldspanner', '2003'), ('Goldland', '2002'), ('Gloom', '2005'), ('Speed Circuit', '1971'), ('Mutant Chronicles: Siege of the Citadel', '1993'), ('Gang of Four', '1990'), ('A la carte', '1989'), ('Carcassonne: Wheel of Fortune', '2009')]"
       ]
      },
      {
       "output_type": "stream",
       "stream": "stdout",
       "text": [
        "\n"
       ]
      }
     ],
     "prompt_number": 3
    },
    {
     "cell_type": "markdown",
     "metadata": {},
     "source": [
      "BGG XML API\n",
      "-----------\n",
      "Next, we use the BGG XML API get the game ids for the selected games, as used by the BGG database."
     ]
    },
    {
     "cell_type": "code",
     "collapsed": false,
     "input": [
      "def get_games_id(games):\n",
      "    games = pd.DataFrame.from_records(games, columns=['title', 'year'])\n",
      "\n",
      "    def get_game_id(x):\n",
      "        # ugh, this one is annoying\n",
      "        if x.title == \"Ca$h 'n Gun$\":\n",
      "            x['id'] = '19237'\n",
      "        else:\n",
      "            url = \"http://www.boardgamegeek.com/xmlapi/search?search={0}&exact=1\".format(x.title)\n",
      "            result = requests.get(url, timeout=60)\n",
      "            result = ElementTree.fromstring(result.text)\n",
      "            if len(result) == 1:\n",
      "                x['id'] = result[0].attrib['objectid']\n",
      "            # nothing found? then do inexact search and match manually afterwards\n",
      "            elif len(result) == 0:\n",
      "                url = \"http://www.boardgamegeek.com/xmlapi/search?search={0}\".format(x.title)\n",
      "                result = requests.get(url, timeout=60)\n",
      "                result = ElementTree.fromstring(result.text)\n",
      "                for found in result:\n",
      "                    if found[0].text == x.title:\n",
      "                        x['id'] = found.attrib['objectid']\n",
      "                        break\n",
      "            # multiple results found? then try to match on year\n",
      "            else:\n",
      "                for found in result:\n",
      "                    if found[0].text == x.title:\n",
      "                        if len(found) > 1 and found[1].text == x.year:\n",
      "                            x['id'] = found.attrib['objectid']\n",
      "                            break\n",
      "        \n",
      "        print(\"id {0} found for {1}\".format(x.id, x.title))\n",
      "        return x\n",
      "\n",
      "    games = games.apply(get_game_id, axis=1)\n",
      "    \n",
      "    return games\n",
      "\n",
      "gamedata = get_games_id(topgames)"
     ],
     "language": "python",
     "metadata": {},
     "outputs": [
      {
       "output_type": "stream",
       "stream": "stdout",
       "text": [
        "id 12333 found for Twilight Struggle\n",
        "id 12333 found for Twilight Struggle"
       ]
      },
      {
       "output_type": "stream",
       "stream": "stdout",
       "text": [
        "\n",
        "id 25613 found for Through the Ages: A Story of Civilization"
       ]
      },
      {
       "output_type": "stream",
       "stream": "stdout",
       "text": [
        "\n",
        "id 31260 found for Agricola"
       ]
      },
      {
       "output_type": "stream",
       "stream": "stdout",
       "text": [
        "\n",
        "id 120677 found for Terra Mystica"
       ]
      },
      {
       "output_type": "stream",
       "stream": "stdout",
       "text": [
        "\n",
        "id 3076 found for Puerto Rico"
       ]
      },
      {
       "output_type": "stream",
       "stream": "stdout",
       "text": [
        "\n",
        "id 124742 found for Android: Netrunner"
       ]
      },
      {
       "output_type": "stream",
       "stream": "stdout",
       "text": [
        "\n",
        "id 102794 found for Caverna: The Cave Farmers"
       ]
      },
      {
       "output_type": "stream",
       "stream": "stdout",
       "text": [
        "\n",
        "id 72125 found for Eclipse"
       ]
      },
      {
       "output_type": "stream",
       "stream": "stdout",
       "text": [
        "\n",
        "id 2651 found for Power Grid"
       ]
      },
      {
       "output_type": "stream",
       "stream": "stdout",
       "text": [
        "\n",
        "id 96848 found for Mage Knight Board Game"
       ]
      },
      {
       "output_type": "stream",
       "stream": "stdout",
       "text": [
        "\n",
        "id 84876 found for The Castles of Burgundy"
       ]
      },
      {
       "output_type": "stream",
       "stream": "stdout",
       "text": [
        "\n",
        "id 35677 found for Le Havre"
       ]
      },
      {
       "output_type": "stream",
       "stream": "stdout",
       "text": [
        "\n",
        "id 121921 found for Robinson Crusoe: Adventure on the Cursed Island"
       ]
      },
      {
       "output_type": "stream",
       "stream": "stdout",
       "text": [
        "\n",
        "id 28720 found for Brass"
       ]
      },
      {
       "output_type": "stream",
       "stream": "stdout",
       "text": [
        "\n",
        "id 126163 found for Tzolk'in: The Mayan Calendar"
       ]
      },
      {
       "output_type": "stream",
       "stream": "stdout",
       "text": [
        "\n",
        "id 115746 found for War of the Ring (second edition)"
       ]
      },
      {
       "output_type": "stream",
       "stream": "stdout",
       "text": [
        "\n",
        "id 18602 found for Caylus"
       ]
      },
      {
       "output_type": "stream",
       "stream": "stdout",
       "text": [
        "\n",
        "id 68448 found for 7 Wonders"
       ]
      },
      {
       "output_type": "stream",
       "stream": "stdout",
       "text": [
        "\n",
        "id 40834 found for Dominion: Intrigue"
       ]
      },
      {
       "output_type": "stream",
       "stream": "stdout",
       "text": [
        "\n",
        "id 62219 found for Dominant Species"
       ]
      },
      {
       "output_type": "stream",
       "stream": "stdout",
       "text": [
        "\n",
        "id 36218 found for Dominion"
       ]
      },
      {
       "output_type": "stream",
       "stream": "stdout",
       "text": [
        "\n",
        "id 93 found for El Grande"
       ]
      },
      {
       "output_type": "stream",
       "stream": "stdout",
       "text": [
        "\n",
        "id 103885 found for Star Wars: X-Wing Miniatures Game"
       ]
      },
      {
       "output_type": "stream",
       "stream": "stdout",
       "text": [
        "\n",
        "id 28143 found for Race for the Galaxy"
       ]
      },
      {
       "output_type": "stream",
       "stream": "stdout",
       "text": [
        "\n",
        "id 101721 found for Mage Wars"
       ]
      },
      {
       "output_type": "stream",
       "stream": "stdout",
       "text": [
        "\n",
        "id 37111 found for Battlestar Galactica"
       ]
      },
      {
       "output_type": "stream",
       "stream": "stdout",
       "text": [
        "\n",
        "id 110327 found for Lords of Waterdeep"
       ]
      },
      {
       "output_type": "stream",
       "stream": "stdout",
       "text": [
        "\n",
        "id 128882 found for The Resistance: Avalon"
       ]
      },
      {
       "output_type": "stream",
       "stream": "stdout",
       "text": [
        "\n",
        "id 12493 found for Twilight Imperium (Third Edition)"
       ]
      },
      {
       "output_type": "stream",
       "stream": "stdout",
       "text": [
        "\n",
        "id 42 found for Tigris & Euphrates"
       ]
      },
      {
       "output_type": "stream",
       "stream": "stdout",
       "text": [
        "\n",
        "id 146021 found for Eldritch Horror"
       ]
      },
      {
       "output_type": "stream",
       "stream": "stdout",
       "text": [
        "\n",
        "id 9609 found for War of the Ring (first edition)"
       ]
      },
      {
       "output_type": "stream",
       "stream": "stdout",
       "text": [
        "\n",
        "id 104162 found for Descent: Journeys in the Dark (Second Edition)"
       ]
      },
      {
       "output_type": "stream",
       "stream": "stdout",
       "text": [
        "\n",
        "id 103343 found for A Game of Thrones: The Board Game (Second Edition)"
       ]
      },
      {
       "output_type": "stream",
       "stream": "stdout",
       "text": [
        "\n",
        "id 122515 found for Keyflower"
       ]
      },
      {
       "output_type": "stream",
       "stream": "stdout",
       "text": [
        "\n",
        "id 70149 found for Ora et Labora"
       ]
      },
      {
       "output_type": "stream",
       "stream": "stdout",
       "text": [
        "\n",
        "id 102680 found for Trajan"
       ]
      },
      {
       "output_type": "stream",
       "stream": "stdout",
       "text": [
        "\n",
        "id 521 found for Crokinole"
       ]
      },
      {
       "output_type": "stream",
       "stream": "stdout",
       "text": [
        "\n",
        "id 14105 found for Commands & Colors: Ancients"
       ]
      },
      {
       "output_type": "stream",
       "stream": "stdout",
       "text": [
        "\n",
        "id 126042 found for Nations"
       ]
      },
      {
       "output_type": "stream",
       "stream": "stdout",
       "text": [
        "\n",
        "id 91 found for Paths of Glory"
       ]
      },
      {
       "output_type": "stream",
       "stream": "stdout",
       "text": [
        "\n",
        "id 27833 found for Steam"
       ]
      },
      {
       "output_type": "stream",
       "stream": "stdout",
       "text": [
        "\n",
        "id 34635 found for Stone Age"
       ]
      },
      {
       "output_type": "stream",
       "stream": "stdout",
       "text": [
        "\n",
        "id 30549 found for Pandemic"
       ]
      },
      {
       "output_type": "stream",
       "stream": "stdout",
       "text": [
        "\n",
        "id 144733 found for Russian Railroads"
       ]
      },
      {
       "output_type": "stream",
       "stream": "stdout",
       "text": [
        "\n",
        "id 9216 found for Goa"
       ]
      },
      {
       "output_type": "stream",
       "stream": "stdout",
       "text": [
        "\n",
        "id 21050 found for Combat Commander: Europe"
       ]
      },
      {
       "output_type": "stream",
       "stream": "stdout",
       "text": [
        "\n",
        "id 93260 found for Summoner Wars: Master Set"
       ]
      },
      {
       "output_type": "stream",
       "stream": "stdout",
       "text": [
        "\n",
        "id 73439 found for Troyes"
       ]
      },
      {
       "output_type": "stream",
       "stream": "stdout",
       "text": [
        "\n",
        "id 4098 found for Age of Steam"
       ]
      },
      {
       "output_type": "stream",
       "stream": "stdout",
       "text": [
        "\n",
        "id 17133 found for Railways of the World"
       ]
      },
      {
       "output_type": "stream",
       "stream": "stdout",
       "text": [
        "\n",
        "id 555 found for The Princes of Florence"
       ]
      },
      {
       "output_type": "stream",
       "stream": "stdout",
       "text": [
        "\n",
        "id 123260 found for Suburbia"
       ]
      },
      {
       "output_type": "stream",
       "stream": "stdout",
       "text": [
        "\n",
        "id 133038 found for Pathfinder Adventure Card Game: Rise of the Runelords \u2013 Base Set"
       ]
      },
      {
       "output_type": "stream",
       "stream": "stdout",
       "text": [
        "\n",
        "id 43111 found for Chaos in the Old World"
       ]
      },
      {
       "output_type": "stream",
       "stream": "stdout",
       "text": [
        "\n",
        "id 215 found for Tichu"
       ]
      },
      {
       "output_type": "stream",
       "stream": "stdout",
       "text": [
        "\n",
        "id 234 found for Hannibal: Rome vs. Carthage"
       ]
      },
      {
       "output_type": "stream",
       "stream": "stdout",
       "text": [
        "\n",
        "id 188 found for Go"
       ]
      },
      {
       "output_type": "stream",
       "stream": "stdout",
       "text": [
        "\n",
        "id 59294 found for Runewars"
       ]
      },
      {
       "output_type": "stream",
       "stream": "stdout",
       "text": [
        "\n",
        "id 17392 found for Here I Stand"
       ]
      },
      {
       "output_type": "stream",
       "stream": "stdout",
       "text": [
        "\n",
        "id 14996 found for Ticket to Ride: Europe"
       ]
      },
      {
       "output_type": "stream",
       "stream": "stdout",
       "text": [
        "\n",
        "id 24181 found for Imperial"
       ]
      },
      {
       "output_type": "stream",
       "stream": "stdout",
       "text": [
        "\n",
        "id 22545 found for Age of Empires III: The Age of Discovery"
       ]
      },
      {
       "output_type": "stream",
       "stream": "stdout",
       "text": [
        "\n",
        "id 38453 found for Space Alert"
       ]
      },
      {
       "output_type": "stream",
       "stream": "stdout",
       "text": [
        "\n",
        "id 104006 found for Village"
       ]
      },
      {
       "output_type": "stream",
       "stream": "stdout",
       "text": [
        "\n",
        "id 43015 found for Hansa Teutonica"
       ]
      },
      {
       "output_type": "stream",
       "stream": "stdout",
       "text": [
        "\n",
        "id 20551 found for Shogun"
       ]
      },
      {
       "output_type": "stream",
       "stream": "stdout",
       "text": [
        "\n",
        "id 77423 found for The Lord of the Rings: The Card Game"
       ]
      },
      {
       "output_type": "stream",
       "stream": "stdout",
       "text": [
        "\n",
        "id 77130 found for Sid Meier's Civilization: The Board Game"
       ]
      },
      {
       "output_type": "stream",
       "stream": "stdout",
       "text": [
        "\n",
        "id 31627 found for Ticket to Ride: Nordic Countries"
       ]
      },
      {
       "output_type": "stream",
       "stream": "stdout",
       "text": [
        "\n",
        "id 140620 found for Lewis & Clark"
       ]
      },
      {
       "output_type": "stream",
       "stream": "stdout",
       "text": [
        "\n",
        "id 31481 found for Galaxy Trucker"
       ]
      },
      {
       "output_type": "stream",
       "stream": "stdout",
       "text": [
        "\n",
        "id 39463 found for Cosmic Encounter"
       ]
      },
      {
       "output_type": "stream",
       "stream": "stdout",
       "text": [
        "\n",
        "id 9209 found for Ticket to Ride"
       ]
      },
      {
       "output_type": "stream",
       "stream": "stdout",
       "text": [
        "\n",
        "id 1 found for Die Macher"
       ]
      },
      {
       "output_type": "stream",
       "stream": "stdout",
       "text": [
        "\n",
        "id 127023 found for Kemet"
       ]
      },
      {
       "output_type": "stream",
       "stream": "stdout",
       "text": [
        "\n",
        "id 41114 found for The Resistance"
       ]
      },
      {
       "output_type": "stream",
       "stream": "stdout",
       "text": [
        "\n",
        "id 15985 found for Blood Bowl: Living Rulebook"
       ]
      },
      {
       "output_type": "stream",
       "stream": "stdout",
       "text": [
        "\n",
        "id 19857 found for Glory to Rome"
       ]
      },
      {
       "output_type": "stream",
       "stream": "stdout",
       "text": [
        "\n",
        "id 10630 found for Memoir '44"
       ]
      },
      {
       "output_type": "stream",
       "stream": "stdout",
       "text": [
        "\n",
        "id 12 found for Ra"
       ]
      },
      {
       "output_type": "stream",
       "stream": "stdout",
       "text": [
        "\n",
        "id 54138 found for Imperial 2030"
       ]
      },
      {
       "output_type": "stream",
       "stream": "stdout",
       "text": [
        "\n",
        "id 124708 found for Mice and Mystics"
       ]
      },
      {
       "output_type": "stream",
       "stream": "stdout",
       "text": [
        "\n",
        "id 66589 found for Navegador"
       ]
      },
      {
       "output_type": "stream",
       "stream": "stdout",
       "text": [
        "\n",
        "id 70323 found for King of Tokyo"
       ]
      },
      {
       "output_type": "stream",
       "stream": "stdout",
       "text": [
        "\n",
        "id 36932 found for Claustrophobia"
       ]
      },
      {
       "output_type": "stream",
       "stream": "stdout",
       "text": [
        "\n",
        "id 129622 found for Love Letter"
       ]
      },
      {
       "output_type": "stream",
       "stream": "stdout",
       "text": [
        "\n",
        "id 7854 found for YINSH"
       ]
      },
      {
       "output_type": "stream",
       "stream": "stdout",
       "text": [
        "\n",
        "id 73171 found for Earth Reborn"
       ]
      },
      {
       "output_type": "stream",
       "stream": "stdout",
       "text": [
        "\n",
        "id 40692 found for Small World"
       ]
      },
      {
       "output_type": "stream",
       "stream": "stdout",
       "text": [
        "\n",
        "id 127060 found for Bora Bora"
       ]
      },
      {
       "output_type": "stream",
       "stream": "stdout",
       "text": [
        "\n",
        "id 27708 found for 1960: The Making of the President"
       ]
      },
      {
       "output_type": "stream",
       "stream": "stdout",
       "text": [
        "\n",
        "id 48726 found for Alien Frontiers"
       ]
      },
      {
       "output_type": "stream",
       "stream": "stdout",
       "text": [
        "\n",
        "id 421 found for 1830: Railways & Robber Barons"
       ]
      },
      {
       "output_type": "stream",
       "stream": "stdout",
       "text": [
        "\n",
        "id 97207 found for Dungeon Petz"
       ]
      },
      {
       "output_type": "stream",
       "stream": "stdout",
       "text": [
        "\n",
        "id 45315 found for Dungeon Lords"
       ]
      },
      {
       "output_type": "stream",
       "stream": "stdout",
       "text": [
        "\n",
        "id 102652 found for Sentinels of the Multiverse"
       ]
      },
      {
       "output_type": "stream",
       "stream": "stdout",
       "text": [
        "\n",
        "id 54625 found for Space Hulk (third edition)"
       ]
      },
      {
       "output_type": "stream",
       "stream": "stdout",
       "text": [
        "\n",
        "id 243 found for Advanced Squad Leader"
       ]
      },
      {
       "output_type": "stream",
       "stream": "stdout",
       "text": [
        "\n",
        "id 92828 found for Dixit Odyssey"
       ]
      },
      {
       "output_type": "stream",
       "stream": "stdout",
       "text": [
        "\n",
        "id 105134 found for Risk Legacy"
       ]
      },
      {
       "output_type": "stream",
       "stream": "stdout",
       "text": [
        "\n",
        "id 822 found for Carcassonne"
       ]
      },
      {
       "output_type": "stream",
       "stream": "stdout",
       "text": [
        "\n",
        "id 39856 found for Dixit"
       ]
      },
      {
       "output_type": "stream",
       "stream": "stdout",
       "text": [
        "\n",
        "id 54998 found for Cyclades"
       ]
      },
      {
       "output_type": "stream",
       "stream": "stdout",
       "text": [
        "\n",
        "id 119890 found for Agricola:  All Creatures Big and Small"
       ]
      },
      {
       "output_type": "stream",
       "stream": "stdout",
       "text": [
        "\n",
        "id 54043 found for Jaipur"
       ]
      },
      {
       "output_type": "stream",
       "stream": "stdout",
       "text": [
        "\n",
        "id 33160 found for Endeavor"
       ]
      },
      {
       "output_type": "stream",
       "stream": "stdout",
       "text": [
        "\n",
        "id 129437 found for Legendary: A Marvel Deck Building Game"
       ]
      },
      {
       "output_type": "stream",
       "stream": "stdout",
       "text": [
        "\n",
        "id 15987 found for Arkham Horror"
       ]
      },
      {
       "output_type": "stream",
       "stream": "stdout",
       "text": [
        "\n",
        "id 3 found for Samurai"
       ]
      },
      {
       "output_type": "stream",
       "stream": "stdout",
       "text": [
        "\n",
        "id 108745 found for Seasons"
       ]
      },
      {
       "output_type": "stream",
       "stream": "stdout",
       "text": [
        "\n",
        "id 121 found for Dune"
       ]
      },
      {
       "output_type": "stream",
       "stream": "stdout",
       "text": [
        "\n",
        "id 98778 found for Hanabi"
       ]
      },
      {
       "output_type": "stream",
       "stream": "stdout",
       "text": [
        "\n",
        "id 13122 found for Antiquity"
       ]
      },
      {
       "output_type": "stream",
       "stream": "stdout",
       "text": [
        "\n",
        "id 71 found for Civilization"
       ]
      },
      {
       "output_type": "stream",
       "stream": "stdout",
       "text": [
        "\n",
        "id 79828 found for A Few Acres of Snow"
       ]
      },
      {
       "output_type": "stream",
       "stream": "stdout",
       "text": [
        "\n",
        "id 760 found for Battle Line"
       ]
      },
      {
       "output_type": "stream",
       "stream": "stdout",
       "text": [
        "\n",
        "id 31594 found for In the Year of the Dragon"
       ]
      },
      {
       "output_type": "stream",
       "stream": "stdout",
       "text": [
        "\n",
        "id 124361 found for Concordia"
       ]
      },
      {
       "output_type": "stream",
       "stream": "stdout",
       "text": [
        "\n",
        "id 463 found for Magic: The Gathering"
       ]
      },
      {
       "output_type": "stream",
       "stream": "stdout",
       "text": [
        "\n",
        "id 25417 found for BattleLore"
       ]
      },
      {
       "output_type": "stream",
       "stream": "stdout",
       "text": [
        "\n",
        "id 113924 found for Zombicide"
       ]
      },
      {
       "output_type": "stream",
       "stream": "stdout",
       "text": [
        "\n",
        "id 25554 found for Notre Dame"
       ]
      },
      {
       "output_type": "stream",
       "stream": "stdout",
       "text": [
        "\n",
        "id 25292 found for Merchants & Marauders"
       ]
      },
      {
       "output_type": "stream",
       "stream": "stdout",
       "text": [
        "\n",
        "id 59959 found for Letters from Whitechapel"
       ]
      },
      {
       "output_type": "stream",
       "stream": "stdout",
       "text": [
        "\n",
        "id 5 found for Acquire"
       ]
      },
      {
       "output_type": "stream",
       "stream": "stdout",
       "text": [
        "\n",
        "id 2655 found for Hive"
       ]
      },
      {
       "output_type": "stream",
       "stream": "stdout",
       "text": [
        "\n",
        "id 37046 found for Ghost Stories"
       ]
      },
      {
       "output_type": "stream",
       "stream": "stdout",
       "text": [
        "\n",
        "id 13 found for The Settlers of Catan"
       ]
      },
      {
       "output_type": "stream",
       "stream": "stdout",
       "text": [
        "\n",
        "id 83330 found for Mansions of Madness"
       ]
      },
      {
       "output_type": "stream",
       "stream": "stdout",
       "text": [
        "\n",
        "id 19777 found for Indonesia"
       ]
      },
      {
       "output_type": "stream",
       "stream": "stdout",
       "text": [
        "\n",
        "id 100901 found for Flash Point: Fire Rescue"
       ]
      },
      {
       "output_type": "stream",
       "stream": "stdout",
       "text": [
        "\n",
        "id 40765 found for Clash of Cultures"
       ]
      },
      {
       "output_type": "stream",
       "stream": "stdout",
       "text": [
        "\n",
        "id 17226 found for Descent: Journeys in the Dark"
       ]
      },
      {
       "output_type": "stream",
       "stream": "stdout",
       "text": [
        "\n",
        "id 55670 found for Macao"
       ]
      },
      {
       "output_type": "stream",
       "stream": "stdout",
       "text": [
        "\n",
        "id 3685 found for Hammer of the Scots"
       ]
      },
      {
       "output_type": "stream",
       "stream": "stdout",
       "text": [
        "\n",
        "id 54 found for Tikal"
       ]
      },
      {
       "output_type": "stream",
       "stream": "stdout",
       "text": [
        "\n",
        "id 712 found for Blood Bowl (Third Edition)"
       ]
      },
      {
       "output_type": "stream",
       "stream": "stdout",
       "text": [
        "\n",
        "id 3307 found for Wallenstein (first edition)"
       ]
      },
      {
       "output_type": "stream",
       "stream": "stdout",
       "text": [
        "\n",
        "id 65781 found for London"
       ]
      },
      {
       "output_type": "stream",
       "stream": "stdout",
       "text": [
        "\n",
        "id 63628 found for The Manhattan Project"
       ]
      },
      {
       "output_type": "stream",
       "stream": "stdout",
       "text": [
        "\n",
        "id 148228 found for Splendor"
       ]
      },
      {
       "output_type": "stream",
       "stream": "stdout",
       "text": [
        "\n",
        "id 9217 found for Saint Petersburg"
       ]
      },
      {
       "output_type": "stream",
       "stream": "stdout",
       "text": [
        "\n",
        "id 5404 found for Amun-Re"
       ]
      },
      {
       "output_type": "stream",
       "stream": "stdout",
       "text": [
        "\n",
        "id 116998 found for Thunderstone Advance: Towers of Ruin"
       ]
      },
      {
       "output_type": "stream",
       "stream": "stdout",
       "text": [
        "\n",
        "id 90137 found for Blood Bowl: Team Manager \u2013 The Card Game"
       ]
      },
      {
       "output_type": "stream",
       "stream": "stdout",
       "text": [
        "\n",
        "id 21348 found for Ticket to Ride: M\u00e4rklin"
       ]
      },
      {
       "output_type": "stream",
       "stream": "stdout",
       "text": [
        "\n",
        "id 97786 found for Small World Underground"
       ]
      },
      {
       "output_type": "stream",
       "stream": "stdout",
       "text": [
        "\n",
        "id 18098 found for Napoleon's Triumph"
       ]
      },
      {
       "output_type": "stream",
       "stream": "stdout",
       "text": [
        "\n",
        "id 96913 found for Lancaster"
       ]
      },
      {
       "output_type": "stream",
       "stream": "stdout",
       "text": [
        "\n",
        "id 136063 found for Forbidden Desert"
       ]
      },
      {
       "output_type": "stream",
       "stream": "stdout",
       "text": [
        "\n",
        "id 8217 found for San Juan"
       ]
      },
      {
       "output_type": "stream",
       "stream": "stdout",
       "text": [
        "\n",
        "id 40354 found for Maria"
       ]
      },
      {
       "output_type": "stream",
       "stream": "stdout",
       "text": [
        "\n",
        "id 25021 found for Sekigahara: The Unification of Japan"
       ]
      },
      {
       "output_type": "stream",
       "stream": "stdout",
       "text": [
        "\n",
        "id 9625 found for Struggle of Empires"
       ]
      },
      {
       "output_type": "stream",
       "stream": "stdout",
       "text": [
        "\n",
        "id 66188 found for Fresco"
       ]
      },
      {
       "output_type": "stream",
       "stream": "stdout",
       "text": [
        "\n",
        "id 136888 found for Bruges"
       ]
      },
      {
       "output_type": "stream",
       "stream": "stdout",
       "text": [
        "\n",
        "id 58421 found for Egizia"
       ]
      },
      {
       "output_type": "stream",
       "stream": "stdout",
       "text": [
        "\n",
        "id 875 found for Roads & Boats"
       ]
      },
      {
       "output_type": "stream",
       "stream": "stdout",
       "text": [
        "\n",
        "id 24800 found for Conflict of Heroes: Awakening the Bear! \u2013 Russia 1941-42"
       ]
      },
      {
       "output_type": "stream",
       "stream": "stdout",
       "text": [
        "\n",
        "id 118 found for Modern Art"
       ]
      },
      {
       "output_type": "stream",
       "stream": "stdout",
       "text": [
        "\n",
        "id 586 found for Up Front"
       ]
      },
      {
       "output_type": "stream",
       "stream": "stdout",
       "text": [
        "\n",
        "id 28181 found for Combat Commander: Pacific"
       ]
      },
      {
       "output_type": "stream",
       "stream": "stdout",
       "text": [
        "\n",
        "id 475 found for Taj Mahal"
       ]
      },
      {
       "output_type": "stream",
       "stream": "stdout",
       "text": [
        "\n",
        "id 21241 found for Neuroshima Hex!"
       ]
      },
      {
       "output_type": "stream",
       "stream": "stdout",
       "text": [
        "\n",
        "id 24480 found for The Pillars of the Earth"
       ]
      },
      {
       "output_type": "stream",
       "stream": "stdout",
       "text": [
        "\n",
        "id 2653 found for Survive: Escape from Atlantis!"
       ]
      },
      {
       "output_type": "stream",
       "stream": "stdout",
       "text": [
        "\n",
        "id 70919 found for Takenoko"
       ]
      },
      {
       "output_type": "stream",
       "stream": "stdout",
       "text": [
        "\n",
        "id 6472 found for A Game of Thrones (first edition)"
       ]
      },
      {
       "output_type": "stream",
       "stream": "stdout",
       "text": [
        "\n",
        "id 39351 found for Automobile"
       ]
      },
      {
       "output_type": "stream",
       "stream": "stdout",
       "text": [
        "\n",
        "id 103886 found for Star Wars: The Card Game"
       ]
      },
      {
       "output_type": "stream",
       "stream": "stdout",
       "text": [
        "\n",
        "id 42052 found for Vinhos"
       ]
      },
      {
       "output_type": "stream",
       "stream": "stdout",
       "text": [
        "\n",
        "id 58281 found for Summoner Wars"
       ]
      },
      {
       "output_type": "stream",
       "stream": "stdout",
       "text": [
        "\n",
        "id 2511 found for Sherlock Holmes Consulting Detective"
       ]
      },
      {
       "output_type": "stream",
       "stream": "stdout",
       "text": [
        "\n",
        "id 39683 found for At the Gates of Loyang"
       ]
      },
      {
       "output_type": "stream",
       "stream": "stdout",
       "text": [
        "\n",
        "id 11170 found for Heroscape Master Set: Rise of the Valkyrie"
       ]
      },
      {
       "output_type": "stream",
       "stream": "stdout",
       "text": [
        "\n",
        "id 1513 found for The Republic of Rome"
       ]
      },
      {
       "output_type": "stream",
       "stream": "stdout",
       "text": [
        "\n",
        "id 66362 found for Glen More"
       ]
      },
      {
       "output_type": "stream",
       "stream": "stdout",
       "text": [
        "\n",
        "id 26997 found for 1989: Dawn of Freedom"
       ]
      },
      {
       "output_type": "stream",
       "stream": "stdout",
       "text": [
        "\n",
        "id 62222 found for Commands & Colors: Napoleonics"
       ]
      },
      {
       "output_type": "stream",
       "stream": "stdout",
       "text": [
        "\n",
        "id 63888 found for Innovation"
       ]
      },
      {
       "output_type": "stream",
       "stream": "stdout",
       "text": [
        "\n",
        "id 62227 found for Labyrinth: The War on Terror, 2001-?"
       ]
      },
      {
       "output_type": "stream",
       "stream": "stdout",
       "text": [
        "\n",
        "id 27162 found for Kingsburg"
       ]
      },
      {
       "output_type": "stream",
       "stream": "stdout",
       "text": [
        "\n",
        "id 9674 found for Ingenious"
       ]
      },
      {
       "output_type": "stream",
       "stream": "stdout",
       "text": [
        "\n",
        "id 478 found for Citadels"
       ]
      },
      {
       "output_type": "stream",
       "stream": "stdout",
       "text": [
        "\n",
        "id 147020 found for Star Realms"
       ]
      },
      {
       "output_type": "stream",
       "stream": "stdout",
       "text": [
        "\n",
        "id 79127 found for Star Trek: Fleet Captains"
       ]
      },
      {
       "output_type": "stream",
       "stream": "stdout",
       "text": [
        "\n",
        "id 90419 found for Airlines Europe"
       ]
      },
      {
       "output_type": "stream",
       "stream": "stdout",
       "text": [
        "\n",
        "id 128671 found for Spartacus: A Game of Blood & Treachery"
       ]
      },
      {
       "output_type": "stream",
       "stream": "stdout",
       "text": [
        "\n",
        "id 50750 found for Belfort"
       ]
      },
      {
       "output_type": "stream",
       "stream": "stdout",
       "text": [
        "\n",
        "id 18 found for RoboRally"
       ]
      },
      {
       "output_type": "stream",
       "stream": "stdout",
       "text": [
        "\n",
        "id 46213 found for Telestrations"
       ]
      },
      {
       "output_type": "stream",
       "stream": "stdout",
       "text": [
        "\n",
        "id 27173 found for Vikings"
       ]
      },
      {
       "output_type": "stream",
       "stream": "stdout",
       "text": [
        "\n",
        "id 39938 found for Carson City"
       ]
      },
      {
       "output_type": "stream",
       "stream": "stdout",
       "text": [
        "\n",
        "id 65532 found for Defenders of the Realm"
       ]
      },
      {
       "output_type": "stream",
       "stream": "stdout",
       "text": [
        "\n",
        "id 9823 found for Advanced Squad Leader: Starter Kit #1"
       ]
      },
      {
       "output_type": "stream",
       "stream": "stdout",
       "text": [
        "\n",
        "id 15363 found for Nexus Ops"
       ]
      },
      {
       "output_type": "stream",
       "stream": "stdout",
       "text": [
        "\n",
        "id 172 found for For Sale"
       ]
      },
      {
       "output_type": "stream",
       "stream": "stdout",
       "text": [
        "\n",
        "id 82420 found for Summoner Wars: Guild Dwarves vs Cave Goblins"
       ]
      },
      {
       "output_type": "stream",
       "stream": "stdout",
       "text": [
        "\n",
        "id 1353 found for Time's Up!"
       ]
      },
      {
       "output_type": "stream",
       "stream": "stdout",
       "text": [
        "\n",
        "id 2346 found for DVONN"
       ]
      },
      {
       "output_type": "stream",
       "stream": "stdout",
       "text": [
        "\n",
        "id 38996 found for Washington's War"
       ]
      },
      {
       "output_type": "stream",
       "stream": "stdout",
       "text": [
        "\n",
        "id 121408 found for Trains"
       ]
      },
      {
       "output_type": "stream",
       "stream": "stdout",
       "text": [
        "\n",
        "id 65901 found for Age of Industry"
       ]
      },
      {
       "output_type": "stream",
       "stream": "stdout",
       "text": [
        "\n",
        "id 22827 found for StarCraft: The Board Game"
       ]
      },
      {
       "output_type": "stream",
       "stream": "stdout",
       "text": [
        "\n",
        "id 82421 found for Summoner Wars: Phoenix Elves vs Tundra Orcs"
       ]
      },
      {
       "output_type": "stream",
       "stream": "stdout",
       "text": [
        "\n",
        "id 47185 found for Warhammer: Invasion"
       ]
      },
      {
       "output_type": "stream",
       "stream": "stdout",
       "text": [
        "\n",
        "id 131357 found for Coup"
       ]
      },
      {
       "output_type": "stream",
       "stream": "stdout",
       "text": [
        "\n",
        "id 143693 found for Glass Road"
       ]
      },
      {
       "output_type": "stream",
       "stream": "stdout",
       "text": [
        "\n",
        "id 31999 found for TZAAR"
       ]
      },
      {
       "output_type": "stream",
       "stream": "stdout",
       "text": [
        "\n",
        "id 118048 found for Targi"
       ]
      },
      {
       "output_type": "stream",
       "stream": "stdout",
       "text": [
        "\n",
        "id 42776 found for Gears of War: The Board Game"
       ]
      },
      {
       "output_type": "stream",
       "stream": "stdout",
       "text": [
        "\n",
        "id 34119 found for Tales of the Arabian Nights"
       ]
      },
      {
       "output_type": "stream",
       "stream": "stdout",
       "text": [
        "\n",
        "id 31730 found for Chicago Express"
       ]
      },
      {
       "output_type": "stream",
       "stream": "stdout",
       "text": [
        "\n",
        "id 85897 found for Thunderstone: Dragonspire"
       ]
      },
      {
       "output_type": "stream",
       "stream": "stdout",
       "text": [
        "\n",
        "id 2163 found for Space Hulk"
       ]
      },
      {
       "output_type": "stream",
       "stream": "stdout",
       "text": [
        "\n",
        "id 97842 found for Last Will"
       ]
      },
      {
       "output_type": "stream",
       "stream": "stdout",
       "text": [
        "\n",
        "id 36553 found for Time's Up! Title Recall!"
       ]
      },
      {
       "output_type": "stream",
       "stream": "stdout",
       "text": [
        "\n",
        "id 35570 found for Tinners' Trail"
       ]
      },
      {
       "output_type": "stream",
       "stream": "stdout",
       "text": [
        "\n",
        "id 38823 found for Conflict of Heroes: Storms of Steel! \u2013 Kursk 1943"
       ]
      },
      {
       "output_type": "stream",
       "stream": "stdout",
       "text": [
        "\n",
        "id 148575 found for Marvel Dice Masters: Avengers vs. X-Men"
       ]
      },
      {
       "output_type": "stream",
       "stream": "stdout",
       "text": [
        "\n",
        "id 30380 found for Cuba"
       ]
      },
      {
       "output_type": "stream",
       "stream": "stdout",
       "text": [
        "\n",
        "id 43570 found for Friday"
       ]
      },
      {
       "output_type": "stream",
       "stream": "stdout",
       "text": [
        "\n",
        "id 21790 found for Thurn and Taxis"
       ]
      },
      {
       "output_type": "stream",
       "stream": "stdout",
       "text": [
        "\n",
        "id 150 found for PitchCar"
       ]
      },
      {
       "output_type": "stream",
       "stream": "stdout",
       "text": [
        "\n",
        "id 12891 found for Friedrich"
       ]
      },
      {
       "output_type": "stream",
       "stream": "stdout",
       "text": [
        "\n",
        "id 105551 found for Archipelago"
       ]
      },
      {
       "output_type": "stream",
       "stream": "stdout",
       "text": [
        "\n",
        "id 91872 found for Dungeons & Dragons: The Legend of Drizzt Board Game"
       ]
      },
      {
       "output_type": "stream",
       "stream": "stdout",
       "text": [
        "\n",
        "id 113294 found for Escape: The Curse of the Temple"
       ]
      },
      {
       "output_type": "stream",
       "stream": "stdout",
       "text": [
        "\n",
        "id 20963 found for Fury of Dracula"
       ]
      },
      {
       "output_type": "stream",
       "stream": "stdout",
       "text": [
        "\n",
        "id 31563 found for Middle-Earth Quest"
       ]
      },
      {
       "output_type": "stream",
       "stream": "stdout",
       "text": [
        "\n",
        "id 3201 found for Lord of the Rings: The Confrontation"
       ]
      },
      {
       "output_type": "stream",
       "stream": "stdout",
       "text": [
        "\n",
        "id 30869 found for Thebes"
       ]
      },
      {
       "output_type": "stream",
       "stream": "stdout",
       "text": [
        "\n",
        "id 15364 found for Vegas Showdown"
       ]
      },
      {
       "output_type": "stream",
       "stream": "stdout",
       "text": [
        "\n",
        "id 41002 found for Vasco da Gama"
       ]
      },
      {
       "output_type": "stream",
       "stream": "stdout",
       "text": [
        "\n",
        "id 26566 found for Homesteaders"
       ]
      },
      {
       "output_type": "stream",
       "stream": "stdout",
       "text": [
        "\n",
        "id 128271 found for Ginkgopolis"
       ]
      },
      {
       "output_type": "stream",
       "stream": "stdout",
       "text": [
        "\n",
        "id 146439 found for BattleLore (Second Edition)"
       ]
      },
      {
       "output_type": "stream",
       "stream": "stdout",
       "text": [
        "\n",
        "id 15062 found for Shadows over Camelot"
       ]
      },
      {
       "output_type": "stream",
       "stream": "stdout",
       "text": [
        "\n",
        "id 1345 found for Genoa"
       ]
      },
      {
       "output_type": "stream",
       "stream": "stdout",
       "text": [
        "\n",
        "id 125618 found for Libertalia"
       ]
      },
      {
       "output_type": "stream",
       "stream": "stdout",
       "text": [
        "\n",
        "id 50 found for Lost Cities"
       ]
      },
      {
       "output_type": "stream",
       "stream": "stdout",
       "text": [
        "\n",
        "id 133848 found for Euphoria: Build a Better Dystopia"
       ]
      },
      {
       "output_type": "stream",
       "stream": "stdout",
       "text": [
        "\n",
        "id 2181 found for Bridge"
       ]
      },
      {
       "output_type": "stream",
       "stream": "stdout",
       "text": [
        "\n",
        "id 94 found for Union Pacific"
       ]
      },
      {
       "output_type": "stream",
       "stream": "stdout",
       "text": [
        "\n",
        "id 121288 found for Dixit: Journey"
       ]
      },
      {
       "output_type": "stream",
       "stream": "stdout",
       "text": [
        "\n",
        "id 22345 found for Yspahan"
       ]
      },
      {
       "output_type": "stream",
       "stream": "stdout",
       "text": [
        "\n",
        "id 127398 found for Legends of Andor"
       ]
      },
      {
       "output_type": "stream",
       "stream": "stdout",
       "text": [
        "\n",
        "id 134726 found for Smash Up: Awesome Level 9000"
       ]
      },
      {
       "output_type": "stream",
       "stream": "stdout",
       "text": [
        "\n",
        "id 88 found for Torres"
       ]
      },
      {
       "output_type": "stream",
       "stream": "stdout",
       "text": [
        "\n",
        "id 21763 found for Mr. Jack"
       ]
      },
      {
       "output_type": "stream",
       "stream": "stdout",
       "text": [
        "\n",
        "id 137408 found for Amerigo"
       ]
      },
      {
       "output_type": "stream",
       "stream": "stdout",
       "text": [
        "\n",
        "id 108784 found for Ascension: Storm of Souls"
       ]
      },
      {
       "output_type": "stream",
       "stream": "stdout",
       "text": [
        "\n",
        "id 30957 found for Tribune: Primus Inter Pares"
       ]
      },
      {
       "output_type": "stream",
       "stream": "stdout",
       "text": [
        "\n",
        "id 45986 found for Stronghold"
       ]
      },
      {
       "output_type": "stream",
       "stream": "stdout",
       "text": [
        "\n",
        "id 4390 found for Carcassonne: Hunters and Gatherers"
       ]
      },
      {
       "output_type": "stream",
       "stream": "stdout",
       "text": [
        "\n",
        "id 27976 found for Heroscape Master Set: Swarm of the Marro"
       ]
      },
      {
       "output_type": "stream",
       "stream": "stdout",
       "text": [
        "\n",
        "id 11 found for Bohnanza"
       ]
      },
      {
       "output_type": "stream",
       "stream": "stdout",
       "text": [
        "\n",
        "id 126792 found for Myrmes"
       ]
      },
      {
       "output_type": "stream",
       "stream": "stdout",
       "text": [
        "\n",
        "id 70512 found for Luna"
       ]
      },
      {
       "output_type": "stream",
       "stream": "stdout",
       "text": [
        "\n",
        "id 491 found for Web of Power"
       ]
      },
      {
       "output_type": "stream",
       "stream": "stdout",
       "text": [
        "\n",
        "id 12962 found for Reef Encounter"
       ]
      },
      {
       "output_type": "stream",
       "stream": "stdout",
       "text": [
        "\n",
        "id 144592 found for Bruxelles 1893"
       ]
      },
      {
       "output_type": "stream",
       "stream": "stdout",
       "text": [
        "\n",
        "id 37904 found for Formula D"
       ]
      },
      {
       "output_type": "stream",
       "stream": "stdout",
       "text": [
        "\n",
        "id 43528 found for World Without End"
       ]
      },
      {
       "output_type": "stream",
       "stream": "stdout",
       "text": [
        "\n",
        "id 119432 found for Snowdonia"
       ]
      },
      {
       "output_type": "stream",
       "stream": "stdout",
       "text": [
        "\n",
        "id 1035 found for Squad Leader"
       ]
      },
      {
       "output_type": "stream",
       "stream": "stdout",
       "text": [
        "\n",
        "id 27746 found for Colosseum"
       ]
      },
      {
       "output_type": "stream",
       "stream": "stdout",
       "text": [
        "\n",
        "id 528 found for Z\u00c8RTZ"
       ]
      },
      {
       "output_type": "stream",
       "stream": "stdout",
       "text": [
        "\n",
        "id 123123 found for BattleCON: Devastation of Indines"
       ]
      },
      {
       "output_type": "stream",
       "stream": "stdout",
       "text": [
        "\n",
        "id 95064 found for Ascension: Return of the Fallen"
       ]
      },
      {
       "output_type": "stream",
       "stream": "stdout",
       "text": [
        "\n",
        "id 29368 found for Last Night on Earth: The Zombie Game"
       ]
      },
      {
       "output_type": "stream",
       "stream": "stdout",
       "text": [
        "\n",
        "id 67492 found for Battles of Westeros"
       ]
      },
      {
       "output_type": "stream",
       "stream": "stdout",
       "text": [
        "\n",
        "id 138161 found for Firefly: The Game"
       ]
      },
      {
       "output_type": "stream",
       "stream": "stdout",
       "text": [
        "\n",
        "id 503 found for Through the Desert"
       ]
      },
      {
       "output_type": "stream",
       "stream": "stdout",
       "text": [
        "\n",
        "id 73761 found for K2"
       ]
      },
      {
       "output_type": "stream",
       "stream": "stdout",
       "text": [
        "\n",
        "id 53953 found for Thunderstone"
       ]
      },
      {
       "output_type": "stream",
       "stream": "stdout",
       "text": [
        "\n",
        "id 42215 found for Tobago"
       ]
      },
      {
       "output_type": "stream",
       "stream": "stdout",
       "text": [
        "\n",
        "id 939 found for Star Wars: The Queen's Gambit"
       ]
      },
      {
       "output_type": "stream",
       "stream": "stdout",
       "text": [
        "\n",
        "id 68425 found for Eminent Domain"
       ]
      },
      {
       "output_type": "stream",
       "stream": "stdout",
       "text": [
        "\n",
        "id 9440 found for Maharaja: The Game of Palace Building in India"
       ]
      },
      {
       "output_type": "stream",
       "stream": "stdout",
       "text": [
        "\n",
        "id 41066 found for Virgin Queen"
       ]
      },
      {
       "output_type": "stream",
       "stream": "stdout",
       "text": [
        "\n",
        "id 1301 found for Netrunner"
       ]
      },
      {
       "output_type": "stream",
       "stream": "stdout",
       "text": [
        "\n",
        "id 12002 found for Jambo"
       ]
      },
      {
       "output_type": "stream",
       "stream": "stdout",
       "text": [
        "\n",
        "id 137269 found for Spyrium"
       ]
      },
      {
       "output_type": "stream",
       "stream": "stdout",
       "text": [
        "\n",
        "id 24508 found for Taluva"
       ]
      },
      {
       "output_type": "stream",
       "stream": "stdout",
       "text": [
        "\n",
        "id 1041 found for San Marco"
       ]
      },
      {
       "output_type": "stream",
       "stream": "stdout",
       "text": [
        "\n",
        "id 8045 found for Princes of the Renaissance"
       ]
      },
      {
       "output_type": "stream",
       "stream": "stdout",
       "text": [
        "\n",
        "id 13642 found for Louis XIV"
       ]
      },
      {
       "output_type": "stream",
       "stream": "stdout",
       "text": [
        "\n",
        "id 107529 found for Kingdom Builder"
       ]
      },
      {
       "output_type": "stream",
       "stream": "stdout",
       "text": [
        "\n",
        "id 66356 found for Dungeons & Dragons: Wrath of Ashardalon Board Game"
       ]
      },
      {
       "output_type": "stream",
       "stream": "stdout",
       "text": [
        "\n",
        "id 6249 found for Alhambra"
       ]
      },
      {
       "output_type": "stream",
       "stream": "stdout",
       "text": [
        "\n",
        "id 128996 found for 1775: Rebellion"
       ]
      },
      {
       "output_type": "stream",
       "stream": "stdout",
       "text": [
        "\n",
        "id 147949 found for One Night Ultimate Werewolf"
       ]
      },
      {
       "output_type": "stream",
       "stream": "stdout",
       "text": [
        "\n",
        "id 29603 found for D-Day at Omaha Beach"
       ]
      },
      {
       "output_type": "stream",
       "stream": "stdout",
       "text": [
        "\n",
        "id 13004 found for The Downfall of Pompeii"
       ]
      },
      {
       "output_type": "stream",
       "stream": "stdout",
       "text": [
        "\n",
        "id 171 found for Chess"
       ]
      },
      {
       "output_type": "stream",
       "stream": "stdout",
       "text": [
        "\n",
        "id 84419 found for Space Empires: 4X"
       ]
      },
      {
       "output_type": "stream",
       "stream": "stdout",
       "text": [
        "\n",
        "id 240 found for Britannia"
       ]
      },
      {
       "output_type": "stream",
       "stream": "stdout",
       "text": [
        "\n",
        "id 12902 found for Carcassonne: The City"
       ]
      },
      {
       "output_type": "stream",
       "stream": "stdout",
       "text": [
        "\n",
        "id 98351 found for Core Worlds"
       ]
      },
      {
       "output_type": "stream",
       "stream": "stdout",
       "text": [
        "\n",
        "id 8125 found for Santiago"
       ]
      },
      {
       "output_type": "stream",
       "stream": "stdout",
       "text": [
        "\n",
        "id 69789 found for Ascension: Chronicle of the Godslayer"
       ]
      },
      {
       "output_type": "stream",
       "stream": "stdout",
       "text": [
        "\n",
        "id 554 found for La Citt\u00e0"
       ]
      },
      {
       "output_type": "stream",
       "stream": "stdout",
       "text": [
        "\n",
        "id 22825 found for Tide of Iron"
       ]
      },
      {
       "output_type": "stream",
       "stream": "stdout",
       "text": [
        "\n",
        "id 39953 found for A Game of Thrones: The Card Game"
       ]
      },
      {
       "output_type": "stream",
       "stream": "stdout",
       "text": [
        "\n",
        "id 38159 found for Ultimate Werewolf: Ultimate Edition"
       ]
      },
      {
       "output_type": "stream",
       "stream": "stdout",
       "text": [
        "\n",
        "id 106217 found for Hawaii"
       ]
      },
      {
       "output_type": "stream",
       "stream": "stdout",
       "text": [
        "\n",
        "id 1822 found for Wilderness War"
       ]
      },
      {
       "output_type": "stream",
       "stream": "stdout",
       "text": [
        "\n",
        "id 19600 found for Antike"
       ]
      },
      {
       "output_type": "stream",
       "stream": "stdout",
       "text": [
        "\n",
        "id 91312 found for Discworld: Ankh-Morpork"
       ]
      },
      {
       "output_type": "stream",
       "stream": "stdout",
       "text": [
        "\n",
        "id 2453 found for Blokus"
       ]
      },
      {
       "output_type": "stream",
       "stream": "stdout",
       "text": [
        "\n",
        "id 46 found for Medici"
       ]
      },
      {
       "output_type": "stream",
       "stream": "stdout",
       "text": [
        "\n",
        "id 55427 found for Mr. Jack in New York"
       ]
      },
      {
       "output_type": "stream",
       "stream": "stdout",
       "text": [
        "\n",
        "id 47 found for Chinatown"
       ]
      },
      {
       "output_type": "stream",
       "stream": "stdout",
       "text": [
        "\n",
        "id 21882 found for Blue Moon City"
       ]
      },
      {
       "output_type": "stream",
       "stream": "stdout",
       "text": [
        "\n",
        "id 904 found for Dream Factory"
       ]
      },
      {
       "output_type": "stream",
       "stream": "stdout",
       "text": [
        "\n",
        "id 483 found for Diplomacy"
       ]
      },
      {
       "output_type": "stream",
       "stream": "stdout",
       "text": [
        "\n",
        "id 60 found for Vinci"
       ]
      },
      {
       "output_type": "stream",
       "stream": "stdout",
       "text": [
        "\n",
        "id 55600 found for Shipyard"
       ]
      },
      {
       "output_type": "stream",
       "stream": "stdout",
       "text": [
        "\n",
        "id 148949 found for Istanbul"
       ]
      },
      {
       "output_type": "stream",
       "stream": "stdout",
       "text": [
        "\n",
        "id 34219 found for Biblios"
       ]
      },
      {
       "output_type": "stream",
       "stream": "stdout",
       "text": [
        "\n",
        "id 12942 found for No Thanks!"
       ]
      },
      {
       "output_type": "stream",
       "stream": "stdout",
       "text": [
        "\n",
        "id 20100 found for Wits & Wagers"
       ]
      },
      {
       "output_type": "stream",
       "stream": "stdout",
       "text": [
        "\n",
        "id 7717 found for Carcassonne: The Castle"
       ]
      },
      {
       "output_type": "stream",
       "stream": "stdout",
       "text": [
        "\n",
        "id 50768 found for Ninjato"
       ]
      },
      {
       "output_type": "stream",
       "stream": "stdout",
       "text": [
        "\n",
        "id 372 found for Schotten-Totten"
       ]
      },
      {
       "output_type": "stream",
       "stream": "stdout",
       "text": [
        "\n",
        "id 68264 found for No Retreat! The Russian Front"
       ]
      },
      {
       "output_type": "stream",
       "stream": "stdout",
       "text": [
        "\n",
        "id 140603 found for Francis Drake"
       ]
      },
      {
       "output_type": "stream",
       "stream": "stdout",
       "text": [
        "\n",
        "id 5782 found for Coloretto"
       ]
      },
      {
       "output_type": "stream",
       "stream": "stdout",
       "text": [
        "\n",
        "id 117915 found for Yedo"
       ]
      },
      {
       "output_type": "stream",
       "stream": "stdout",
       "text": [
        "\n",
        "id 43022 found for Yomi"
       ]
      },
      {
       "output_type": "stream",
       "stream": "stdout",
       "text": [
        "\n",
        "id 100423 found for Elder Sign"
       ]
      },
      {
       "output_type": "stream",
       "stream": "stdout",
       "text": [
        "\n",
        "id 104363 found for Rex: Final Days of an Empire"
       ]
      },
      {
       "output_type": "stream",
       "stream": "stdout",
       "text": [
        "\n",
        "id 10547 found for Betrayal at House on the Hill"
       ]
      },
      {
       "output_type": "stream",
       "stream": "stdout",
       "text": [
        "\n",
        "id 72225 found for CO\u2082"
       ]
      },
      {
       "output_type": "stream",
       "stream": "stdout",
       "text": [
        "\n",
        "id 144344 found for Rococo"
       ]
      },
      {
       "output_type": "stream",
       "stream": "stdout",
       "text": [
        "\n",
        "id 131646 found for Merchant of Venus (second edition)"
       ]
      },
      {
       "output_type": "stream",
       "stream": "stdout",
       "text": [
        "\n",
        "id 551 found for Battle Cry"
       ]
      },
      {
       "output_type": "stream",
       "stream": "stdout",
       "text": [
        "\n",
        "id 8051 found for Attika"
       ]
      },
      {
       "output_type": "stream",
       "stream": "stdout",
       "text": [
        "\n",
        "id 224 found for History of the World"
       ]
      },
      {
       "output_type": "stream",
       "stream": "stdout",
       "text": [
        "\n",
        "id 37380 found for Roll Through the Ages: The Bronze Age"
       ]
      },
      {
       "output_type": "stream",
       "stream": "stdout",
       "text": [
        "\n",
        "id 104710 found for Wiz-War (eighth edition)"
       ]
      },
      {
       "output_type": "stream",
       "stream": "stdout",
       "text": [
        "\n",
        "id 17396 found for Manoeuvre"
       ]
      },
      {
       "output_type": "stream",
       "stream": "stdout",
       "text": [
        "\n",
        "id 23094 found for Planet Steam"
       ]
      },
      {
       "output_type": "stream",
       "stream": "stdout",
       "text": [
        "\n",
        "id 15126 found for Advanced Squad Leader: Starter Kit #2"
       ]
      },
      {
       "output_type": "stream",
       "stream": "stdout",
       "text": [
        "\n",
        "id 137988 found for Zombicide Season 2: Prison Outbreak"
       ]
      },
      {
       "output_type": "stream",
       "stream": "stdout",
       "text": [
        "\n",
        "id 40628 found for Finca"
       ]
      },
      {
       "output_type": "stream",
       "stream": "stdout",
       "text": [
        "\n",
        "id 65244 found for Forbidden Island"
       ]
      },
      {
       "output_type": "stream",
       "stream": "stdout",
       "text": [
        "\n",
        "id 66505 found for The Speicherstadt"
       ]
      },
      {
       "output_type": "stream",
       "stream": "stdout",
       "text": [
        "\n",
        "id 18100 found for China"
       ]
      },
      {
       "output_type": "stream",
       "stream": "stdout",
       "text": [
        "\n",
        "id 69779 found for Polis: Fight for the Hegemony"
       ]
      },
      {
       "output_type": "stream",
       "stream": "stdout",
       "text": [
        "\n",
        "id 173 found for Formula D\u00e9"
       ]
      },
      {
       "output_type": "stream",
       "stream": "stdout",
       "text": [
        "\n",
        "id 95527 found for Madeira"
       ]
      },
      {
       "output_type": "stream",
       "stream": "stdout",
       "text": [
        "\n",
        "id 97903 found for Rampage"
       ]
      },
      {
       "output_type": "stream",
       "stream": "stdout",
       "text": [
        "\n",
        "id 327 found for Loopin' Louie"
       ]
      },
      {
       "output_type": "stream",
       "stream": "stdout",
       "text": [
        "\n",
        "id 119506 found for Freedom: The Underground Railroad"
       ]
      },
      {
       "output_type": "stream",
       "stream": "stdout",
       "text": [
        "\n",
        "id 4099 found for Keythedral"
       ]
      },
      {
       "output_type": "stream",
       "stream": "stdout",
       "text": [
        "\n",
        "id 52461 found for Legacy: The Testament of Duke de Crecy"
       ]
      },
      {
       "output_type": "stream",
       "stream": "stdout",
       "text": [
        "\n",
        "id 20437 found for Lords of Vegas"
       ]
      },
      {
       "output_type": "stream",
       "stream": "stdout",
       "text": [
        "\n",
        "id 104020 found for Vanuatu"
       ]
      },
      {
       "output_type": "stream",
       "stream": "stdout",
       "text": [
        "\n",
        "id 25821 found for The Werewolves of Miller's Hollow"
       ]
      },
      {
       "output_type": "stream",
       "stream": "stdout",
       "text": [
        "\n",
        "id 91536 found for Quarriors!"
       ]
      },
      {
       "output_type": "stream",
       "stream": "stdout",
       "text": [
        "\n",
        "id 94246 found for 1812: The Invasion of Canada"
       ]
      },
      {
       "output_type": "stream",
       "stream": "stdout",
       "text": [
        "\n",
        "id 45 found for Liar's Dice"
       ]
      },
      {
       "output_type": "stream",
       "stream": "stdout",
       "text": [
        "\n",
        "id 143519 found for Quantum"
       ]
      },
      {
       "output_type": "stream",
       "stream": "stdout",
       "text": [
        "\n",
        "id 30618 found for Eat Poop You Cat"
       ]
      },
      {
       "output_type": "stream",
       "stream": "stdout",
       "text": [
        "\n",
        "id 59946 found for Dungeons & Dragons: Castle Ravenloft Board Game"
       ]
      },
      {
       "output_type": "stream",
       "stream": "stdout",
       "text": [
        "\n",
        "id 230 found for Merchant of Venus"
       ]
      },
      {
       "output_type": "stream",
       "stream": "stdout",
       "text": [
        "\n",
        "id 26990 found for Container"
       ]
      },
      {
       "output_type": "stream",
       "stream": "stdout",
       "text": [
        "\n",
        "id 122522 found for Smash Up"
       ]
      },
      {
       "output_type": "stream",
       "stream": "stdout",
       "text": [
        "\n",
        "id 27364 found for Caylus Magna Carta"
       ]
      },
      {
       "output_type": "stream",
       "stream": "stdout",
       "text": [
        "\n",
        "id 71671 found for Yggdrasil"
       ]
      },
      {
       "output_type": "stream",
       "stream": "stdout",
       "text": [
        "\n",
        "id 57390 found for Catacombs"
       ]
      },
      {
       "output_type": "stream",
       "stream": "stdout",
       "text": [
        "\n",
        "id 30645 found for Tammany Hall"
       ]
      },
      {
       "output_type": "stream",
       "stream": "stdout",
       "text": [
        "\n",
        "id 5737 found for Domaine"
       ]
      },
      {
       "output_type": "stream",
       "stream": "stdout",
       "text": [
        "\n",
        "id 37628 found for Haggis"
       ]
      },
      {
       "output_type": "stream",
       "stream": "stdout",
       "text": [
        "\n",
        "id 124 found for Primordial Soup"
       ]
      },
      {
       "output_type": "stream",
       "stream": "stdout",
       "text": [
        "\n",
        "id 2507 found for Libert\u00e9"
       ]
      },
      {
       "output_type": "stream",
       "stream": "stdout",
       "text": [
        "\n",
        "id 91080 found for Andean Abyss"
       ]
      },
      {
       "output_type": "stream",
       "stream": "stdout",
       "text": [
        "\n",
        "id 37836 found for Julius Caesar"
       ]
      },
      {
       "output_type": "stream",
       "stream": "stdout",
       "text": [
        "\n",
        "id 2093 found for Mahjong"
       ]
      },
      {
       "output_type": "stream",
       "stream": "stdout",
       "text": [
        "\n",
        "id 96007 found for The New Era"
       ]
      },
      {
       "output_type": "stream",
       "stream": "stdout",
       "text": [
        "\n",
        "id 122298 found for Morels"
       ]
      },
      {
       "output_type": "stream",
       "stream": "stdout",
       "text": [
        "\n",
        "id 72287 found for Mr. Jack Pocket"
       ]
      },
      {
       "output_type": "stream",
       "stream": "stdout",
       "text": [
        "\n",
        "id 71721 found for Space Hulk: Death Angel \u2013 The Card Game"
       ]
      },
      {
       "output_type": "stream",
       "stream": "stdout",
       "text": [
        "\n",
        "id 1634 found for Warhammer Quest"
       ]
      },
      {
       "output_type": "stream",
       "stream": "stdout",
       "text": [
        "\n",
        "id 27588 found for Zooloretto"
       ]
      },
      {
       "output_type": "stream",
       "stream": "stdout",
       "text": [
        "\n",
        "id 30381 found for Hamburgum"
       ]
      },
      {
       "output_type": "stream",
       "stream": "stdout",
       "text": [
        "\n",
        "id 25568 found for Metropolys"
       ]
      },
      {
       "output_type": "stream",
       "stream": "stdout",
       "text": [
        "\n",
        "id 44163 found for Power Grid: Factory Manager"
       ]
      },
      {
       "output_type": "stream",
       "stream": "stdout",
       "text": [
        "\n",
        "id 37919 found for Ascending Empires"
       ]
      },
      {
       "output_type": "stream",
       "stream": "stdout",
       "text": [
        "\n",
        "id 6205 found for Europe Engulfed"
       ]
      },
      {
       "output_type": "stream",
       "stream": "stdout",
       "text": [
        "\n",
        "id 51 found for Ricochet Robots"
       ]
      },
      {
       "output_type": "stream",
       "stream": "stdout",
       "text": [
        "\n",
        "id 2398 found for Cribbage"
       ]
      },
      {
       "output_type": "stream",
       "stream": "stdout",
       "text": [
        "\n",
        "id 28023 found for Jamaica"
       ]
      },
      {
       "output_type": "stream",
       "stream": "stdout",
       "text": [
        "\n",
        "id 42910 found for Peloponnes"
       ]
      },
      {
       "output_type": "stream",
       "stream": "stdout",
       "text": [
        "\n",
        "id 139771 found for Star Trek: Attack Wing"
       ]
      },
      {
       "output_type": "stream",
       "stream": "stdout",
       "text": [
        "\n",
        "id 38054 found for Snow Tails"
       ]
      },
      {
       "output_type": "stream",
       "stream": "stdout",
       "text": [
        "\n",
        "id 20542 found for Advanced Squad Leader: Starter Kit #3"
       ]
      },
      {
       "output_type": "stream",
       "stream": "stdout",
       "text": [
        "\n",
        "id 15817 found for Manila"
       ]
      },
      {
       "output_type": "stream",
       "stream": "stdout",
       "text": [
        "\n",
        "id 221 found for Ikusa"
       ]
      },
      {
       "output_type": "stream",
       "stream": "stdout",
       "text": [
        "\n",
        "id 19100 found for Hacienda"
       ]
      },
      {
       "output_type": "stream",
       "stream": "stdout",
       "text": [
        "\n",
        "id 132372 found for Guildhall"
       ]
      },
      {
       "output_type": "stream",
       "stream": "stdout",
       "text": [
        "\n",
        "id 35497 found for Fauna"
       ]
      },
      {
       "output_type": "stream",
       "stream": "stdout",
       "text": [
        "\n",
        "id 8203 found for Hey, That's My Fish!"
       ]
      },
      {
       "output_type": "stream",
       "stream": "stdout",
       "text": [
        "\n",
        "id 34084 found for Witch's Brew"
       ]
      },
      {
       "output_type": "stream",
       "stream": "stdout",
       "text": [
        "\n",
        "id 35052 found for Axis & Allies Anniversary Edition"
       ]
      },
      {
       "output_type": "stream",
       "stream": "stdout",
       "text": [
        "\n",
        "id 855 found for Java"
       ]
      },
      {
       "output_type": "stream",
       "stream": "stdout",
       "text": [
        "\n",
        "id 128780 found for Pax Porfiriana"
       ]
      },
      {
       "output_type": "stream",
       "stream": "stdout",
       "text": [
        "\n",
        "id 25643 found for Arkadia"
       ]
      },
      {
       "output_type": "stream",
       "stream": "stdout",
       "text": [
        "\n",
        "id 47055 found for High Frontier"
       ]
      },
      {
       "output_type": "stream",
       "stream": "stdout",
       "text": [
        "\n",
        "id 1608 found for Ambush!"
       ]
      },
      {
       "output_type": "stream",
       "stream": "stdout",
       "text": [
        "\n",
        "id 91873 found for Strasbourg"
       ]
      },
      {
       "output_type": "stream",
       "stream": "stdout",
       "text": [
        "\n",
        "id 75165 found for De Vulgari Eloquentia"
       ]
      },
      {
       "output_type": "stream",
       "stream": "stdout",
       "text": [
        "\n",
        "id 66056 found for The Rivals for Catan"
       ]
      },
      {
       "output_type": "stream",
       "stream": "stdout",
       "text": [
        "\n",
        "id 6830 found for Zendo"
       ]
      },
      {
       "output_type": "stream",
       "stream": "stdout",
       "text": [
        "\n",
        "id 21523 found for Runebound (Second Edition)"
       ]
      },
      {
       "output_type": "stream",
       "stream": "stdout",
       "text": [
        "\n",
        "id 67254 found for Warmachine Prime Mk II"
       ]
      },
      {
       "output_type": "stream",
       "stream": "stdout",
       "text": [
        "\n",
        "id 432 found for Category 5"
       ]
      },
      {
       "output_type": "stream",
       "stream": "stdout",
       "text": [
        "\n",
        "id 141517 found for A Study in Emerald"
       ]
      },
      {
       "output_type": "stream",
       "stream": "stdout",
       "text": [
        "\n",
        "id 8989 found for Hansa"
       ]
      },
      {
       "output_type": "stream",
       "stream": "stdout",
       "text": [
        "\n",
        "id 66 found for L\u00f6wenherz"
       ]
      },
      {
       "output_type": "stream",
       "stream": "stdout",
       "text": [
        "\n",
        "id 823 found for Lord of the Rings"
       ]
      },
      {
       "output_type": "stream",
       "stream": "stdout",
       "text": [
        "\n",
        "id 16747 found for Tumblin-Dice"
       ]
      },
      {
       "output_type": "stream",
       "stream": "stdout",
       "text": [
        "\n",
        "id 143515 found for Coal Baron"
       ]
      },
      {
       "output_type": "stream",
       "stream": "stdout",
       "text": [
        "\n",
        "id 41 found for Can't Stop"
       ]
      },
      {
       "output_type": "stream",
       "stream": "stdout",
       "text": [
        "\n",
        "id 152 found for M\u00fc & More"
       ]
      },
      {
       "output_type": "stream",
       "stream": "stdout",
       "text": [
        "\n",
        "id 30658 found for Rise of Empires"
       ]
      },
      {
       "output_type": "stream",
       "stream": "stdout",
       "text": [
        "\n",
        "id 146278 found for Tash-Kalar: Arena of Legends"
       ]
      },
      {
       "output_type": "stream",
       "stream": "stdout",
       "text": [
        "\n",
        "id 1261 found for Medina"
       ]
      },
      {
       "output_type": "stream",
       "stream": "stdout",
       "text": [
        "\n",
        "id 423 found for 1856"
       ]
      },
      {
       "output_type": "stream",
       "stream": "stdout",
       "text": [
        "\n",
        "id 902 found for Meuterer"
       ]
      },
      {
       "output_type": "stream",
       "stream": "stdout",
       "text": [
        "\n",
        "id 26457 found for Successors (third edition)"
       ]
      },
      {
       "output_type": "stream",
       "stream": "stdout",
       "text": [
        "\n",
        "id 1159 found for Evo"
       ]
      },
      {
       "output_type": "stream",
       "stream": "stdout",
       "text": [
        "\n",
        "id 16395 found for Blokus Duo"
       ]
      },
      {
       "output_type": "stream",
       "stream": "stdout",
       "text": [
        "\n",
        "id 121297 found for Fleet"
       ]
      },
      {
       "output_type": "stream",
       "stream": "stdout",
       "text": [
        "\n",
        "id 58936 found for Wars of the Roses: Lancaster vs. York"
       ]
      },
      {
       "output_type": "stream",
       "stream": "stdout",
       "text": [
        "\n",
        "id 13884 found for The Scepter of Zavandor"
       ]
      },
      {
       "output_type": "stream",
       "stream": "stdout",
       "text": [
        "\n",
        "id 24068 found for Shadow Hunters"
       ]
      },
      {
       "output_type": "stream",
       "stream": "stdout",
       "text": [
        "\n",
        "id 60435 found for Rallyman"
       ]
      },
      {
       "output_type": "stream",
       "stream": "stdout",
       "text": [
        "\n",
        "id 833 found for For the People"
       ]
      },
      {
       "output_type": "stream",
       "stream": "stdout",
       "text": [
        "\n",
        "id 110277 found for Among the Stars"
       ]
      },
      {
       "output_type": "stream",
       "stream": "stdout",
       "text": [
        "\n",
        "id 1382 found for Winner's Circle"
       ]
      },
      {
       "output_type": "stream",
       "stream": "stdout",
       "text": [
        "\n",
        "id 527 found for GIPF"
       ]
      },
      {
       "output_type": "stream",
       "stream": "stdout",
       "text": [
        "\n",
        "id 111341 found for The Great Zimbabwe"
       ]
      },
      {
       "output_type": "stream",
       "stream": "stdout",
       "text": [
        "\n",
        "id 29934 found for Amyitis"
       ]
      },
      {
       "output_type": "stream",
       "stream": "stdout",
       "text": [
        "\n",
        "id 121410 found for Steam Park"
       ]
      },
      {
       "output_type": "stream",
       "stream": "stdout",
       "text": [
        "\n",
        "id 22484 found for Ingenious: Travel Edition"
       ]
      },
      {
       "output_type": "stream",
       "stream": "stdout",
       "text": [
        "\n",
        "id 13780 found for In the Shadow of the Emperor"
       ]
      },
      {
       "output_type": "stream",
       "stream": "stdout",
       "text": [
        "\n",
        "id 35815 found for A Touch of Evil: The Supernatural Game"
       ]
      },
      {
       "output_type": "stream",
       "stream": "stdout",
       "text": [
        "\n",
        "id 2955 found for Mexica"
       ]
      },
      {
       "output_type": "stream",
       "stream": "stdout",
       "text": [
        "\n",
        "id 34194 found for Aquaretto"
       ]
      },
      {
       "output_type": "stream",
       "stream": "stdout",
       "text": [
        "\n",
        "id 143741 found for Bang! The Dice Game"
       ]
      },
      {
       "output_type": "stream",
       "stream": "stdout",
       "text": [
        "\n",
        "id 55697 found for Power Struggle"
       ]
      },
      {
       "output_type": "stream",
       "stream": "stdout",
       "text": [
        "\n",
        "id 278 found for Catan Card Game"
       ]
      },
      {
       "output_type": "stream",
       "stream": "stdout",
       "text": [
        "\n",
        "id 21441 found for Mykerinos"
       ]
      },
      {
       "output_type": "stream",
       "stream": "stdout",
       "text": [
        "\n",
        "id 25669 found for Qwirkle"
       ]
      },
      {
       "output_type": "stream",
       "stream": "stdout",
       "text": [
        "\n",
        "id 103 found for Titan"
       ]
      },
      {
       "output_type": "stream",
       "stream": "stdout",
       "text": [
        "\n",
        "id 95103 found for Fortune and Glory: The Cliffhanger Game"
       ]
      },
      {
       "output_type": "stream",
       "stream": "stdout",
       "text": [
        "\n",
        "id 730 found for Breakout: Normandy"
       ]
      },
      {
       "output_type": "stream",
       "stream": "stdout",
       "text": [
        "\n",
        "id 699 found for HeroQuest"
       ]
      },
      {
       "output_type": "stream",
       "stream": "stdout",
       "text": [
        "\n",
        "id 12495 found for Fire & Axe: A Viking Saga"
       ]
      },
      {
       "output_type": "stream",
       "stream": "stdout",
       "text": [
        "\n",
        "id 18258 found for Mission: Red Planet"
       ]
      },
      {
       "output_type": "stream",
       "stream": "stdout",
       "text": [
        "\n",
        "id 129948 found for The Palaces of Carrara"
       ]
      },
      {
       "output_type": "stream",
       "stream": "stdout",
       "text": [
        "\n",
        "id 109125 found for Wallenstein (second edition)"
       ]
      },
      {
       "output_type": "stream",
       "stream": "stdout",
       "text": [
        "\n",
        "id 12995 found for Dungeon Twister"
       ]
      },
      {
       "output_type": "stream",
       "stream": "stdout",
       "text": [
        "\n",
        "id 7480 found for Sword of Rome"
       ]
      },
      {
       "output_type": "stream",
       "stream": "stdout",
       "text": [
        "\n",
        "id 105 found for Colossal Arena"
       ]
      },
      {
       "output_type": "stream",
       "stream": "stdout",
       "text": [
        "\n",
        "id 119591 found for Rialto"
       ]
      },
      {
       "output_type": "stream",
       "stream": "stdout",
       "text": [
        "\n",
        "id 40270 found for Call of Cthulhu: The Card Game"
       ]
      },
      {
       "output_type": "stream",
       "stream": "stdout",
       "text": [
        "\n",
        "id 112138 found for Krosmaster: Arena"
       ]
      },
      {
       "output_type": "stream",
       "stream": "stdout",
       "text": [
        "\n",
        "id 24417 found for Factory Fun"
       ]
      },
      {
       "output_type": "stream",
       "stream": "stdout",
       "text": [
        "\n",
        "id 9203 found for Wings of War: Famous Aces"
       ]
      },
      {
       "output_type": "stream",
       "stream": "stdout",
       "text": [
        "\n",
        "id 36235 found for The Duke"
       ]
      },
      {
       "output_type": "stream",
       "stream": "stdout",
       "text": [
        "\n",
        "id 15 found for Cosmic Encounter"
       ]
      },
      {
       "output_type": "stream",
       "stream": "stdout",
       "text": [
        "\n",
        "id 10640 found for Doom: The Boardgame"
       ]
      },
      {
       "output_type": "stream",
       "stream": "stdout",
       "text": [
        "\n",
        "id 42452 found for Rattus"
       ]
      },
      {
       "output_type": "stream",
       "stream": "stdout",
       "text": [
        "\n",
        "id 19999 found for Aton"
       ]
      },
      {
       "output_type": "stream",
       "stream": "stdout",
       "text": [
        "\n",
        "id 92319 found for Olympos"
       ]
      },
      {
       "output_type": "stream",
       "stream": "stdout",
       "text": [
        "\n",
        "id 129459 found for Duel of Ages II"
       ]
      },
      {
       "output_type": "stream",
       "stream": "stdout",
       "text": [
        "\n",
        "id 19622 found for A Victory Lost"
       ]
      },
      {
       "output_type": "stream",
       "stream": "stdout",
       "text": [
        "\n",
        "id 37759 found for Incan Gold"
       ]
      },
      {
       "output_type": "stream",
       "stream": "stdout",
       "text": [
        "\n",
        "id 196 found for Kremlin"
       ]
      },
      {
       "output_type": "stream",
       "stream": "stdout",
       "text": [
        "\n",
        "id 354 found for Sticheln"
       ]
      },
      {
       "output_type": "stream",
       "stream": "stdout",
       "text": [
        "\n",
        "id 2081 found for The Civil War"
       ]
      },
      {
       "output_type": "stream",
       "stream": "stdout",
       "text": [
        "\n",
        "id 75449 found for Firenze"
       ]
      },
      {
       "output_type": "stream",
       "stream": "stdout",
       "text": [
        "\n",
        "id 33604 found for Say Anything"
       ]
      },
      {
       "output_type": "stream",
       "stream": "stdout",
       "text": [
        "\n",
        "id 26 found for Age of Renaissance"
       ]
      },
      {
       "output_type": "stream",
       "stream": "stdout",
       "text": [
        "\n",
        "id 492 found for Aladdin's Dragons"
       ]
      },
      {
       "output_type": "stream",
       "stream": "stdout",
       "text": [
        "\n",
        "id 3800 found for Himalaya"
       ]
      },
      {
       "output_type": "stream",
       "stream": "stdout",
       "text": [
        "\n",
        "id 106 found for Mystery Rummy: Jack the Ripper"
       ]
      },
      {
       "output_type": "stream",
       "stream": "stdout",
       "text": [
        "\n",
        "id 101785 found for D-Day Dice"
       ]
      },
      {
       "output_type": "stream",
       "stream": "stdout",
       "text": [
        "\n",
        "id 123607 found for Puzzle Strike (Third Edition)"
       ]
      },
      {
       "output_type": "stream",
       "stream": "stdout",
       "text": [
        "\n",
        "id 1465 found for Wizard"
       ]
      },
      {
       "output_type": "stream",
       "stream": "stdout",
       "text": [
        "\n",
        "id 16496 found for Roma"
       ]
      },
      {
       "output_type": "stream",
       "stream": "stdout",
       "text": [
        "\n",
        "id 111799 found for Cuba Libre"
       ]
      },
      {
       "output_type": "stream",
       "stream": "stdout",
       "text": [
        "\n",
        "id 105037 found for Tournay"
       ]
      },
      {
       "output_type": "stream",
       "stream": "stdout",
       "text": [
        "\n",
        "id 12761 found for Ys"
       ]
      },
      {
       "output_type": "stream",
       "stream": "stdout",
       "text": [
        "\n",
        "id 106662 found for Power Grid: The First Sparks"
       ]
      },
      {
       "output_type": "stream",
       "stream": "stdout",
       "text": [
        "\n",
        "id 22141 found for Cleopatra and the Society of Architects"
       ]
      },
      {
       "output_type": "stream",
       "stream": "stdout",
       "text": [
        "\n",
        "id 40793 found for Dice Town"
       ]
      },
      {
       "output_type": "stream",
       "stream": "stdout",
       "text": [
        "\n",
        "id 94362 found for Rune Age"
       ]
      },
      {
       "output_type": "stream",
       "stream": "stdout",
       "text": [
        "\n",
        "id 89409 found for BattleCON: War of Indines"
       ]
      },
      {
       "output_type": "stream",
       "stream": "stdout",
       "text": [
        "\n",
        "id 13823 found for Fairy Tale"
       ]
      },
      {
       "output_type": "stream",
       "stream": "stdout",
       "text": [
        "\n",
        "id 137297 found for Augustus"
       ]
      },
      {
       "output_type": "stream",
       "stream": "stdout",
       "text": [
        "\n",
        "id 620 found for We the People"
       ]
      },
      {
       "output_type": "stream",
       "stream": "stdout",
       "text": [
        "\n",
        "id 84 found for Rommel in the Desert"
       ]
      },
      {
       "output_type": "stream",
       "stream": "stdout",
       "text": [
        "\n",
        "id 72991 found for Asara"
       ]
      },
      {
       "output_type": "stream",
       "stream": "stdout",
       "text": [
        "\n",
        "id 122294 found for Ascension: Immortal Heroes"
       ]
      },
      {
       "output_type": "stream",
       "stream": "stdout",
       "text": [
        "\n",
        "id 117959 found for Las Vegas"
       ]
      },
      {
       "output_type": "stream",
       "stream": "stdout",
       "text": [
        "\n",
        "id 104347 found for Santiago de Cuba"
       ]
      },
      {
       "output_type": "stream",
       "stream": "stdout",
       "text": [
        "\n",
        "id 2338 found for Starship Catan"
       ]
      },
      {
       "output_type": "stream",
       "stream": "stdout",
       "text": [
        "\n",
        "id 254 found for Empires in Arms"
       ]
      },
      {
       "output_type": "stream",
       "stream": "stdout",
       "text": [
        "\n",
        "id 16986 found for Ubongo"
       ]
      },
      {
       "output_type": "stream",
       "stream": "stdout",
       "text": [
        "\n",
        "id 21550 found for Blokus Trigon"
       ]
      },
      {
       "output_type": "stream",
       "stream": "stdout",
       "text": [
        "\n",
        "id 6411 found for Blokus 3D"
       ]
      },
      {
       "output_type": "stream",
       "stream": "stdout",
       "text": [
        "\n",
        "id 37387 found for Steel Driver"
       ]
      },
      {
       "output_type": "stream",
       "stream": "stdout",
       "text": [
        "\n",
        "id 38862 found for Giants"
       ]
      },
      {
       "output_type": "stream",
       "stream": "stdout",
       "text": [
        "\n",
        "id 123955 found for Thunderbolt Apache Leader"
       ]
      },
      {
       "output_type": "stream",
       "stream": "stdout",
       "text": [
        "\n",
        "id 42124 found for Dungeon Twister 2: Prison"
       ]
      },
      {
       "output_type": "stream",
       "stream": "stdout",
       "text": [
        "\n",
        "id 481 found for Carolus Magnus"
       ]
      },
      {
       "output_type": "stream",
       "stream": "stdout",
       "text": [
        "\n",
        "id 22038 found for Warrior Knights"
       ]
      },
      {
       "output_type": "stream",
       "stream": "stdout",
       "text": [
        "\n",
        "id 9446 found for Blue Moon"
       ]
      },
      {
       "output_type": "stream",
       "stream": "stdout",
       "text": [
        "\n",
        "id 38343 found for Ad Astra"
       ]
      },
      {
       "output_type": "stream",
       "stream": "stdout",
       "text": [
        "\n",
        "id 10 found for Elfenland"
       ]
      },
      {
       "output_type": "stream",
       "stream": "stdout",
       "text": [
        "\n",
        "id 1499 found for World in Flames"
       ]
      },
      {
       "output_type": "stream",
       "stream": "stdout",
       "text": [
        "\n",
        "id 37907 found for Diamonds Club"
       ]
      },
      {
       "output_type": "stream",
       "stream": "stdout",
       "text": [
        "\n",
        "id 129051 found for Le Havre: The Inland Port"
       ]
      },
      {
       "output_type": "stream",
       "stream": "stdout",
       "text": [
        "\n",
        "id 123540 found for Tokaido"
       ]
      },
      {
       "output_type": "stream",
       "stream": "stdout",
       "text": [
        "\n",
        "id 701 found for A House Divided"
       ]
      },
      {
       "output_type": "stream",
       "stream": "stdout",
       "text": [
        "\n",
        "id 1231 found for Bausack"
       ]
      },
      {
       "output_type": "stream",
       "stream": "stdout",
       "text": [
        "\n",
        "id 21920 found for Leonardo da Vinci"
       ]
      },
      {
       "output_type": "stream",
       "stream": "stdout",
       "text": [
        "\n",
        "id 71906 found for Castaways"
       ]
      },
      {
       "output_type": "stream",
       "stream": "stdout",
       "text": [
        "\n",
        "id 73369 found for 51st State"
       ]
      },
      {
       "output_type": "stream",
       "stream": "stdout",
       "text": [
        "\n",
        "id 38765 found for Ground Floor"
       ]
      },
      {
       "output_type": "stream",
       "stream": "stdout",
       "text": [
        "\n",
        "id 50381 found for Cards Against Humanity"
       ]
      },
      {
       "output_type": "stream",
       "stream": "stdout",
       "text": [
        "\n",
        "id 43443 found for Castle Panic"
       ]
      },
      {
       "output_type": "stream",
       "stream": "stdout",
       "text": [
        "\n",
        "id 128621 found for Viticulture"
       ]
      },
      {
       "output_type": "stream",
       "stream": "stdout",
       "text": [
        "\n",
        "id 19237 found for Ca$h 'n Gun$\n",
        "id 878 found for Wyatt Earp"
       ]
      },
      {
       "output_type": "stream",
       "stream": "stdout",
       "text": [
        "\n",
        "id 63268 found for Spot it!"
       ]
      },
      {
       "output_type": "stream",
       "stream": "stdout",
       "text": [
        "\n",
        "id 15839 found for Bonaparte at Marengo"
       ]
      },
      {
       "output_type": "stream",
       "stream": "stdout",
       "text": [
        "\n",
        "id 3072 found for Necromunda"
       ]
      },
      {
       "output_type": "stream",
       "stream": "stdout",
       "text": [
        "\n",
        "id 242 found for Junta"
       ]
      },
      {
       "output_type": "stream",
       "stream": "stdout",
       "text": [
        "\n",
        "id 6351 found for Gulo Gulo"
       ]
      },
      {
       "output_type": "stream",
       "stream": "stdout",
       "text": [
        "\n",
        "id 220 found for High Society"
       ]
      },
      {
       "output_type": "stream",
       "stream": "stdout",
       "text": [
        "\n",
        "id 17329 found for Animal Upon Animal"
       ]
      },
      {
       "output_type": "stream",
       "stream": "stdout",
       "text": [
        "\n",
        "id 125678 found for DC Comics Deck-Building Game"
       ]
      },
      {
       "output_type": "stream",
       "stream": "stdout",
       "text": [
        "\n",
        "id 115 found for I'm the Boss!"
       ]
      },
      {
       "output_type": "stream",
       "stream": "stdout",
       "text": [
        "\n",
        "id 137649 found for Level 7 [Omega Protocol]"
       ]
      },
      {
       "output_type": "stream",
       "stream": "stdout",
       "text": [
        "\n",
        "id 24773 found for On the Underground"
       ]
      },
      {
       "output_type": "stream",
       "stream": "stdout",
       "text": [
        "\n",
        "id 73 found for Show Manager"
       ]
      },
      {
       "output_type": "stream",
       "stream": "stdout",
       "text": [
        "\n",
        "id 132028 found for Conflict of Heroes: Awakening the Bear! (second edition)"
       ]
      },
      {
       "output_type": "stream",
       "stream": "stdout",
       "text": [
        "\n",
        "id 3284 found for Star Wars: Epic Duels"
       ]
      },
      {
       "output_type": "stream",
       "stream": "stdout",
       "text": [
        "\n",
        "id 2961 found for Confusion:  Espionage and Deception in the Cold War"
       ]
      },
      {
       "output_type": "stream",
       "stream": "stdout",
       "text": [
        "\n",
        "id 142079 found for Space Cadets: Dice Duel"
       ]
      },
      {
       "output_type": "stream",
       "stream": "stdout",
       "text": [
        "\n",
        "id 1897 found for Starfarers of Catan"
       ]
      },
      {
       "output_type": "stream",
       "stream": "stdout",
       "text": [
        "\n",
        "id 75476 found for Inca Empire"
       ]
      },
      {
       "output_type": "stream",
       "stream": "stdout",
       "text": [
        "\n",
        "id 39684 found for Merkator"
       ]
      },
      {
       "output_type": "stream",
       "stream": "stdout",
       "text": [
        "\n",
        "id 92190 found for Super Dungeon Explore"
       ]
      },
      {
       "output_type": "stream",
       "stream": "stdout",
       "text": [
        "\n",
        "id 57925 found for Havana"
       ]
      },
      {
       "output_type": "stream",
       "stream": "stdout",
       "text": [
        "\n",
        "id 61692 found for Axis & Allies Europe 1940"
       ]
      },
      {
       "output_type": "stream",
       "stream": "stdout",
       "text": [
        "\n",
        "id 35435 found for Nefertiti"
       ]
      },
      {
       "output_type": "stream",
       "stream": "stdout",
       "text": [
        "\n",
        "id 2393 found for Xiangqi"
       ]
      },
      {
       "output_type": "stream",
       "stream": "stdout",
       "text": [
        "\n",
        "id 1662 found for Napoleon: The Waterloo Campaign, 1815"
       ]
      },
      {
       "output_type": "stream",
       "stream": "stdout",
       "text": [
        "\n",
        "id 103092 found for Helvetia"
       ]
      },
      {
       "output_type": "stream",
       "stream": "stdout",
       "text": [
        "\n",
        "id 15953 found for Wings of War: Burning Drachens"
       ]
      },
      {
       "output_type": "stream",
       "stream": "stdout",
       "text": [
        "\n",
        "id 54361 found for Heroscape Master Set:  Battle for the Underdark"
       ]
      },
      {
       "output_type": "stream",
       "stream": "stdout",
       "text": [
        "\n",
        "id 21954 found for Perikles"
       ]
      },
      {
       "output_type": "stream",
       "stream": "stdout",
       "text": [
        "\n",
        "id 107255 found for Evo (second edition)"
       ]
      },
      {
       "output_type": "stream",
       "stream": "stdout",
       "text": [
        "\n",
        "id 139030 found for Mascarade"
       ]
      },
      {
       "output_type": "stream",
       "stream": "stdout",
       "text": [
        "\n",
        "id 43262 found for Neuroshima Hex! Duel"
       ]
      },
      {
       "output_type": "stream",
       "stream": "stdout",
       "text": [
        "\n",
        "id 131366 found for Eight-Minute Empire"
       ]
      },
      {
       "output_type": "stream",
       "stream": "stdout",
       "text": [
        "\n",
        "id 1540 found for BattleTech"
       ]
      },
      {
       "output_type": "stream",
       "stream": "stdout",
       "text": [
        "\n",
        "id 70 found for Big City"
       ]
      },
      {
       "output_type": "stream",
       "stream": "stdout",
       "text": [
        "\n",
        "id 9220 found for Saboteur"
       ]
      },
      {
       "output_type": "stream",
       "stream": "stdout",
       "text": [
        "\n",
        "id 22 found for Magic Realm"
       ]
      },
      {
       "output_type": "stream",
       "stream": "stdout",
       "text": [
        "\n",
        "id 102548 found for Dungeon Fighter"
       ]
      },
      {
       "output_type": "stream",
       "stream": "stdout",
       "text": [
        "\n",
        "id 23679 found for Warriors of God"
       ]
      },
      {
       "output_type": "stream",
       "stream": "stdout",
       "text": [
        "\n",
        "id 826 found for Cartagena"
       ]
      },
      {
       "output_type": "stream",
       "stream": "stdout",
       "text": [
        "\n",
        "id 56931 found for Arena: Roma II"
       ]
      },
      {
       "output_type": "stream",
       "stream": "stdout",
       "text": [
        "\n",
        "id 37358 found for Founding Fathers"
       ]
      },
      {
       "output_type": "stream",
       "stream": "stdout",
       "text": [
        "\n",
        "id 90040 found for Pergamon"
       ]
      },
      {
       "output_type": "stream",
       "stream": "stdout",
       "text": [
        "\n",
        "id 120523 found for Nothing Personal"
       ]
      },
      {
       "output_type": "stream",
       "stream": "stdout",
       "text": [
        "\n",
        "id 36522 found for 2 de Mayo"
       ]
      },
      {
       "output_type": "stream",
       "stream": "stdout",
       "text": [
        "\n",
        "id 204 found for Stephensons Rocket"
       ]
      },
      {
       "output_type": "stream",
       "stream": "stdout",
       "text": [
        "\n",
        "id 38863 found for Hab & Gut"
       ]
      },
      {
       "output_type": "stream",
       "stream": "stdout",
       "text": [
        "\n",
        "id 168 found for Empire Builder"
       ]
      },
      {
       "output_type": "stream",
       "stream": "stdout",
       "text": [
        "\n",
        "id 88827 found for Battle Cry: 150th Civil War Anniversary Edition"
       ]
      },
      {
       "output_type": "stream",
       "stream": "stdout",
       "text": [
        "\n",
        "id 41916 found for The Magic Labyrinth"
       ]
      },
      {
       "output_type": "stream",
       "stream": "stdout",
       "text": [
        "\n",
        "id 1915 found for Middle-Earth"
       ]
      },
      {
       "output_type": "stream",
       "stream": "stdout",
       "text": [
        "\n",
        "id 31552 found for Wings of War: Deluxe Set"
       ]
      },
      {
       "output_type": "stream",
       "stream": "stdout",
       "text": [
        "\n",
        "id 9910 found for Wings of War: Watch Your Back!"
       ]
      },
      {
       "output_type": "stream",
       "stream": "stdout",
       "text": [
        "\n",
        "id 5716 found for Balloon Cup"
       ]
      },
      {
       "output_type": "stream",
       "stream": "stdout",
       "text": [
        "\n",
        "id 87890 found for Pr\u00eat-\u00e0-Porter"
       ]
      },
      {
       "output_type": "stream",
       "stream": "stdout",
       "text": [
        "\n",
        "id 925 found for Werewolf"
       ]
      },
      {
       "output_type": "stream",
       "stream": "stdout",
       "text": [
        "\n",
        "id 16992 found for Tsuro"
       ]
      },
      {
       "output_type": "stream",
       "stream": "stdout",
       "text": [
        "\n",
        "id 133473 found for Sushi Go!"
       ]
      },
      {
       "output_type": "stream",
       "stream": "stdout",
       "text": [
        "\n",
        "id 29937 found for K\u00f6nig von Siam"
       ]
      },
      {
       "output_type": "stream",
       "stream": "stdout",
       "text": [
        "\n",
        "id 65564 found for Hornet Leader: Carrier Air Operations"
       ]
      },
      {
       "output_type": "stream",
       "stream": "stdout",
       "text": [
        "\n",
        "id 123499 found for City of Iron"
       ]
      },
      {
       "output_type": "stream",
       "stream": "stdout",
       "text": [
        "\n",
        "id 39217 found for Fighting Formations: Grossdeutschland Motorized Infantry Division"
       ]
      },
      {
       "output_type": "stream",
       "stream": "stdout",
       "text": [
        "\n",
        "id 2122 found for Vampire: The Eternal Struggle"
       ]
      },
      {
       "output_type": "stream",
       "stream": "stdout",
       "text": [
        "\n",
        "id 85256 found for Timeline: Inventions"
       ]
      },
      {
       "output_type": "stream",
       "stream": "stdout",
       "text": [
        "\n",
        "id 5206 found for Ogre"
       ]
      },
      {
       "output_type": "stream",
       "stream": "stdout",
       "text": [
        "\n",
        "id 3955 found for Bang!"
       ]
      },
      {
       "output_type": "stream",
       "stream": "stdout",
       "text": [
        "\n",
        "id 1403 found for Turn the Tide"
       ]
      },
      {
       "output_type": "stream",
       "stream": "stdout",
       "text": [
        "\n",
        "id 14254 found for PitchCar Mini"
       ]
      },
      {
       "output_type": "stream",
       "stream": "stdout",
       "text": [
        "\n",
        "id 2065 found for Shogi"
       ]
      },
      {
       "output_type": "stream",
       "stream": "stdout",
       "text": [
        "\n",
        "id 112 found for Condottiere"
       ]
      },
      {
       "output_type": "stream",
       "stream": "stdout",
       "text": [
        "\n",
        "id 1115 found for Poker"
       ]
      },
      {
       "output_type": "stream",
       "stream": "stdout",
       "text": [
        "\n",
        "id 12166 found for Funkenschlag"
       ]
      },
      {
       "output_type": "stream",
       "stream": "stdout",
       "text": [
        "\n",
        "id 25224 found for Hermagor"
       ]
      },
      {
       "output_type": "stream",
       "stream": "stdout",
       "text": [
        "\n",
        "id 77 found for EastFront"
       ]
      },
      {
       "output_type": "stream",
       "stream": "stdout",
       "text": [
        "\n",
        "id 3565 found for Mordheim: City of the Damned"
       ]
      },
      {
       "output_type": "stream",
       "stream": "stdout",
       "text": [
        "\n",
        "id 38992 found for Royal Palace"
       ]
      },
      {
       "output_type": "stream",
       "stream": "stdout",
       "text": [
        "\n",
        "id 42487 found for Lost Cities: The Board Game"
       ]
      },
      {
       "output_type": "stream",
       "stream": "stdout",
       "text": [
        "\n",
        "id 31497 found for Oregon"
       ]
      },
      {
       "output_type": "stream",
       "stream": "stdout",
       "text": [
        "\n",
        "id 157 found for Eurorails"
       ]
      },
      {
       "output_type": "stream",
       "stream": "stdout",
       "text": [
        "\n",
        "id 8129 found for Zing!"
       ]
      },
      {
       "output_type": "stream",
       "stream": "stdout",
       "text": [
        "\n",
        "id 15512 found for Diamant"
       ]
      },
      {
       "output_type": "stream",
       "stream": "stdout",
       "text": [
        "\n",
        "id 117985 found for Star Trek: Catan"
       ]
      },
      {
       "output_type": "stream",
       "stream": "stdout",
       "text": [
        "\n",
        "id 9215 found for Revolution: The Dutch Revolt 1568-1648"
       ]
      },
      {
       "output_type": "stream",
       "stream": "stdout",
       "text": [
        "\n",
        "id 7805 found for Fearsome Floors"
       ]
      },
      {
       "output_type": "stream",
       "stream": "stdout",
       "text": [
        "\n",
        "id 424 found for 1870"
       ]
      },
      {
       "output_type": "stream",
       "stream": "stdout",
       "text": [
        "\n",
        "id 56692 found for Parade"
       ]
      },
      {
       "output_type": "stream",
       "stream": "stdout",
       "text": [
        "\n",
        "id 91984 found for Qu\u00e9bec"
       ]
      },
      {
       "output_type": "stream",
       "stream": "stdout",
       "text": [
        "\n",
        "id 104955 found for Antike Duellum"
       ]
      },
      {
       "output_type": "stream",
       "stream": "stdout",
       "text": [
        "\n",
        "id 83195 found for Ghost Blitz"
       ]
      },
      {
       "output_type": "stream",
       "stream": "stdout",
       "text": [
        "\n",
        "id 92415 found for Skull & Roses"
       ]
      },
      {
       "output_type": "stream",
       "stream": "stdout",
       "text": [
        "\n",
        "id 22143 found for EastFront II"
       ]
      },
      {
       "output_type": "stream",
       "stream": "stdout",
       "text": [
        "\n",
        "id 1887 found for Legend of the Five Rings"
       ]
      },
      {
       "output_type": "stream",
       "stream": "stdout",
       "text": [
        "\n",
        "id 39339 found for Android"
       ]
      },
      {
       "output_type": "stream",
       "stream": "stdout",
       "text": [
        "\n",
        "id 2808 found for The Russian Campaign"
       ]
      },
      {
       "output_type": "stream",
       "stream": "stdout",
       "text": [
        "\n",
        "id 38386 found for A Castle for All Seasons"
       ]
      },
      {
       "output_type": "stream",
       "stream": "stdout",
       "text": [
        "\n",
        "id 71836 found for Onirim"
       ]
      },
      {
       "output_type": "stream",
       "stream": "stdout",
       "text": [
        "\n",
        "id 98 found for Axis & Allies"
       ]
      },
      {
       "output_type": "stream",
       "stream": "stdout",
       "text": [
        "\n",
        "id 37141 found for Time's Up! Deluxe"
       ]
      },
      {
       "output_type": "stream",
       "stream": "stdout",
       "text": [
        "\n",
        "id 36811 found for The Princes of Machu Picchu"
       ]
      },
      {
       "output_type": "stream",
       "stream": "stdout",
       "text": [
        "\n",
        "id 232 found for Serenissima (first edition)"
       ]
      },
      {
       "output_type": "stream",
       "stream": "stdout",
       "text": [
        "\n",
        "id 28089 found for Ch\u00e2teau Roquefort"
       ]
      },
      {
       "output_type": "stream",
       "stream": "stdout",
       "text": [
        "\n",
        "id 123096 found for Space Cadets"
       ]
      },
      {
       "output_type": "stream",
       "stream": "stdout",
       "text": [
        "\n",
        "id 39927 found for Last Train to Wensleydale"
       ]
      },
      {
       "output_type": "stream",
       "stream": "stdout",
       "text": [
        "\n",
        "id 25277 found for Richard III: The Wars of the Roses"
       ]
      },
      {
       "output_type": "stream",
       "stream": "stdout",
       "text": [
        "\n",
        "id 86246 found for Drum Roll"
       ]
      },
      {
       "output_type": "stream",
       "stream": "stdout",
       "text": [
        "\n",
        "id 2842 found for TransAmerica"
       ]
      },
      {
       "output_type": "stream",
       "stream": "stdout",
       "text": [
        "\n",
        "id 8481 found for Crusader Rex"
       ]
      },
      {
       "output_type": "stream",
       "stream": "stdout",
       "text": [
        "\n",
        "id 2570 found for Atlantic Star"
       ]
      },
      {
       "output_type": "stream",
       "stream": "stdout",
       "text": [
        "\n",
        "id 17710 found for Conquest of the Empire"
       ]
      },
      {
       "output_type": "stream",
       "stream": "stdout",
       "text": [
        "\n",
        "id 63543 found for Horus Heresy"
       ]
      },
      {
       "output_type": "stream",
       "stream": "stdout",
       "text": [
        "\n",
        "id 11825 found for Empire of the Sun"
       ]
      },
      {
       "output_type": "stream",
       "stream": "stdout",
       "text": [
        "\n",
        "id 3228 found for Pueblo"
       ]
      },
      {
       "output_type": "stream",
       "stream": "stdout",
       "text": [
        "\n",
        "id 8098 found for Jungle Speed"
       ]
      },
      {
       "output_type": "stream",
       "stream": "stdout",
       "text": [
        "\n",
        "id 18748 found for Unhappy King Charles!\t"
       ]
      },
      {
       "output_type": "stream",
       "stream": "stdout",
       "text": [
        "\n",
        "id 1829 found for Risk 2210 A.D."
       ]
      },
      {
       "output_type": "stream",
       "stream": "stdout",
       "text": [
        "\n",
        "id 32666 found for Wealth of Nations"
       ]
      },
      {
       "output_type": "stream",
       "stream": "stdout",
       "text": [
        "\n",
        "id 127518 found for A Distant Plain"
       ]
      },
      {
       "output_type": "stream",
       "stream": "stdout",
       "text": [
        "\n",
        "id 6779 found for The Ark of the Covenant"
       ]
      },
      {
       "output_type": "stream",
       "stream": "stdout",
       "text": [
        "\n",
        "id 681 found for Quarto!"
       ]
      },
      {
       "output_type": "stream",
       "stream": "stdout",
       "text": [
        "\n",
        "id 21551 found for SPQR (Deluxe Edition)"
       ]
      },
      {
       "output_type": "stream",
       "stream": "stdout",
       "text": [
        "\n",
        "id 67239 found for Settlers of America: Trails to Rails"
       ]
      },
      {
       "output_type": "stream",
       "stream": "stdout",
       "text": [
        "\n",
        "id 5781 found for Edel, Stein & Reich"
       ]
      },
      {
       "output_type": "stream",
       "stream": "stdout",
       "text": [
        "\n",
        "id 3931 found for Mare Nostrum"
       ]
      },
      {
       "output_type": "stream",
       "stream": "stdout",
       "text": [
        "\n",
        "id 73316 found for Magnum Sal"
       ]
      },
      {
       "output_type": "stream",
       "stream": "stdout",
       "text": [
        "\n",
        "id 142326 found for Eight-Minute Empire: Legends"
       ]
      },
      {
       "output_type": "stream",
       "stream": "stdout",
       "text": [
        "\n",
        "id 33451 found for The Red Dragon Inn 2"
       ]
      },
      {
       "output_type": "stream",
       "stream": "stdout",
       "text": [
        "\n",
        "id 85036 found for 20th Century"
       ]
      },
      {
       "output_type": "stream",
       "stream": "stdout",
       "text": [
        "\n",
        "id 237 found for Wooden Ships & Iron Men"
       ]
      },
      {
       "output_type": "stream",
       "stream": "stdout",
       "text": [
        "\n",
        "id 71882 found for Conquest of Planet Earth: The Space Alien Game"
       ]
      },
      {
       "output_type": "stream",
       "stream": "stdout",
       "text": [
        "\n",
        "id 394 found for Kahuna"
       ]
      },
      {
       "output_type": "stream",
       "stream": "stdout",
       "text": [
        "\n",
        "id 122240 found for Last Night on Earth: Timber Peak"
       ]
      },
      {
       "output_type": "stream",
       "stream": "stdout",
       "text": [
        "\n",
        "id 442 found for Um Reifenbreite"
       ]
      },
      {
       "output_type": "stream",
       "stream": "stdout",
       "text": [
        "\n",
        "id 19526 found for Elasund: The First City"
       ]
      },
      {
       "output_type": "stream",
       "stream": "stdout",
       "text": [
        "\n",
        "id 27627 found for Talisman (Revised 4th Edition)"
       ]
      },
      {
       "output_type": "stream",
       "stream": "stdout",
       "text": [
        "\n",
        "id 31624 found for League of Six"
       ]
      },
      {
       "output_type": "stream",
       "stream": "stdout",
       "text": [
        "\n",
        "id 199 found for Manhattan"
       ]
      },
      {
       "output_type": "stream",
       "stream": "stdout",
       "text": [
        "\n",
        "id 631 found for Daytona 500"
       ]
      },
      {
       "output_type": "stream",
       "stream": "stdout",
       "text": [
        "\n",
        "id 38309 found for God's Playground"
       ]
      },
      {
       "output_type": "stream",
       "stream": "stdout",
       "text": [
        "\n",
        "id 4741 found for Warmachine"
       ]
      },
      {
       "output_type": "stream",
       "stream": "stdout",
       "text": [
        "\n",
        "id 40209 found for RAF: The Battle of Britain 1940"
       ]
      },
      {
       "output_type": "stream",
       "stream": "stdout",
       "text": [
        "\n",
        "id 624 found for Quoridor"
       ]
      },
      {
       "output_type": "stream",
       "stream": "stdout",
       "text": [
        "\n",
        "id 114031 found for Copycat"
       ]
      },
      {
       "output_type": "stream",
       "stream": "stdout",
       "text": [
        "\n",
        "id 62220 found for Urban Sprawl"
       ]
      },
      {
       "output_type": "stream",
       "stream": "stdout",
       "text": [
        "\n",
        "id 147151 found for Concept"
       ]
      },
      {
       "output_type": "stream",
       "stream": "stdout",
       "text": [
        "\n",
        "id 103185 found for Walnut Grove"
       ]
      },
      {
       "output_type": "stream",
       "stream": "stdout",
       "text": [
        "\n",
        "id 2987 found for Pirate's Cove"
       ]
      },
      {
       "output_type": "stream",
       "stream": "stdout",
       "text": [
        "\n",
        "id 35761 found for Sylla"
       ]
      },
      {
       "output_type": "stream",
       "stream": "stdout",
       "text": [
        "\n",
        "id 24742 found for Cold War: CIA vs KGB"
       ]
      },
      {
       "output_type": "stream",
       "stream": "stdout",
       "text": [
        "\n",
        "id 4396 found for Odin's Ravens"
       ]
      },
      {
       "output_type": "stream",
       "stream": "stdout",
       "text": [
        "\n",
        "id 46255 found for Campaign Manager 2008"
       ]
      },
      {
       "output_type": "stream",
       "stream": "stdout",
       "text": [
        "\n",
        "id 594 found for Sleuth"
       ]
      },
      {
       "output_type": "stream",
       "stream": "stdout",
       "text": [
        "\n",
        "id 94104 found for Omen: A Reign of War"
       ]
      },
      {
       "output_type": "stream",
       "stream": "stdout",
       "text": [
        "\n",
        "id 619 found for The Bottle Imp"
       ]
      },
      {
       "output_type": "stream",
       "stream": "stdout",
       "text": [
        "\n",
        "id 12589 found for Razzia!"
       ]
      },
      {
       "output_type": "stream",
       "stream": "stdout",
       "text": [
        "\n",
        "id 34887 found for Revolution!"
       ]
      },
      {
       "output_type": "stream",
       "stream": "stdout",
       "text": [
        "\n",
        "id 83734 found for Strike of the Eagle"
       ]
      },
      {
       "output_type": "stream",
       "stream": "stdout",
       "text": [
        "\n",
        "id 117 found for Ta Y\u00fc"
       ]
      },
      {
       "output_type": "stream",
       "stream": "stdout",
       "text": [
        "\n",
        "id 40769 found for Valdora"
       ]
      },
      {
       "output_type": "stream",
       "stream": "stdout",
       "text": [
        "\n",
        "id 24827 found for Traders of Carthage"
       ]
      },
      {
       "output_type": "stream",
       "stream": "stdout",
       "text": [
        "\n",
        "id 55829 found for Axis & Allies Pacific 1940"
       ]
      },
      {
       "output_type": "stream",
       "stream": "stdout",
       "text": [
        "\n",
        "id 128442 found for Relic"
       ]
      },
      {
       "output_type": "stream",
       "stream": "stdout",
       "text": [
        "\n",
        "id 24703 found for Heroscape Marvel: The Conflict Begins"
       ]
      },
      {
       "output_type": "stream",
       "stream": "stdout",
       "text": [
        "\n",
        "id 3353 found for World War II: Barbarossa to Berlin"
       ]
      },
      {
       "output_type": "stream",
       "stream": "stdout",
       "text": [
        "\n",
        "id 140933 found for Blueprints"
       ]
      },
      {
       "output_type": "stream",
       "stream": "stdout",
       "text": [
        "\n",
        "id 91620 found for Pastiche"
       ]
      },
      {
       "output_type": "stream",
       "stream": "stdout",
       "text": [
        "\n",
        "id 43152 found for Assyria"
       ]
      },
      {
       "output_type": "stream",
       "stream": "stdout",
       "text": [
        "\n",
        "id 113636 found for Edo"
       ]
      },
      {
       "output_type": "stream",
       "stream": "stdout",
       "text": [
        "\n",
        "id 66214 found for Samarkand: Routes to Riches"
       ]
      },
      {
       "output_type": "stream",
       "stream": "stdout",
       "text": [
        "\n",
        "id 32674 found for Monsterpocalypse"
       ]
      },
      {
       "output_type": "stream",
       "stream": "stdout",
       "text": [
        "\n",
        "id 28259 found for Cutthroat Caverns"
       ]
      },
      {
       "output_type": "stream",
       "stream": "stdout",
       "text": [
        "\n",
        "id 13551 found for Oltre Mare"
       ]
      },
      {
       "output_type": "stream",
       "stream": "stdout",
       "text": [
        "\n",
        "id 9341 found for Lost Valley"
       ]
      },
      {
       "output_type": "stream",
       "stream": "stdout",
       "text": [
        "\n",
        "id 144529 found for Theseus: The Dark Orbit"
       ]
      },
      {
       "output_type": "stream",
       "stream": "stdout",
       "text": [
        "\n",
        "id 29972 found for El Capit\u00e1n"
       ]
      },
      {
       "output_type": "stream",
       "stream": "stdout",
       "text": [
        "\n",
        "id 35503 found for Ra: The Dice Game"
       ]
      },
      {
       "output_type": "stream",
       "stream": "stdout",
       "text": [
        "\n",
        "id 36399 found for The Napoleonic Wars (Second Edition)"
       ]
      },
      {
       "output_type": "stream",
       "stream": "stdout",
       "text": [
        "\n",
        "id 128898 found for New Amsterdam"
       ]
      },
      {
       "output_type": "stream",
       "stream": "stdout",
       "text": [
        "\n",
        "id 151004 found for Smash Up: Science Fiction Double Feature"
       ]
      },
      {
       "output_type": "stream",
       "stream": "stdout",
       "text": [
        "\n",
        "id 113401 found for Timeline: Historical Events"
       ]
      },
      {
       "output_type": "stream",
       "stream": "stdout",
       "text": [
        "\n",
        "id 986 found for Babel"
       ]
      },
      {
       "output_type": "stream",
       "stream": "stdout",
       "text": [
        "\n",
        "id 8190 found for The Bridges of Shangri-La"
       ]
      },
      {
       "output_type": "stream",
       "stream": "stdout",
       "text": [
        "\n",
        "id 127024 found for Room 25"
       ]
      },
      {
       "output_type": "stream",
       "stream": "stdout",
       "text": [
        "\n",
        "id 20133 found for FAB: The Bulge"
       ]
      },
      {
       "output_type": "stream",
       "stream": "stdout",
       "text": [
        "\n",
        "id 120217 found for City of Horror"
       ]
      },
      {
       "output_type": "stream",
       "stream": "stdout",
       "text": [
        "\n",
        "id 16772 found for Mall of Horror"
       ]
      },
      {
       "output_type": "stream",
       "stream": "stdout",
       "text": [
        "\n",
        "id 85005 found for The Boss"
       ]
      },
      {
       "output_type": "stream",
       "stream": "stdout",
       "text": [
        "\n",
        "id 67928 found for Puzzle Strike"
       ]
      },
      {
       "output_type": "stream",
       "stream": "stdout",
       "text": [
        "\n",
        "id 146418 found for Warhammer: Diskwars"
       ]
      },
      {
       "output_type": "stream",
       "stream": "stdout",
       "text": [
        "\n",
        "id 125548 found for Pixel Tactics"
       ]
      },
      {
       "output_type": "stream",
       "stream": "stdout",
       "text": [
        "\n",
        "id 119 found for Kingdoms"
       ]
      },
      {
       "output_type": "stream",
       "stream": "stdout",
       "text": [
        "\n",
        "id 361 found for Hare & Tortoise"
       ]
      },
      {
       "output_type": "stream",
       "stream": "stdout",
       "text": [
        "\n",
        "id 20134 found for The End of the Triumvirate"
       ]
      },
      {
       "output_type": "stream",
       "stream": "stdout",
       "text": [
        "\n",
        "id 78733 found for Key Market"
       ]
      },
      {
       "output_type": "stream",
       "stream": "stdout",
       "text": [
        "\n",
        "id 9027 found for Oasis"
       ]
      },
      {
       "output_type": "stream",
       "stream": "stdout",
       "text": [
        "\n",
        "id 32125 found for Felix: The Cat in the Sack"
       ]
      },
      {
       "output_type": "stream",
       "stream": "stdout",
       "text": [
        "\n",
        "id 201 found for Rosenk\u00f6nig"
       ]
      },
      {
       "output_type": "stream",
       "stream": "stdout",
       "text": [
        "\n",
        "id 494 found for Ave Caesar"
       ]
      },
      {
       "output_type": "stream",
       "stream": "stdout",
       "text": [
        "\n",
        "id 2251 found for Strat-O-Matic Baseball"
       ]
      },
      {
       "output_type": "stream",
       "stream": "stdout",
       "text": [
        "\n",
        "id 46396 found for Ubongo 3D"
       ]
      },
      {
       "output_type": "stream",
       "stream": "stdout",
       "text": [
        "\n",
        "id 88408 found for Nightfall"
       ]
      },
      {
       "output_type": "stream",
       "stream": "stdout",
       "text": [
        "\n",
        "id 12477 found for Bootleggers"
       ]
      },
      {
       "output_type": "stream",
       "stream": "stdout",
       "text": [
        "\n",
        "id 19995 found for Canal Mania"
       ]
      },
      {
       "output_type": "stream",
       "stream": "stdout",
       "text": [
        "\n",
        "id 589 found for Wiz-War"
       ]
      },
      {
       "output_type": "stream",
       "stream": "stdout",
       "text": [
        "\n",
        "id 1155 found for Capitol"
       ]
      },
      {
       "output_type": "stream",
       "stream": "stdout",
       "text": [
        "\n",
        "id 11057 found for The Great Battles of Alexander: Deluxe Edition"
       ]
      },
      {
       "output_type": "stream",
       "stream": "stdout",
       "text": [
        "\n",
        "id 31759 found for Battletech Introductory Box Set"
       ]
      },
      {
       "output_type": "stream",
       "stream": "stdout",
       "text": [
        "\n",
        "id 68182 found for Isla Dorada"
       ]
      },
      {
       "output_type": "stream",
       "stream": "stdout",
       "text": [
        "\n",
        "id 1442 found for Victory in the Pacific"
       ]
      },
      {
       "output_type": "stream",
       "stream": "stdout",
       "text": [
        "\n",
        "id 43868 found for The Adventurers: The Temple of Chac"
       ]
      },
      {
       "output_type": "stream",
       "stream": "stdout",
       "text": [
        "\n",
        "id 71061 found for DungeonQuest (third edition)"
       ]
      },
      {
       "output_type": "stream",
       "stream": "stdout",
       "text": [
        "\n",
        "id 131260 found for Qwixx"
       ]
      },
      {
       "output_type": "stream",
       "stream": "stdout",
       "text": [
        "\n",
        "id 22897 found for Dreamblade"
       ]
      },
      {
       "output_type": "stream",
       "stream": "stdout",
       "text": [
        "\n",
        "id 12350 found for Battlestations"
       ]
      },
      {
       "output_type": "stream",
       "stream": "stdout",
       "text": [
        "\n",
        "id 31105 found for Archaeology: The Card Game"
       ]
      },
      {
       "output_type": "stream",
       "stream": "stdout",
       "text": [
        "\n",
        "id 111105 found for Agents of SMERSH"
       ]
      },
      {
       "output_type": "stream",
       "stream": "stdout",
       "text": [
        "\n",
        "id 116 found for Guillotine"
       ]
      },
      {
       "output_type": "stream",
       "stream": "stdout",
       "text": [
        "\n",
        "id 15511 found for Fjords"
       ]
      },
      {
       "output_type": "stream",
       "stream": "stdout",
       "text": [
        "\n",
        "id 13308 found for Niagara"
       ]
      },
      {
       "output_type": "stream",
       "stream": "stdout",
       "text": [
        "\n",
        "id 903 found for Hamsterrolle"
       ]
      },
      {
       "output_type": "stream",
       "stream": "stdout",
       "text": [
        "\n",
        "id 76417 found for Poseidon"
       ]
      },
      {
       "output_type": "stream",
       "stream": "stdout",
       "text": [
        "\n",
        "id 41933 found for Arctic Scavengers"
       ]
      },
      {
       "output_type": "stream",
       "stream": "stdout",
       "text": [
        "\n",
        "id 34707 found for The Hanging Gardens"
       ]
      },
      {
       "output_type": "stream",
       "stream": "stdout",
       "text": [
        "\n",
        "id 1568 found for Space Crusade"
       ]
      },
      {
       "output_type": "stream",
       "stream": "stdout",
       "text": [
        "\n",
        "id 134453 found for The Little Prince: Make Me a Planet"
       ]
      },
      {
       "output_type": "stream",
       "stream": "stdout",
       "text": [
        "\n",
        "id 143185 found for Smash Up: The Obligatory Cthulhu Set"
       ]
      },
      {
       "output_type": "stream",
       "stream": "stdout",
       "text": [
        "\n",
        "id 143884 found for Machi Koro"
       ]
      },
      {
       "output_type": "stream",
       "stream": "stdout",
       "text": [
        "\n",
        "id 118063 found for Infiltration"
       ]
      },
      {
       "output_type": "stream",
       "stream": "stdout",
       "text": [
        "\n",
        "id 3720 found for Subbuteo"
       ]
      },
      {
       "output_type": "stream",
       "stream": "stdout",
       "text": [
        "\n",
        "id 15600 found for Kreta"
       ]
      },
      {
       "output_type": "stream",
       "stream": "stdout",
       "text": [
        "\n",
        "id 92044 found for Dungeons & Dragons: Conquest of Nerath Board Game"
       ]
      },
      {
       "output_type": "stream",
       "stream": "stdout",
       "text": [
        "\n",
        "id 40237 found for Long Shot"
       ]
      },
      {
       "output_type": "stream",
       "stream": "stdout",
       "text": [
        "\n",
        "id 58110 found for Horse Fever"
       ]
      },
      {
       "output_type": "stream",
       "stream": "stdout",
       "text": [
        "\n",
        "id 5072 found for Carrom"
       ]
      },
      {
       "output_type": "stream",
       "stream": "stdout",
       "text": [
        "\n",
        "id 40393 found for FITS"
       ]
      },
      {
       "output_type": "stream",
       "stream": "stdout",
       "text": [
        "\n",
        "id 130 found for Iron Dragon"
       ]
      },
      {
       "output_type": "stream",
       "stream": "stdout",
       "text": [
        "\n",
        "id 72 found for Verr\u00e4ter"
       ]
      },
      {
       "output_type": "stream",
       "stream": "stdout",
       "text": [
        "\n",
        "id 38545 found for Kamisado"
       ]
      },
      {
       "output_type": "stream",
       "stream": "stdout",
       "text": [
        "\n",
        "id 123609 found for Puzzle Strike Shadows"
       ]
      },
      {
       "output_type": "stream",
       "stream": "stdout",
       "text": [
        "\n",
        "id 33154 found for Wasabi!"
       ]
      },
      {
       "output_type": "stream",
       "stream": "stdout",
       "text": [
        "\n",
        "id 111732 found for Kings of Air and Steam"
       ]
      },
      {
       "output_type": "stream",
       "stream": "stdout",
       "text": [
        "\n",
        "id 15510 found for Tower of Babel"
       ]
      },
      {
       "output_type": "stream",
       "stream": "stdout",
       "text": [
        "\n",
        "id 16267 found for Trans Europa"
       ]
      },
      {
       "output_type": "stream",
       "stream": "stdout",
       "text": [
        "\n",
        "id 1117 found for You're Bluffing!"
       ]
      },
      {
       "output_type": "stream",
       "stream": "stdout",
       "text": [
        "\n",
        "id 94480 found for Pantheon"
       ]
      },
      {
       "output_type": "stream",
       "stream": "stdout",
       "text": [
        "\n",
        "id 12750 found for 1860: Railways on the Isle of Wight"
       ]
      },
      {
       "output_type": "stream",
       "stream": "stdout",
       "text": [
        "\n",
        "id 915 found for Mystery of the Abbey"
       ]
      },
      {
       "output_type": "stream",
       "stream": "stdout",
       "text": [
        "\n",
        "id 31483 found for Constantinopolis"
       ]
      },
      {
       "output_type": "stream",
       "stream": "stdout",
       "text": [
        "\n",
        "id 65515 found for Nuns on the Run"
       ]
      },
      {
       "output_type": "stream",
       "stream": "stdout",
       "text": [
        "\n",
        "id 438 found for Scotland Yard"
       ]
      },
      {
       "output_type": "stream",
       "stream": "stdout",
       "text": [
        "\n",
        "id 29839 found for Key Harvest"
       ]
      },
      {
       "output_type": "stream",
       "stream": "stdout",
       "text": [
        "\n",
        "id 511 found for Silverton"
       ]
      },
      {
       "output_type": "stream",
       "stream": "stdout",
       "text": [
        "\n",
        "id 66587 found for GOSU"
       ]
      },
      {
       "output_type": "stream",
       "stream": "stdout",
       "text": [
        "\n",
        "id 138233 found for Ascension: Rise of Vigil"
       ]
      },
      {
       "output_type": "stream",
       "stream": "stdout",
       "text": [
        "\n",
        "id 7858 found for Ardennes '44"
       ]
      },
      {
       "output_type": "stream",
       "stream": "stdout",
       "text": [
        "\n",
        "id 83667 found for First Train to Nuremberg"
       ]
      },
      {
       "output_type": "stream",
       "stream": "stdout",
       "text": [
        "\n",
        "id 384 found for TurfMaster"
       ]
      },
      {
       "output_type": "stream",
       "stream": "stdout",
       "text": [
        "\n",
        "id 348 found for Merchants of the Middle Ages"
       ]
      },
      {
       "output_type": "stream",
       "stream": "stdout",
       "text": [
        "\n",
        "id 30367 found for Perry Rhodan: The Cosmic League"
       ]
      },
      {
       "output_type": "stream",
       "stream": "stdout",
       "text": [
        "\n",
        "id 1544 found for Beyond Balderdash"
       ]
      },
      {
       "output_type": "stream",
       "stream": "stdout",
       "text": [
        "\n",
        "id 592 found for Spades"
       ]
      },
      {
       "output_type": "stream",
       "stream": "stdout",
       "text": [
        "\n",
        "id 42673 found for Field Commander: Napoleon"
       ]
      },
      {
       "output_type": "stream",
       "stream": "stdout",
       "text": [
        "\n",
        "id 120 found for Hoity Toity"
       ]
      },
      {
       "output_type": "stream",
       "stream": "stdout",
       "text": [
        "\n",
        "id 14 found for Basari"
       ]
      },
      {
       "output_type": "stream",
       "stream": "stdout",
       "text": [
        "\n",
        "id 22348 found for Identik"
       ]
      },
      {
       "output_type": "stream",
       "stream": "stdout",
       "text": [
        "\n",
        "id 4636 found for Clans"
       ]
      },
      {
       "output_type": "stream",
       "stream": "stdout",
       "text": [
        "\n",
        "id 249 found for Lifeboats"
       ]
      },
      {
       "output_type": "stream",
       "stream": "stdout",
       "text": [
        "\n",
        "id 38531 found for Powerboats"
       ]
      },
      {
       "output_type": "stream",
       "stream": "stdout",
       "text": [
        "\n",
        "id 25729 found for World at War: Eisenbach Gap"
       ]
      },
      {
       "output_type": "stream",
       "stream": "stdout",
       "text": [
        "\n",
        "id 91523 found for Mondo"
       ]
      },
      {
       "output_type": "stream",
       "stream": "stdout",
       "text": [
        "\n",
        "id 2476 found for Industrial Waste"
       ]
      },
      {
       "output_type": "stream",
       "stream": "stdout",
       "text": [
        "\n",
        "id 96152 found for Nightfall: Martial Law"
       ]
      },
      {
       "output_type": "stream",
       "stream": "stdout",
       "text": [
        "\n",
        "id 2533 found for Kupferkessel Co."
       ]
      },
      {
       "output_type": "stream",
       "stream": "stdout",
       "text": [
        "\n",
        "id 99 found for Fortress America"
       ]
      },
      {
       "output_type": "stream",
       "stream": "stdout",
       "text": [
        "\n",
        "id 340 found for Frank's Zoo"
       ]
      },
      {
       "output_type": "stream",
       "stream": "stdout",
       "text": [
        "\n",
        "id 472 found for DungeonQuest"
       ]
      },
      {
       "output_type": "stream",
       "stream": "stdout",
       "text": [
        "\n",
        "id 40529 found for Cosmic Encounter"
       ]
      },
      {
       "output_type": "stream",
       "stream": "stdout",
       "text": [
        "\n",
        "id 24310 found for The Red Dragon Inn"
       ]
      },
      {
       "output_type": "stream",
       "stream": "stdout",
       "text": [
        "\n",
        "id 131325 found for Timeline: Diversity"
       ]
      },
      {
       "output_type": "stream",
       "stream": "stdout",
       "text": [
        "\n",
        "id 136280 found for La Boca"
       ]
      },
      {
       "output_type": "stream",
       "stream": "stdout",
       "text": [
        "\n",
        "id 32412 found for Palastgefl\u00fcster"
       ]
      },
      {
       "output_type": "stream",
       "stream": "stdout",
       "text": [
        "\n",
        "id 19764 found for P\u00dcNCT"
       ]
      },
      {
       "output_type": "stream",
       "stream": "stdout",
       "text": [
        "\n",
        "id 73070 found for Olympus"
       ]
      },
      {
       "output_type": "stream",
       "stream": "stdout",
       "text": [
        "\n",
        "id 36648 found for Pyramid"
       ]
      },
      {
       "output_type": "stream",
       "stream": "stdout",
       "text": [
        "\n",
        "id 20 found for Full Metal Planete"
       ]
      },
      {
       "output_type": "stream",
       "stream": "stdout",
       "text": [
        "\n",
        "id 76150 found for Revolver"
       ]
      },
      {
       "output_type": "stream",
       "stream": "stdout",
       "text": [
        "\n",
        "id 40760 found for Alea Iacta Est"
       ]
      },
      {
       "output_type": "stream",
       "stream": "stdout",
       "text": [
        "\n",
        "id 18460 found for Lock 'n Load: Band of Heroes"
       ]
      },
      {
       "output_type": "stream",
       "stream": "stdout",
       "text": [
        "\n",
        "id 15369 found for The Devil's Cauldron: The Battles for Arnhem and Nijmegen"
       ]
      },
      {
       "output_type": "stream",
       "stream": "stdout",
       "text": [
        "\n",
        "id 42939 found for Invasion from Outer Space: The Martian Game"
       ]
      },
      {
       "output_type": "stream",
       "stream": "stdout",
       "text": [
        "\n",
        "id 15818 found for Pickomino"
       ]
      },
      {
       "output_type": "stream",
       "stream": "stdout",
       "text": [
        "\n",
        "id 28 found for Illuminati:  Deluxe Edition"
       ]
      },
      {
       "output_type": "stream",
       "stream": "stdout",
       "text": [
        "\n",
        "id 22532 found for Wings of War: The Dawn of World War II"
       ]
      },
      {
       "output_type": "stream",
       "stream": "stdout",
       "text": [
        "\n",
        "id 22877 found for Fields of Fire"
       ]
      },
      {
       "output_type": "stream",
       "stream": "stdout",
       "text": [
        "\n",
        "id 8730 found for Flying Colors"
       ]
      },
      {
       "output_type": "stream",
       "stream": "stdout",
       "text": [
        "\n",
        "id 929 found for The Great Dalmuti"
       ]
      },
      {
       "output_type": "stream",
       "stream": "stdout",
       "text": [
        "\n",
        "id 4218 found for O Zoo le Mio"
       ]
      },
      {
       "output_type": "stream",
       "stream": "stdout",
       "text": [
        "\n",
        "id 1234 found for Once Upon a Time: The Storytelling Card Game"
       ]
      },
      {
       "output_type": "stream",
       "stream": "stdout",
       "text": [
        "\n",
        "id 2397 found for Backgammon"
       ]
      },
      {
       "output_type": "stream",
       "stream": "stdout",
       "text": [
        "\n",
        "id 113873 found for The Hunters: German U-Boats at War, 1939-43"
       ]
      },
      {
       "output_type": "stream",
       "stream": "stdout",
       "text": [
        "\n",
        "id 138431 found for Galaxy Defenders"
       ]
      },
      {
       "output_type": "stream",
       "stream": "stdout",
       "text": [
        "\n",
        "id 398 found for Botswana"
       ]
      },
      {
       "output_type": "stream",
       "stream": "stdout",
       "text": [
        "\n",
        "id 3972 found for The Settlers of Catan: Travel Edition"
       ]
      },
      {
       "output_type": "stream",
       "stream": "stdout",
       "text": [
        "\n",
        "id 67180 found for Tikal II: The Lost Temple"
       ]
      },
      {
       "output_type": "stream",
       "stream": "stdout",
       "text": [
        "\n",
        "id 3870 found for 7 Ages"
       ]
      },
      {
       "output_type": "stream",
       "stream": "stdout",
       "text": [
        "\n",
        "id 131835 found for Boss Monster: The Dungeon Building Card Game"
       ]
      },
      {
       "output_type": "stream",
       "stream": "stdout",
       "text": [
        "\n",
        "id 17223 found for World of Warcraft: The Boardgame"
       ]
      },
      {
       "output_type": "stream",
       "stream": "stdout",
       "text": [
        "\n",
        "id 128931 found for Noblemen"
       ]
      },
      {
       "output_type": "stream",
       "stream": "stdout",
       "text": [
        "\n",
        "id 59 found for Giganten"
       ]
      },
      {
       "output_type": "stream",
       "stream": "stdout",
       "text": [
        "\n",
        "id 147303 found for Carcassonne: South Seas"
       ]
      },
      {
       "output_type": "stream",
       "stream": "stdout",
       "text": [
        "\n",
        "id 27848 found for Age of Conan: The Strategy Board Game"
       ]
      },
      {
       "output_type": "stream",
       "stream": "stdout",
       "text": [
        "\n",
        "id 23418 found for Pursuit of Glory"
       ]
      },
      {
       "output_type": "stream",
       "stream": "stdout",
       "text": [
        "\n",
        "id 81453 found for Famiglia"
       ]
      },
      {
       "output_type": "stream",
       "stream": "stdout",
       "text": [
        "\n",
        "id 8095 found for Prophecy"
       ]
      },
      {
       "output_type": "stream",
       "stream": "stdout",
       "text": [
        "\n",
        "id 124965 found for Dungeon Command: Heart of Cormyr"
       ]
      },
      {
       "output_type": "stream",
       "stream": "stdout",
       "text": [
        "\n",
        "id 66171 found for Dragonheart"
       ]
      },
      {
       "output_type": "stream",
       "stream": "stdout",
       "text": [
        "\n",
        "id 29073 found for Blockers!"
       ]
      },
      {
       "output_type": "stream",
       "stream": "stdout",
       "text": [
        "\n",
        "id 85325 found for Kolejka"
       ]
      },
      {
       "output_type": "stream",
       "stream": "stdout",
       "text": [
        "\n",
        "id 691 found for Timbuktu"
       ]
      },
      {
       "output_type": "stream",
       "stream": "stdout",
       "text": [
        "\n",
        "id 119391 found for Il Vecchio"
       ]
      },
      {
       "output_type": "stream",
       "stream": "stdout",
       "text": [
        "\n",
        "id 6901 found for Euchre"
       ]
      },
      {
       "output_type": "stream",
       "stream": "stdout",
       "text": [
        "\n",
        "id 15290 found for R-Eco"
       ]
      },
      {
       "output_type": "stream",
       "stream": "stdout",
       "text": [
        "\n",
        "id 150376 found for Dead of Winter: A Crossroads Game"
       ]
      },
      {
       "output_type": "stream",
       "stream": "stdout",
       "text": [
        "\n",
        "id 4192 found for Warhammer"
       ]
      },
      {
       "output_type": "stream",
       "stream": "stdout",
       "text": [
        "\n",
        "id 29223 found for Marrakech"
       ]
      },
      {
       "output_type": "stream",
       "stream": "stdout",
       "text": [
        "\n",
        "id 102237 found for Drako"
       ]
      },
      {
       "output_type": "stream",
       "stream": "stdout",
       "text": [
        "\n",
        "id 4385 found for A Gamut of Games"
       ]
      },
      {
       "output_type": "stream",
       "stream": "stdout",
       "text": [
        "\n",
        "id 10997 found for Boomtown"
       ]
      },
      {
       "output_type": "stream",
       "stream": "stdout",
       "text": [
        "\n",
        "id 41749 found for American Rails"
       ]
      },
      {
       "output_type": "stream",
       "stream": "stdout",
       "text": [
        "\n",
        "id 798 found for Ace of Aces: Handy Rotary Series"
       ]
      },
      {
       "output_type": "stream",
       "stream": "stdout",
       "text": [
        "\n",
        "id 508 found for Blue Max"
       ]
      },
      {
       "output_type": "stream",
       "stream": "stdout",
       "text": [
        "\n",
        "id 131014 found for Carcassonne: Winter Edition"
       ]
      },
      {
       "output_type": "stream",
       "stream": "stdout",
       "text": [
        "\n",
        "id 1032 found for B-17: Queen of the Skies"
       ]
      },
      {
       "output_type": "stream",
       "stream": "stdout",
       "text": [
        "\n",
        "id 41010 found for The Kids of Carcassonne"
       ]
      },
      {
       "output_type": "stream",
       "stream": "stdout",
       "text": [
        "\n",
        "id 98315 found for The Adventurers: The Pyramid of Horus"
       ]
      },
      {
       "output_type": "stream",
       "stream": "stdout",
       "text": [
        "\n",
        "id 129731 found for DreadBall: The Futuristic Sports Game"
       ]
      },
      {
       "output_type": "stream",
       "stream": "stdout",
       "text": [
        "\n",
        "id 19348 found for Byzantium"
       ]
      },
      {
       "output_type": "stream",
       "stream": "stdout",
       "text": [
        "\n",
        "id 1037 found for Deadlands: Doomtown"
       ]
      },
      {
       "output_type": "stream",
       "stream": "stdout",
       "text": [
        "\n",
        "id 49 found for Mamma Mia!"
       ]
      },
      {
       "output_type": "stream",
       "stream": "stdout",
       "text": [
        "\n",
        "id 12005 found for Around the World in 80 Days"
       ]
      },
      {
       "output_type": "stream",
       "stream": "stdout",
       "text": [
        "\n",
        "id 936 found for The Fury of Dracula"
       ]
      },
      {
       "output_type": "stream",
       "stream": "stdout",
       "text": [
        "\n",
        "id 223 found for Expedition"
       ]
      },
      {
       "output_type": "stream",
       "stream": "stdout",
       "text": [
        "\n",
        "id 286 found for Machiavelli"
       ]
      },
      {
       "output_type": "stream",
       "stream": "stdout",
       "text": [
        "\n",
        "id 133528 found for City of Remnants"
       ]
      },
      {
       "output_type": "stream",
       "stream": "stdout",
       "text": [
        "\n",
        "id 443 found for Code 777"
       ]
      },
      {
       "output_type": "stream",
       "stream": "stdout",
       "text": [
        "\n",
        "id 122588 found for Dungeon Command: Sting of Lolth"
       ]
      },
      {
       "output_type": "stream",
       "stream": "stdout",
       "text": [
        "\n",
        "id 98229 found for Pictomania"
       ]
      },
      {
       "output_type": "stream",
       "stream": "stdout",
       "text": [
        "\n",
        "id 1491 found for Outpost"
       ]
      },
      {
       "output_type": "stream",
       "stream": "stdout",
       "text": [
        "\n",
        "id 31479 found for Ubongo Extreme"
       ]
      },
      {
       "output_type": "stream",
       "stream": "stdout",
       "text": [
        "\n",
        "id 531 found for Merchants of Amsterdam"
       ]
      },
      {
       "output_type": "stream",
       "stream": "stdout",
       "text": [
        "\n",
        "id 4394 found for The Settlers of the Stone Age"
       ]
      },
      {
       "output_type": "stream",
       "stream": "stdout",
       "text": [
        "\n",
        "id 21791 found for Masons"
       ]
      },
      {
       "output_type": "stream",
       "stream": "stdout",
       "text": [
        "\n",
        "id 143986 found for CV"
       ]
      },
      {
       "output_type": "stream",
       "stream": "stdout",
       "text": [
        "\n",
        "id 788 found for Tales of the Arabian Nights"
       ]
      },
      {
       "output_type": "stream",
       "stream": "stdout",
       "text": [
        "\n",
        "id 1198 found for SET"
       ]
      },
      {
       "output_type": "stream",
       "stream": "stdout",
       "text": [
        "\n",
        "id 34969 found for Ubongo: Duel"
       ]
      },
      {
       "output_type": "stream",
       "stream": "stdout",
       "text": [
        "\n",
        "id 16991 found for Khet: The Laser Game"
       ]
      },
      {
       "output_type": "stream",
       "stream": "stdout",
       "text": [
        "\n",
        "id 67185 found for Sobek"
       ]
      },
      {
       "output_type": "stream",
       "stream": "stdout",
       "text": [
        "\n",
        "id 17161 found for Tempus"
       ]
      },
      {
       "output_type": "stream",
       "stream": "stdout",
       "text": [
        "\n",
        "id 99975 found for Timeline: Discoveries"
       ]
      },
      {
       "output_type": "stream",
       "stream": "stdout",
       "text": [
        "\n",
        "id 103660 found for VivaJava: The Coffee Game"
       ]
      },
      {
       "output_type": "stream",
       "stream": "stdout",
       "text": [
        "\n",
        "id 75358 found for Paris Connection"
       ]
      },
      {
       "output_type": "stream",
       "stream": "stdout",
       "text": [
        "\n",
        "id 32484 found for The Battle for Hill 218"
       ]
      },
      {
       "output_type": "stream",
       "stream": "stdout",
       "text": [
        "\n",
        "id 28620 found for Phoenicia"
       ]
      },
      {
       "output_type": "stream",
       "stream": "stdout",
       "text": [
        "\n",
        "id 98 found for Axis & Allies"
       ]
      },
      {
       "output_type": "stream",
       "stream": "stdout",
       "text": [
        "\n",
        "id 1044 found for Gunslinger"
       ]
      },
      {
       "output_type": "stream",
       "stream": "stdout",
       "text": [
        "\n",
        "id 36708 found for Leader 1"
       ]
      },
      {
       "output_type": "stream",
       "stream": "stdout",
       "text": [
        "\n",
        "id 125 found for Money!"
       ]
      },
      {
       "output_type": "stream",
       "stream": "stdout",
       "text": [
        "\n",
        "id 75212 found for Grand Cru"
       ]
      },
      {
       "output_type": "stream",
       "stream": "stdout",
       "text": [
        "\n",
        "id 18985 found for Battleground: Fantasy Warfare"
       ]
      },
      {
       "output_type": "stream",
       "stream": "stdout",
       "text": [
        "\n",
        "id 39188 found for Liberty Roads"
       ]
      },
      {
       "output_type": "stream",
       "stream": "stdout",
       "text": [
        "\n",
        "id 1423 found for Storm over Arnhem"
       ]
      },
      {
       "output_type": "stream",
       "stream": "stdout",
       "text": [
        "\n",
        "id 189 found for Die Siedler von N\u00fcrnberg"
       ]
      },
      {
       "output_type": "stream",
       "stream": "stdout",
       "text": [
        "\n",
        "id 23107 found for Drakon (third edition)"
       ]
      },
      {
       "output_type": "stream",
       "stream": "stdout",
       "text": [
        "\n",
        "id 37196 found for Sorry! Sliders"
       ]
      },
      {
       "output_type": "stream",
       "stream": "stdout",
       "text": [
        "\n",
        "id 108 found for TAMSK"
       ]
      },
      {
       "output_type": "stream",
       "stream": "stdout",
       "text": [
        "\n",
        "id 99392 found for Colonial: Europe's Empires Overseas"
       ]
      },
      {
       "output_type": "stream",
       "stream": "stdout",
       "text": [
        "\n",
        "id 55952 found for Greed Incorporated"
       ]
      },
      {
       "output_type": "stream",
       "stream": "stdout",
       "text": [
        "\n",
        "id 31291 found for Espa\u00f1a 1936"
       ]
      },
      {
       "output_type": "stream",
       "stream": "stdout",
       "text": [
        "\n",
        "id 2529 found for Flat Top"
       ]
      },
      {
       "output_type": "stream",
       "stream": "stdout",
       "text": [
        "\n",
        "id 75091 found for Norenberc"
       ]
      },
      {
       "output_type": "stream",
       "stream": "stdout",
       "text": [
        "\n",
        "id 34585 found for Keltis"
       ]
      },
      {
       "output_type": "stream",
       "stream": "stdout",
       "text": [
        "\n",
        "id 35614 found for Where There Is Discord: War in the South Atlantic"
       ]
      },
      {
       "output_type": "stream",
       "stream": "stdout",
       "text": [
        "\n",
        "id 3570 found for Chicken Cha Cha Cha"
       ]
      },
      {
       "output_type": "stream",
       "stream": "stdout",
       "text": [
        "\n",
        "id 2569 found for Pick Picknic"
       ]
      },
      {
       "output_type": "stream",
       "stream": "stdout",
       "text": [
        "\n",
        "id 28723 found for Before the Wind"
       ]
      },
      {
       "output_type": "stream",
       "stream": "stdout",
       "text": [
        "\n",
        "id 36367 found for Dust Tactics"
       ]
      },
      {
       "output_type": "stream",
       "stream": "stdout",
       "text": [
        "\n",
        "id 638 found for Hera and Zeus"
       ]
      },
      {
       "output_type": "stream",
       "stream": "stdout",
       "text": [
        "\n",
        "id 66510 found for The Red Dragon Inn 3"
       ]
      },
      {
       "output_type": "stream",
       "stream": "stdout",
       "text": [
        "\n",
        "id 2612 found for 18AL"
       ]
      },
      {
       "output_type": "stream",
       "stream": "stdout",
       "text": [
        "\n",
        "id 2596 found for Villa Paletti"
       ]
      },
      {
       "output_type": "stream",
       "stream": "stdout",
       "text": [
        "\n",
        "id 102435 found for Navajo Wars"
       ]
      },
      {
       "output_type": "stream",
       "stream": "stdout",
       "text": [
        "\n",
        "id 119781 found for Legacy: Gears of Time"
       ]
      },
      {
       "output_type": "stream",
       "stream": "stdout",
       "text": [
        "\n",
        "id 128667 found for Samurai Sword"
       ]
      },
      {
       "output_type": "stream",
       "stream": "stdout",
       "text": [
        "\n",
        "id 128 found for Take it Easy!"
       ]
      },
      {
       "output_type": "stream",
       "stream": "stdout",
       "text": [
        "\n",
        "id 21133 found for Infinity: A Skirmish Game"
       ]
      },
      {
       "output_type": "stream",
       "stream": "stdout",
       "text": [
        "\n",
        "id 65907 found for Mystery Express"
       ]
      },
      {
       "output_type": "stream",
       "stream": "stdout",
       "text": [
        "\n",
        "id 81640 found for Florenza"
       ]
      },
      {
       "output_type": "stream",
       "stream": "stdout",
       "text": [
        "\n",
        "id 1563 found for Rise and Decline of the Third Reich"
       ]
      },
      {
       "output_type": "stream",
       "stream": "stdout",
       "text": [
        "\n",
        "id 27463 found for Galactic Emperor"
       ]
      },
      {
       "output_type": "stream",
       "stream": "stdout",
       "text": [
        "\n",
        "id 9441 found for Ribbit"
       ]
      },
      {
       "output_type": "stream",
       "stream": "stdout",
       "text": [
        "\n",
        "id 144568 found for Dawn of the Zeds (Second edition)"
       ]
      },
      {
       "output_type": "stream",
       "stream": "stdout",
       "text": [
        "\n",
        "id 15318 found for Palazzo"
       ]
      },
      {
       "output_type": "stream",
       "stream": "stdout",
       "text": [
        "\n",
        "id 36888 found for After the Flood"
       ]
      },
      {
       "output_type": "stream",
       "stream": "stdout",
       "text": [
        "\n",
        "id 21632 found for To Court the King"
       ]
      },
      {
       "output_type": "stream",
       "stream": "stdout",
       "text": [
        "\n",
        "id 38786 found for Red Winter: The Soviet Attack at Tolvaj\u00e4rvi, Finland \u2013 8-12 December 1939"
       ]
      },
      {
       "output_type": "stream",
       "stream": "stdout",
       "text": [
        "\n",
        "id 66588 found for Wits & Wagers Family"
       ]
      },
      {
       "output_type": "stream",
       "stream": "stdout",
       "text": [
        "\n",
        "id 3236 found for WildLife"
       ]
      },
      {
       "output_type": "stream",
       "stream": "stdout",
       "text": [
        "\n",
        "id 40770 found for The Golden City"
       ]
      },
      {
       "output_type": "stream",
       "stream": "stdout",
       "text": [
        "\n",
        "id 118695 found for Riff Raff"
       ]
      },
      {
       "output_type": "stream",
       "stream": "stdout",
       "text": [
        "\n",
        "id 142121 found for Guildhall: Job Faire"
       ]
      },
      {
       "output_type": "stream",
       "stream": "stdout",
       "text": [
        "\n",
        "id 296 found for Medieval Merchant"
       ]
      },
      {
       "output_type": "stream",
       "stream": "stdout",
       "text": [
        "\n",
        "id 19427 found for Gemblo"
       ]
      },
      {
       "output_type": "stream",
       "stream": "stdout",
       "text": [
        "\n",
        "id 93538 found for Battleship Galaxies: The Saturn Offensive Game Set"
       ]
      },
      {
       "output_type": "stream",
       "stream": "stdout",
       "text": [
        "\n",
        "id 6819 found for Skat"
       ]
      },
      {
       "output_type": "stream",
       "stream": "stdout",
       "text": [
        "\n",
        "id 40990 found for Word on the Street"
       ]
      },
      {
       "output_type": "stream",
       "stream": "stdout",
       "text": [
        "\n",
        "id 132 found for Caesar & Cleopatra"
       ]
      },
      {
       "output_type": "stream",
       "stream": "stdout",
       "text": [
        "\n",
        "id 1295 found for Pente"
       ]
      },
      {
       "output_type": "stream",
       "stream": "stdout",
       "text": [
        "\n",
        "id 41863 found for Axis & Allies: 1942"
       ]
      },
      {
       "output_type": "stream",
       "stream": "stdout",
       "text": [
        "\n",
        "id 38718 found for Normandy '44"
       ]
      },
      {
       "output_type": "stream",
       "stream": "stdout",
       "text": [
        "\n",
        "id 108906 found for Thunder Alley"
       ]
      },
      {
       "output_type": "stream",
       "stream": "stdout",
       "text": [
        "\n",
        "id 3202 found for RAF"
       ]
      },
      {
       "output_type": "stream",
       "stream": "stdout",
       "text": [
        "\n",
        "id 34297 found for The Climbers"
       ]
      },
      {
       "output_type": "stream",
       "stream": "stdout",
       "text": [
        "\n",
        "id 118174 found for Compounded"
       ]
      },
      {
       "output_type": "stream",
       "stream": "stdout",
       "text": [
        "\n",
        "id 8490 found for Age of Napoleon"
       ]
      },
      {
       "output_type": "stream",
       "stream": "stdout",
       "text": [
        "\n",
        "id 23817 found for 1861: The Railways of the Russian Empire"
       ]
      },
      {
       "output_type": "stream",
       "stream": "stdout",
       "text": [
        "\n",
        "id 7 found for Cathedral"
       ]
      },
      {
       "output_type": "stream",
       "stream": "stdout",
       "text": [
        "\n",
        "id 27048 found for Duel in the Dark"
       ]
      },
      {
       "output_type": "stream",
       "stream": "stdout",
       "text": [
        "\n",
        "id 2516 found for Man O' War"
       ]
      },
      {
       "output_type": "stream",
       "stream": "stdout",
       "text": [
        "\n",
        "id 25951 found for The Castle of the Devil"
       ]
      },
      {
       "output_type": "stream",
       "stream": "stdout",
       "text": [
        "\n",
        "id 19854 found for Federation Commander: Klingon Border"
       ]
      },
      {
       "output_type": "stream",
       "stream": "stdout",
       "text": [
        "\n",
        "id 23451 found for Space Dealer"
       ]
      },
      {
       "output_type": "stream",
       "stream": "stdout",
       "text": [
        "\n",
        "id 37734 found for Cavum"
       ]
      },
      {
       "output_type": "stream",
       "stream": "stdout",
       "text": [
        "\n",
        "id 19643 found for World of Warcraft Trading Card Game"
       ]
      },
      {
       "output_type": "stream",
       "stream": "stdout",
       "text": [
        "\n",
        "id 41490 found for Phantom Leader"
       ]
      },
      {
       "output_type": "stream",
       "stream": "stdout",
       "text": [
        "\n",
        "id 466 found for Inkognito"
       ]
      },
      {
       "output_type": "stream",
       "stream": "stdout",
       "text": [
        "\n",
        "id 38506 found for Witch of Salem"
       ]
      },
      {
       "output_type": "stream",
       "stream": "stdout",
       "text": [
        "\n",
        "id 11229 found for Star Wars Miniatures"
       ]
      },
      {
       "output_type": "stream",
       "stream": "stdout",
       "text": [
        "\n",
        "id 118536 found for Police Precinct"
       ]
      },
      {
       "output_type": "stream",
       "stream": "stdout",
       "text": [
        "\n",
        "id 46007 found for A Brief History of the World"
       ]
      },
      {
       "output_type": "stream",
       "stream": "stdout",
       "text": [
        "\n",
        "id 6866 found for Mus"
       ]
      },
      {
       "output_type": "stream",
       "stream": "stdout",
       "text": [
        "\n",
        "id 17484 found for Silent War"
       ]
      },
      {
       "output_type": "stream",
       "stream": "stdout",
       "text": [
        "\n",
        "id 2603 found for The Lord of the Rings Trading Card Game"
       ]
      },
      {
       "output_type": "stream",
       "stream": "stdout",
       "text": [
        "\n",
        "id 320 found for Scrabble"
       ]
      },
      {
       "output_type": "stream",
       "stream": "stdout",
       "text": [
        "\n",
        "id 932 found for Top Race"
       ]
      },
      {
       "output_type": "stream",
       "stream": "stdout",
       "text": [
        "\n",
        "id 118418 found for Divinare"
       ]
      },
      {
       "output_type": "stream",
       "stream": "stdout",
       "text": [
        "\n",
        "id 11168 found for Flames of War: The World War II Miniatures Game"
       ]
      },
      {
       "output_type": "stream",
       "stream": "stdout",
       "text": [
        "\n",
        "id 1334 found for Entdecker: Exploring New Horizons"
       ]
      },
      {
       "output_type": "stream",
       "stream": "stdout",
       "text": [
        "\n",
        "id 23604 found for The World Cup Game"
       ]
      },
      {
       "output_type": "stream",
       "stream": "stdout",
       "text": [
        "\n",
        "id 3421 found for StreetSoccer"
       ]
      },
      {
       "output_type": "stream",
       "stream": "stdout",
       "text": [
        "\n",
        "id 140 found for Pit"
       ]
      },
      {
       "output_type": "stream",
       "stream": "stdout",
       "text": [
        "\n",
        "id 59753 found for Priests of Ra"
       ]
      },
      {
       "output_type": "stream",
       "stream": "stdout",
       "text": [
        "\n",
        "id 6050 found for Duel of Ages Set 1: Worldspanner"
       ]
      },
      {
       "output_type": "stream",
       "stream": "stdout",
       "text": [
        "\n",
        "id 3139 found for Goldland"
       ]
      },
      {
       "output_type": "stream",
       "stream": "stdout",
       "text": [
        "\n",
        "id 12692 found for Gloom"
       ]
      },
      {
       "output_type": "stream",
       "stream": "stdout",
       "text": [
        "\n",
        "id 1194 found for Speed Circuit"
       ]
      },
      {
       "output_type": "stream",
       "stream": "stdout",
       "text": [
        "\n",
        "id 1621 found for Mutant Chronicles: Siege of the Citadel"
       ]
      },
      {
       "output_type": "stream",
       "stream": "stdout",
       "text": [
        "\n",
        "id 3085 found for Gang of Four"
       ]
      },
      {
       "output_type": "stream",
       "stream": "stdout",
       "text": [
        "\n",
        "id 217 found for A la carte"
       ]
      },
      {
       "output_type": "stream",
       "stream": "stdout",
       "text": [
        "\n",
        "id 45748 found for Carcassonne: Wheel of Fortune"
       ]
      },
      {
       "output_type": "stream",
       "stream": "stdout",
       "text": [
        "\n"
       ]
      }
     ],
     "prompt_number": 4
    },
    {
     "cell_type": "markdown",
     "metadata": {},
     "source": [
      "Using the BGG XML API, we can download several statistics for the selected games."
     ]
    },
    {
     "cell_type": "code",
     "collapsed": false,
     "input": [
      "def get_games_stats(games):\n",
      "    \n",
      "    # do in chunks to keep the URL a reasonable size\n",
      "    chunksize = 100\n",
      "\n",
      "    for ii in range(N_GAMES // chunksize):\n",
      "        print(\"Gettings stats, chunk {0} / {1}\".format(ii + 1, N_GAMES // chunksize))\n",
      "        idstr = ','.join(gamedata.id.ix[ii * chunksize:(ii + 1) * chunksize])\n",
      "        url = \"http://www.boardgamegeek.com/xmlapi/boardgame/{0}&stats=1\".format(idstr)\n",
      "        result = requests.get(url, timeout=60)\n",
      "        result = ElementTree.fromstring(result.text)\n",
      "\n",
      "        numowned = [float(gm.find('statistics').find('ratings').find('owned').text)\n",
      "                    for gm in result]\n",
      "        avgrating = [float(gm.find('statistics').find('ratings').find('average').text)\n",
      "                     for gm in result]\n",
      "        bavgrating = [float(gm.find('statistics').find('ratings').find('bayesaverage').text)\n",
      "                      for gm in result]\n",
      "        stdrating = [float(gm.find('statistics').find('ratings').find('stddev').text)\n",
      "                     for gm in result]\n",
      "        avgweight = [float(gm.find('statistics').find('ratings').find('averageweight').text)\n",
      "                     for gm in result]\n",
      "\n",
      "        games.ix[ii * chunksize:(ii + 1) * chunksize, 'numowned'] = numowned\n",
      "        games.ix[ii * chunksize:(ii + 1) * chunksize, 'avgrating'] = avgrating\n",
      "        games.ix[ii * chunksize:(ii + 1) * chunksize, 'bayesavgrating'] = bavgrating\n",
      "        games.ix[ii * chunksize:(ii + 1) * chunksize, 'stdrating'] = stdrating\n",
      "        games.ix[ii * chunksize:(ii + 1) * chunksize, 'avgweight'] = avgweight\n",
      "\n",
      "    return games\n",
      "\n",
      "gamedata = get_games_stats(gamedata)"
     ],
     "language": "python",
     "metadata": {},
     "outputs": [
      {
       "output_type": "stream",
       "stream": "stdout",
       "text": [
        "Gettings stats, chunk 0 / 10\n",
        "Gettings stats, chunk 1 / 10"
       ]
      },
      {
       "output_type": "stream",
       "stream": "stdout",
       "text": [
        "\n",
        "Gettings stats, chunk 2 / 10"
       ]
      },
      {
       "output_type": "stream",
       "stream": "stdout",
       "text": [
        "\n",
        "Gettings stats, chunk 3 / 10"
       ]
      },
      {
       "output_type": "stream",
       "stream": "stdout",
       "text": [
        "\n",
        "Gettings stats, chunk 4 / 10"
       ]
      },
      {
       "output_type": "stream",
       "stream": "stdout",
       "text": [
        "\n",
        "Gettings stats, chunk 5 / 10"
       ]
      },
      {
       "output_type": "stream",
       "stream": "stdout",
       "text": [
        "\n",
        "Gettings stats, chunk 6 / 10"
       ]
      },
      {
       "output_type": "stream",
       "stream": "stdout",
       "text": [
        "\n",
        "Gettings stats, chunk 7 / 10"
       ]
      },
      {
       "output_type": "stream",
       "stream": "stdout",
       "text": [
        "\n",
        "Gettings stats, chunk 8 / 10"
       ]
      },
      {
       "output_type": "stream",
       "stream": "stdout",
       "text": [
        "\n",
        "Gettings stats, chunk 9 / 10"
       ]
      },
      {
       "output_type": "stream",
       "stream": "stdout",
       "text": [
        "\n"
       ]
      }
     ],
     "prompt_number": 7
    },
    {
     "cell_type": "markdown",
     "metadata": {},
     "source": [
      "Regression modeling\n",
      "-------------------\n",
      "Let's simply assume a linear relationship between average game rating and average game weight and do a regression using `statsmodels.OLS`."
     ]
    },
    {
     "cell_type": "code",
     "collapsed": false,
     "input": [
      "gamedata['intercept'] = 1.\n",
      "y = gamedata.avgrating\n",
      "x = gamedata[['intercept', 'avgweight']]\n",
      "\n",
      "regress = sm.OLS(y, x).fit()\n",
      "print(regress.summary())\n",
      "avgparams = regress.params\n",
      "\n",
      "gamedata['wmodel'] = avgparams['intercept'] + avgparams['avgweight'] * gamedata.avgweight\n",
      "\n",
      "fig = plt.figure(figsize=(8,5))\n",
      "ax = plt.gca()\n",
      "ax.set_xlabel('avgweight')\n",
      "ax.set_ylabel('avgrating')\n",
      "plt.scatter(gamedata.avgweight, gamedata.avgrating)\n",
      "plt.plot(gamedata.avgweight, gamedata.wmodel, 'r-')"
     ],
     "language": "python",
     "metadata": {},
     "outputs": [
      {
       "output_type": "stream",
       "stream": "stdout",
       "text": [
        "                            OLS Regression Results                            \n",
        "==============================================================================\n",
        "Dep. Variable:              avgrating   R-squared:                       0.281\n",
        "Model:                            OLS   Adj. R-squared:                  0.280\n",
        "Method:                 Least Squares   F-statistic:                     390.0\n",
        "Date:                Mon, 18 Aug 2014   Prob (F-statistic):           1.54e-73\n",
        "Time:                        22:43:33   Log-Likelihood:                -384.38\n",
        "No. Observations:                1000   AIC:                             772.8\n",
        "Df Residuals:                     998   BIC:                             782.6\n",
        "Df Model:                           1                                         \n",
        "Covariance Type:            nonrobust                                         \n",
        "==============================================================================\n",
        "                 coef    std err          t      P>|t|      [95.0% Conf. Int.]\n",
        "------------------------------------------------------------------------------\n",
        "intercept      6.4694      0.041    159.554      0.000         6.390     6.549\n",
        "avgweight      0.2993      0.015     19.749      0.000         0.270     0.329\n",
        "==============================================================================\n",
        "Omnibus:                       25.296   Durbin-Watson:                   1.315\n",
        "Prob(Omnibus):                  0.000   Jarque-Bera (JB):               26.727\n",
        "Skew:                           0.400   Prob(JB):                     1.57e-06\n",
        "Kurtosis:                       3.034   Cond. No.                         10.9\n",
        "==============================================================================\n",
        "\n",
        "Warnings:\n",
        "[1] Standard Errors assume that the covariance matrix of the errors is correctly specified.\n"
       ]
      },
      {
       "metadata": {},
       "output_type": "pyout",
       "prompt_number": 75,
       "text": [
        "[<matplotlib.lines.Line2D at 0x7f1f7c823d68>]"
       ]
      },
      {
       "metadata": {},
       "output_type": "display_data",
       "png": "[encoded data removed]",
       "text": [
        "<matplotlib.figure.Figure at 0x7f1f7c8612e8>"
       ]
      }
     ],
     "prompt_number": 75
    },
    {
     "cell_type": "markdown",
     "metadata": {},
     "source": [
      "That's a pretty high correlation. Now what is the correlation between weight and the Geek Rating (i.e., the Bayesian average)? (Note: this is supposed to be a more robust statistic for game rating.)"
     ]
    },
    {
     "cell_type": "code",
     "collapsed": false,
     "input": [
      "y = gamedata.bayesavgrating\n",
      "x = gamedata[['intercept', 'avgweight']]\n",
      "\n",
      "regress = sm.OLS(y, x).fit()\n",
      "print(regress.summary())\n",
      "bavgparams = regress.params\n",
      "\n",
      "gamedata['orig_rank'] = gamedata.index + 1\n",
      "gamedata['wmodel'] = bavgparams['intercept'] + bavgparams['avgweight'] * gamedata.avgweight\n",
      "\n",
      "fig = plt.figure(figsize=(8,5))\n",
      "ax = plt.gca()\n",
      "ax.set_xlabel('avgweight')\n",
      "ax.set_ylabel('bayesavgrating')\n",
      "plt.scatter(gamedata.avgweight, gamedata.bayesavgrating)\n",
      "plt.plot(gamedata.avgweight, gamedata.wmodel, 'r-')"
     ],
     "language": "python",
     "metadata": {},
     "outputs": [
      {
       "output_type": "stream",
       "stream": "stdout",
       "text": [
        "                            OLS Regression Results                            \n",
        "==============================================================================\n",
        "Dep. Variable:         bayesavgrating   R-squared:                       0.084\n",
        "Model:                            OLS   Adj. R-squared:                  0.083\n",
        "Method:                 Least Squares   F-statistic:                     90.94\n",
        "Date:                Mon, 18 Aug 2014   Prob (F-statistic):           1.09e-20\n",
        "Time:                        22:44:31   Log-Likelihood:                -447.56\n",
        "No. Observations:                1000   AIC:                             899.1\n",
        "Df Residuals:                     998   BIC:                             908.9\n",
        "Df Model:                           1                                         \n",
        "Covariance Type:            nonrobust                                         \n",
        "==============================================================================\n",
        "                 coef    std err          t      P>|t|      [95.0% Conf. Int.]\n",
        "------------------------------------------------------------------------------\n",
        "intercept      6.3787      0.043    147.688      0.000         6.294     6.463\n",
        "avgweight      0.1539      0.016      9.536      0.000         0.122     0.186\n",
        "==============================================================================\n",
        "Omnibus:                       73.813   Durbin-Watson:                   0.000\n",
        "Prob(Omnibus):                  0.000   Jarque-Bera (JB):               89.611\n",
        "Skew:                           0.733   Prob(JB):                     3.48e-20\n",
        "Kurtosis:                       3.007   Cond. No.                         10.9\n",
        "==============================================================================\n",
        "\n",
        "Warnings:\n",
        "[1] Standard Errors assume that the covariance matrix of the errors is correctly specified.\n"
       ]
      },
      {
       "metadata": {},
       "output_type": "pyout",
       "prompt_number": 78,
       "text": [
        "[<matplotlib.lines.Line2D at 0x7f1f7c6d39e8>]"
       ]
      },
      {
       "metadata": {},
       "output_type": "display_data",
       "png": "[encoded data removed]",
       "text": [
        "<matplotlib.figure.Figure at 0x7f1f7cb9ac88>"
       ]
      }
     ],
     "prompt_number": 78
    },
    {
     "cell_type": "markdown",
     "metadata": {},
     "source": [
      "Re-rating\n",
      "---------\n",
      "The Bayesian average seems to already deal with some of the 'heaviness bias'. There is still a weak correlation, however. Let's use it to compensate the Bayesian average ratings for game weight:"
     ]
    },
    {
     "cell_type": "code",
     "collapsed": false,
     "input": [
      "gamedata['wnet'] = gamedata.bayesavgrating - gamedata.wmodel\n",
      "gamedata.sort('wnet', ascending=False, inplace=True)\n",
      "gamedata['w_rank'] = gamedata.reset_index().index + 1\n",
      "gamedata['diff_rank'] = gamedata.orig_rank - gamedata.w_rank"
     ],
     "language": "python",
     "metadata": {},
     "outputs": []
    },
    {
     "cell_type": "markdown",
     "metadata": {},
     "source": [
      "The biggest 50 gainers in terms of ranking are printed below. Lots of children games and light family games."
     ]
    },
    {
     "cell_type": "code",
     "collapsed": false,
     "input": [
      "thresh  = gamedata.diff_rank.quantile(0.95)\n",
      "print(\"Biggest gainers\")\n",
      "print(gamedata[gamedata.diff_rank > thresh][['title', 'diff_rank', 'orig_rank', 'w_rank']].sort('diff_rank', ascending=False).to_string(index=False))"
     ],
     "language": "python",
     "metadata": {},
     "outputs": [
      {
       "output_type": "stream",
       "stream": "stdout",
       "text": [
        "Biggest gainers\n",
        "                                        title  diff_rank  orig_rank  w_rank\n",
        "                                          Pit        283        991     708\n",
        "                               Sorry! Sliders        282        915     633\n",
        "                                       Ribbit        280        941     661\n",
        "                         Wits & Wagers Family        274        947     673\n",
        "                          Chicken Cha Cha Cha        273        924     651\n",
        "                                Villa Paletti        272        931     659\n",
        "                          Timeline: Diversity        265        819     554\n",
        "                        Timeline: Discoveries        264        900     636\n",
        "                                 Pick Picknic        260        925     665\n",
        "                                    Riff Raff        256        950     694\n",
        "                      The Kids of Carcassonne        254        874     620\n",
        "                                    Pickomino        249        831     582\n",
        "                                 Hamsterrolle        245        760     515\n",
        "                                   A la carte        244        999     755\n",
        "                                      Identik        229        805     576\n",
        "                                        Qwixx        229        752     523\n",
        "                           Word on the Street        223        956     733\n",
        "                                   Guillotine        222        757     535\n",
        "                  Timeline: Historical Events        221        720     499\n",
        "                                   Mamma Mia!        217        879     662\n",
        "                                     Botswana        214        842     628\n",
        "                            The Great Dalmuti        211        836     625\n",
        "                   Archaeology: The Card Game        211        755     544\n",
        "                                         FITS        210        775     565\n",
        "                                  Dragonheart        210        856     646\n",
        "                                 Trans Europa        208        783     575\n",
        "                                    Marrakech        207        865     658\n",
        "                                      Pyramid        200        824     624\n",
        "                                 Jungle Speed        199        654     455\n",
        "                                 StreetSoccer        199        990     791\n",
        "                                   Ave Caesar        196        738     542\n",
        "                                      Diamant        195        622     427\n",
        "                         Timeline: Inventions        195        605     410\n",
        " Once Upon a Time: The Storytelling Card Game        193        838     645\n",
        "                                  Ghost Blitz        192        630     438\n",
        "                   Felix: The Cat in the Sack        191        736     545\n",
        "                                       Carrom        191        774     583\n",
        "                                      La Boca        190        820     630\n",
        "                                PitchCar Mini        189        609     420\n",
        "                                Take it Easy!        187        935     748\n",
        "                            Time's Up! Deluxe        186        639     453\n",
        "                                    Sushi Go!        185        599     414\n",
        "                                     Spot it!        183        542     359\n",
        "                                        R-Eco        182        862     680\n",
        "                           Animal Upon Animal        182        548     366\n",
        "                                        Gloom        182        995     813\n",
        "                            Beyond Balderdash        181        800     619\n",
        "                                Skull & Roses        181        631     450\n",
        "                                       Money!        180        908     728\n",
        "                                    Gulo Gulo        178        546     368\n"
       ]
      }
     ],
     "prompt_number": 89
    },
    {
     "cell_type": "markdown",
     "metadata": {},
     "source": [
      "Unsurprisingly, the biggest losers are war games, 18XX-style games, etc."
     ]
    },
    {
     "cell_type": "code",
     "collapsed": false,
     "input": [
      "thresh  = gamedata.diff_rank.quantile(0.05)\n",
      "print(\"Biggest losers\")\n",
      "print(gamedata[gamedata.diff_rank < thresh][['title', 'diff_rank', 'orig_rank', 'w_rank']].sort('diff_rank', ascending=True).to_string(index=False))"
     ],
     "language": "python",
     "metadata": {},
     "outputs": [
      {
       "output_type": "stream",
       "stream": "stdout",
       "text": [
        "Biggest losers\n",
        "                                          title  diff_rank  orig_rank  w_rank\n",
        "                                World in Flames       -387        527     914\n",
        "                                    Magic Realm       -365        578     943\n",
        "                                Empires in Arms       -359        514     873\n",
        "                                           1856       -335        432     767\n",
        "         Revolution: The Dutch Revolt 1568-1648       -324        624     948\n",
        "                                  Axis & Allies       -317        638     955\n",
        "                                           1870       -313        626     939\n",
        "                                  High Frontier       -289        412     701\n",
        "                              Empire of the Sun       -284        652     936\n",
        "                                          Shogi       -279        610     889\n",
        "                                        Android       -277        634     911\n",
        "                                   Ground Floor       -268        536     804\n",
        "                             Age of Renaissance       -260        489     749\n",
        "                                        Xiangqi       -243        565     808\n",
        "                          SPQR (Deluxe Edition)       -242        661     903\n",
        "                                      EastFront       -239        615     854\n",
        "                                   Middle-Earth       -239        592     831\n",
        "                                        Madeira       -237        354     591\n",
        "                                   Funkenschlag       -236        613     849\n",
        "                                  Pr\u00eat-\u00e0-Porter       -230        596     826\n",
        "                                  The Civil War       -230        486     716\n",
        "                              Wealth of Nations       -229        657     886\n",
        "                               God's Playground       -228        679     907\n",
        "                                A Distant Plain       -227        658     885\n",
        "                                   Horus Heresy       -227        651     878\n",
        "                             The Great Zimbabwe       -221        446     667\n",
        "                                   EastFront II       -218        632     850\n",
        "          Advanced Squad Leader: Starter Kit #3       -213        400     613\n",
        "             World War II: Barbarossa to Berlin       -206        704     910\n",
        "                     Axis & Allies Pacific 1940       -204        701     905\n",
        "                                     BattleTech       -200        575     775\n",
        "            1860: Railways on the Isle of Wight       -199        786     985\n",
        "                                 For the People       -199        442     641\n",
        "                                Warrior Knights       -198        523     721\n",
        "                      Axis & Allies Europe 1940       -197        563     760\n",
        "                                     Key Market       -195        734     929\n",
        "                                   Virgin Queen       -194        282     476\n",
        "                                       Poseidon       -188        761     949\n",
        " The Great Battles of Alexander: Deluxe Edition       -187        746     933\n",
        "                                     Warmachine       -186        680     866\n",
        "                  Vampire: The Eternal Struggle       -185        604     789\n",
        "                                     Cuba Libre       -184        497     681\n",
        "                         Warmachine Prime Mk II       -183        419     602\n",
        "                                       Perikles       -181        570     751\n",
        "           The Napoleonic Wars (Second Edition)       -180        717     897\n",
        "                                Rise of Empires       -179        429     608\n",
        "                         Unhappy King Charles!\t       -179        655     834\n",
        "                                   Urban Sprawl       -179        684     863\n",
        "                                Europe Engulfed       -178        393     571\n",
        "                      Last Train to Wensleydale       -177        644     821\n"
       ]
      }
     ],
     "prompt_number": 90
    },
    {
     "cell_type": "markdown",
     "metadata": {},
     "source": [
      "A different Top 100\n",
      "-------------------"
     ]
    },
    {
     "cell_type": "code",
     "collapsed": false,
     "input": [
      "gamedata['dstr'] = 'o'\n",
      "gamedata.dstr[gamedata.diff_rank > 5] = '+'\n",
      "gamedata.dstr[gamedata.diff_rank > 10] = '++'\n",
      "gamedata.dstr[gamedata.diff_rank > 20] = '+++'\n",
      "gamedata.dstr[gamedata.diff_rank < -5] = '-'\n",
      "gamedata.dstr[gamedata.diff_rank < -10] = '--'\n",
      "gamedata.dstr[gamedata.diff_rank < -20] = '---'\n",
      "\n",
      "print(\"Top 100 after re-ranking\")\n",
      "print(gamedata[['title', 'orig_rank', 'w_rank', 'dstr']].head(100).to_string(index=False))"
     ],
     "language": "python",
     "metadata": {},
     "outputs": [
      {
       "output_type": "stream",
       "stream": "stdout",
       "text": [
        "Top 100 after re-ranking\n",
        "                                             title  orig_rank  w_rank dstr\n",
        "                                 Twilight Struggle          1       1    o\n",
        "                                       Puerto Rico          5       2    o\n",
        "                                Android: Netrunner          6       3    o\n",
        "                                          Agricola          3       4    o\n",
        "                                     Terra Mystica          4       5    o\n",
        "                                         7 Wonders         18       6   ++\n",
        "         Through the Ages: A Story of Civilization          2       7    o\n",
        "                                        Power Grid          9       8    o\n",
        "                           The Castles of Burgundy         11       9    o\n",
        "                                           Eclipse          8      10    o\n",
        "                                         Crokinole         38      11  +++\n",
        "                            The Resistance: Avalon         28      12   ++\n",
        "                         Caverna: The Cave Farmers          7      13    -\n",
        "                                Dominion: Intrigue         19      14    o\n",
        "                                          Dominion         21      15    +\n",
        "                 Star Wars: X-Wing Miniatures Game         23      16    +\n",
        "   Robinson Crusoe: Adventure on the Cursed Island         13      17    o\n",
        "                                          Le Havre         12      18    -\n",
        "                                Lords of Waterdeep         27      19    +\n",
        "                            Mage Knight Board Game         10      20    -\n",
        "                      Tzolk'in: The Mayan Calendar         15      21    -\n",
        "                                             Brass         14      22    -\n",
        "                               Race for the Galaxy         24      23    o\n",
        "                                         El Grande         22      24    o\n",
        "                                            Caylus         17      25    -\n",
        "                              Battlestar Galactica         26      26    o\n",
        "                  War of the Ring (second edition)         16      27   --\n",
        "                                       Love Letter         87      28  +++\n",
        "                                          Pandemic         44      29   ++\n",
        "                       Commands & Colors: Ancients         39      30    +\n",
        "                                         Stone Age         43      31   ++\n",
        "    Descent: Journeys in the Dark (Second Edition)         33      32    o\n",
        "                         Summoner Wars: Master Set         48      33   ++\n",
        "                            Ticket to Ride: Europe         61      34  +++\n",
        "                                     King of Tokyo         85      35  +++\n",
        "                                    The Resistance         77      36  +++\n",
        "                                   Eldritch Horror         31      37    -\n",
        "                                         Mage Wars         25      38   --\n",
        "                                     Dixit Odyssey        100      39  +++\n",
        "                                             Tichu         56      40   ++\n",
        "                                             Dixit        103      41  +++\n",
        "                                         Keyflower         35      42    -\n",
        "                                    Ticket to Ride         74      43  +++\n",
        "                                Tigris & Euphrates         30      44   --\n",
        "                                  Dominant Species         20      45  ---\n",
        "                  Ticket to Ride: Nordic Countries         70      46  +++\n",
        "                                          Suburbia         53      47    +\n",
        " A Game of Thrones: The Board Game (Second Edit...         34      48   --\n",
        " Pathfinder Adventure Card Game: Rise of the Ru...         54      49    o\n",
        "                             Railways of the World         51      50    o\n",
        "                                            Jaipur        106      51  +++\n",
        "                          Combat Commander: Europe         47      52    o\n",
        "                   War of the Ring (first edition)         32      53  ---\n",
        "                                    Galaxy Trucker         72      54   ++\n",
        "                                           Nations         40      55   --\n",
        "                                            Trajan         37      56   --\n",
        "                                        Memoir '44         80      57  +++\n",
        "                                            Hanabi        113      58  +++\n",
        "                                 Russian Railroads         45      59   --\n",
        "                                               Goa         46      60   --\n",
        "                           The Princes of Florence         52      61    -\n",
        "                                             Steam         42      62   --\n",
        "                                                Ra         81      63   ++\n",
        "                                       Carcassonne        102      64  +++\n",
        "                            Chaos in the Old World         55      65    -\n",
        "                                  Cosmic Encounter         73      66    +\n",
        "                                     Ora et Labora         36      67  ---\n",
        "                 Twilight Imperium (Third Edition)         29      68  ---\n",
        "                                            Troyes         49      69   --\n",
        "                                       Space Alert         64      70    -\n",
        "                                       Small World         90      71   ++\n",
        "                                    Claustrophobia         86      72   ++\n",
        "                                    Paths of Glory         41      73  ---\n",
        "                                  Mice and Mystics         83      74    +\n",
        "                                       Battle Line        117      75  +++\n",
        "                       Hannibal: Rome vs. Carthage         57      76   --\n",
        "                                           Village         65      77   --\n",
        "          Age of Empires III: The Age of Discovery         63      78   --\n",
        "                                   Alien Frontiers         93      79   ++\n",
        "                                             Kemet         76      80    o\n",
        "              The Lord of the Rings: The Card Game         68      81   --\n",
        "                       Sentinels of the Multiverse         97      82   ++\n",
        "                                   Hansa Teutonica         66      83   --\n",
        "            Agricola:  All Creatures Big and Small        105      84  +++\n",
        "                                             YINSH         88      85    o\n",
        "                                     Glory to Rome         79      86    -\n",
        "            Legendary: A Marvel Deck Building Game        108      87  +++\n",
        "                                          Splendor        142      88  +++\n",
        "                                      Age of Steam         50      89  ---\n",
        "                                     Telestrations        192      90  +++\n",
        "                                       Risk Legacy        101      91    +\n",
        "                                          Runewars         59      92  ---\n",
        "                                            Shogun         67      93  ---\n",
        "                                           Samurai        110      94   ++\n",
        "                    Survive: Escape from Atlantis!        167      95  +++\n",
        "                       Blood Bowl: Living Rulebook         78      96   --\n",
        "                                         Navegador         84      97   --\n",
        "                                  Forbidden Desert        151      98  +++\n",
        "                                     Lewis & Clark         71      99  ---\n",
        "                        Space Hulk (third edition)         98     100    o\n"
       ]
      }
     ],
     "prompt_number": 93
    },
    {
     "cell_type": "markdown",
     "metadata": {},
     "source": [
      "Bonus: the full list of re-ranked games."
     ]
    },
    {
     "cell_type": "code",
     "collapsed": false,
     "input": [
      "gamedata['dstr'] = 'o'\n",
      "gamedata.dstr[gamedata.diff_rank > 20] = '+'\n",
      "gamedata.dstr[gamedata.diff_rank > 50] = '++'\n",
      "gamedata.dstr[gamedata.diff_rank > 100] = '+++'\n",
      "gamedata.dstr[gamedata.diff_rank < -20] = '-'\n",
      "gamedata.dstr[gamedata.diff_rank < -50] = '--'\n",
      "gamedata.dstr[gamedata.diff_rank < -100] = '---'\n",
      "\n",
      "print(\"All data\")\n",
      "print(gamedata[['title', 'orig_rank', 'w_rank', 'dstr']].to_string(index=False))"
     ],
     "language": "python",
     "metadata": {},
     "outputs": [
      {
       "output_type": "stream",
       "stream": "stdout",
       "text": [
        "All data\n",
        "                                             title  orig_rank  w_rank dstr\n",
        "                                 Twilight Struggle          1       1    o\n",
        "                                       Puerto Rico          5       2    o\n",
        "                                Android: Netrunner          6       3    o\n",
        "                                          Agricola          3       4    o\n",
        "                                     Terra Mystica          4       5    o\n",
        "                                         7 Wonders         18       6    o\n",
        "         Through the Ages: A Story of Civilization          2       7    o\n",
        "                                        Power Grid          9       8    o\n",
        "                           The Castles of Burgundy         11       9    o\n",
        "                                           Eclipse          8      10    o\n",
        "                                         Crokinole         38      11    +\n",
        "                            The Resistance: Avalon         28      12    o\n",
        "                         Caverna: The Cave Farmers          7      13    o\n",
        "                                Dominion: Intrigue         19      14    o\n",
        "                                          Dominion         21      15    o\n",
        "                 Star Wars: X-Wing Miniatures Game         23      16    o\n",
        "   Robinson Crusoe: Adventure on the Cursed Island         13      17    o\n",
        "                                          Le Havre         12      18    o\n",
        "                                Lords of Waterdeep         27      19    o\n",
        "                            Mage Knight Board Game         10      20    o\n",
        "                      Tzolk'in: The Mayan Calendar         15      21    o\n",
        "                                             Brass         14      22    o\n",
        "                               Race for the Galaxy         24      23    o\n",
        "                                         El Grande         22      24    o\n",
        "                                            Caylus         17      25    o\n",
        "                              Battlestar Galactica         26      26    o\n",
        "                  War of the Ring (second edition)         16      27    o\n",
        "                                       Love Letter         87      28   ++\n",
        "                                          Pandemic         44      29    o\n",
        "                       Commands & Colors: Ancients         39      30    o\n",
        "                                         Stone Age         43      31    o\n",
        "    Descent: Journeys in the Dark (Second Edition)         33      32    o\n",
        "                         Summoner Wars: Master Set         48      33    o\n",
        "                            Ticket to Ride: Europe         61      34    +\n",
        "                                     King of Tokyo         85      35    +\n",
        "                                    The Resistance         77      36    +\n",
        "                                   Eldritch Horror         31      37    o\n",
        "                                         Mage Wars         25      38    o\n",
        "                                     Dixit Odyssey        100      39   ++\n",
        "                                             Tichu         56      40    o\n",
        "                                             Dixit        103      41   ++\n",
        "                                         Keyflower         35      42    o\n",
        "                                    Ticket to Ride         74      43    +\n",
        "                                Tigris & Euphrates         30      44    o\n",
        "                                  Dominant Species         20      45    -\n",
        "                  Ticket to Ride: Nordic Countries         70      46    +\n",
        "                                          Suburbia         53      47    o\n",
        " A Game of Thrones: The Board Game (Second Edit...         34      48    o\n",
        " Pathfinder Adventure Card Game: Rise of the Ru...         54      49    o\n",
        "                             Railways of the World         51      50    o\n",
        "                                            Jaipur        106      51   ++\n",
        "                          Combat Commander: Europe         47      52    o\n",
        "                   War of the Ring (first edition)         32      53    -\n",
        "                                    Galaxy Trucker         72      54    o\n",
        "                                           Nations         40      55    o\n",
        "                                            Trajan         37      56    o\n",
        "                                        Memoir '44         80      57    +\n",
        "                                            Hanabi        113      58   ++\n",
        "                                 Russian Railroads         45      59    o\n",
        "                                               Goa         46      60    o\n",
        "                           The Princes of Florence         52      61    o\n",
        "                                             Steam         42      62    o\n",
        "                                                Ra         81      63    o\n",
        "                                       Carcassonne        102      64    +\n",
        "                            Chaos in the Old World         55      65    o\n",
        "                                  Cosmic Encounter         73      66    o\n",
        "                                     Ora et Labora         36      67    -\n",
        "                 Twilight Imperium (Third Edition)         29      68    -\n",
        "                                            Troyes         49      69    o\n",
        "                                       Space Alert         64      70    o\n",
        "                                       Small World         90      71    o\n",
        "                                    Claustrophobia         86      72    o\n",
        "                                    Paths of Glory         41      73    -\n",
        "                                  Mice and Mystics         83      74    o\n",
        "                                       Battle Line        117      75    +\n",
        "                       Hannibal: Rome vs. Carthage         57      76    o\n",
        "                                           Village         65      77    o\n",
        "          Age of Empires III: The Age of Discovery         63      78    o\n",
        "                                   Alien Frontiers         93      79    o\n",
        "                                             Kemet         76      80    o\n",
        "              The Lord of the Rings: The Card Game         68      81    o\n",
        "                       Sentinels of the Multiverse         97      82    o\n",
        "                                   Hansa Teutonica         66      83    o\n",
        "            Agricola:  All Creatures Big and Small        105      84    +\n",
        "                                             YINSH         88      85    o\n",
        "                                     Glory to Rome         79      86    o\n",
        "            Legendary: A Marvel Deck Building Game        108      87    +\n",
        "                                          Splendor        142      88   ++\n",
        "                                      Age of Steam         50      89    -\n",
        "                                     Telestrations        192      90  +++\n",
        "                                       Risk Legacy        101      91    o\n",
        "                                          Runewars         59      92    -\n",
        "                                            Shogun         67      93    -\n",
        "                                           Samurai        110      94    o\n",
        "                    Survive: Escape from Atlantis!        167      95   ++\n",
        "                       Blood Bowl: Living Rulebook         78      96    o\n",
        "                                         Navegador         84      97    o\n",
        "                                  Forbidden Desert        151      98   ++\n",
        "                                     Lewis & Clark         71      99    -\n",
        "                        Space Hulk (third edition)         98     100    o\n",
        "                                        Time's Up!        200     101   ++\n",
        "                                          Imperial         62     102    -\n",
        "                                          For Sale        198     103   ++\n",
        "                          Flash Point: Fire Rescue        132     104    +\n",
        "                                              Hive        127     105    +\n",
        "                                          Cyclades        104     106    o\n",
        "                                                Go         58     107    -\n",
        "                             The Settlers of Catan        129     108    +\n",
        "                                           Seasons        111     109    o\n",
        "                                          PitchCar        225     110  +++\n",
        "                                         Zombicide        122     111    o\n",
        "                                           Acquire        126     112    o\n",
        "                                          Takenoko        168     113   ++\n",
        "                           Ticket to Ride: M\u00e4rklin        147     114    +\n",
        "                          Time's Up! Title Recall!        218     115  +++\n",
        "                                          Endeavor        107     116    o\n",
        "                 1960: The Making of the President         92     117    -\n",
        "                                              Coup        208     118   ++\n",
        "          Blood Bowl: Team Manager \u2013 The Card Game        146     119    +\n",
        "                                          San Juan        152     120    +\n",
        "                          Letters from Whitechapel        125     121    o\n",
        "                                     Imperial 2030         82     122    -\n",
        "          Sid Meier's Civilization: The Board Game         69     123   --\n",
        "                                  Saint Petersburg        143     124    o\n",
        "                                        BattleLore        121     125    o\n",
        "                                        Notre Dame        123     126    o\n",
        "                                        Modern Art        161     127    +\n",
        "                                      Here I Stand         60     128   --\n",
        "                                       Star Realms        186     129   ++\n",
        "                                         Ingenious        184     130   ++\n",
        "                               A Few Acres of Snow        116     131    o\n",
        "                                    Dixit: Journey        246     132  +++\n",
        "                   Escape: The Curse of the Temple        229     133   ++\n",
        "                           Small World Underground        148     134    o\n",
        "                                     Ghost Stories        128     135    o\n",
        "                                      Dungeon Petz         95     136    -\n",
        "                                          Citadels        185     137    +\n",
        "                                     Summoner Wars        173     138    +\n",
        "                                     Dungeon Lords         96     139    -\n",
        "                                         Bora Bora         91     140    -\n",
        "                                            Fresco        156     141    o\n",
        "                         In the Year of the Dragon        118     142    -\n",
        "                                         Concordia        119     143    -\n",
        "                              Magic: The Gathering        120     144    -\n",
        "              Thunderstone Advance: Towers of Ruin        145     145    o\n",
        "        Heroscape Master Set: Rise of the Valkyrie        176     146    +\n",
        "                                       Lost Cities        242     147   ++\n",
        "                                             Tikal        137     148    o\n",
        "              Sekigahara: The Unification of Japan        154     149    o\n",
        "                                   Neuroshima Hex!        165     150    o\n",
        "                                            Bruges        157     151    o\n",
        "                                      Earth Reborn         89     152   --\n",
        "                                            London        140     153    o\n",
        "                             Merchants & Marauders        124     154    -\n",
        "                                              Dune        112     155    -\n",
        "                             The Manhattan Project        141     156    o\n",
        "                               Hammer of the Scots        136     157    -\n",
        "                                     Arkham Horror        109     158    -\n",
        "                        Blood Bowl (Third Edition)        138     159    -\n",
        "                                            Egizia        158     160    o\n",
        "                                         Kingsburg        183     161    +\n",
        "                                         Nexus Ops        197     162    +\n",
        "                               Mansions of Madness        130     163    -\n",
        "                                             Macao        135     164    -\n",
        "                                         Lancaster        150     165    o\n",
        "                                           Amun-Re        144     166    -\n",
        "                          The Pillars of the Earth        166     167    o\n",
        "                                          Bohnanza        258     168   ++\n",
        "                                   Airlines Europe        188     169    o\n",
        "      Summoner Wars: Guild Dwarves vs Cave Goblins        199     170    +\n",
        " Conflict of Heroes: Awakening the Bear! \u2013 Russ...        160     171    o\n",
        "       Summoner Wars: Phoenix Elves vs Tundra Orcs        206     172    +\n",
        "                                        Die Macher         75     173   --\n",
        "                       Tales of the Arabian Nights        213     174    +\n",
        "                          Star Wars: The Card Game        171     175    o\n",
        "                                         RoboRally        191     176    o\n",
        "                                         Glen More        178     177    o\n",
        "                                      Civilization        115     178   --\n",
        "                     Descent: Journeys in the Dark        134     179    -\n",
        "                    1830: Railways & Robber Barons         94     180   --\n",
        "                                         Taj Mahal        164     181    o\n",
        "                                        Innovation        181     182    o\n",
        "                                            Friday        223     183    +\n",
        "              Sherlock Holmes Consulting Detective        174     184    o\n",
        "                       One Night Ultimate Werewolf        294     185  +++\n",
        "                                        No Thanks!        323     186  +++\n",
        "                    Commands & Colors: Napoleonics        180     187    o\n",
        "                       Wallenstein (first edition)        139     188    -\n",
        "                                           Vikings        193     189    o\n",
        "                                            Trains        203     190    o\n",
        "                                             Targi        211     191    o\n",
        "                Carcassonne: Hunters and Gatherers        256     192   ++\n",
        "           Marvel Dice Masters: Avengers vs. X-Men        221     193    +\n",
        "                                     Wits & Wagers        324     194  +++\n",
        "                         Combat Commander: Pacific        163     195    -\n",
        "                                            Thebes        233     196    +\n",
        "              Lord of the Rings: The Confrontation        232     197    +\n",
        "            Spartacus: A Game of Blood & Treachery        189     198    o\n",
        "                                   Thurn and Taxis        224     199    +\n",
        "                                 Clash of Cultures        133     200   --\n",
        "                                        Libertalia        241     201    +\n",
        "               Ultimate Werewolf: Ultimate Edition        307     202  +++\n",
        "                            Defenders of the Realm        195     203    o\n",
        "                      Smash Up: Awesome Level 9000        249     204    +\n",
        "                                         Formula D        264     205   ++\n",
        "                                         Coloretto        330     206  +++\n",
        "                                        Space Hulk        216     207    o\n",
        "                                          Up Front        162     208    -\n",
        "                                             DVONN        201     209    o\n",
        "                                          Mr. Jack        251     210    +\n",
        "                                             Maria        153     211   --\n",
        "                                    Vegas Showdown        234     212    +\n",
        "                                     Loopin' Louie        356     213  +++\n",
        "                                             TZAAR        210     214    o\n",
        "                               Warhammer: Invasion        207     215    o\n",
        "                                Napoleon's Triumph        149     216   --\n",
        "                           The Downfall of Pompeii        296     217   ++\n",
        "                            At the Gates of Loyang        175     218    -\n",
        "                         Star Trek: Fleet Captains        187     219    -\n",
        "                                  Eat Poop You Cat        367     220  +++\n",
        "                         Thunderstone: Dragonspire        215     221    o\n",
        "                                           Belfort        190     222    -\n",
        "                                           Yspahan        247     223    +\n",
        "                                  Washington's War        202     224    -\n",
        "          Heroscape Master Set: Swarm of the Marro        257     225    +\n",
        "                                         Last Will        217     226    o\n",
        "                             1989: Dawn of Freedom        179     227    -\n",
        "                 A Game of Thrones (first edition)        169     228   --\n",
        "                                             Jambo        284     229   ++\n",
        "                                            Blokus        312     230   ++\n",
        "                                            Tobago        278     231    +\n",
        "                               Struggle of Empires        155     232   --\n",
        "                              Shadows over Camelot        239     233    o\n",
        "                                         Antiquity        114     234  ---\n",
        "                         Ascension: Storm of Souls        253     235    o\n",
        " Dungeons & Dragons: The Legend of Drizzt Board...        228     236    o\n",
        "                                   Chicago Express        214     237    -\n",
        "                                           Biblios        322     238   ++\n",
        "                                        Automobile        170     239   --\n",
        "                                   Kingdom Builder        290     240    +\n",
        "                   Ascension: Return of the Fallen        271     241    +\n",
        "                                Through the Desert        275     242    +\n",
        "                                     Union Pacific        245     243    o\n",
        "                                        Glass Road        209     244    -\n",
        "                                          Alhambra        292     245    +\n",
        "              Last Night on Earth: The Zombie Game        272     246    +\n",
        "                                         Indonesia        131     247  ---\n",
        "                                       Liar's Dice        365     248  +++\n",
        "                                    Tinners' Trail        219     249    -\n",
        "                      Gears of War: The Board Game        212     250    -\n",
        "                 The Werewolves of Miller's Hollow        362     251  +++\n",
        "                                  Legends of Andor        248     252    o\n",
        "                                   Schotten-Totten        327     253   ++\n",
        "                                                K2        276     254    +\n",
        "                                      Web of Power        261     255    o\n",
        "                                       Carson City        194     256   --\n",
        "                             Advanced Squad Leader         99     257  ---\n",
        "                       BattleLore (Second Edition)        238     258    o\n",
        "                                            Taluva        286     259    +\n",
        "             Ascension: Chronicle of the Godslayer        303     260    +\n",
        "                                           Rampage        355     261   ++\n",
        "                                   1775: Rebellion        293     262    +\n",
        "                                   Fury of Dracula        230     263    -\n",
        "                           Discworld: Ankh-Morpork        311     264    +\n",
        "                                       Ginkgopolis        237     265    -\n",
        "                             Carcassonne: The City        300     266    +\n",
        "             Roll Through the Ages: The Bronze Age        342     267   ++\n",
        "                                    Eminent Domain        280     268    o\n",
        "                           Carcassonne: The Castle        325     269   ++\n",
        "                                      Thunderstone        277     270    o\n",
        "              Labyrinth: The War on Terror, 2001-?        182     271   --\n",
        "                     Star Wars: The Queen's Gambit        279     272    o\n",
        "                                     Dream Factory        317     273    +\n",
        "                                  Forbidden Island        349     274   ++\n",
        " Conflict of Heroes: Storms of Steel! \u2013 Kursk 1943        220     275   --\n",
        "                                            Torres        250     276    -\n",
        "                                            Medici        313     277    +\n",
        "                                      Tumblin-Dice        425     278  +++\n",
        "                                   Age of Industry        204     279   --\n",
        "                                      Homesteaders        236     280    -\n",
        "                                             Z\u00c8RTZ        269     281    o\n",
        "                       Tribune: Primus Inter Pares        254     282    -\n",
        "                                     Roads & Boats        159     283  ---\n",
        "                                         Friedrich        226     284   --\n",
        "                                    Blue Moon City        316     285    +\n",
        "                                         Colosseum        268     286    o\n",
        "                                         Chinatown        315     287    +\n",
        "                                             Genoa        240     288    -\n",
        "                 Euphoria: Build a Better Dystopia        243     289    -\n",
        "                                 World Without End        265     290    -\n",
        "                                              Cuba        222     291   --\n",
        "                                          Santiago        302     292    o\n",
        "                                        Category 5        420     293  +++\n",
        " Dungeons & Dragons: Wrath of Ashardalon Board ...        291     294    o\n",
        "                                        Can't Stop        427     295  +++\n",
        "                                           Amerigo        252     296    -\n",
        "                                        Battle Cry        339     297    +\n",
        "                                         San Marco        287     298    o\n",
        "                                     Vasco da Gama        235     299   --\n",
        "                                            Morels        384     300   ++\n",
        "                              Hey, That's My Fish!        406     301  +++\n",
        "                                         Manoeuvre        344     302    +\n",
        "                                 Firefly: The Game        274     303    -\n",
        "                                        Formula D\u00e9        353     304    +\n",
        "             Advanced Squad Leader: Starter Kit #1        196     305  ---\n",
        "                                             Finca        348     306    +\n",
        "                                           Jamaica        396     307   ++\n",
        "                                         Snowdonia        266     308    -\n",
        "                                            Vinhos        172     309  ---\n",
        "                                             Fauna        405     310   ++\n",
        "                              Mr. Jack in New York        314     311    o\n",
        "                 BattleCON: Devastation of Indines        270     312    -\n",
        "                                         Netrunner        283     313    -\n",
        "                     Betrayal at House on the Hill        335     314    +\n",
        "                                        Quarriors!        363     315    +\n",
        "                                        Elder Sign        333     316    o\n",
        "                          Wiz-War (eighth edition)        343     317    +\n",
        "                                         Catacombs        374     318   ++\n",
        "                                              Yomi        332     319    o\n",
        "                                   Mr. Jack Pocket        385     320   ++\n",
        "                                           Spyrium        285     321    -\n",
        "                                          Istanbul        321     322    o\n",
        "                                       Core Worlds        301     323    -\n",
        "                                Middle-Earth Quest        231     324   --\n",
        "                                      Say Anything        488     325  +++\n",
        "                                            Attika        340     326    o\n",
        "                                        Zooloretto        388     327   ++\n",
        "                         StarCraft: The Board Game        205     328  ---\n",
        "                                          Smash Up        371     329    +\n",
        "                               Bang! The Dice Game        454     330  +++\n",
        "                                 The Speicherstadt        350     331    o\n",
        "                                              Luna        260     332   --\n",
        "                                        Incan Gold        483     333  +++\n",
        "                               Battles of Westeros        273     334   --\n",
        "                                         Louis XIV        289     335    -\n",
        "                              The Republic of Rome        177     336  ---\n",
        "                                             China        351     337    o\n",
        "                      1812: The Invasion of Canada        364     338    +\n",
        "                                          Cribbage        395     339   ++\n",
        "                                            Myrmes        259     340   --\n",
        "                                            Hawaii        308     341    -\n",
        "                                       Archipelago        227     342  ---\n",
        "                                             Vinci        319     343    -\n",
        "    Maharaja: The Game of Palace Building in India        281     344   --\n",
        "                                            Haggis        377     345    +\n",
        "                                           Ninjato        326     346    o\n",
        "                                      Witch's Brew        407     347   ++\n",
        "                                    Lords of Vegas        360     348    o\n",
        "                                   Winner's Circle        444     349   ++\n",
        "                                            Antike        310     350    -\n",
        "                                         Las Vegas        511     351  +++\n",
        "                                            Manila        401     352    +\n",
        "                                        Snow Tails        399     353    +\n",
        "                                         Guildhall        404     354    +\n",
        "                                         Britannia        299     355   --\n",
        "                                        Blokus Duo        436     356   ++\n",
        "                                    Bruxelles 1893        263     357   --\n",
        "                                        Stronghold        255     358  ---\n",
        "                                          Spot it!        542     359  +++\n",
        "                                        Metropolys        390     360    +\n",
        "                                 Space Empires: 4X        298     361   --\n",
        "                              History of the World        341     362    -\n",
        "                              D-Day at Omaha Beach        295     363   --\n",
        "                                           Qwirkle        458     364   ++\n",
        "                                     Francis Drake        329     365    -\n",
        "                                Animal Upon Animal        548     366  +++\n",
        "                                            Bridge        244     367  ---\n",
        "                                         Gulo Gulo        546     368  +++\n",
        "                                           Quantum        366     369    o\n",
        "                  A Game of Thrones: The Card Game        306     370   --\n",
        "                                    Reef Encounter        262     371  ---\n",
        "               Zombicide Season 2: Prison Outbreak        347     372    -\n",
        "   Dungeons & Dragons: Castle Ravenloft Board Game        368     373    o\n",
        "                                          La Citt\u00e0        304     374   --\n",
        "                                    Shadow Hunters        440     375   ++\n",
        "                                    Wilderness War        309     376   --\n",
        "           Space Hulk: Death Angel \u2013 The Card Game        386     377    o\n",
        "                                 Ascending Empires        392     378    o\n",
        "                         Ingenious: Travel Edition        449     379   ++\n",
        "                                     Julius Caesar        381     380    o\n",
        "            Legacy: The Testament of Duke de Crecy        359     381    -\n",
        "                     No Retreat! The Russian Front        328     382   --\n",
        "                         Wings of War: Famous Aces        474     383   ++\n",
        "                        Princes of the Renaissance        288     384   --\n",
        "                                           Bausack        532     385  +++\n",
        "                                        Peloponnes        397     386    o\n",
        "                                      Ca$h 'n Gun$        540     387  +++\n",
        "                            Cards Against Humanity        537     388  +++\n",
        "                                         Yggdrasil        373     389    o\n",
        "                                           Mahjong        382     390    o\n",
        "                                            Rococo        337     391   --\n",
        "                    Mystery Rummy: Jack the Ripper        492     392   ++\n",
        "                Merchant of Venus (second edition)        338     393   --\n",
        "                                      Tide of Iron        305     394   --\n",
        "                                            Ubongo        515     395  +++\n",
        "                                   Ricochet Robots        394     396    o\n",
        "                                         Dice Town        502     397  +++\n",
        "                 Freedom: The Underground Railroad        357     398    -\n",
        "                                          Augustus        506     399  +++\n",
        "                              The Rivals for Catan        416     400    o\n",
        "                                            Wizard        495     401   ++\n",
        "                                        Keythedral        358     402    -\n",
        "                                         Diplomacy        318     403   --\n",
        "                                           Domaine        376     404    -\n",
        "                      Rex: Final Days of an Empire        334     405   --\n",
        "                                         Aquaretto        453     406    +\n",
        "                                        Fairy Tale        505     407   ++\n",
        "                                        Steam Park        448     408    +\n",
        "                                   Primordial Soup        378     409    -\n",
        "                              Timeline: Inventions        605     410  +++\n",
        "                                          Rallyman        441     411    +\n",
        "                                    Colossal Arena        469     412   ++\n",
        "                                             Hansa        422     413    o\n",
        "                                         Sushi Go!        599     414  +++\n",
        "                                 Merchant of Venus        369     415    -\n",
        "                                   Warhammer Quest        387     416    -\n",
        "                            Star Trek: Attack Wing        398     417    o\n",
        "                                          Saboteur        577     418  +++\n",
        "                               The Magic Labyrinth        591     419  +++\n",
        "                                     PitchCar Mini        609     420  +++\n",
        "                                      Tammany Hall        375     421    -\n",
        "                                          Shipyard        320     422  ---\n",
        "                                             Fleet        437     423    o\n",
        "                                             Chess        297     424  ---\n",
        "                                          Sticheln        485     425   ++\n",
        "                                         Blokus 3D        517     426   ++\n",
        "                                           Diamant        622     427  +++\n",
        "                                      Squad Leader        267     428  ---\n",
        "                                         HeroQuest        462     429    +\n",
        "                                Caylus Magna Carta        372     430   --\n",
        "                                   Among the Stars        443     431    o\n",
        "                                          Hacienda        403     432    -\n",
        "                                            Rattus        478     433    +\n",
        "                                             Tsuro        598     434  +++\n",
        "                                      High Society        547     435  +++\n",
        "                                          Meuterer        433     436    o\n",
        "                                               Evo        435     437    o\n",
        "                                       Ghost Blitz        630     438  +++\n",
        "                                              Yedo        331     439  ---\n",
        "                                              Aton        479     440    +\n",
        "                                        D-Day Dice        493     441   ++\n",
        "                                      Castle Panic        538     442   ++\n",
        "                                           Arkadia        411     443    -\n",
        "                                           Tokaido        530     444   ++\n",
        "                                              Roma        496     445   ++\n",
        "                                          Werewolf        597     446  +++\n",
        "                                         M\u00fc & More        428     447    o\n",
        "                                         Mascarade        572     448  +++\n",
        "                                             Zendo        417     449    -\n",
        "                                     Skull & Roses        631     450  +++\n",
        "                                 Lord of the Rings        424     451    -\n",
        "                               Mission: Red Planet        464     452    o\n",
        "                                 Time's Up! Deluxe        639     453  +++\n",
        "                                       Balloon Cup        595     454  +++\n",
        "                                      Jungle Speed        654     455  +++\n",
        "                                     Blokus Trigon        516     456   ++\n",
        "                        Runebound (Second Edition)        418     457    -\n",
        "                               Eight-Minute Empire        574     458  +++\n",
        "                                        Coal Baron        426     459    -\n",
        "                             Star Wars: Epic Duels        555     460   ++\n",
        "                                        Strasbourg        414     461    -\n",
        "                                        Wyatt Earp        541     462   ++\n",
        "                                   Catan Card Game        456     463    o\n",
        "                       Power Grid: Factory Manager        391     464   --\n",
        "                                         Cartagena        581     465  +++\n",
        "                                             Ikusa        402     466   --\n",
        "                        Ascension: Immortal Heroes        510     467    +\n",
        "            A Touch of Evil: The Supernatural Game        451     468    o\n",
        "                                         Hamburgum        389     469   --\n",
        "                                  Cosmic Encounter        476     470    o\n",
        "                                     Turn the Tide        608     471  +++\n",
        "                                         Container        370     472  ---\n",
        "                                      TransAmerica        647     473  +++\n",
        "                                   Dungeon Fighter        579     474  +++\n",
        "                                         Mykerinos        457     475    o\n",
        "                                      Virgin Queen        282     476  ---\n",
        "                                          Rune Age        503     477    +\n",
        "                                  Santiago de Cuba        512     478    +\n",
        "           Cleopatra and the Society of Architects        501     479    +\n",
        "                    Wings of War: Watch Your Back!        594     480  +++\n",
        "                      Tash-Kalar: Arena of Legends        430     481   --\n",
        "                                             Bang!        607     482  +++\n",
        "                     Polis: Fight for the Hegemony        352     483  ---\n",
        "                                       Factory Fun        473     484    o\n",
        "                                           Vanuatu        361     485  ---\n",
        "                                            Parade        627     486  +++\n",
        "                                            Rialto        470     487    o\n",
        "                                         Blue Moon        524     488    +\n",
        "                      DC Comics Deck-Building Game        549     489   ++\n",
        "                                         Elfenland        526     490    +\n",
        "                                     I'm the Boss!        550     491   ++\n",
        "                                 Aladdin's Dragons        490     492    o\n",
        "                                           Libert\u00e9        379     493  ---\n",
        "                                             Asara        509     494    o\n",
        "                            The Palaces of Carrara        465     495    -\n",
        "                                            Medina        431     496   --\n",
        "                                 Krosmaster: Arena        472     497    -\n",
        "                                         L\u00f6wenherz        423     498   --\n",
        "                       Timeline: Historical Events        720     499  +++\n",
        "                    Wings of War: Burning Drachens        568     500   ++\n",
        "                                            Mexica        452     501    -\n",
        "                         Fire & Axe: A Viking Saga        463     502    -\n",
        "                                              GIPF        445     503   --\n",
        "                                 Ch\u00e2teau Roquefort        642     504  +++\n",
        "                                               CO\u2082        336     505  ---\n",
        "                                            Onirim        637     506  +++\n",
        "                                           Firenze        487     507    o\n",
        "                 Axis & Allies Anniversary Edition        408     508   --\n",
        "                                    Arena: Roma II        582     509   ++\n",
        "                                      Show Manager        553     510    +\n",
        "                                       The New Era        383     511  ---\n",
        "             Advanced Squad Leader: Starter Kit #2        346     512  ---\n",
        "                                          Himalaya        491     513    -\n",
        "                                    A Victory Lost        482     514    -\n",
        "                                      Hamsterrolle        760     515  +++\n",
        "                                      Planet Steam        345     516  ---\n",
        "                           Space Cadets: Dice Duel        557     517    +\n",
        "                       Lost Cities: The Board Game        618     518   ++\n",
        "                                          The Duke        475     519    -\n",
        "           Fortune and Glory: The Cliffhanger Game        460     520   --\n",
        "                                    Starship Catan        513     521    o\n",
        "                          Wings of War: Deluxe Set        593     522   ++\n",
        "                                             Qwixx        752     523  +++\n",
        "                                    Pax Porfiriana        410     524  ---\n",
        "                                   Fearsome Floors        625     525   ++\n",
        "                         BattleCON: War of Indines        504     526    -\n",
        "                                           Ambush!        413     527  ---\n",
        "                                             Zing!        621     528   ++\n",
        "                                           Concept        685     529  +++\n",
        "                    Call of Cthulhu: The Card Game        471     530   --\n",
        "                                   Dungeon Twister        467     531   --\n",
        "                                            Havana        562     532    +\n",
        "   Battle Cry: 150th Civil War Anniversary Edition        590     533   ++\n",
        "                                       Condottiere        611     534   ++\n",
        "                                        Guillotine        757     535  +++\n",
        "                                           Kremlin        484     536   --\n",
        "                                      Andean Abyss        380     537  ---\n",
        "                     Puzzle Strike (Third Edition)        494     538    -\n",
        "                      Power Grid: The First Sparks        500     539    -\n",
        "                                          Big City        576     540    +\n",
        "                                         2 de Mayo        586     541    +\n",
        "                                        Ave Caesar        738     542  +++\n",
        "                               Doom: The Boardgame        477     543   --\n",
        "                        Archaeology: The Card Game        755     544  +++\n",
        "                        Felix: The Cat in the Sack        736     545  +++\n",
        "                                              Java        409     546  ---\n",
        "                                    Carolus Magnus        522     547    -\n",
        "             Wars of the Roses: Lancaster vs. York        438     548  ---\n",
        "                                         Hab & Gut        588     549    +\n",
        "                                     We the People        507     550    -\n",
        "                                           Olympos        480     551   --\n",
        "                                         Nefertiti        564     552    o\n",
        "                              The Red Dragon Inn 2        667     553  +++\n",
        "                               Timeline: Diversity        819     554  +++\n",
        "                                          Pergamon        584     555    +\n",
        "                         Le Havre: The Inland Port        529     556    -\n",
        "                                     Diamonds Club        528     557    -\n",
        "                              Evo (second edition)        571     558    o\n",
        "                                     Odin's Ravens        690     559  +++\n",
        "                                On the Underground        552     560    o\n",
        "                                       Daytona 500        678     561  +++\n",
        "                                A Study in Emerald        421     562  ---\n",
        "             Napoleon: The Waterloo Campaign, 1815        566     563    o\n",
        "                           The Ark of the Covenant        659     564   ++\n",
        "                                              FITS        775     565  +++\n",
        "                                           Amyitis        447     566  ---\n",
        "                                          Ad Astra        525     567    -\n",
        "                                        Blueprints        705     568  +++\n",
        " Confusion:  Espionage and Deception in the Col...        556     569    o\n",
        "                                            Oregon        619     570    +\n",
        "                                   Europe Engulfed        393     571  ---\n",
        "                                   A House Divided        531     572    -\n",
        "                      Eight-Minute Empire: Legends        666     573   ++\n",
        "                        Successors (third edition)        434     574  ---\n",
        "                                      Trans Europa        783     575  +++\n",
        "                                           Identik        805     576  +++\n",
        "                                                Ys        499     577   --\n",
        "                                           Tournay        498     578   --\n",
        "   Heroscape Master Set:  Battle for the Underdark        569     579    o\n",
        "                                      Steel Driver        518     580   --\n",
        "                              Cold War: CIA vs KGB        689     581  +++\n",
        "                                         Pickomino        831     582  +++\n",
        "                                            Carrom        774     583  +++\n",
        "                                           Quarto!        660     584   ++\n",
        "                               Starfarers of Catan        558     585    -\n",
        "                                 Ra: The Dice Game        716     586  +++\n",
        "                                              Ogre        606     587    o\n",
        "                                         Manhattan        677     588   ++\n",
        "                                          Quoridor        682     589   ++\n",
        "                             De Vulgari Eloquentia        415     590  ---\n",
        "                                           Madeira        354     591  ---\n",
        "                                     Atlantic Star        649     592   ++\n",
        "                                   Um Reifenbreite        673     593   ++\n",
        "                              Neuroshima Hex! Duel        573     594    -\n",
        "                                     Sword of Rome        468     595  ---\n",
        "                      Wallenstein (second edition)        466     596  ---\n",
        "                                    Power Struggle        455     597  ---\n",
        "                               Edel, Stein & Reich        663     598   ++\n",
        "               The Adventurers: The Temple of Chac        750     599  +++\n",
        "                                  Star Trek: Catan        623     600    +\n",
        "                                        Machi Koro        767     601  +++\n",
        "                            Warmachine Prime Mk II        419     602  ---\n",
        "                                    The Bottle Imp        694     603   ++\n",
        "               The Little Prince: Make Me a Planet        765     604  +++\n",
        "                                            Giants        519     605   --\n",
        "                                       Viticulture        539     606   --\n",
        "                      In the Shadow of the Emperor        450     607  ---\n",
        "                                   Rise of Empires        429     608  ---\n",
        "                                Breakout: Normandy        461     609  ---\n",
        "                                            Kahuna        671     610   ++\n",
        "                                     Pirate's Cove        687     611   ++\n",
        "                           The Scepter of Zavandor        439     612  ---\n",
        "             Advanced Squad Leader: Starter Kit #3        400     613  ---\n",
        "                                          The Boss        727     614  +++\n",
        "                             Super Dungeon Explore        561     615   --\n",
        "                                           Razzia!        695     616   ++\n",
        "                                            Fjords        758     617  +++\n",
        "                                          Kingdoms        731     618  +++\n",
        "                                 Beyond Balderdash        800     619  +++\n",
        "                           The Kids of Carcassonne        874     620  +++\n",
        "                                             Junta        545     621   --\n",
        "                                  You're Bluffing!        784     622  +++\n",
        "                                   Warriors of God        580     623    -\n",
        "                                           Pyramid        824     624  +++\n",
        "                                 The Great Dalmuti        836     625  +++\n",
        "                                            Pueblo        653     626    +\n",
        "                                             Titan        459     627  ---\n",
        "                                          Botswana        842     628  +++\n",
        "                                             Poker        612     629    o\n",
        "                                           La Boca        820     630  +++\n",
        "                                           Room 25        723     631   ++\n",
        "                                    Empire Builder        589     632    -\n",
        "                                    Sorry! Sliders        915     633  +++\n",
        "             Heroscape Marvel: The Conflict Begins        703     634   ++\n",
        "                                         Long Shot        772     635  +++\n",
        "                             Timeline: Discoveries        900     636  +++\n",
        "                                       Revolution!        696     637   ++\n",
        "                                   Duel of Ages II        481     638  ---\n",
        "                                           Niagara        759     639  +++\n",
        "    Conquest of Planet Earth: The Space Alien Game        670     640    +\n",
        "                                    For the People        442     641  ---\n",
        "                                             Ta Y\u00fc        698     642   ++\n",
        "                                    Mall of Horror        726     643   ++\n",
        "                                       Frank's Zoo        815     644  +++\n",
        "      Once Upon a Time: The Storytelling Card Game        838     645  +++\n",
        "                                       Dragonheart        856     646  +++\n",
        "                                  Founding Fathers        583     647   --\n",
        "                               Traders of Carthage        700     648   ++\n",
        "                                         Castaways        534     649  ---\n",
        "                         Thunderbolt Apache Leader        520     650  ---\n",
        "                               Chicken Cha Cha Cha        924     651  +++\n",
        "                                   Hare & Tortoise        732     652   ++\n",
        "                    Talisman (Revised 4th Edition)        675     653    +\n",
        "                                 Cutthroat Caverns        711     654   ++\n",
        "                                        Rosenk\u00f6nig        737     655   ++\n",
        "                                          Subbuteo        769     656  +++\n",
        "                             Campaign Manager 2008        691     657    +\n",
        "                                         Marrakech        865     658  +++\n",
        "                                     Villa Paletti        931     659  +++\n",
        "                                    K\u00f6nig von Siam        600     660   --\n",
        "                                            Ribbit        941     661  +++\n",
        "                                        Mamma Mia!        879     662  +++\n",
        "                                The Red Dragon Inn        818     663  +++\n",
        "                                           Wiz-War        744     664   ++\n",
        "                                      Pick Picknic        925     665  +++\n",
        "                                        Necromunda        544     666  ---\n",
        "                                The Great Zimbabwe        446     667  ---\n",
        "                                   Palastgefl\u00fcster        821     668  +++\n",
        "                                  Kupferkessel Co.        813     669  +++\n",
        "                                         Ubongo 3D        740     670   ++\n",
        "                                  Nothing Personal        585     671   --\n",
        "                                        Powerboats        808     672  +++\n",
        "                              Wits & Wagers Family        947     673  +++\n",
        "                               The Hanging Gardens        763     674   ++\n",
        "                                        51st State        535     675  ---\n",
        "                                 Leonardo da Vinci        533     676  ---\n",
        "                              Rommel in the Desert        508     677  ---\n",
        "                                           Wasabi!        780     678  +++\n",
        "                                          Merkator        560     679  ---\n",
        "                                             R-Eco        862     680  +++\n",
        "                                        Cuba Libre        497     681  ---\n",
        "                                           Valdora        699     682    o\n",
        "                         Dungeon Twister 2: Prison        521     683  ---\n",
        "                                         Eurorails        620     684   --\n",
        "             Hornet Leader: Carrier Air Operations        601     685   --\n",
        "                                         Lifeboats        807     686  +++\n",
        "                                             Mondo        810     687  +++\n",
        "                                       Hoity Toity        803     688  +++\n",
        "                                            Basari        804     689  +++\n",
        "                Richard III: The Wars of the Roses        645     690    -\n",
        "                                          Pastiche        706     691    o\n",
        "                              Bonaparte at Marengo        543     692  ---\n",
        "                                          Helvetia        567     693  ---\n",
        "                                         Riff Raff        950     694  +++\n",
        "                                      Infiltration        768     695   ++\n",
        "                                      Royal Palace        617     696   --\n",
        "                                       Isla Dorada        748     697   ++\n",
        "                                     Scotland Yard        790     698   ++\n",
        "                              Omen: A Reign of War        693     699    o\n",
        "                       Samarkand: Routes to Riches        709     700    o\n",
        "                                     High Frontier        412     701  ---\n",
        "                                      Walnut Grove        686     702    o\n",
        "                      DungeonQuest (third edition)        751     703    +\n",
        "                          Level 7 [Omega Protocol]        551     704  ---\n",
        "                                     Puzzle Strike        728     705    +\n",
        "                                      Space Cadets        643     706   --\n",
        "                                       Inca Empire        559     707  ---\n",
        "                                               Pit        991     708  +++\n",
        "                   Perry Rhodan: The Cosmic League        799     709   ++\n",
        "                                             Relic        702     710    o\n",
        "              Smash Up: The Obligatory Cthulhu Set        766     711   ++\n",
        "                  Last Night on Earth: Timber Peak        672     712    -\n",
        "                                            Euchre        861     713  +++\n",
        "                                        TurfMaster        797     714   ++\n",
        "                          A Castle for All Seasons        636     715   --\n",
        "                                     The Civil War        486     716  ---\n",
        "                                 Arctic Scavengers        762     717    +\n",
        "                                      DungeonQuest        816     718   ++\n",
        "                                        Pictomania        887     719  +++\n",
        "                                          Boomtown        868     720  +++\n",
        "                                   Warrior Knights        523     721  ---\n",
        "                                            Sleuth        692     722    -\n",
        " Conflict of Heroes: Awakening the Bear! (secon...        554     723  ---\n",
        "                                   Nuns on the Run        789     724   ++\n",
        "          Smash Up: Science Fiction Double Feature        719     725    o\n",
        "              Settlers of America: Trails to Rails        662     726   --\n",
        "                                    Antike Duellum        629     727   --\n",
        "                                            Money!        908     728  +++\n",
        "                                    Risk 2210 A.D.        656     729   --\n",
        "                                             Oasis        735     730    o\n",
        "                                         Blockers!        857     731  +++\n",
        "                                            Spades        801     732   ++\n",
        "                                Word on the Street        956     733  +++\n",
        "                                Stephensons Rocket        587     734  ---\n",
        "                                    Alea Iacta Est        827     735   ++\n",
        "                                          Famiglia        853     736  +++\n",
        "                  Ace of Aces: Handy Rotary Series        870     737  +++\n",
        "                                          Revolver        826     738   ++\n",
        "                                             Clans        806     739   ++\n",
        "                                             Babel        721     740    o\n",
        "                                             Drako        866     741  +++\n",
        "                                     Space Crusade        764     742    +\n",
        "      Boss Monster: The Dungeon Building Card Game        846     743  +++\n",
        "                                    City of Horror        725     744    o\n",
        "             The Adventurers: The Pyramid of Horus        875     745  +++\n",
        "                            Strat-O-Matic Baseball        739     746    o\n",
        "                              The Russian Campaign        635     747  ---\n",
        "                                     Take it Easy!        935     748  +++\n",
        "                                Age of Renaissance        489     749  ---\n",
        "                       Carcassonne: Winter Edition        872     750  +++\n",
        "                                          Perikles        570     751  ---\n",
        "            Wings of War: The Dawn of World War II        833     752   ++\n",
        "                                        Oltre Mare        712     753    -\n",
        "                      Mordheim: City of the Damned        616     754  ---\n",
        "                                        A la carte        999     755  +++\n",
        "                            Victory in the Pacific        749     756    o\n",
        "                                               SET        895     757  +++\n",
        "                                      City of Iron        602     758  ---\n",
        "                           Carcassonne: South Seas        850     759   ++\n",
        "                         Axis & Allies Europe 1940        563     760  ---\n",
        "                              Mystery of the Abbey        787     761    +\n",
        "                                           Copycat        683     762   --\n",
        "                           The Battle for Hill 218        903     763  +++\n",
        "                           Elasund: The First City        674     764   --\n",
        "                       Around the World in 80 Days        880     765  +++\n",
        "                                            Keltis        922     766  +++\n",
        "                                              1856        432     767  ---\n",
        "                                      Crusader Rex        648     768  ---\n",
        "                                             Sobek        898     769  +++\n",
        "                                       Horse Fever        773     770    o\n",
        "                                     Samurai Sword        934     771  +++\n",
        "                                      O Zoo le Mio        837     772   ++\n",
        " Fighting Formations: Grossdeutschland Motorize...        603     773  ---\n",
        "                                      Ubongo: Duel        896     774  +++\n",
        "                                        BattleTech        575     775  ---\n",
        "                                       Lost Valley        713     776   --\n",
        "                                        Magnum Sal        665     777  ---\n",
        "                       Serenissima (first edition)        641     778  ---\n",
        "                                        Backgammon        839     779   ++\n",
        "                                          Hermagor        614     780  ---\n",
        "                                    Tower of Babel        782     781    o\n",
        "                                                CV        893     782  +++\n",
        "                                           Kolejka        858     783   ++\n",
        "                          Ascension: Rise of Vigil        794     784    o\n",
        "                            Drakon (third edition)        914     785  +++\n",
        "                                    Ubongo Extreme        889     786  +++\n",
        "                                         Drum Roll        646     787  ---\n",
        "                               Warhammer: Diskwars        729     788   --\n",
        "                     Vampire: The Eternal Struggle        604     789  ---\n",
        "                                  Paris Connection        902     790  +++\n",
        "                                      StreetSoccer        990     791  +++\n",
        "                                  Agents of SMERSH        756     792    -\n",
        "                                     Pixel Tactics        730     793   --\n",
        "                                            Qu\u00e9bec        628     794  ---\n",
        "                                         Nightfall        741     795   --\n",
        "                                       Bootleggers        742     796   --\n",
        "                                     League of Six        676     797  ---\n",
        "                                      20th Century        668     798  ---\n",
        "                                              GOSU        793     799    o\n",
        "                                      Mare Nostrum        664     800  ---\n",
        "                            Conquest of the Empire        650     801  ---\n",
        "                       The Princes of Machu Picchu        640     802  ---\n",
        "                                        Expedition        882     803   ++\n",
        "                                      Ground Floor        536     804  ---\n",
        "                                 To Court the King        945     805  +++\n",
        "                         The Bridges of Shangri-La        722     806   --\n",
        "                          Legend of the Five Rings        633     807  ---\n",
        "                                           Xiangqi        565     808  ---\n",
        "                                           Capitol        745     809   --\n",
        "                        The End of the Triumvirate        733     810   --\n",
        "                                        Dreamblade        753     811   --\n",
        "                           Theseus: The Dark Orbit        714     812   --\n",
        "                                             Gloom        995     813  +++\n",
        " Dungeons & Dragons: Conquest of Nerath Board Game        771     814    -\n",
        "                                          Verr\u00e4ter        777     815    -\n",
        "             The Settlers of Catan: Travel Edition        843     816    +\n",
        "                                          Divinare        986     817  +++\n",
        "                                          Kamisado        778     818    -\n",
        "                              The Red Dragon Inn 3        929     819  +++\n",
        "                                             Kreta        770     820    -\n",
        "                         Last Train to Wensleydale        644     821  ---\n",
        "                           Wooden Ships & Iron Men        669     822  ---\n",
        "                                          Blue Max        871     823    +\n",
        "                                            Masons        892     824   ++\n",
        "                                          Top Race        985     825  +++\n",
        "                                     Pr\u00eat-\u00e0-Porter        596     826  ---\n",
        "                                        El Capit\u00e1n        715     827  ---\n",
        "                                         Cathedral        967     828  +++\n",
        "                                               Edo        708     829  ---\n",
        "                                     Hera and Zeus        928     830   ++\n",
        "                                      Middle-Earth        592     831  ---\n",
        "                                            Gemblo        953     832  +++\n",
        "                                  Cosmic Encounter        817     833    o\n",
        "                            Unhappy King Charles!\t        655     834  ---\n",
        "                               Strike of the Eagle        697     835  ---\n",
        "                                Caesar & Cleopatra        957     836  +++\n",
        "                                             Sylla        688     837  ---\n",
        "                                           Assyria        707     838  ---\n",
        "                       World at War: Eisenbach Gap        809     839    -\n",
        "                                      The Climbers        963     840  +++\n",
        "                                       Canal Mania        743     841   --\n",
        "                                  A Gamut of Games        867     842    +\n",
        "                                          Pantheon        785     843   --\n",
        "       The Hunters: German U-Boats at War, 1939-43        840     844    o\n",
        "                                  Monsterpocalypse        710     845  ---\n",
        "                          B-17: Queen of the Skies        873     846    +\n",
        "                           The Castle of the Devil        970     847  +++\n",
        "                                    FAB: The Bulge        724     848  ---\n",
        "                                      Funkenschlag        613     849  ---\n",
        "                                      EastFront II        632     850  ---\n",
        "                                      Gang of Four        998     851  +++\n",
        "                                  Fortress America        814     852    -\n",
        "                                           Palazzo        943     853   ++\n",
        "                                         EastFront        615     854  ---\n",
        "                                  Industrial Waste        811     855    -\n",
        "                            Kings of Air and Steam        781     856   --\n",
        "                   RAF: The Battle of Britain 1940        681     857  ---\n",
        "                                The World Cup Game        989     858  +++\n",
        "                                          Code 777        885     859    +\n",
        "                                             TAMSK        916     860   ++\n",
        "                            Nightfall: Martial Law        812     861    -\n",
        "                         Field Commander: Napoleon        802     862   --\n",
        "                                      Urban Sprawl        684     863  ---\n",
        "                                             Pente        958     864   ++\n",
        "                                          Giganten        849     865    o\n",
        "                                        Warmachine        680     866  ---\n",
        "                  Dungeon Command: Heart of Cormyr        855     867    o\n",
        "                                       Iron Dragon        776     868   --\n",
        "                       Tales of the Arabian Nights        894     869    +\n",
        "                       Illuminati:  Deluxe Edition        832     870    -\n",
        "                                     New Amsterdam        718     871  ---\n",
        "                                         Inkognito        976     872  +++\n",
        "                                   Empires in Arms        514     873  ---\n",
        "                     Carcassonne: Wheel of Fortune       1000     874  +++\n",
        "                                     Speed Circuit        996     875  +++\n",
        "                         Tikal II: The Lost Temple        844     876    -\n",
        "                             Puzzle Strike Shadows        779     877   --\n",
        "                                      Horus Heresy        651     878  ---\n",
        "                                          Prophecy        854     879    -\n",
        "       Invasion from Outer Space: The Martian Game        830     880    -\n",
        "                                             P\u00dcNCT        822     881   --\n",
        "                                   The Golden City        949     882   ++\n",
        "                     The Settlers of the Stone Age        891     883    o\n",
        "                              Guildhall: Job Faire        951     884   ++\n",
        "                                   A Distant Plain        658     885  ---\n",
        "                                 Wealth of Nations        657     886  ---\n",
        "                               The Fury of Dracula        881     887    o\n",
        "                                          Scrabble        984     888   ++\n",
        "                                             Shogi        610     889  ---\n",
        "                                          Leader 1        907     890    o\n",
        "                                     Thunder Alley        961     891   ++\n",
        "                                        Il Vecchio        860     892    -\n",
        "                              Khet: The Laser Game        897     893    o\n",
        "                                       Key Harvest        791     894  ---\n",
        "                                               Mus        981     895   ++\n",
        "                         VivaJava: The Coffee Game        901     896    o\n",
        "              The Napoleonic Wars (Second Edition)        717     897  ---\n",
        "                                     Priests of Ra        992     898   ++\n",
        "                   Dungeon Command: Sting of Lolth        886     899    o\n",
        "                            Merchants of Amsterdam        890     900    o\n",
        "                      Merchants of the Middle Ages        798     901  ---\n",
        "           Mutant Chronicles: Siege of the Citadel        997     902   ++\n",
        "                             SPQR (Deluxe Edition)        661     903  ---\n",
        "                              Star Wars Miniatures        978     904   ++\n",
        "                        Axis & Allies Pacific 1940        701     905  ---\n",
        " Battleship Galaxies: The Saturn Offensive Game...        954     906    +\n",
        "                                  God's Playground        679     907  ---\n",
        "                                          Timbuktu        859     908    -\n",
        "                                  Constantinopolis        788     909  ---\n",
        "                World War II: Barbarossa to Berlin        704     910  ---\n",
        "                                           Android        634     911  ---\n",
        "                                   Before the Wind        926     912    o\n",
        "                                      Space Dealer        972     913   ++\n",
        "                                   World in Flames        527     914  ---\n",
        "                                         Silverton        792     915  ---\n",
        "             DreadBall: The Futuristic Sports Game        876     916    -\n",
        "                                    Battlestations        754     917  ---\n",
        "                   Battletech Introductory Box Set        747     918  ---\n",
        "                                     Flying Colors        835     919   --\n",
        "                                           Olympus        823     920   --\n",
        "                                  Duel in the Dark        968     921    +\n",
        "                                        Compounded        964     922    +\n",
        "                                    Witch of Salem        977     923   ++\n",
        "                      Lock 'n Load: Band of Heroes        828     924   --\n",
        "                                          Goldland        994     925   ++\n",
        "                                    American Rails        869     926   --\n",
        "                          First Train to Nuremberg        796     927  ---\n",
        "                 Entdecker: Exploring New Horizons        988     928   ++\n",
        "                                        Key Market        734     929  ---\n",
        "                                            Tempus        899     930    -\n",
        "                          Die Siedler von N\u00fcrnberg        913     931    o\n",
        "               World of Warcraft Trading Card Game        974     932    +\n",
        "    The Great Battles of Alexander: Deluxe Edition        746     933  ---\n",
        "                                Full Metal Planete        825     934  ---\n",
        "                                   Mystery Express        937     935    o\n",
        "                                 Empire of the Sun        652     936  ---\n",
        "                                    Phantom Leader        975     937    +\n",
        "                               Deadlands: Doomtown        878     938   --\n",
        "                                              1870        626     939  ---\n",
        "                                  Galaxy Defenders        841     940   --\n",
        "                                       Espa\u00f1a 1936        919     941    -\n",
        "                     Battleground: Fantasy Warfare        910     942    -\n",
        "                                       Magic Realm        578     943  ---\n",
        "                                          Noblemen        848     944   --\n",
        "                                   Police Precinct        979     945    +\n",
        "                                         Phoenicia        904     946    -\n",
        "                                        Man O' War        969     947    +\n",
        "            Revolution: The Dutch Revolt 1568-1648        624     948  ---\n",
        "                                          Poseidon        761     949  ---\n",
        "                                              Skat        955     950    o\n",
        "                             Legacy: Gears of Time        933     951    o\n",
        "                                 Storm over Arnhem        912     952    -\n",
        "                                  City of Remnants        884     953   --\n",
        "                                     Axis & Allies        905     954    -\n",
        "                                     Axis & Allies        638     955  ---\n",
        "                 Dead of Winter: A Crossroads Game        863     956   --\n",
        "             Age of Conan: The Strategy Board Game        851     957  ---\n",
        "                                      Dust Tactics        927     958    -\n",
        "                                           Outpost        888     959   --\n",
        "                                  Galactic Emperor        940     960    o\n",
        "                                       Machiavelli        883     961   --\n",
        "                      A Brief History of the World        980     962    o\n",
        "                                 Medieval Merchant        952     963    o\n",
        "                 Dawn of the Zeds (Second edition)        942     964    -\n",
        "                                         Grand Cru        909     965   --\n",
        "                  Duel of Ages Set 1: Worldspanner        993     966    +\n",
        "                                      Ardennes '44        795     967  ---\n",
        "                                     Liberty Roads        911     968   --\n",
        "           The Lord of the Rings Trading Card Game        983     969    o\n",
        "                                        Gunslinger        906     970   --\n",
        " Where There Is Discord: War in the South Atlantic        923     971    -\n",
        " Red Winter: The Soviet Attack at Tolvaj\u00e4rvi, F...        946     972    -\n",
        "                                         Norenberc        921     973   --\n",
        "                               Axis & Allies: 1942        959     974    o\n",
        "                  World of Warcraft: The Boardgame        847     975  ---\n",
        "                                          WildLife        948     976    -\n",
        "                                         Byzantium        877     977   --\n",
        "                                   Age of Napoleon        965     978    o\n",
        "                                               RAF        962     979    o\n",
        "                         Infinity: A Skirmish Game        936     980    -\n",
        "                                         Warhammer        864     981  ---\n",
        "                                      Normandy '44        960     982    -\n",
        "   Flames of War: The World War II Miniatures Game        987     983    o\n",
        "               Colonial: Europe's Empires Overseas        917     984   --\n",
        "               1860: Railways on the Isle of Wight        786     985  ---\n",
        " The Devil's Cauldron: The Battles for Arnhem a...        829     986  ---\n",
        "              Federation Commander: Klingon Border        971     987    o\n",
        "                                Greed Incorporated        918     988   --\n",
        "                                  Pursuit of Glory        852     989  ---\n",
        "                                    Fields of Fire        834     990  ---\n",
        "                                        Silent War        982     991    o\n",
        "                                            7 Ages        845     992  ---\n",
        "                                       Navajo Wars        932     993   --\n",
        "                                          Florenza        938     994   --\n",
        "                                             Cavum        973     995    -\n",
        "                                   After the Flood        944     996   --\n",
        "                                              18AL        930     997   --\n",
        "                                          Flat Top        920     998   --\n",
        "               Rise and Decline of the Third Reich        939     999   --\n",
        "          1861: The Railways of the Russian Empire        966    1000    -"
       ]
      },
      {
       "output_type": "stream",
       "stream": "stdout",
       "text": [
        "\n"
       ]
      }
     ],
     "prompt_number": 92
    }
   ],
   "metadata": {}
  }
 ]
}